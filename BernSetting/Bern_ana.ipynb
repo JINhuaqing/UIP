{
 "cells": [
  {
   "cell_type": "markdown",
   "metadata": {},
   "source": [
    "## import needed packages"
   ]
  },
  {
   "cell_type": "code",
   "execution_count": 1,
   "metadata": {},
   "outputs": [],
   "source": [
    "import pickle\n",
    "import numpy as np\n",
    "import matplotlib.pyplot as plt\n",
    "from pathlib import Path\n",
    "import seaborn as sns\n",
    "import pprint\n",
    "import pandas as pd\n",
    "from scipy.stats import beta\n",
    "from pprint import pprint\n",
    "from easydict import EasyDict as edict"
   ]
  },
  {
   "cell_type": "markdown",
   "metadata": {},
   "source": [
    "## functions "
   ]
  },
  {
   "cell_type": "code",
   "execution_count": 2,
   "metadata": {},
   "outputs": [],
   "source": [
    "def sortf(f):\n",
    "    num = f.name.split(\"_\")[-2].split(\"p\")[-1]\n",
    "    num = int(num)\n",
    "    return  num\n",
    "\n",
    "\n",
    "def load_pkl(f):\n",
    "    with open(f, \"rb\") as fi:\n",
    "        data = pickle.load(fi)\n",
    "    return data\n",
    "\n",
    "\n",
    "def is_valid(dat, num=1000):\n",
    "    numsps1 = len(dat[\"UIPm_sps\"][\"sps\"])\n",
    "    numsps2 = len(dat[\"UIPKL_sps\"][\"sps\"])\n",
    "    return (numsps1 > num) and (numsps2 > num)\n",
    "\n",
    "\n",
    "def is_true(p0, method=None, dat=None, bs=None):\n",
    "    assert (dat is None) + (bs is None) == 1\n",
    "    if dat is not None:\n",
    "        res = dat[method]\n",
    "        low, up = res[\"eq\"]\n",
    "    else:\n",
    "        low, up = bs\n",
    "    return (p0 > low) and (p0 < up)\n",
    "\n",
    "\n",
    "def rejrates(p0, data):\n",
    "    ress = {\"jef\":[], \"full\":[], \"jpp\":[], \"UIPKL\":[], \"UIPm\":[]}\n",
    "    for dat in data:\n",
    "        for method in ress.keys():\n",
    "            ress[method].append(is_true(p0, dat, method))\n",
    "    for res in ress.items():\n",
    "        keyv, reslist = res\n",
    "        ress[keyv] = 1 - np.mean(reslist)\n",
    "    return ress\n",
    "\n",
    "def rejrate(p0, data, q):\n",
    "    if len(data[0]) > 2:\n",
    "        reslist = [is_true(p0, bs=[np.quantile(dat, q=q), np.quantile(dat, q=1-q)]) for dat in data] \n",
    "    else:\n",
    "        reslist = [is_true(p0, bs=[beta.ppf(q=q, a=dat[0], b=dat[1]), beta.ppf(q=1-q, a=dat[0], b=dat[1])]) for dat in data] \n",
    "    return 1 - np.mean(reslist)\n",
    "\n",
    "\n",
    "def getRatio(p0, data=None, para=None):\n",
    "    assert (data is None) + (para is None) == 1\n",
    "    if para is not None:\n",
    "        a, b = para\n",
    "        rv = beta(a=a, b=b)\n",
    "        res = np.min([rv.cdf(p0), rv.sf(p0)])\n",
    "    if data is not None:\n",
    "        p1 = np.mean(data<=p0)\n",
    "        p2 = np.mean(data>p0)\n",
    "        res = np.min([p1, p2])\n",
    "    return res\n",
    "\n",
    "\n",
    "\n",
    "def getQuantile(p0, data=None, paras=None, alp=0.05):\n",
    "    assert (data is None) + (paras is None) == 1\n",
    "    if paras is not None:\n",
    "        res = [getRatio(p0, para=para) for para in paras]\n",
    "    if data is not None:\n",
    "        res = [getRatio(p0, data=dat) for dat in data]\n",
    "    #n = len(res)\n",
    "    return np.quantile(res, q=alp)\n"
   ]
  },
  {
   "cell_type": "markdown",
   "metadata": {},
   "source": [
    "## n = 40 "
   ]
  },
  {
   "cell_type": "code",
   "execution_count": 3,
   "metadata": {},
   "outputs": [],
   "source": [
    "n = 40\n",
    "root = Path(f\"./betaMCMC1000n{n}nsdiff/\")\n",
    "files = root.glob(\"*.pkl\")\n",
    "files = list(files)\n",
    "# sort the files\n",
    "files = sorted(files, key=sortf, reverse=False)\n",
    "filesnpp = [f for f in files if \"NPP\" in f.name]\n",
    "files = [f for f in files if \"NPP\" not in f.name]\n",
    "\n",
    "# test p = p0\n",
    "idxs = [0.3, 0.35, 0.4, 0.45, 0.5, 0.55, 0.6]\n",
    "p0 = 0.50\n",
    "\n",
    "f = files[idxs.index(p0)]\n",
    "fnpp = filesnpp[idxs.index(p0)]"
   ]
  },
  {
   "cell_type": "markdown",
   "metadata": {},
   "source": [
    "### get the calibrated quantile"
   ]
  },
  {
   "cell_type": "code",
   "execution_count": 4,
   "metadata": {},
   "outputs": [],
   "source": [
    "data = load_pkl(f)\n",
    "datanpp = load_pkl(fnpp)\n",
    "dicdata = edict()\n",
    "cvqs = edict()\n",
    "\n",
    "fulldata = [dat[\"full_popu\"] for dat in data]\n",
    "JEFdata = [dat[\"jef_popu\"] for dat in data]\n",
    "JPPdata = [dat[\"jpp_sps\"][\"sps\"]  for dat in data]\n",
    "NPPdata = [dat[\"npp_sps\"][\"theta\"]  for dat in datanpp]\n",
    "UIPDdata = [dat[\"UIPD_sps\"][\"sps\"]  for dat in data]\n",
    "UIPJSdata = [dat[\"UIPKL_sps\"][\"sps\"]  for dat in data]\n",
    "\n",
    "dicdata.FULL = fulldata\n",
    "dicdata.JEF = JEFdata \n",
    "dicdata.JPP = JPPdata \n",
    "dicdata.NPP = NPPdata \n",
    "dicdata.UIPD = UIPDdata \n",
    "dicdata.UIPJS = UIPJSdata "
   ]
  },
  {
   "cell_type": "code",
   "execution_count": 5,
   "metadata": {},
   "outputs": [],
   "source": [
    "for key, v in dicdata.items():\n",
    "    if key in [\"FULL\", \"JEF\"]:\n",
    "        cvqs[key] = getQuantile(p0, paras=v)\n",
    "    else:\n",
    "        cvqs[key] = getQuantile(p0, data=v)\n",
    "        \n",
    "cvqs.JEF = cvqs.JEF * 0.9\n",
    "cvqs.NPP = cvqs.NPP * 0.98\n",
    "cvqs.UIPD = cvqs.UIPD * 0.96\n",
    "cvqs.UIPJS = cvqs.UIPJS * 0.98"
   ]
  },
  {
   "cell_type": "code",
   "execution_count": 10,
   "metadata": {},
   "outputs": [
    {
     "name": "stdout",
     "output_type": "stream",
     "text": [
      "{'FULL': 0.04600000000000004,\n",
      " 'JEF': 0.04500000000000004,\n",
      " 'JPP': 0.050000000000000044,\n",
      " 'NPP': 0.050000000000000044,\n",
      " 'UIPD': 0.050000000000000044,\n",
      " 'UIPJS': 0.050000000000000044}\n"
     ]
    }
   ],
   "source": [
    "Sizes = edict()\n",
    "for key, qv in cvqs.items():\n",
    "    Sizes[key] = rejrate(p0, dicdata[key], q=qv)\n",
    "pprint(Sizes)"
   ]
  },
  {
   "cell_type": "code",
   "execution_count": 11,
   "metadata": {},
   "outputs": [
    {
     "data": {
      "text/plain": [
       "{'FULL': 1.3879890025103592e-06,\n",
       " 'JEF': 0.02538278667550111,\n",
       " 'JPP': 0.023756,\n",
       " 'NPP': 0.002744,\n",
       " 'UIPD': 0.00384,\n",
       " 'UIPJS': 0.00392}"
      ]
     },
     "execution_count": 11,
     "metadata": {},
     "output_type": "execute_result"
    }
   ],
   "source": [
    "cvqs"
   ]
  },
  {
   "cell_type": "markdown",
   "metadata": {},
   "source": [
    "### calibrate the q manually"
   ]
  },
  {
   "cell_type": "code",
   "execution_count": 12,
   "metadata": {},
   "outputs": [
    {
     "data": {
      "text/plain": [
       "0.05900000000000005"
      ]
     },
     "execution_count": 12,
     "metadata": {},
     "output_type": "execute_result"
    }
   ],
   "source": [
    "key = \"FULL\"\n",
    "rejrate(p0, dicdata[key], q=cvqs[key]*1.01)"
   ]
  },
  {
   "cell_type": "markdown",
   "metadata": {},
   "source": [
    "### Obtain powers"
   ]
  },
  {
   "cell_type": "code",
   "execution_count": 14,
   "metadata": {},
   "outputs": [],
   "source": [
    "powers = []\n",
    "powers95 = []\n",
    "for pklfile, nppfile in zip(files, filesnpp):\n",
    "    p = sortf(pklfile)/100\n",
    "    if p == p0:\n",
    "        data = load_pkl(pklfile)\n",
    "        datanpp = load_pkl(nppfile)\n",
    "        JEFdata = [dat[\"jef_popu\"] for dat in data]\n",
    "        fulldata = [dat[\"full_popu\"] for dat in data]\n",
    "        UIPDdata = [dat[\"UIPD_sps\"][\"sps\"]  for dat in data]\n",
    "        UIPKLdata = [dat[\"UIPKL_sps\"][\"sps\"]  for dat in data]\n",
    "        JPPdata = [dat[\"jpp_sps\"][\"sps\"]  for dat in data]\n",
    "        NPPdata = [dat[\"npp_sps\"][\"theta\"]  for dat in datanpp]\n",
    "    \n",
    "        Sizes95 = {\n",
    "            \"FULL\": rejrate(p0, fulldata, q=0.025),\n",
    "            \"JEF\": rejrate(p0, JEFdata, q=0.025),\n",
    "            \"JPP\": rejrate(p0, JPPdata, q=0.025),\n",
    "            \"NPP\": rejrate(p0, NPPdata, q=0.025),\n",
    "            \"UIPD\": rejrate(p0, UIPDdata, q=0.025),\n",
    "            \"UIPJS\": rejrate(p0, UIPKLdata, q=0.025),\n",
    "            \"p0\": p\n",
    "            }\n",
    "    else:\n",
    "        data = load_pkl(pklfile)\n",
    "        datanpp = load_pkl(nppfile)\n",
    "        JEFdata = [dat[\"jef_popu\"] for dat in data]\n",
    "        fulldata = [dat[\"full_popu\"] for dat in data]\n",
    "        UIPDdata = [dat[\"UIPD_sps\"][\"sps\"]  for dat in data]\n",
    "        UIPKLdata = [dat[\"UIPKL_sps\"][\"sps\"]  for dat in data]\n",
    "        JPPdata = [dat[\"jpp_sps\"][\"sps\"]  for dat in data]\n",
    "        NPPdata = [dat[\"npp_sps\"][\"theta\"]  for dat in datanpp]\n",
    "    \n",
    "        res = {\n",
    "            \"FULL\": rejrate(p0, fulldata, q=cvqs.FULL),\n",
    "            \"JEF\": rejrate(p0, JEFdata, q=cvqs.JEF),\n",
    "            \"JPP\": rejrate(p0, JPPdata, q=cvqs.JPP),\n",
    "            \"NPP\": rejrate(p0, NPPdata, q=cvqs.NPP),\n",
    "            \"UIPD\": rejrate(p0, UIPDdata, q=cvqs.UIPD),\n",
    "            \"UIPJS\": rejrate(p0, UIPKLdata, q=cvqs.UIPJS),\n",
    "            \"p0\": p\n",
    "            }\n",
    "        res95 = {\n",
    "            \"FULL\": rejrate(p0, fulldata, q=0.025),\n",
    "            \"JEF\": rejrate(p0, JEFdata, q=0.025),\n",
    "            \"JPP\": rejrate(p0, JPPdata, q=0.025),\n",
    "            \"NPP\": rejrate(p0, NPPdata, q=0.025),\n",
    "            \"UIPD\": rejrate(p0, UIPDdata, q=0.025),\n",
    "            \"UIPJS\": rejrate(p0, UIPKLdata, q=0.025),\n",
    "            \"p0\": p\n",
    "            }\n",
    "        powers.append(res) \n",
    "        powers95.append(res95) "
   ]
  },
  {
   "cell_type": "code",
   "execution_count": 15,
   "metadata": {},
   "outputs": [
    {
     "name": "stdout",
     "output_type": "stream",
     "text": [
      "    FULL    JEF    JPP    NPP   UIPD  UIPJS    p0\n",
      "0  0.999  0.693  0.791  0.965  0.958  0.946  0.30\n",
      "1  0.992  0.423  0.512  0.879  0.845  0.831  0.35\n",
      "2  0.963  0.208  0.297  0.723  0.658  0.623  0.40\n",
      "3  0.953  0.075  0.117  0.464  0.398  0.368  0.45\n",
      "    FULL    JEF    JPP    NPP   UIPD  UIPJS    p0\n",
      "0  0.378  0.693  0.762  0.755  0.795  0.835  0.30\n",
      "1  0.288  0.423  0.489  0.517  0.573  0.611  0.35\n",
      "2  0.175  0.208  0.273  0.321  0.331  0.356  0.40\n",
      "3  0.104  0.075  0.099  0.132  0.145  0.156  0.45\n",
      "Powers\n",
      "FULL     0.23625\n",
      "JEF      0.34975\n",
      "JPP      0.40575\n",
      "NPP      0.43125\n",
      "UIPD     0.46100\n",
      "UIPJS    0.48950\n",
      "dtype: float64\n",
      "Powers 95\n",
      "FULL     0.97675\n",
      "JEF      0.34975\n",
      "JPP      0.42925\n",
      "NPP      0.75775\n",
      "UIPD     0.71475\n",
      "UIPJS    0.69200\n",
      "dtype: float64\n"
     ]
    }
   ],
   "source": [
    "powers = pd.DataFrame(powers)\n",
    "powers95 = pd.DataFrame(powers95)\n",
    "print(powers95)\n",
    "print(powers)\n",
    "\n",
    "print(f\"Powers\")\n",
    "print(powers.drop(columns=[\"p0\"]).mean(axis=0))\n",
    "print(f\"Powers 95\")\n",
    "print(powers95.drop(columns=[\"p0\"]).mean(axis=0))"
   ]
  },
  {
   "cell_type": "code",
   "execution_count": 16,
   "metadata": {},
   "outputs": [
    {
     "name": "stdout",
     "output_type": "stream",
     "text": [
      "Size\n",
      "FULL      : 0.046\n",
      "JEF       : 0.045\n",
      "JPP       : 0.050\n",
      "NPP       : 0.050\n",
      "UIPD      : 0.050\n",
      "UIPJS     : 0.050\n",
      "Size95\n",
      "FULL      : 0.929\n",
      "JEF       : 0.045\n",
      "JPP       : 0.058\n",
      "NPP       : 0.256\n",
      "UIPD      : 0.193\n",
      "UIPJS     : 0.163\n",
      "p0        : 0.500\n"
     ]
    }
   ],
   "source": [
    "print(\"Size\")\n",
    "for key, v in Sizes.items():\n",
    "    print(f\"{key:<10}: {v:.3f}\")\n",
    "print(\"Size95\")\n",
    "for key, v in Sizes95.items():\n",
    "    print(f\"{key:<10}: {v:.3f}\")"
   ]
  },
  {
   "cell_type": "markdown",
   "metadata": {},
   "source": [
    "## n = 80"
   ]
  },
  {
   "cell_type": "code",
   "execution_count": 17,
   "metadata": {},
   "outputs": [],
   "source": [
    "n = 80\n",
    "root = Path(f\"./betaMCMC1000n{n}nsdiff/\")\n",
    "files = root.glob(\"*.pkl\")\n",
    "files = list(files)\n",
    "# sort the files\n",
    "files = sorted(files, key=sortf, reverse=False)\n",
    "filesnpp = [f for f in files if \"NPP\" in f.name]\n",
    "files = [f for f in files if \"NPP\" not in f.name]\n",
    "\n",
    "# test p = p0\n",
    "idxs = [0.3, 0.35, 0.4, 0.45, 0.5, 0.55, 0.6]\n",
    "p0 = 0.50\n",
    "\n",
    "f = files[idxs.index(p0)]\n",
    "fnpp = filesnpp[idxs.index(p0)]\n",
    "\n",
    "data = load_pkl(f)\n",
    "datanpp = load_pkl(fnpp)\n",
    "dicdata = edict()\n",
    "cvqs = edict()\n",
    "\n",
    "fulldata = [dat[\"full_popu\"] for dat in data]\n",
    "JEFdata = [dat[\"jef_popu\"] for dat in data]\n",
    "JPPdata = [dat[\"jpp_sps\"][\"sps\"]  for dat in data]\n",
    "NPPdata = [dat[\"npp_sps\"][\"theta\"]  for dat in datanpp]\n",
    "UIPDdata = [dat[\"UIPD_sps\"][\"sps\"]  for dat in data]\n",
    "UIPJSdata = [dat[\"UIPKL_sps\"][\"sps\"]  for dat in data]\n",
    "\n",
    "dicdata.FULL = fulldata\n",
    "dicdata.JEF = JEFdata \n",
    "dicdata.JPP = JPPdata \n",
    "dicdata.NPP = NPPdata \n",
    "dicdata.UIPD = UIPDdata \n",
    "dicdata.UIPJS = UIPJSdata "
   ]
  },
  {
   "cell_type": "code",
   "execution_count": 18,
   "metadata": {},
   "outputs": [],
   "source": [
    "for key, v in dicdata.items():\n",
    "    if key in [\"FULL\", \"JEF\"]:\n",
    "        cvqs[key] = getQuantile(p0, paras=v)\n",
    "    else:\n",
    "        cvqs[key] = getQuantile(p0, data=v)\n",
    "        \n",
    "cvqs.NPP = cvqs.NPP * 0.95\n",
    "cvqs.UIPD = cvqs.UIPD * 0.95\n",
    "cvqs.UIPJS = cvqs.UIPJS * 0.95"
   ]
  },
  {
   "cell_type": "code",
   "execution_count": 19,
   "metadata": {},
   "outputs": [
    {
     "name": "stdout",
     "output_type": "stream",
     "text": [
      "{'FULL': 0.05500000000000005,\n",
      " 'JEF': 0.062000000000000055,\n",
      " 'JPP': 0.050000000000000044,\n",
      " 'NPP': 0.050000000000000044,\n",
      " 'UIPD': 0.050000000000000044,\n",
      " 'UIPJS': 0.050000000000000044}\n"
     ]
    }
   ],
   "source": [
    "Sizes = edict()\n",
    "for key, qv in cvqs.items():\n",
    "    Sizes[key] = rejrate(p0, dicdata[key], q=qv)\n",
    "pprint(Sizes)"
   ]
  },
  {
   "cell_type": "markdown",
   "metadata": {},
   "source": [
    "### calibrate the q manually"
   ]
  },
  {
   "cell_type": "code",
   "execution_count": 20,
   "metadata": {},
   "outputs": [
    {
     "data": {
      "text/plain": [
       "0.04500000000000004"
      ]
     },
     "execution_count": 20,
     "metadata": {},
     "output_type": "execute_result"
    }
   ],
   "source": [
    "key = \"UIPJS\"\n",
    "rejrate(p0, dicdata[key], q=cvqs[key]*0.95)"
   ]
  },
  {
   "cell_type": "markdown",
   "metadata": {},
   "source": [
    "### Obtain powers"
   ]
  },
  {
   "cell_type": "code",
   "execution_count": 21,
   "metadata": {},
   "outputs": [],
   "source": [
    "powers = []\n",
    "powers95 = []\n",
    "for pklfile, nppfile in zip(files, filesnpp):\n",
    "    p = sortf(pklfile)/100\n",
    "    if p == p0:\n",
    "        data = load_pkl(pklfile)\n",
    "        datanpp = load_pkl(nppfile)\n",
    "        JEFdata = [dat[\"jef_popu\"] for dat in data]\n",
    "        fulldata = [dat[\"full_popu\"] for dat in data]\n",
    "        UIPDdata = [dat[\"UIPD_sps\"][\"sps\"]  for dat in data]\n",
    "        UIPKLdata = [dat[\"UIPKL_sps\"][\"sps\"]  for dat in data]\n",
    "        JPPdata = [dat[\"jpp_sps\"][\"sps\"]  for dat in data]\n",
    "        NPPdata = [dat[\"npp_sps\"][\"theta\"]  for dat in datanpp]\n",
    "        Sizes95 = {\n",
    "            \"FULL\": rejrate(p0, fulldata, q=0.025),\n",
    "            \"JEF\": rejrate(p0, JEFdata, q=0.025),\n",
    "            \"JPP\": rejrate(p0, JPPdata, q=0.025),\n",
    "            \"NPP\": rejrate(p0, NPPdata, q=0.025),\n",
    "            \"UIPD\": rejrate(p0, UIPDdata, q=0.025),\n",
    "            \"UIPJS\": rejrate(p0, UIPKLdata, q=0.025),\n",
    "            \"p0\": p\n",
    "            }\n",
    "    else:\n",
    "        data = load_pkl(pklfile)\n",
    "        datanpp = load_pkl(nppfile)\n",
    "        JEFdata = [dat[\"jef_popu\"] for dat in data]\n",
    "        fulldata = [dat[\"full_popu\"] for dat in data]\n",
    "        UIPDdata = [dat[\"UIPD_sps\"][\"sps\"]  for dat in data]\n",
    "        UIPKLdata = [dat[\"UIPKL_sps\"][\"sps\"]  for dat in data]\n",
    "        JPPdata = [dat[\"jpp_sps\"][\"sps\"]  for dat in data]\n",
    "        NPPdata = [dat[\"npp_sps\"][\"theta\"]  for dat in datanpp]\n",
    "    \n",
    "        res = {\n",
    "            \"FULL\": rejrate(p0, fulldata, q=cvqs.FULL),\n",
    "            \"JEF\": rejrate(p0, JEFdata, q=cvqs.JEF),\n",
    "            \"JPP\": rejrate(p0, JPPdata, q=cvqs.JPP),\n",
    "            \"NPP\": rejrate(p0, NPPdata, q=cvqs.NPP),\n",
    "            \"UIPD\": rejrate(p0, UIPDdata, q=cvqs.UIPD),\n",
    "            \"UIPJS\": rejrate(p0, UIPKLdata, q=cvqs.UIPJS),\n",
    "            \"p0\": p\n",
    "            }\n",
    "        res95 = {\n",
    "            \"FULL\": rejrate(p0, fulldata, q=0.025),\n",
    "            \"JEF\": rejrate(p0, JEFdata, q=0.025),\n",
    "            \"JPP\": rejrate(p0, JPPdata, q=0.025),\n",
    "            \"NPP\": rejrate(p0, NPPdata, q=0.025),\n",
    "            \"UIPD\": rejrate(p0, UIPDdata, q=0.025),\n",
    "            \"UIPJS\": rejrate(p0, UIPKLdata, q=0.025),\n",
    "            \"p0\": p\n",
    "            }\n",
    "        powers.append(res) \n",
    "        powers95.append(res95) "
   ]
  },
  {
   "cell_type": "code",
   "execution_count": 22,
   "metadata": {},
   "outputs": [
    {
     "name": "stdout",
     "output_type": "stream",
     "text": [
      "    FULL    JEF    JPP    NPP   UIPD  UIPJS    p0\n",
      "0  0.999  0.962  0.962  0.997  0.996  0.991  0.30\n",
      "1  0.998  0.817  0.817  0.963  0.954  0.938  0.35\n",
      "2  0.987  0.456  0.456  0.808  0.771  0.710  0.40\n",
      "3  0.943  0.141  0.141  0.505  0.446  0.387  0.45\n",
      "    FULL    JEF    JPP    NPP   UIPD  UIPJS    p0\n",
      "0  0.686  0.962  0.962  0.967  0.971  0.968  0.30\n",
      "1  0.500  0.817  0.817  0.834  0.862  0.841  0.35\n",
      "2  0.273  0.456  0.456  0.509  0.536  0.504  0.40\n",
      "3  0.132  0.141  0.141  0.196  0.215  0.191  0.45\n",
      "Powers\n",
      "FULL     0.39775\n",
      "JEF      0.59400\n",
      "JPP      0.59400\n",
      "NPP      0.62650\n",
      "UIPD     0.64600\n",
      "UIPJS    0.62600\n",
      "dtype: float64\n",
      "Powers 95\n",
      "FULL     0.98175\n",
      "JEF      0.59400\n",
      "JPP      0.59400\n",
      "NPP      0.81825\n",
      "UIPD     0.79175\n",
      "UIPJS    0.75650\n",
      "dtype: float64\n"
     ]
    }
   ],
   "source": [
    "powers = pd.DataFrame(powers)\n",
    "powers95 = pd.DataFrame(powers95)\n",
    "print(powers95)\n",
    "print(powers)\n",
    "\n",
    "print(f\"Powers\")\n",
    "print(powers.drop(columns=[\"p0\"]).mean(axis=0))\n",
    "print(f\"Powers 95\")\n",
    "print(powers95.drop(columns=[\"p0\"]).mean(axis=0))"
   ]
  },
  {
   "cell_type": "code",
   "execution_count": 23,
   "metadata": {},
   "outputs": [
    {
     "name": "stdout",
     "output_type": "stream",
     "text": [
      "Size\n",
      "FULL      : 0.055\n",
      "JEF       : 0.062\n",
      "JPP       : 0.050\n",
      "NPP       : 0.050\n",
      "UIPD      : 0.050\n",
      "UIPJS     : 0.050\n",
      "Size95\n",
      "FULL      : 0.848\n",
      "JEF       : 0.062\n",
      "JPP       : 0.051\n",
      "NPP       : 0.232\n",
      "UIPD      : 0.163\n",
      "UIPJS     : 0.138\n",
      "p0        : 0.500\n"
     ]
    }
   ],
   "source": [
    "print(\"Size\")\n",
    "for key, v in Sizes.items():\n",
    "    print(f\"{key:<10}: {v:.3f}\")\n",
    "print(\"Size95\")\n",
    "for key, v in Sizes95.items():\n",
    "    print(f\"{key:<10}: {v:.3f}\")"
   ]
  },
  {
   "cell_type": "markdown",
   "metadata": {},
   "source": [
    "## n=120"
   ]
  },
  {
   "cell_type": "code",
   "execution_count": 24,
   "metadata": {},
   "outputs": [],
   "source": [
    "n = 120\n",
    "root = Path(f\"./betaMCMC1000n{n}nsdiff/\")\n",
    "files = root.glob(\"*.pkl\")\n",
    "files = list(files)\n",
    "# sort the files\n",
    "files = sorted(files, key=sortf, reverse=False)\n",
    "filesnpp = [f for f in files if \"NPP\" in f.name]\n",
    "files = [f for f in files if \"NPP\" not in f.name]\n",
    "\n",
    "# test p = p0\n",
    "idxs = [0.3, 0.35, 0.4, 0.45, 0.5, 0.55, 0.6]\n",
    "p0 = 0.50\n",
    "\n",
    "f = files[idxs.index(p0)]\n",
    "fnpp = filesnpp[idxs.index(p0)]\n",
    "\n",
    "data = load_pkl(f)\n",
    "datanpp = load_pkl(fnpp)\n",
    "dicdata = edict()\n",
    "cvqs = edict()\n",
    "\n",
    "fulldata = [dat[\"full_popu\"] for dat in data]\n",
    "JEFdata = [dat[\"jef_popu\"] for dat in data]\n",
    "JPPdata = [dat[\"jpp_sps\"][\"sps\"]  for dat in data]\n",
    "NPPdata = [dat[\"npp_sps\"][\"theta\"]  for dat in datanpp]\n",
    "UIPDdata = [dat[\"UIPD_sps\"][\"sps\"]  for dat in data]\n",
    "UIPJSdata = [dat[\"UIPKL_sps\"][\"sps\"]  for dat in data]\n",
    "\n",
    "dicdata.FULL = fulldata\n",
    "dicdata.JEF = JEFdata \n",
    "dicdata.JPP = JPPdata \n",
    "dicdata.NPP = NPPdata \n",
    "dicdata.UIPD = UIPDdata \n",
    "dicdata.UIPJS = UIPJSdata "
   ]
  },
  {
   "cell_type": "code",
   "execution_count": 25,
   "metadata": {},
   "outputs": [],
   "source": [
    "for key, v in dicdata.items():\n",
    "    if key in [\"FULL\", \"JEF\"]:\n",
    "        cvqs[key] = getQuantile(p0, paras=v)\n",
    "    else:\n",
    "        cvqs[key] = getQuantile(p0, data=v)\n",
    "        \n",
    "cvqs.NPP = cvqs.NPP * 0.98\n",
    "cvqs.UIPD = cvqs.UIPD * 0.99\n",
    "cvqs.UIPJS = cvqs.UIPJS * 0.98\n",
    "cvqs.FULL = cvqs.FULL * 1.01"
   ]
  },
  {
   "cell_type": "code",
   "execution_count": 26,
   "metadata": {},
   "outputs": [
    {
     "name": "stdout",
     "output_type": "stream",
     "text": [
      "{'FULL': 0.05600000000000005,\n",
      " 'JEF': 0.05900000000000005,\n",
      " 'JPP': 0.050000000000000044,\n",
      " 'NPP': 0.050000000000000044,\n",
      " 'UIPD': 0.050000000000000044,\n",
      " 'UIPJS': 0.050000000000000044}\n"
     ]
    }
   ],
   "source": [
    "Sizes = edict()\n",
    "for key, qv in cvqs.items():\n",
    "    Sizes[key] = rejrate(p0, dicdata[key], q=qv)\n",
    "pprint(Sizes)"
   ]
  },
  {
   "cell_type": "markdown",
   "metadata": {},
   "source": [
    "### calibrate the q manually"
   ]
  },
  {
   "cell_type": "code",
   "execution_count": 27,
   "metadata": {},
   "outputs": [
    {
     "data": {
      "text/plain": [
       "0.05600000000000005"
      ]
     },
     "execution_count": 27,
     "metadata": {},
     "output_type": "execute_result"
    }
   ],
   "source": [
    "key = \"FULL\"\n",
    "rejrate(p0, dicdata[key], q=cvqs[key]*1.01)"
   ]
  },
  {
   "cell_type": "markdown",
   "metadata": {},
   "source": [
    "### Obtain powers"
   ]
  },
  {
   "cell_type": "code",
   "execution_count": 28,
   "metadata": {},
   "outputs": [],
   "source": [
    "powers = []\n",
    "powers95 = []\n",
    "for pklfile, nppfile in zip(files, filesnpp):\n",
    "    p = sortf(pklfile)/100\n",
    "    if p == p0:\n",
    "        data = load_pkl(pklfile)\n",
    "        datanpp = load_pkl(nppfile)\n",
    "        JEFdata = [dat[\"jef_popu\"] for dat in data]\n",
    "        fulldata = [dat[\"full_popu\"] for dat in data]\n",
    "        UIPDdata = [dat[\"UIPD_sps\"][\"sps\"]  for dat in data]\n",
    "        UIPKLdata = [dat[\"UIPKL_sps\"][\"sps\"]  for dat in data]\n",
    "        JPPdata = [dat[\"jpp_sps\"][\"sps\"]  for dat in data]\n",
    "        NPPdata = [dat[\"npp_sps\"][\"theta\"]  for dat in datanpp]\n",
    "        Sizes95 = {\n",
    "            \"FULL\": rejrate(p0, fulldata, q=0.025),\n",
    "            \"JEF\": rejrate(p0, JEFdata, q=0.025),\n",
    "            \"JPP\": rejrate(p0, JPPdata, q=0.025),\n",
    "            \"NPP\": rejrate(p0, NPPdata, q=0.025),\n",
    "            \"UIPD\": rejrate(p0, UIPDdata, q=0.025),\n",
    "            \"UIPJS\": rejrate(p0, UIPKLdata, q=0.025),\n",
    "            \"p0\": p\n",
    "            }\n",
    "    else:\n",
    "        data = load_pkl(pklfile)\n",
    "        datanpp = load_pkl(nppfile)\n",
    "        JEFdata = [dat[\"jef_popu\"] for dat in data]\n",
    "        fulldata = [dat[\"full_popu\"] for dat in data]\n",
    "        UIPDdata = [dat[\"UIPD_sps\"][\"sps\"]  for dat in data]\n",
    "        UIPKLdata = [dat[\"UIPKL_sps\"][\"sps\"]  for dat in data]\n",
    "        JPPdata = [dat[\"jpp_sps\"][\"sps\"]  for dat in data]\n",
    "        NPPdata = [dat[\"npp_sps\"][\"theta\"]  for dat in datanpp]\n",
    "    \n",
    "        res = {\n",
    "            \"FULL\": rejrate(p0, fulldata, q=cvqs.FULL),\n",
    "            \"JEF\": rejrate(p0, JEFdata, q=cvqs.JEF),\n",
    "            \"JPP\": rejrate(p0, JPPdata, q=cvqs.JPP),\n",
    "            \"NPP\": rejrate(p0, NPPdata, q=cvqs.NPP),\n",
    "            \"UIPD\": rejrate(p0, UIPDdata, q=cvqs.UIPD),\n",
    "            \"UIPJS\": rejrate(p0, UIPKLdata, q=cvqs.UIPJS),\n",
    "            \"p0\": p\n",
    "            }\n",
    "        res95 = {\n",
    "            \"FULL\": rejrate(p0, fulldata, q=0.025),\n",
    "            \"JEF\": rejrate(p0, JEFdata, q=0.025),\n",
    "            \"JPP\": rejrate(p0, JPPdata, q=0.025),\n",
    "            \"NPP\": rejrate(p0, NPPdata, q=0.025),\n",
    "            \"UIPD\": rejrate(p0, UIPDdata, q=0.025),\n",
    "            \"UIPJS\": rejrate(p0, UIPKLdata, q=0.025),\n",
    "            \"p0\": p\n",
    "            }\n",
    "        powers.append(res) \n",
    "        powers95.append(res95) "
   ]
  },
  {
   "cell_type": "code",
   "execution_count": 29,
   "metadata": {},
   "outputs": [
    {
     "name": "stdout",
     "output_type": "stream",
     "text": [
      "    FULL    JEF    JPP    NPP   UIPD  UIPJS    p0\n",
      "0  1.000  0.995  0.995  1.000  1.000  1.000  0.30\n",
      "1  0.998  0.928  0.928  0.988  0.985  0.977  0.35\n",
      "2  0.987  0.562  0.562  0.846  0.807  0.774  0.40\n",
      "3  0.942  0.184  0.183  0.512  0.451  0.406  0.45\n",
      "    FULL    JEF    JPP    NPP   UIPD  UIPJS    p0\n",
      "0  0.917  0.995  0.997  0.999  0.999  0.999  0.30\n",
      "1  0.760  0.928  0.935  0.947  0.953  0.944  0.35\n",
      "2  0.425  0.562  0.583  0.644  0.656  0.631  0.40\n",
      "3  0.176  0.184  0.198  0.249  0.250  0.245  0.45\n",
      "Powers\n",
      "FULL     0.56950\n",
      "JEF      0.66725\n",
      "JPP      0.67825\n",
      "NPP      0.70975\n",
      "UIPD     0.71450\n",
      "UIPJS    0.70475\n",
      "dtype: float64\n",
      "Powers 95\n",
      "FULL     0.98175\n",
      "JEF      0.66725\n",
      "JPP      0.66700\n",
      "NPP      0.83650\n",
      "UIPD     0.81075\n",
      "UIPJS    0.78925\n",
      "dtype: float64\n"
     ]
    }
   ],
   "source": [
    "powers = pd.DataFrame(powers)\n",
    "powers95 = pd.DataFrame(powers95)\n",
    "print(powers95)\n",
    "print(powers)\n",
    "\n",
    "print(f\"Powers\")\n",
    "print(powers.drop(columns=[\"p0\"]).mean(axis=0))\n",
    "print(f\"Powers 95\")\n",
    "print(powers95.drop(columns=[\"p0\"]).mean(axis=0))\n"
   ]
  },
  {
   "cell_type": "code",
   "execution_count": 30,
   "metadata": {},
   "outputs": [
    {
     "name": "stdout",
     "output_type": "stream",
     "text": [
      "Size\n",
      "FULL      : 0.056\n",
      "JEF       : 0.059\n",
      "JPP       : 0.050\n",
      "NPP       : 0.050\n",
      "UIPD      : 0.050\n",
      "UIPJS     : 0.050\n",
      "Size95\n",
      "FULL      : 0.771\n",
      "JEF       : 0.059\n",
      "JPP       : 0.048\n",
      "NPP       : 0.166\n",
      "UIPD      : 0.126\n",
      "UIPJS     : 0.115\n",
      "p0        : 0.500\n"
     ]
    }
   ],
   "source": [
    "print(\"Size\")\n",
    "for key, v in Sizes.items():\n",
    "    print(f\"{key:<10}: {v:.3f}\")\n",
    "print(\"Size95\")\n",
    "for key, v in Sizes95.items():\n",
    "    print(f\"{key:<10}: {v:.3f}\")"
   ]
  },
  {
   "cell_type": "code",
   "execution_count": null,
   "metadata": {},
   "outputs": [],
   "source": []
  }
 ],
 "metadata": {
  "kernelspec": {
   "display_name": "Python 3",
   "language": "python",
   "name": "python3"
  },
  "language_info": {
   "codemirror_mode": {
    "name": "ipython",
    "version": 3
   },
   "file_extension": ".py",
   "mimetype": "text/x-python",
   "name": "python",
   "nbconvert_exporter": "python",
   "pygments_lexer": "ipython3",
   "version": "3.7.3"
  }
 },
 "nbformat": 4,
 "nbformat_minor": 2
}
