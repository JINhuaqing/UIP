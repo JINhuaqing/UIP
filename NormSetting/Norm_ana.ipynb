{
 "cells": [
  {
   "cell_type": "code",
   "execution_count": 1,
   "metadata": {},
   "outputs": [],
   "source": [
    "import pymc3 as pm\n",
    "import matplotlib.pyplot as plt\n",
    "import numpy as np\n",
    "import pickle\n",
    "from pathlib import Path\n",
    "import pandas as pd\n",
    "import seaborn as sns\n",
    "\n",
    "%matplotlib inline"
   ]
  },
  {
   "cell_type": "code",
   "execution_count": 2,
   "metadata": {},
   "outputs": [],
   "source": [
    "from tqdm import tqdm\n",
    "from collections import defaultdict as ddict\n",
    "from pprint import pprint"
   ]
  },
  {
   "cell_type": "code",
   "execution_count": 3,
   "metadata": {},
   "outputs": [],
   "source": [
    "def sortdir(f):\n",
    "    num = f.name.split(\"_\")[-2].split(\"p\")[-1]\n",
    "    num = int(num)\n",
    "    return  num\n",
    "\n",
    "def sortf(f):\n",
    "    num = f.name.split(\".\")[0]\n",
    "    num = int(num)\n",
    "    return num"
   ]
  },
  {
   "cell_type": "code",
   "execution_count": 4,
   "metadata": {},
   "outputs": [],
   "source": [
    "def load_pkl(f):\n",
    "    with open(f, \"rb\") as fi:\n",
    "        data = pickle.load(fi)\n",
    "    return data"
   ]
  },
  {
   "cell_type": "markdown",
   "metadata": {},
   "source": [
    "## To obtaining simple format file"
   ]
  },
  {
   "cell_type": "code",
   "execution_count": 63,
   "metadata": {},
   "outputs": [],
   "source": [
    "def parse_sresult(datum):\n",
    "    res = {\n",
    "        \"JEF\"  : datum[\"jef\"][\"theta\"],\n",
    "        \"FULL\": datum[\"full\"][\"theta\"],\n",
    "        \"UIPD\" : datum[\"UIPD\"][\"thetah\"],\n",
    "        \"UIPJS\": datum[\"UIPJS\"][\"thetah\"],\n",
    "        \"NPP\"  : datum[\"NPP\"][\"thetah\"],\n",
    "        \"LCP\"  : datum[\"LCP\"][\"thetah\"]\n",
    "    }\n",
    "    return res\n",
    "\n",
    "def save_data(cdir):\n",
    "    files = list(cdir.glob(\"*.pkl\"))\n",
    "    files = sorted(files, key=sortf, reverse=False)\n",
    "    retres = {\n",
    "        \"JEF\":[],\n",
    "        \"FULL\":[],\n",
    "        \"LCP\":[],\n",
    "        \"NPP\":[],\n",
    "        \"UIPJS\":[],\n",
    "        \"UIPD\":[]\n",
    "    }\n",
    "    for fil in tqdm(files):\n",
    "        datum = load_pkl(fil)\n",
    "        simdatum = parse_sresult(datum)\n",
    "        retres[\"JEF\"].append(simdatum[\"JEF\"])\n",
    "        retres[\"FULL\"].append(simdatum[\"FULL\"])\n",
    "        retres[\"UIPD\"].append(simdatum[\"UIPD\"])\n",
    "        retres[\"UIPJS\"].append(simdatum[\"UIPJS\"])\n",
    "        retres[\"NPP\"].append(simdatum[\"NPP\"])\n",
    "        retres[\"LCP\"].append(simdatum[\"LCP\"])\n",
    "    return retres"
   ]
  },
  {
   "cell_type": "code",
   "execution_count": 66,
   "metadata": {},
   "outputs": [],
   "source": [
    "#n = 120\n",
    "#root = Path(f\"./\")\n",
    "#dirs = root.glob(f\"MCMCNorm_p*_n{n}\")\n",
    "#dirs = list(dirs)\n",
    "#\n",
    "## test theta = theta0\n",
    "#idxs = [0, 0.1, 0.2, 0.3, 0.4]\n",
    "#theta0 = 0.0\n",
    "#\n",
    "## sort the files\n",
    "#powers = []\n",
    "#dirs = sorted(dirs, key=sortdir, reverse=False)\n",
    "#cdir = dirs[idxs.index(theta0)]\n",
    "#files = list(cdir.glob(\"*.pkl\"))\n",
    "#files = sorted(files, key=sortf, reverse=False)"
   ]
  },
  {
   "cell_type": "code",
   "execution_count": 67,
   "metadata": {},
   "outputs": [
    {
     "name": "stderr",
     "output_type": "stream",
     "text": [
      "\r",
      "  0%|          | 0/1000 [00:00<?, ?it/s]"
     ]
    },
    {
     "name": "stdout",
     "output_type": "stream",
     "text": [
      "Processing MCMCNorm_p00_n120\n"
     ]
    },
    {
     "name": "stderr",
     "output_type": "stream",
     "text": [
      "100%|██████████| 1000/1000 [24:43<00:00,  1.60it/s] \n",
      "  0%|          | 0/1000 [00:00<?, ?it/s]"
     ]
    },
    {
     "name": "stdout",
     "output_type": "stream",
     "text": [
      "Processing MCMCNorm_p010_n120\n"
     ]
    },
    {
     "name": "stderr",
     "output_type": "stream",
     "text": [
      "100%|██████████| 1000/1000 [25:48<00:00,  1.06s/it] \n",
      "  0%|          | 0/1000 [00:00<?, ?it/s]"
     ]
    },
    {
     "name": "stdout",
     "output_type": "stream",
     "text": [
      "Processing MCMCNorm_p020_n120\n"
     ]
    },
    {
     "name": "stderr",
     "output_type": "stream",
     "text": [
      "100%|██████████| 1000/1000 [24:48<00:00,  1.72it/s] \n",
      "  0%|          | 0/1000 [00:00<?, ?it/s]"
     ]
    },
    {
     "name": "stdout",
     "output_type": "stream",
     "text": [
      "Processing MCMCNorm_p030_n120\n"
     ]
    },
    {
     "name": "stderr",
     "output_type": "stream",
     "text": [
      "100%|██████████| 1000/1000 [24:48<00:00,  1.16s/it] \n",
      "  0%|          | 0/1000 [00:00<?, ?it/s]"
     ]
    },
    {
     "name": "stdout",
     "output_type": "stream",
     "text": [
      "Processing MCMCNorm_p040_n120\n"
     ]
    },
    {
     "name": "stderr",
     "output_type": "stream",
     "text": [
      "100%|██████████| 1000/1000 [25:28<00:00,  1.34it/s] \n"
     ]
    }
   ],
   "source": [
    "#for cdir in dirs:\n",
    "#    print(f\"Processing {cdir.name}\")\n",
    "#    saved_data = save_data(cdir)\n",
    "#    with open(f\"./SimMCMCNorm_p{sortdir(cdir)}_n{n}.pkl\", \"wb\") as savef:\n",
    "#        pickle.dump(saved_data, savef)\n",
    "#    "
   ]
  },
  {
   "cell_type": "code",
   "execution_count": 95,
   "metadata": {},
   "outputs": [],
   "source": [
    "def is_true(theta0, bs):\n",
    "    low, up = bs\n",
    "    return (theta0 > low) and (theta0 < up)\n",
    "\n",
    "\n",
    "def rejrate(theta0, data, theta):\n",
    "    reslist = [is_true(theta0, bs=[np.quantile(dat, q=theta), np.quantile(dat, q=1-theta)]) for dat in data] \n",
    "    return 1 - np.mean(reslist)\n",
    "\n",
    "\n",
    "def getRatio(theta0, data):\n",
    "    p1 = np.mean(data<=theta0)\n",
    "    p2 = np.mean(data>theta0)\n",
    "    res = np.min([p1, p2])\n",
    "    return res\n",
    "\n",
    "\n",
    "\n",
    "def getQuantile(theta0, data, alp=0.05):\n",
    "    res = [getRatio(theta0, data=dat) for dat in data]\n",
    "    return np.quantile(res, q=alp)"
   ]
  },
  {
   "cell_type": "markdown",
   "metadata": {},
   "source": [
    "# n = 80"
   ]
  },
  {
   "cell_type": "code",
   "execution_count": 123,
   "metadata": {},
   "outputs": [],
   "source": [
    "n = 80\n",
    "root = Path(f\"./\")\n",
    "files = root.glob(f\"SimMCMCNorm_p*_n{n}*\")\n",
    "files = list(files)\n",
    "\n",
    "# test theta = theta0\n",
    "idxs = [0, 0.1, 0.2, 0.3, 0.4]\n",
    "theta0 = 0\n",
    "\n",
    "# sort the files\n",
    "files = sorted(files, key=sortdir, reverse=False)\n",
    "# H0 file\n",
    "h0f = files[idxs.index(theta0)]"
   ]
  },
  {
   "cell_type": "markdown",
   "metadata": {},
   "source": [
    "### Get the CV"
   ]
  },
  {
   "cell_type": "code",
   "execution_count": 124,
   "metadata": {},
   "outputs": [],
   "source": [
    "datah0 = load_pkl(h0f)\n",
    "CVqs = ddict(float)\n",
    "Alphas = ddict(float)\n",
    "Powers = ddict(list)"
   ]
  },
  {
   "cell_type": "code",
   "execution_count": 125,
   "metadata": {},
   "outputs": [
    {
     "name": "stdout",
     "output_type": "stream",
     "text": [
      "JEF       : 0.050\n",
      "FULL      : 1.000\n",
      "LCP       : 0.050\n",
      "NPP       : 0.050\n",
      "UIPJS     : 0.050\n",
      "UIPD      : 0.050\n"
     ]
    }
   ],
   "source": [
    "alps = {\n",
    "    \"JEF\": 0.05 - 1e-3,\n",
    "    \"FULL\": 0.05,\n",
    "    \"LCP\": 0.05 - 1e-3,\n",
    "    \"UIPJS\": 0.05 - 1e-3,\n",
    "    \"UIPD\": 0.05 - 5e-4,\n",
    "    \"NPP\": 0.05 - 5e-4,\n",
    "}\n",
    "for key, dat in datah0.items():\n",
    "    CVqs[key] = getQuantile(theta0, data=dat, alp=alps[key])\n",
    "    Alphas[key] = rejrate(theta0, dat, CVqs[key])\n",
    "for key, v in Alphas.items():\n",
    "    print(f\"{key:<10}: {v:.3f}\")"
   ]
  },
  {
   "cell_type": "code",
   "execution_count": 99,
   "metadata": {},
   "outputs": [
    {
     "data": {
      "text/plain": [
       "0.050000000000000044"
      ]
     },
     "execution_count": 99,
     "metadata": {},
     "output_type": "execute_result"
    }
   ],
   "source": [
    "cvs = getQuantile(theta0, data=datah0[\"UIPD\"], alp=0.05-5e-4)\n",
    "rejrate(theta0, datah0[\"UIPD\"], cvs)"
   ]
  },
  {
   "cell_type": "markdown",
   "metadata": {},
   "source": [
    "## Get the powers"
   ]
  },
  {
   "cell_type": "code",
   "execution_count": 126,
   "metadata": {},
   "outputs": [
    {
     "name": "stdout",
     "output_type": "stream",
     "text": [
      "============================================================\n",
      "Current is method JEF in file SimMCMCNorm_p10_n80!\n",
      "Current is method FULL in file SimMCMCNorm_p10_n80!\n",
      "Current is method LCP in file SimMCMCNorm_p10_n80!\n",
      "Current is method NPP in file SimMCMCNorm_p10_n80!\n",
      "Current is method UIPJS in file SimMCMCNorm_p10_n80!\n",
      "Current is method UIPD in file SimMCMCNorm_p10_n80!\n",
      "============================================================\n",
      "Current is method JEF in file SimMCMCNorm_p20_n80!\n",
      "Current is method FULL in file SimMCMCNorm_p20_n80!\n",
      "Current is method LCP in file SimMCMCNorm_p20_n80!\n",
      "Current is method NPP in file SimMCMCNorm_p20_n80!\n",
      "Current is method UIPJS in file SimMCMCNorm_p20_n80!\n",
      "Current is method UIPD in file SimMCMCNorm_p20_n80!\n",
      "============================================================\n",
      "Current is method JEF in file SimMCMCNorm_p30_n80!\n",
      "Current is method FULL in file SimMCMCNorm_p30_n80!\n",
      "Current is method LCP in file SimMCMCNorm_p30_n80!\n",
      "Current is method NPP in file SimMCMCNorm_p30_n80!\n",
      "Current is method UIPJS in file SimMCMCNorm_p30_n80!\n",
      "Current is method UIPD in file SimMCMCNorm_p30_n80!\n",
      "============================================================\n",
      "Current is method JEF in file SimMCMCNorm_p40_n80!\n",
      "Current is method FULL in file SimMCMCNorm_p40_n80!\n",
      "Current is method LCP in file SimMCMCNorm_p40_n80!\n",
      "Current is method NPP in file SimMCMCNorm_p40_n80!\n",
      "Current is method UIPJS in file SimMCMCNorm_p40_n80!\n",
      "Current is method UIPD in file SimMCMCNorm_p40_n80!\n"
     ]
    }
   ],
   "source": [
    "for f in files:\n",
    "    theta = sortdir(f)/100\n",
    "    if theta != theta0:\n",
    "        Powers[\"theta\"].append(theta)\n",
    "        datah1 = load_pkl(f)\n",
    "        print(\"==\"*30)\n",
    "        for key, dat in datah1.items():\n",
    "            print(f\"Current is method {key} in file {f.name}!\")\n",
    "            Powers[key].append(rejrate(theta0, dat, CVqs[key]))"
   ]
  },
  {
   "cell_type": "code",
   "execution_count": 127,
   "metadata": {},
   "outputs": [
    {
     "name": "stdout",
     "output_type": "stream",
     "text": [
      "   theta    JEF  FULL    LCP    NPP  UIPJS   UIPD\n",
      "0    0.1  0.156   1.0  0.225  0.262  0.245  0.240\n",
      "1    0.2  0.452   1.0  0.538  0.572  0.559  0.549\n",
      "2    0.3  0.791   1.0  0.856  0.886  0.878  0.871\n",
      "3    0.4  0.935   1.0  0.956  0.966  0.962  0.964\n",
      "Powers\n",
      "JEF      0.58350\n",
      "FULL     1.00000\n",
      "LCP      0.64375\n",
      "NPP      0.67150\n",
      "UIPJS    0.66100\n",
      "UIPD     0.65600\n",
      "dtype: float64\n",
      "Sizes\n",
      "JEF       : 0.050\n",
      "FULL      : 1.000\n",
      "LCP       : 0.050\n",
      "NPP       : 0.050\n",
      "UIPJS     : 0.050\n",
      "UIPD      : 0.050\n"
     ]
    }
   ],
   "source": [
    "Powers = pd.DataFrame(Powers)\n",
    "print(Powers)\n",
    "print(f\"Powers\")\n",
    "print(Powers.drop(columns=[\"theta\"]).mean(axis=0))\n",
    "print(\"Sizes\")\n",
    "for key, v in Alphas.items():\n",
    "    print(f\"{key:<10}: {v:.3f}\")"
   ]
  },
  {
   "cell_type": "markdown",
   "metadata": {},
   "source": [
    "# n=40 "
   ]
  },
  {
   "cell_type": "code",
   "execution_count": 128,
   "metadata": {},
   "outputs": [
    {
     "name": "stdout",
     "output_type": "stream",
     "text": [
      "JEF       : 0.050\n",
      "FULL      : 1.000\n",
      "LCP       : 0.050\n",
      "NPP       : 0.050\n",
      "UIPJS     : 0.050\n",
      "UIPD      : 0.050\n"
     ]
    }
   ],
   "source": [
    "n = 40\n",
    "root = Path(f\"./\")\n",
    "files = root.glob(f\"SimMCMCNorm_p*_n{n}*\")\n",
    "files = list(files)\n",
    "\n",
    "# test theta = theta0\n",
    "idxs = [0, 0.1, 0.2, 0.3, 0.4]\n",
    "theta0 = 0\n",
    "\n",
    "# sort the files\n",
    "files = sorted(files, key=sortdir, reverse=False)\n",
    "# H0 file\n",
    "h0f = files[idxs.index(theta0)]\n",
    "\n",
    "datah0 = load_pkl(h0f)\n",
    "CVqs = ddict(float)\n",
    "Alphas = ddict(float)\n",
    "\n",
    "alps = {\n",
    "    \"JEF\": 0.05 - 5e-4,\n",
    "    \"FULL\": 0.05,\n",
    "    \"LCP\": 0.05 - 1e-3,\n",
    "    \"UIPJS\": 0.05 - 1e-3,\n",
    "    \"UIPD\": 0.05 - 5e-4,\n",
    "    \"NPP\": 0.05 - 3.1e-3,\n",
    "}\n",
    "for key, dat in datah0.items():\n",
    "    CVqs[key] = getQuantile(theta0, data=dat, alp=alps[key])\n",
    "    Alphas[key] = rejrate(theta0, dat, CVqs[key])\n",
    "    \n",
    "for key, v in Alphas.items():\n",
    "    print(f\"{key:<10}: {v:.3f}\")"
   ]
  },
  {
   "cell_type": "code",
   "execution_count": 129,
   "metadata": {},
   "outputs": [
    {
     "data": {
      "text/plain": [
       "0.050000000000000044"
      ]
     },
     "execution_count": 129,
     "metadata": {},
     "output_type": "execute_result"
    }
   ],
   "source": [
    "key = \"NPP\"\n",
    "cvs = getQuantile(theta0, data=datah0[key], alp=0.05-3.1e-3)\n",
    "rejrate(theta0, datah0[key], cvs)"
   ]
  },
  {
   "cell_type": "code",
   "execution_count": 130,
   "metadata": {},
   "outputs": [
    {
     "name": "stdout",
     "output_type": "stream",
     "text": [
      "Current is method JEF in file SimMCMCNorm_p10_n40!\n",
      "Current is method FULL in file SimMCMCNorm_p10_n40!\n",
      "Current is method LCP in file SimMCMCNorm_p10_n40!\n",
      "Current is method NPP in file SimMCMCNorm_p10_n40!\n",
      "Current is method UIPJS in file SimMCMCNorm_p10_n40!\n",
      "Current is method UIPD in file SimMCMCNorm_p10_n40!\n",
      "Current is method JEF in file SimMCMCNorm_p20_n40!\n",
      "Current is method FULL in file SimMCMCNorm_p20_n40!\n",
      "Current is method LCP in file SimMCMCNorm_p20_n40!\n",
      "Current is method NPP in file SimMCMCNorm_p20_n40!\n",
      "Current is method UIPJS in file SimMCMCNorm_p20_n40!\n",
      "Current is method UIPD in file SimMCMCNorm_p20_n40!\n",
      "Current is method JEF in file SimMCMCNorm_p30_n40!\n",
      "Current is method FULL in file SimMCMCNorm_p30_n40!\n",
      "Current is method LCP in file SimMCMCNorm_p30_n40!\n",
      "Current is method NPP in file SimMCMCNorm_p30_n40!\n",
      "Current is method UIPJS in file SimMCMCNorm_p30_n40!\n",
      "Current is method UIPD in file SimMCMCNorm_p30_n40!\n",
      "Current is method JEF in file SimMCMCNorm_p40_n40!\n",
      "Current is method FULL in file SimMCMCNorm_p40_n40!\n",
      "Current is method LCP in file SimMCMCNorm_p40_n40!\n",
      "Current is method NPP in file SimMCMCNorm_p40_n40!\n",
      "Current is method UIPJS in file SimMCMCNorm_p40_n40!\n",
      "Current is method UIPD in file SimMCMCNorm_p40_n40!\n"
     ]
    }
   ],
   "source": [
    "Powers = ddict(list)\n",
    "for f in files:\n",
    "    theta = sortdir(f)/100\n",
    "    if theta != theta0:\n",
    "        print(\"==\"*30)\n",
    "        Powers[\"theta\"].append(theta)\n",
    "        datah1 = load_pkl(f)\n",
    "        for key, dat in datah1.items():\n",
    "            print(f\"Current is method {key} in file {f.name}!\")\n",
    "            Powers[key].append(rejrate(theta0, dat, CVqs[key]))"
   ]
  },
  {
   "cell_type": "code",
   "execution_count": 131,
   "metadata": {},
   "outputs": [
    {
     "name": "stdout",
     "output_type": "stream",
     "text": [
      "   theta    JEF  FULL    LCP    NPP  UIPJS   UIPD\n",
      "0    0.1  0.087   1.0  0.131  0.126  0.129  0.131\n",
      "1    0.2  0.255   1.0  0.334  0.330  0.333  0.332\n",
      "2    0.3  0.467   1.0  0.568  0.561  0.537  0.561\n",
      "3    0.4  0.684   1.0  0.761  0.768  0.755  0.768\n",
      "Powers\n",
      "JEF      0.37325\n",
      "FULL     1.00000\n",
      "LCP      0.44850\n",
      "NPP      0.44625\n",
      "UIPJS    0.43850\n",
      "UIPD     0.44800\n",
      "dtype: float64\n",
      "Sizes\n",
      "JEF       : 0.050\n",
      "FULL      : 1.000\n",
      "LCP       : 0.050\n",
      "NPP       : 0.050\n",
      "UIPJS     : 0.050\n",
      "UIPD      : 0.050\n"
     ]
    }
   ],
   "source": [
    "Powers = pd.DataFrame(Powers)\n",
    "print(Powers)\n",
    "print(f\"Powers\")\n",
    "print(Powers.drop(columns=[\"theta\"]).mean(axis=0))\n",
    "print(\"Sizes\")\n",
    "for key, v in Alphas.items():\n",
    "    print(f\"{key:<10}: {v:.3f}\")"
   ]
  },
  {
   "cell_type": "markdown",
   "metadata": {},
   "source": [
    "# n=120"
   ]
  },
  {
   "cell_type": "code",
   "execution_count": 132,
   "metadata": {},
   "outputs": [
    {
     "name": "stdout",
     "output_type": "stream",
     "text": [
      "JEF       : 0.050\n",
      "FULL      : 0.999\n",
      "LCP       : 0.050\n",
      "NPP       : 0.050\n",
      "UIPJS     : 0.050\n",
      "UIPD      : 0.050\n"
     ]
    }
   ],
   "source": [
    "n = 120\n",
    "root = Path(f\"./\")\n",
    "files = root.glob(f\"SimMCMCNorm_p*_n{n}*\")\n",
    "files = list(files)\n",
    "\n",
    "# test theta = theta0\n",
    "idxs = [0, 0.1, 0.2, 0.3, 0.4]\n",
    "theta0 = 0\n",
    "\n",
    "# sort the files\n",
    "files = sorted(files, key=sortdir, reverse=False)\n",
    "# H0 file\n",
    "h0f = files[idxs.index(theta0)]\n",
    "\n",
    "datah0 = load_pkl(h0f)\n",
    "CVqs = ddict(float)\n",
    "Alphas = ddict(float)\n",
    "\n",
    "alps = {\n",
    "    \"JEF\": 0.05 - 5e-4,\n",
    "    \"FULL\": 0.05,\n",
    "    \"LCP\": 0.05 - 1e-3,\n",
    "    \"UIPJS\": 0.05 - 5e-4,\n",
    "    \"UIPD\": 0.05 - 5e-4,\n",
    "    \"NPP\": 0.05 - 1e-3,\n",
    "}\n",
    "for key, dat in datah0.items():\n",
    "    CVqs[key] = getQuantile(theta0, data=dat, alp=alps[key])\n",
    "    Alphas[key] = rejrate(theta0, dat, CVqs[key])\n",
    "    \n",
    "for key, v in Alphas.items():\n",
    "    print(f\"{key:<10}: {v:.3f}\")"
   ]
  },
  {
   "cell_type": "code",
   "execution_count": 133,
   "metadata": {},
   "outputs": [
    {
     "data": {
      "text/plain": [
       "0.050000000000000044"
      ]
     },
     "execution_count": 133,
     "metadata": {},
     "output_type": "execute_result"
    }
   ],
   "source": [
    "key = \"UIPJS\"\n",
    "cvs = getQuantile(theta0, data=datah0[key], alp=0.05-5e-4)\n",
    "rejrate(theta0, datah0[key], cvs)"
   ]
  },
  {
   "cell_type": "code",
   "execution_count": 134,
   "metadata": {},
   "outputs": [
    {
     "name": "stdout",
     "output_type": "stream",
     "text": [
      "============================================================\n",
      "Current is method JEF in file SimMCMCNorm_p10_n120.pkl!\n",
      "Current is method FULL in file SimMCMCNorm_p10_n120.pkl!\n",
      "Current is method LCP in file SimMCMCNorm_p10_n120.pkl!\n",
      "Current is method NPP in file SimMCMCNorm_p10_n120.pkl!\n",
      "Current is method UIPJS in file SimMCMCNorm_p10_n120.pkl!\n",
      "Current is method UIPD in file SimMCMCNorm_p10_n120.pkl!\n",
      "============================================================\n",
      "Current is method JEF in file SimMCMCNorm_p20_n120.pkl!\n",
      "Current is method FULL in file SimMCMCNorm_p20_n120.pkl!\n",
      "Current is method LCP in file SimMCMCNorm_p20_n120.pkl!\n",
      "Current is method NPP in file SimMCMCNorm_p20_n120.pkl!\n",
      "Current is method UIPJS in file SimMCMCNorm_p20_n120.pkl!\n",
      "Current is method UIPD in file SimMCMCNorm_p20_n120.pkl!\n",
      "============================================================\n",
      "Current is method JEF in file SimMCMCNorm_p30_n120.pkl!\n",
      "Current is method FULL in file SimMCMCNorm_p30_n120.pkl!\n",
      "Current is method LCP in file SimMCMCNorm_p30_n120.pkl!\n",
      "Current is method NPP in file SimMCMCNorm_p30_n120.pkl!\n",
      "Current is method UIPJS in file SimMCMCNorm_p30_n120.pkl!\n",
      "Current is method UIPD in file SimMCMCNorm_p30_n120.pkl!\n",
      "============================================================\n",
      "Current is method JEF in file SimMCMCNorm_p40_n120.pkl!\n",
      "Current is method FULL in file SimMCMCNorm_p40_n120.pkl!\n",
      "Current is method LCP in file SimMCMCNorm_p40_n120.pkl!\n",
      "Current is method NPP in file SimMCMCNorm_p40_n120.pkl!\n",
      "Current is method UIPJS in file SimMCMCNorm_p40_n120.pkl!\n",
      "Current is method UIPD in file SimMCMCNorm_p40_n120.pkl!\n"
     ]
    }
   ],
   "source": [
    "Powers = ddict(list)\n",
    "for f in files:\n",
    "    theta = sortdir(f)/100\n",
    "    if theta != theta0:\n",
    "        print(\"==\"*30)\n",
    "        Powers[\"theta\"].append(theta)\n",
    "        datah1 = load_pkl(f)\n",
    "        for key, dat in datah1.items():\n",
    "            print(f\"Current is method {key} in file {f.name}!\")\n",
    "            Powers[key].append(rejrate(theta0, dat, CVqs[key]))"
   ]
  },
  {
   "cell_type": "code",
   "execution_count": 135,
   "metadata": {},
   "outputs": [
    {
     "name": "stdout",
     "output_type": "stream",
     "text": [
      "   theta    JEF  FULL    LCP    NPP  UIPJS   UIPD\n",
      "0    0.1  0.204   1.0  0.266  0.286  0.298  0.292\n",
      "1    0.2  0.548   1.0  0.628  0.664  0.670  0.667\n",
      "2    0.3  0.905   1.0  0.934  0.940  0.949  0.947\n",
      "3    0.4  0.987   1.0  0.993  0.993  0.993  0.994\n",
      "Powers\n",
      "JEF      0.66100\n",
      "FULL     1.00000\n",
      "LCP      0.70525\n",
      "NPP      0.72075\n",
      "UIPJS    0.72750\n",
      "UIPD     0.72500\n",
      "dtype: float64\n",
      "Sizes\n",
      "JEF       : 0.050\n",
      "FULL      : 0.999\n",
      "LCP       : 0.050\n",
      "NPP       : 0.050\n",
      "UIPJS     : 0.050\n",
      "UIPD      : 0.050\n"
     ]
    }
   ],
   "source": [
    "Powers = pd.DataFrame(Powers)\n",
    "print(Powers)\n",
    "print(f\"Powers\")\n",
    "print(Powers.drop(columns=[\"theta\"]).mean(axis=0))\n",
    "print(\"Sizes\")\n",
    "for key, v in Alphas.items():\n",
    "    print(f\"{key:<10}: {v:.3f}\")"
   ]
  },
  {
   "cell_type": "code",
   "execution_count": null,
   "metadata": {},
   "outputs": [],
   "source": []
  }
 ],
 "metadata": {
  "kernelspec": {
   "display_name": "Python 3",
   "language": "python",
   "name": "python3"
  },
  "language_info": {
   "codemirror_mode": {
    "name": "ipython",
    "version": 3
   },
   "file_extension": ".py",
   "mimetype": "text/x-python",
   "name": "python",
   "nbconvert_exporter": "python",
   "pygments_lexer": "ipython3",
   "version": "3.7.3"
  }
 },
 "nbformat": 4,
 "nbformat_minor": 2
}
