{
 "cells": [
  {
   "cell_type": "code",
   "execution_count": 1,
   "metadata": {},
   "outputs": [],
   "source": [
    "import numpy as np\n",
    "import numpy.random as npr\n",
    "from numpy.random import dirichlet, uniform\n",
    "from utils import MH_beta, MH_Gaussian\n",
    "from scipy.stats import beta, norm, bernoulli\n",
    "import matplotlib.pyplot as plt\n",
    "import seaborn as sns\n",
    "from scipy.special import beta as Beta\n",
    "from tqdm import tqdm_notebook as tqdm\n",
    "from scipy.stats import beta\n",
    "%matplotlib inline"
   ]
  },
  {
   "cell_type": "markdown",
   "metadata": {},
   "source": [
    "### Parameters"
   ]
  },
  {
   "cell_type": "code",
   "execution_count": 2,
   "metadata": {},
   "outputs": [],
   "source": [
    "ns = [80, 100, 120]\n",
    "n = 100\n",
    "Ms = np.arange(10, 200, step=10)"
   ]
  },
  {
   "cell_type": "markdown",
   "metadata": {},
   "source": [
    "### Binary data"
   ]
  },
  {
   "cell_type": "code",
   "execution_count": 3,
   "metadata": {},
   "outputs": [],
   "source": [
    "# compute the KL divergence of beta ditributions with para1 and para2\n",
    "# KL(beta(para1)||beta(para2))\n",
    "def KL_dist_beta(para1, para2):\n",
    "    a1, b1 = para1\n",
    "    a2, b2 = para2\n",
    "    sps = npr.beta(a1, b1, 10000)\n",
    "    itm1 = (a1 - a2) * np.mean(np.log(sps))\n",
    "    itm2 = (b1 - b2) * np.mean(np.log(1-sps))\n",
    "    itm3 = - np.log(Beta(a1, b1)/Beta(a2, b2))\n",
    "    return itm1 + itm2 + itm3 \n",
    "\n",
    "# compute the Jensen-Shannon Divergence\n",
    "def JS_dist_beta(para1, para2):\n",
    "    KL1 = KL_dist_beta(para1, para2)\n",
    "    KL2 = KL_dist_beta(para2, para1)\n",
    "    return 0.5* (KL1 + KL2)"
   ]
  },
  {
   "cell_type": "code",
   "execution_count": 4,
   "metadata": {},
   "outputs": [],
   "source": [
    "# The conditional ESS \n",
    "def ESSJS_beta(M, ns, ps, n, p):\n",
    "    \"\"\"\n",
    "    Input:\n",
    "        M: The amount parameters\n",
    "        ns: The number of sample size for each historical dataset\n",
    "        ps: The mean parameters for each historical dataset\n",
    "        p: The mean parameters for the current dataset\n",
    "        n: The sample size of the current dataset\n",
    "    Return:\n",
    "        The ESS under the UIP-JS method\n",
    "    \n",
    "    \"\"\"\n",
    "    alps = np.array([nh/n for nh in ns])\n",
    "    alps[alps>1] = 1\n",
    "    Ds = [ bernoulli.rvs(ps[i], size=ns[i]) for i in range(len(ns))]\n",
    "    D = bernoulli.rvs(p, size=n)\n",
    "    msInv = []\n",
    "    parasc = [1+np.sum(D), 1+len(D)-np.sum(D)]\n",
    "    for i, nh in enumerate(ns):\n",
    "        if nh <= n:\n",
    "            parash = [1+np.sum(Ds[i]), 1+len(Ds[i])-np.sum(Ds[i])]\n",
    "            msInv.append(JS_dist_beta(parasc, parash))\n",
    "        else:\n",
    "            JSs = []\n",
    "            for j in range(100):\n",
    "                Dhc = np.random.choice(Ds[i], size=n, replace=False)\n",
    "                parashj = [1+np.sum(Dhc), 1+n-np.sum(Dhc)]\n",
    "                JSs.append(JS_dist_beta(parasc, parashj))\n",
    "            msInv.append(np.mean(JSs))\n",
    "    ms = 1/(np.array(msInv)+1e-10)\n",
    "    ws = ms/ms.sum()\n",
    "            \n",
    "            \n",
    "    phats = np.array([np.mean(Dh) for Dh in Ds])\n",
    "    mu = np.sum(ws * phats)\n",
    "    invEta2 = M*np.sum(ws / (1-phats)/phats)\n",
    "    ESS = mu*(1-mu)*invEta2-1\n",
    "    return ESS"
   ]
  },
  {
   "cell_type": "code",
   "execution_count": 5,
   "metadata": {},
   "outputs": [],
   "source": [
    "ps_range = [0.2, 0.8]\n",
    "p = 0.5\n",
    "pss = uniform(ps_range[0], ps_range[1], size=(100, 3))"
   ]
  },
  {
   "cell_type": "code",
   "execution_count": 6,
   "metadata": {},
   "outputs": [
    {
     "data": {
      "application/vnd.jupyter.widget-view+json": {
       "model_id": "8ecea5111ca04271b814bf6bc657565d",
       "version_major": 2,
       "version_minor": 0
      },
      "text/plain": [
       "HBox(children=(IntProgress(value=0), HTML(value='')))"
      ]
     },
     "metadata": {},
     "output_type": "display_data"
    },
    {
     "name": "stdout",
     "output_type": "stream",
     "text": [
      "\n"
     ]
    }
   ],
   "source": [
    "nESSs = []\n",
    "for ps in tqdm(pss):\n",
    "    nESS = ESSJS_beta(M=1, ns=ns, ps=ps, n=n, p=p)\n",
    "    nESSs.append(nESS)\n",
    "nESSs = np.array(nESSs)"
   ]
  },
  {
   "cell_type": "code",
   "execution_count": 7,
   "metadata": {},
   "outputs": [],
   "source": [
    "Ms = np.arange(10, 200, step=10)\n",
    "ESSsM = []\n",
    "for M in Ms:\n",
    "    ESSsM.append(np.mean(M*(nESSs + 1) - 1))\n",
    "ESSsM = np.array(ESSsM)"
   ]
  },
  {
   "cell_type": "markdown",
   "metadata": {},
   "source": [
    "### ESS for UIP-D"
   ]
  },
  {
   "cell_type": "code",
   "execution_count": 8,
   "metadata": {},
   "outputs": [],
   "source": [
    "class ESS_UIPD_beta():\n",
    "    def __init__(self, ns, Ds, n, M, C=100):\n",
    "        self.ns = np.array(ns)\n",
    "        self.n = n\n",
    "        self.M = M\n",
    "        self.Ds = Ds\n",
    "        self.C = C\n",
    "        \n",
    "        self.thetaBar = None\n",
    "        self.prior12_sps = None\n",
    "    \n",
    "    def prior1_paras(self, wss):\n",
    "        phats = np.array([np.mean(Dh) for Dh in self.Ds])\n",
    "        mus = np.sum(wss * phats, axis=1)\n",
    "        invEta2s = self.M*np.sum(wss / (1-phats)/phats, axis=1)\n",
    "        alps = mus * (mus*(1-mus)*invEta2s-1)\n",
    "        bets = (1-mus) * (mus*(1-mus)*invEta2s-1)\n",
    "        return alps, bets\n",
    "        \n",
    "    def _prior1(self, theta, wss):\n",
    "        alps, bets = self.prior1_paras(wss)\n",
    "        return beta.pdf(theta, a=alps, b=bets)\n",
    "        \n",
    "    \n",
    "    def _delta_prior1(self, theta, wss):\n",
    "        alp_deltas, bet_deltas = self.prior1_paras(wss)\n",
    "        alp_deltas, bet_deltas = alp_deltas/self.C, bet_deltas/self.C\n",
    "        return beta.pdf(theta, a=alp_deltas, b=bet_deltas)\n",
    "    \n",
    "    def delta_prior12(self, theta):\n",
    "        dalps = self.ns/self.n\n",
    "        dalps[dalps>=1] = 1\n",
    "        wss = dirichlet(dalps, size=10000)\n",
    "        vs = self._delta_prior1(theta, wss)\n",
    "        return np.mean(vs)\n",
    "        \n",
    "    def prior12(self, theta):\n",
    "        dalps = self.ns/self.n\n",
    "        dalps[dalps>=1] = 1\n",
    "        wss = dirichlet(dalps, size=10000)\n",
    "        vs = self._prior1(theta, wss)\n",
    "        return np.mean(vs)\n",
    "    \n",
    "    def delta_prior12_rvs(self, num):\n",
    "        sps = MH_beta(n=num, target_density=self.delta_prior12, burnin=5000)\n",
    "        return sps\n",
    "    \n",
    "    def prior12_rvs(self, num):\n",
    "        sps = MH_beta(n=num, target_density=self.prior12, burnin=5000)\n",
    "        self.prior12_sps = sps\n",
    "        return sps\n",
    "    \n",
    "    def delta_post12(self, theta, ESS):\n",
    "        if self.thetaBar is None:\n",
    "            if self.prior12_sps is None:\n",
    "                self.prior12_rvs(1000)\n",
    "            self.thetaBar = np.mean(self.prior12_sps)\n",
    "        logItm1 = np.log(self.delta_prior12(theta))\n",
    "        logItm2 = ESS*self.thetaBar*np.log(theta)\n",
    "        logItm3 = ESS*(1-self.thetaBar)*np.log(1-theta)\n",
    "        logDen = logItm1 + logItm2 + logItm3\n",
    "        #print(theta)\n",
    "        return np.exp(logDen)\n",
    "    \n",
    "    def delta_post12_rvs(self, num, ESS):\n",
    "        def tdensity(theta):\n",
    "            #print(self.delta_post12(theta, ESS))\n",
    "            return self.delta_post12(theta, ESS)\n",
    "        sps = MH_beta(n=num, target_density=tdensity, burnin=5000)\n",
    "        return sps\n",
    "        "
   ]
  },
  {
   "cell_type": "code",
   "execution_count": 61,
   "metadata": {},
   "outputs": [],
   "source": [
    "Ds = [ bernoulli.rvs(ps[i], size=ns[i]) for i in range(len(ns))]"
   ]
  },
  {
   "cell_type": "code",
   "execution_count": 62,
   "metadata": {},
   "outputs": [],
   "source": [
    "ESSUIPD = ESS_UIPD_beta(ns=ns, Ds=Ds, n=n, M=100)"
   ]
  },
  {
   "cell_type": "code",
   "execution_count": 63,
   "metadata": {},
   "outputs": [],
   "source": [
    "prior_sps = ESSUIPD.prior12_rvs(1000)"
   ]
  },
  {
   "cell_type": "code",
   "execution_count": 64,
   "metadata": {},
   "outputs": [],
   "source": [
    "post_sps = ESSUIPD.delta_post12_rvs(1000, ESS=10)"
   ]
  },
  {
   "cell_type": "code",
   "execution_count": 66,
   "metadata": {},
   "outputs": [],
   "source": [
    "post_sps100 = ESSUIPD.delta_post12_rvs(1000, ESS=100)"
   ]
  },
  {
   "cell_type": "code",
   "execution_count": 69,
   "metadata": {},
   "outputs": [
    {
     "data": {
      "text/plain": [
       "5.031866658589671"
      ]
     },
     "execution_count": 69,
     "metadata": {},
     "output_type": "execute_result"
    }
   ],
   "source": [
    "1/np.var(prior_sps) - 1/np.var(post_sps)"
   ]
  },
  {
   "cell_type": "code",
   "execution_count": 70,
   "metadata": {},
   "outputs": [
    {
     "data": {
      "text/plain": [
       "-405.9351573562526"
      ]
     },
     "execution_count": 70,
     "metadata": {},
     "output_type": "execute_result"
    }
   ],
   "source": [
    "1/np.var(prior_sps) - 1/np.var(post_sps100)"
   ]
  },
  {
   "cell_type": "code",
   "execution_count": 137,
   "metadata": {},
   "outputs": [
    {
     "data": {
      "image/png": "[encoded data removed]",
      "text/plain": [
       "<Figure size 432x288 with 1 Axes>"
      ]
     },
     "metadata": {
      "needs_background": "light"
     },
     "output_type": "display_data"
    }
   ],
   "source": [
    "plt.plot(np.arange(200), np.arange(200))\n",
    "plt.plot(Ms, ESSsM, \"o\", label=\"UIP-JS\")\n",
    "plt.legend()\n",
    "plt.xlabel(\"M\")\n",
    "_ = plt.ylabel(\"ESS\")"
   ]
  }
 ],
 "metadata": {
  "kernelspec": {
   "display_name": "Python 3",
   "language": "python",
   "name": "python3"
  },
  "language_info": {
   "codemirror_mode": {
    "name": "ipython",
    "version": 3
   },
   "file_extension": ".py",
   "mimetype": "text/x-python",
   "name": "python",
   "nbconvert_exporter": "python",
   "pygments_lexer": "ipython3",
   "version": "3.7.4"
  }
 },
 "nbformat": 4,
 "nbformat_minor": 2
}
