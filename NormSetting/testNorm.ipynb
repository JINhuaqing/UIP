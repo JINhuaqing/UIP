{
 "cells": [
  {
   "cell_type": "code",
   "execution_count": 1,
   "metadata": {},
   "outputs": [
    {
     "name": "stderr",
     "output_type": "stream",
     "text": [
      "WARNING (theano.tensor.blas): Using NumPy C-API based implementation for BLAS functions.\n"
     ]
    }
   ],
   "source": [
    "import numpy as np\n",
    "from rpy2 import robjects as robj\n",
    "import matplotlib.pyplot as plt\n",
    "from pprint import pprint\n",
    "from scipy.special import beta as betafn\n",
    "from scipy.stats import beta, norm\n",
    "import seaborn as sns\n",
    "import pymc3 as pm\n",
    "from utils_norm import *\n",
    "%matplotlib inline"
   ]
  },
  {
   "cell_type": "code",
   "execution_count": 39,
   "metadata": {},
   "outputs": [
    {
     "data": {
      "text/plain": [
       "0.07856793799324084"
      ]
     },
     "execution_count": 39,
     "metadata": {},
     "output_type": "execute_result"
    }
   ],
   "source": [
    "D1 = np.array(norm.rvs(loc=0.5, scale=1, size=100))\n",
    "D2 = np.array(norm.rvs(loc=1, scale=1, size=50))\n",
    "Ds = [D1, D2]\n",
    "D = norm.rvs(loc=0, scale=1, size=120)\n",
    "np.mean(D)"
   ]
  },
  {
   "cell_type": "code",
   "execution_count": 23,
   "metadata": {},
   "outputs": [
    {
     "name": "stderr",
     "output_type": "stream",
     "text": [
      "R[write to console]: Using default prior reference scale 1.15155909144118\n",
      "\n"
     ]
    }
   ],
   "source": [
    "model = getrMAPNormal(D, Ds, mean=0)"
   ]
  },
  {
   "cell_type": "code",
   "execution_count": 24,
   "metadata": {},
   "outputs": [
    {
     "name": "stderr",
     "output_type": "stream",
     "text": [
      "Multiprocess sampling (4 chains in 4 jobs)\n",
      "CompoundStep\n",
      ">Metropolis: [sigma2]\n",
      ">Metropolis: [thetaP]\n",
      "Sampling 4 chains, 0 divergences: 100%|██████████| 40000/40000 [00:03<00:00, 12170.52draws/s]\n",
      "The number of effective samples is smaller than 25% for some parameters.\n"
     ]
    }
   ],
   "source": [
    "with model:\n",
    "    step = pm.Metropolis()\n",
    "    sps = pm.sample(draws=5000, tune=5000, cores=4, chains=4, step=step)"
   ]
  },
  {
   "cell_type": "code",
   "execution_count": 25,
   "metadata": {},
   "outputs": [
    {
     "data": {
      "text/html": [
       "<div>\n",
       "<style scoped>\n",
       "    .dataframe tbody tr th:only-of-type {\n",
       "        vertical-align: middle;\n",
       "    }\n",
       "\n",
       "    .dataframe tbody tr th {\n",
       "        vertical-align: top;\n",
       "    }\n",
       "\n",
       "    .dataframe thead th {\n",
       "        text-align: right;\n",
       "    }\n",
       "</style>\n",
       "<table border=\"1\" class=\"dataframe\">\n",
       "  <thead>\n",
       "    <tr style=\"text-align: right;\">\n",
       "      <th></th>\n",
       "      <th>mean</th>\n",
       "      <th>sd</th>\n",
       "      <th>hpd_3%</th>\n",
       "      <th>hpd_97%</th>\n",
       "      <th>mcse_mean</th>\n",
       "      <th>mcse_sd</th>\n",
       "      <th>ess_mean</th>\n",
       "      <th>ess_sd</th>\n",
       "      <th>ess_bulk</th>\n",
       "      <th>ess_tail</th>\n",
       "      <th>r_hat</th>\n",
       "    </tr>\n",
       "  </thead>\n",
       "  <tbody>\n",
       "    <tr>\n",
       "      <th>thetaP</th>\n",
       "      <td>-0.357</td>\n",
       "      <td>0.138</td>\n",
       "      <td>-0.624</td>\n",
       "      <td>-0.102</td>\n",
       "      <td>0.002</td>\n",
       "      <td>0.002</td>\n",
       "      <td>3752.0</td>\n",
       "      <td>3743.0</td>\n",
       "      <td>3751.0</td>\n",
       "      <td>4000.0</td>\n",
       "      <td>1.0</td>\n",
       "    </tr>\n",
       "    <tr>\n",
       "      <th>sigma2</th>\n",
       "      <td>1.075</td>\n",
       "      <td>0.207</td>\n",
       "      <td>0.707</td>\n",
       "      <td>1.452</td>\n",
       "      <td>0.003</td>\n",
       "      <td>0.002</td>\n",
       "      <td>3609.0</td>\n",
       "      <td>3599.0</td>\n",
       "      <td>3653.0</td>\n",
       "      <td>4233.0</td>\n",
       "      <td>1.0</td>\n",
       "    </tr>\n",
       "  </tbody>\n",
       "</table>\n",
       "</div>"
      ],
      "text/plain": [
       "         mean     sd  hpd_3%  hpd_97%  mcse_mean  mcse_sd  ess_mean  ess_sd  \\\n",
       "thetaP -0.357  0.138  -0.624   -0.102      0.002    0.002    3752.0  3743.0   \n",
       "sigma2  1.075  0.207   0.707    1.452      0.003    0.002    3609.0  3599.0   \n",
       "\n",
       "        ess_bulk  ess_tail  r_hat  \n",
       "thetaP    3751.0    4000.0    1.0  \n",
       "sigma2    3653.0    4233.0    1.0  "
      ]
     },
     "execution_count": 25,
     "metadata": {},
     "output_type": "execute_result"
    }
   ],
   "source": [
    "pm.summary(sps)"
   ]
  },
  {
   "cell_type": "code",
   "execution_count": 26,
   "metadata": {},
   "outputs": [
    {
     "data": {
      "text/plain": [
       "-0.3934263823494486"
      ]
     },
     "execution_count": 26,
     "metadata": {},
     "output_type": "execute_result"
    }
   ],
   "source": [
    "np.mean(D)"
   ]
  },
  {
   "cell_type": "code",
   "execution_count": 20,
   "metadata": {},
   "outputs": [
    {
     "name": "stderr",
     "output_type": "stream",
     "text": [
      "R[write to console]: Final MCMC sample equivalent to less than 1000 independent draws.\n",
      "Please consider increasing the MCMC simulation size.\n",
      "\n",
      "R[write to console]: Using default prior reference scale 1.15155909144118\n",
      "\n"
     ]
    }
   ],
   "source": [
    "model2 = getrMAPNormal(D, Ds, mean=-0.393)"
   ]
  },
  {
   "cell_type": "code",
   "execution_count": 21,
   "metadata": {},
   "outputs": [
    {
     "name": "stderr",
     "output_type": "stream",
     "text": [
      "Multiprocess sampling (4 chains in 4 jobs)\n",
      "CompoundStep\n",
      ">Metropolis: [sigma2]\n",
      ">Metropolis: [thetaP]\n",
      "Sampling 4 chains, 0 divergences: 100%|██████████| 40000/40000 [00:03<00:00, 11741.78draws/s]\n",
      "The number of effective samples is smaller than 25% for some parameters.\n"
     ]
    }
   ],
   "source": [
    "with model2:\n",
    "    step = pm.Metropolis()\n",
    "    sps2 = pm.sample(draws=5000, tune=5000, cores=4, chains=4, step=step)"
   ]
  },
  {
   "cell_type": "code",
   "execution_count": 22,
   "metadata": {},
   "outputs": [
    {
     "data": {
      "text/html": [
       "<div>\n",
       "<style scoped>\n",
       "    .dataframe tbody tr th:only-of-type {\n",
       "        vertical-align: middle;\n",
       "    }\n",
       "\n",
       "    .dataframe tbody tr th {\n",
       "        vertical-align: top;\n",
       "    }\n",
       "\n",
       "    .dataframe thead th {\n",
       "        text-align: right;\n",
       "    }\n",
       "</style>\n",
       "<table border=\"1\" class=\"dataframe\">\n",
       "  <thead>\n",
       "    <tr style=\"text-align: right;\">\n",
       "      <th></th>\n",
       "      <th>mean</th>\n",
       "      <th>sd</th>\n",
       "      <th>hpd_3%</th>\n",
       "      <th>hpd_97%</th>\n",
       "      <th>mcse_mean</th>\n",
       "      <th>mcse_sd</th>\n",
       "      <th>ess_mean</th>\n",
       "      <th>ess_sd</th>\n",
       "      <th>ess_bulk</th>\n",
       "      <th>ess_tail</th>\n",
       "      <th>r_hat</th>\n",
       "    </tr>\n",
       "  </thead>\n",
       "  <tbody>\n",
       "    <tr>\n",
       "      <th>thetaP</th>\n",
       "      <td>-0.365</td>\n",
       "      <td>0.135</td>\n",
       "      <td>-0.611</td>\n",
       "      <td>-0.109</td>\n",
       "      <td>0.002</td>\n",
       "      <td>0.002</td>\n",
       "      <td>3914.0</td>\n",
       "      <td>3846.0</td>\n",
       "      <td>3906.0</td>\n",
       "      <td>4100.0</td>\n",
       "      <td>1.0</td>\n",
       "    </tr>\n",
       "    <tr>\n",
       "      <th>sigma2</th>\n",
       "      <td>1.071</td>\n",
       "      <td>0.201</td>\n",
       "      <td>0.729</td>\n",
       "      <td>1.447</td>\n",
       "      <td>0.003</td>\n",
       "      <td>0.003</td>\n",
       "      <td>3305.0</td>\n",
       "      <td>3210.0</td>\n",
       "      <td>3444.0</td>\n",
       "      <td>3675.0</td>\n",
       "      <td>1.0</td>\n",
       "    </tr>\n",
       "  </tbody>\n",
       "</table>\n",
       "</div>"
      ],
      "text/plain": [
       "         mean     sd  hpd_3%  hpd_97%  mcse_mean  mcse_sd  ess_mean  ess_sd  \\\n",
       "thetaP -0.365  0.135  -0.611   -0.109      0.002    0.002    3914.0  3846.0   \n",
       "sigma2  1.071  0.201   0.729    1.447      0.003    0.003    3305.0  3210.0   \n",
       "\n",
       "        ess_bulk  ess_tail  r_hat  \n",
       "thetaP    3906.0    4100.0    1.0  \n",
       "sigma2    3444.0    3675.0    1.0  "
      ]
     },
     "execution_count": 22,
     "metadata": {},
     "output_type": "execute_result"
    }
   ],
   "source": [
    "pm.summary(sps2)"
   ]
  },
  {
   "cell_type": "code",
   "execution_count": null,
   "metadata": {},
   "outputs": [],
   "source": []
  }
 ],
 "metadata": {
  "kernelspec": {
   "display_name": "Python 3",
   "language": "python",
   "name": "python3"
  },
  "language_info": {
   "codemirror_mode": {
    "name": "ipython",
    "version": 3
   },
   "file_extension": ".py",
   "mimetype": "text/x-python",
   "name": "python",
   "nbconvert_exporter": "python",
   "pygments_lexer": "ipython3",
   "version": "3.7.3"
  }
 },
 "nbformat": 4,
 "nbformat_minor": 2
}
