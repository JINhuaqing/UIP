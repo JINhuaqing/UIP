{
 "cells": [
  {
   "cell_type": "code",
   "execution_count": 1,
   "metadata": {},
   "outputs": [
    {
     "name": "stderr",
     "output_type": "stream",
     "text": [
      "WARNING (theano.tensor.blas): Using NumPy C-API based implementation for BLAS functions.\n"
     ]
    }
   ],
   "source": [
    "import pymc3 as pm\n",
    "import matplotlib.pyplot as plt\n",
    "import numpy as np\n",
    "import pickle\n",
    "from pathlib import Path\n",
    "import pandas as pd\n",
    "import seaborn as sns\n",
    "from easydict import EasyDict as edict\n",
    "from utilities_norm import gen_post_full, gen_post_jef, getNPPcon, getLCPcon, getUIPJScon, getUIPDcon\n",
    "from scipy.stats import norm\n",
    "\n",
    "%matplotlib inline"
   ]
  },
  {
   "cell_type": "code",
   "execution_count": 2,
   "metadata": {},
   "outputs": [],
   "source": [
    "from tqdm import tqdm\n",
    "from collections import defaultdict as ddict\n",
    "from pprint import pprint"
   ]
  },
  {
   "cell_type": "code",
   "execution_count": 325,
   "metadata": {},
   "outputs": [],
   "source": [
    "theta0 =  1\n",
    "sigma0 = sigma1 = sigma2 = 1\n",
    "n = 100\n",
    "thetas = [0.5, 1.5]\n",
    "ns = [80, 120]"
   ]
  },
  {
   "cell_type": "code",
   "execution_count": 326,
   "metadata": {},
   "outputs": [],
   "source": [
    "def Ajsample(D, fixm, fixstd):\n",
    "    sm = np.mean(D)\n",
    "    sstd = np.std(D)\n",
    "    return fixstd*(D-sm)/sstd + fixm "
   ]
  },
  {
   "cell_type": "code",
   "execution_count": 327,
   "metadata": {},
   "outputs": [],
   "source": [
    "D = norm.rvs(loc=theta0, scale=sigma0, size=n)\n",
    "D = Ajsample(D, theta0, sigma0)\n",
    "Ds = [ Ajsample(norm.rvs(loc=thetas[i], scale=sigma1, size=ns[i]), thetas[i], sigma1) for i in range(len(ns))] "
   ]
  },
  {
   "cell_type": "markdown",
   "metadata": {},
   "source": [
    "### MPP"
   ]
  },
  {
   "cell_type": "code",
   "execution_count": 328,
   "metadata": {},
   "outputs": [
    {
     "name": "stderr",
     "output_type": "stream",
     "text": [
      "Multiprocess sampling (4 chains in 4 jobs)\n",
      "CompoundStep\n",
      ">Metropolis: [thetah]\n",
      ">Metropolis: [sigma2]\n",
      ">Metropolis: [gammas]\n",
      "Sampling 4 chains, 0 divergences: 100%|██████████| 40000/40000 [00:03<00:00, 12130.83draws/s]\n",
      "The number of effective samples is smaller than 10% for some parameters.\n"
     ]
    }
   ],
   "source": [
    "NPP_model = getNPPcon(D, Ds)\n",
    "with NPP_model:\n",
    "    step = pm.Metropolis()\n",
    "    post_normal_NPP = pm.sample(draws=5000, tune=5000, cores=4, chains=4, step=step)"
   ]
  },
  {
   "cell_type": "markdown",
   "metadata": {},
   "source": [
    "### LCP"
   ]
  },
  {
   "cell_type": "code",
   "execution_count": 329,
   "metadata": {},
   "outputs": [
    {
     "name": "stderr",
     "output_type": "stream",
     "text": [
      "Multiprocess sampling (4 chains in 4 jobs)\n",
      "CompoundStep\n",
      ">Metropolis: [thetah]\n",
      ">Metropolis: [sigma2]\n",
      ">Metropolis: [logtaus]\n",
      "Sampling 4 chains, 0 divergences: 100%|██████████| 100000/100000 [00:07<00:00, 13807.53draws/s]\n",
      "The number of effective samples is smaller than 10% for some parameters.\n"
     ]
    }
   ],
   "source": [
    "LCP_model = getLCPcon(D, Ds)\n",
    "with LCP_model:\n",
    "    step = pm.Metropolis()\n",
    "    #post_normal_LCP = pm.sample(draws=5000, tune=30000, cores=4, chains=4)\n",
    "    post_normal_LCP = pm.sample(draws=5000, tune=20000, cores=4, chains=4, step=step)"
   ]
  },
  {
   "cell_type": "markdown",
   "metadata": {},
   "source": [
    "### UIP"
   ]
  },
  {
   "cell_type": "code",
   "execution_count": 330,
   "metadata": {},
   "outputs": [
    {
     "name": "stderr",
     "output_type": "stream",
     "text": [
      "Multiprocess sampling (4 chains in 4 jobs)\n",
      "CompoundStep\n",
      ">Metropolis: [thetah]\n",
      ">Metropolis: [M]\n",
      ">Metropolis: [sigma2]\n",
      ">Metropolis: [pis]\n",
      "Sampling 4 chains, 0 divergences: 100%|██████████| 40000/40000 [00:04<00:00, 8297.83draws/s]\n",
      "The number of effective samples is smaller than 10% for some parameters.\n"
     ]
    }
   ],
   "source": [
    "UIPD_model = getUIPDcon(D, Ds)\n",
    "with UIPD_model:\n",
    "    step = pm.Metropolis()\n",
    "    post_normal_UIPD = pm.sample(draws=5000,tune=5000, cores=4, chains=4,step=step)"
   ]
  },
  {
   "cell_type": "code",
   "execution_count": 331,
   "metadata": {},
   "outputs": [],
   "source": [
    "def getMPP(rs, ns, Ds):\n",
    "    MLEs = [np.mean(Dh) for Dh in Ds]\n",
    "    sVars = [np.var(Dh) for Dh in Ds]\n",
    "    mWs = [rs[i]*ns[i]/sVars[i] for i in range(len(ns))]\n",
    "    nmWs = np.array(mWs)/np.sum(mWs)\n",
    "    pWs = [rs[i]*ns[i] for i in range(len(ns))]\n",
    "    mean = np.sum([nmWs[i]*MLEs[i] for i in range(len(ns))])\n",
    "    var = 1/np.sum([pWs[i]/sVars[i] for i in range(len(ns))])\n",
    "    return {\"mean\": mean, \"var\":var}"
   ]
  },
  {
   "cell_type": "code",
   "execution_count": 332,
   "metadata": {},
   "outputs": [],
   "source": [
    "def getLCP(taus, ns, Ds):\n",
    "    MLEs = [np.mean(Dh) for Dh in Ds]\n",
    "    sVars = [np.var(Dh) for Dh in Ds]\n",
    "    mWs = [taus[i]*ns[i]/(sVars[i]*taus[i] + ns[i] ) for i in range(len(ns))]\n",
    "    nmWs = np.array(mWs)/np.sum(mWs)\n",
    "    pWs = [sVars[i]/(sVars[i]/ns[i]+1/taus[i]) for i in range(len(ns))]\n",
    "    mean = np.sum([nmWs[i]*MLEs[i] for i in range(len(ns))])\n",
    "    var = 1/np.sum([pWs[i]/sVars[i] for i in range(len(ns))])\n",
    "    return {\"mean\": mean, \"var\":var}"
   ]
  },
  {
   "cell_type": "code",
   "execution_count": 333,
   "metadata": {},
   "outputs": [],
   "source": [
    "def getUIP(ws, M, ns, Ds):\n",
    "    MLEs = [np.mean(Dh) for Dh in Ds]\n",
    "    sVars = [np.var(Dh) for Dh in Ds]\n",
    "    pWs = np.array(ws)*M\n",
    "    mean = np.sum([wk*MLEk for wk, MLEk in zip(ws, MLEs)])\n",
    "    var = 1/np.sum([pWsk /sVarsk for pWsk, sVarsk in zip(pWs, sVars)])\n",
    "    return {\"mean\": mean, \"var\":var}"
   ]
  },
  {
   "cell_type": "code",
   "execution_count": 334,
   "metadata": {},
   "outputs": [],
   "source": [
    "logtaus = np.mean(post_normal_LCP[\"logtaus\"], axis=0)\n",
    "taus = np.exp(logtaus)\n",
    "rs = np.mean(post_normal_NPP[\"gammas\"], axis=0)\n",
    "ws = np.mean(post_normal_UIPD[\"pis\"], axis=0)\n",
    "M = np.mean(post_normal_UIPD[\"M\"])"
   ]
  },
  {
   "cell_type": "code",
   "execution_count": 335,
   "metadata": {},
   "outputs": [],
   "source": [
    "MPPparas = getMPP(rs, ns, Ds)\n",
    "LCPparas = getLCP(taus, ns, Ds)\n",
    "UIPparas = getUIP(ws, M, ns, Ds)"
   ]
  },
  {
   "cell_type": "code",
   "execution_count": 336,
   "metadata": {},
   "outputs": [],
   "source": [
    "MPPnorm = norm(loc=MPPparas[\"mean\"], scale=np.sqrt(MPPparas[\"var\"]))\n",
    "LCPnorm = norm(loc=LCPparas[\"mean\"], scale=np.sqrt(LCPparas[\"var\"]))\n",
    "UIPnorm = norm(loc=UIPparas[\"mean\"], scale=np.sqrt(UIPparas[\"var\"]))"
   ]
  },
  {
   "cell_type": "code",
   "execution_count": 337,
   "metadata": {},
   "outputs": [
    {
     "data": {
      "text/plain": [
       "<matplotlib.legend.Legend at 0x7fa289e63080>"
      ]
     },
     "execution_count": 337,
     "metadata": {},
     "output_type": "execute_result"
    },
    {
     "data": {
      "image/png": "[encoded data removed]",
      "text/plain": [
       "<Figure size 432x288 with 1 Axes>"
      ]
     },
     "metadata": {
      "needs_background": "light"
     },
     "output_type": "display_data"
    }
   ],
   "source": [
    "x = np.linspace(theta0-1, theta0+2, 1000)\n",
    "plt.plot(x, MPPnorm.pdf(x), label=\"MPP\")\n",
    "plt.plot(x, LCPnorm.pdf(x), label=\"LCP\", linestyle=\":\")\n",
    "plt.plot(x, UIPnorm.pdf(x), label=\"UIP\", linestyle=\"--\")\n",
    "plt.axvline(theta0, color=\"red\")\n",
    "plt.legend()"
   ]
  },
  {
   "cell_type": "code",
   "execution_count": 338,
   "metadata": {},
   "outputs": [
    {
     "data": {
      "text/plain": [
       "{'mean': 1.0999849164965394, 'var': 0.005000243165794139}"
      ]
     },
     "execution_count": 338,
     "metadata": {},
     "output_type": "execute_result"
    }
   ],
   "source": [
    "LCPparas"
   ]
  },
  {
   "cell_type": "code",
   "execution_count": 339,
   "metadata": {},
   "outputs": [
    {
     "data": {
      "text/plain": [
       "{'mean': 0.9994712064163844, 'var': 0.009960337929053991}"
      ]
     },
     "execution_count": 339,
     "metadata": {},
     "output_type": "execute_result"
    }
   ],
   "source": [
    "UIPparas"
   ]
  },
  {
   "cell_type": "code",
   "execution_count": 340,
   "metadata": {},
   "outputs": [
    {
     "data": {
      "text/plain": [
       "{'mean': 1.0459958157151283, 'var': 0.008999138324683091}"
      ]
     },
     "execution_count": 340,
     "metadata": {},
     "output_type": "execute_result"
    }
   ],
   "source": [
    "MPPparas"
   ]
  },
  {
   "cell_type": "code",
   "execution_count": 341,
   "metadata": {},
   "outputs": [
    {
     "data": {
      "text/plain": [
       "array([7323332.66898342, 1626585.2148942 ])"
      ]
     },
     "execution_count": 341,
     "metadata": {},
     "output_type": "execute_result"
    }
   ],
   "source": [
    "taus"
   ]
  },
  {
   "cell_type": "code",
   "execution_count": null,
   "metadata": {},
   "outputs": [],
   "source": []
  }
 ],
 "metadata": {
  "kernelspec": {
   "display_name": "Python 3",
   "language": "python",
   "name": "python3"
  },
  "language_info": {
   "codemirror_mode": {
    "name": "ipython",
    "version": 3
   },
   "file_extension": ".py",
   "mimetype": "text/x-python",
   "name": "python",
   "nbconvert_exporter": "python",
   "pygments_lexer": "ipython3",
   "version": "3.7.3"
  }
 },
 "nbformat": 4,
 "nbformat_minor": 2
}
