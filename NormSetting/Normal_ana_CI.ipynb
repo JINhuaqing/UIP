{
 "cells": [
  {
   "cell_type": "code",
   "execution_count": 2,
   "metadata": {},
   "outputs": [],
   "source": [
    "import pymc3 as pm\n",
    "import matplotlib.pyplot as plt\n",
    "import numpy as np\n",
    "import pickle\n",
    "from pathlib import Path\n",
    "import pandas as pd\n",
    "import seaborn as sns\n",
    "from easydict import EasyDict as edict\n",
    "from utilities_norm import gen_post_full, gen_post_jef, getNPPcon, getLCPcon, getUIPJScon, getUIPDcon\n",
    "from scipy.stats import norm\n",
    "\n",
    "%matplotlib inline"
   ]
  },
  {
   "cell_type": "code",
   "execution_count": 3,
   "metadata": {},
   "outputs": [],
   "source": [
    "from tqdm import tqdm\n",
    "from collections import defaultdict as ddict\n",
    "from pprint import pprint"
   ]
  },
  {
   "cell_type": "code",
   "execution_count": 31,
   "metadata": {},
   "outputs": [],
   "source": [
    "ressave = []"
   ]
  },
  {
   "cell_type": "code",
   "execution_count": 93,
   "metadata": {},
   "outputs": [],
   "source": [
    "theta0 =  1\n",
    "sigma0 = sigma1 = sigma2 = 2\n",
    "n = 100\n",
    "thetas = [-0.5, 1]\n",
    "ns = [80, 120]"
   ]
  },
  {
   "cell_type": "markdown",
   "metadata": {},
   "source": [
    "### To make the sample mean and variance"
   ]
  },
  {
   "cell_type": "code",
   "execution_count": 94,
   "metadata": {},
   "outputs": [],
   "source": [
    "def Ajsample(D, fixm, fixstd):\n",
    "    sm = np.mean(D)\n",
    "    sstd = np.std(D)\n",
    "    return fixstd*(D-sm)/sstd + fixm "
   ]
  },
  {
   "cell_type": "code",
   "execution_count": 95,
   "metadata": {},
   "outputs": [],
   "source": [
    "D = norm.rvs(loc=theta0, scale=sigma0, size=n)\n",
    "D = Ajsample(D, theta0, sigma0)\n",
    "Ds = [ Ajsample(norm.rvs(loc=thetas[i], scale=sigma1, size=ns[i]), thetas[i], sigma1) for i in range(len(ns))] "
   ]
  },
  {
   "cell_type": "markdown",
   "metadata": {},
   "source": [
    "### JEFFREY"
   ]
  },
  {
   "cell_type": "code",
   "execution_count": 96,
   "metadata": {},
   "outputs": [],
   "source": [
    "post_normal_jef = gen_post_jef(55000, D=D)\n",
    "post_normal_jef_D1 = gen_post_jef(55000, D=Ds[0])\n",
    "post_normal_jef_D2 = gen_post_jef(55000, D=Ds[1])"
   ]
  },
  {
   "cell_type": "markdown",
   "metadata": {},
   "source": [
    "### FULL"
   ]
  },
  {
   "cell_type": "code",
   "execution_count": 97,
   "metadata": {},
   "outputs": [],
   "source": [
    "post_normal_full = gen_post_full(55000, D=D, Ds=Ds)"
   ]
  },
  {
   "cell_type": "markdown",
   "metadata": {},
   "source": [
    "### NPP"
   ]
  },
  {
   "cell_type": "code",
   "execution_count": 98,
   "metadata": {},
   "outputs": [
    {
     "name": "stderr",
     "output_type": "stream",
     "text": [
      "Multiprocess sampling (4 chains in 4 jobs)\n",
      "CompoundStep\n",
      ">Metropolis: [thetah]\n",
      ">Metropolis: [sigma2]\n",
      ">Metropolis: [gammas]\n",
      "Sampling 4 chains, 0 divergences: 100%|██████████| 40000/40000 [00:09<00:00, 4349.67draws/s]\n",
      "The number of effective samples is smaller than 10% for some parameters.\n"
     ]
    }
   ],
   "source": [
    "NPP_model = getNPPcon(D, Ds)\n",
    "with NPP_model:\n",
    "    step = pm.Metropolis()\n",
    "    post_normal_NPP = pm.sample(draws=5000, tune=5000, cores=4, chains=4, step=step)"
   ]
  },
  {
   "cell_type": "markdown",
   "metadata": {},
   "source": [
    "### LCP"
   ]
  },
  {
   "cell_type": "code",
   "execution_count": 99,
   "metadata": {},
   "outputs": [
    {
     "name": "stderr",
     "output_type": "stream",
     "text": [
      "Multiprocess sampling (4 chains in 4 jobs)\n",
      "CompoundStep\n",
      ">Metropolis: [thetah]\n",
      ">Metropolis: [sigma2]\n",
      ">Metropolis: [logtaus]\n",
      "Sampling 4 chains, 0 divergences: 100%|██████████| 40000/40000 [00:06<00:00, 5870.58draws/s]\n",
      "The number of effective samples is smaller than 10% for some parameters.\n"
     ]
    }
   ],
   "source": [
    "LCP_model = getLCPcon(D, Ds)\n",
    "with LCP_model:\n",
    "    step = pm.Metropolis()\n",
    "    post_normal_LCP = pm.sample(draws=5000, tune=5000, cores=4, chains=4, step=step)"
   ]
  },
  {
   "cell_type": "markdown",
   "metadata": {},
   "source": [
    "### UIPD"
   ]
  },
  {
   "cell_type": "code",
   "execution_count": 100,
   "metadata": {},
   "outputs": [
    {
     "name": "stderr",
     "output_type": "stream",
     "text": [
      "Multiprocess sampling (4 chains in 4 jobs)\n",
      "CompoundStep\n",
      ">Metropolis: [thetah]\n",
      ">Metropolis: [M]\n",
      ">Metropolis: [sigma2]\n",
      ">Metropolis: [pis]\n",
      "Sampling 4 chains, 0 divergences: 100%|██████████| 40000/40000 [00:11<00:00, 3632.19draws/s]\n",
      "The number of effective samples is smaller than 25% for some parameters.\n"
     ]
    }
   ],
   "source": [
    "UIPD_model = getUIPDcon(D, Ds)\n",
    "with UIPD_model:\n",
    "    step = pm.Metropolis()\n",
    "    post_normal_UIPD = pm.sample(draws=5000,tune=5000, cores=4, chains=4,step=step)"
   ]
  },
  {
   "cell_type": "markdown",
   "metadata": {},
   "source": [
    "### UIPJS"
   ]
  },
  {
   "cell_type": "code",
   "execution_count": 101,
   "metadata": {},
   "outputs": [
    {
     "name": "stderr",
     "output_type": "stream",
     "text": [
      "Multiprocess sampling (4 chains in 4 jobs)\n",
      "CompoundStep\n",
      ">Metropolis: [thetah]\n",
      ">Metropolis: [M]\n",
      ">Metropolis: [sigma2]\n",
      "Sampling 4 chains, 0 divergences: 100%|██████████| 40000/40000 [00:07<00:00, 5533.81draws/s]\n",
      "The number of effective samples is smaller than 25% for some parameters.\n"
     ]
    }
   ],
   "source": [
    "UIPJS_model = getUIPJScon(D, Ds)\n",
    "with UIPJS_model:\n",
    "    step = pm.Metropolis()\n",
    "    post_normal_UIPJS = pm.sample(draws=5000, tune=5000,  cores=4, chains=4, step=step)"
   ]
  },
  {
   "cell_type": "code",
   "execution_count": 102,
   "metadata": {},
   "outputs": [],
   "source": [
    "def GetCIs(data, alpha=0.05):\n",
    "    return np.quantile(data, [alpha/2, 1-alpha/2])"
   ]
  },
  {
   "cell_type": "code",
   "execution_count": 103,
   "metadata": {},
   "outputs": [],
   "source": [
    "resCIs = edict()"
   ]
  },
  {
   "cell_type": "code",
   "execution_count": 104,
   "metadata": {},
   "outputs": [],
   "source": [
    "resCIs[\"Dh1\"] = GetCIs(post_normal_jef_D1[\"theta\"])\n",
    "resCIs[\"Dh2\"] = GetCIs(post_normal_jef_D2[\"theta\"])\n",
    "resCIs[\"FULL\"] = GetCIs(post_normal_full[\"theta\"])\n",
    "resCIs[\"JEF\"] = GetCIs(post_normal_jef[\"theta\"])\n",
    "resCIs[\"UIPD\"] = GetCIs(post_normal_UIPD[\"thetah\"])\n",
    "resCIs[\"UIPJS\"] = GetCIs(post_normal_UIPJS[\"thetah\"])\n",
    "resCIs[\"NPP\"] = GetCIs(post_normal_NPP[\"thetah\"])\n",
    "resCIs[\"LCP\"] = GetCIs(post_normal_LCP[\"thetah\"])"
   ]
  },
  {
   "cell_type": "code",
   "execution_count": 105,
   "metadata": {},
   "outputs": [],
   "source": [
    "paras = edict()\n",
    "paras.sigma = sigma0\n",
    "paras.theta0 = theta0"
   ]
  },
  {
   "cell_type": "code",
   "execution_count": 111,
   "metadata": {},
   "outputs": [
    {
     "data": {
      "text/plain": [
       "<matplotlib.lines.Line2D at 0x7fdea46ae320>"
      ]
     },
     "execution_count": 111,
     "metadata": {},
     "output_type": "execute_result"
    },
    {
     "data": {
      "image/png": "[encoded data removed]",
      "text/plain": [
       "<Figure size 432x288 with 1 Axes>"
      ]
     },
     "metadata": {
      "needs_background": "light"
     },
     "output_type": "display_data"
    }
   ],
   "source": [
    "cols = list(sns.xkcd_rgb.values())\n",
    "keys = []\n",
    "plt.xlim([-2, 2])\n",
    "for idx, key in enumerate(resCIs.keys()):\n",
    "    keys.append(key)\n",
    "    plt.hlines(idx, xmin=resCIs[key][0], xmax=resCIs[key][1], color=cols[idx])\n",
    "plt.yticks(list(range(len(keys))), keys)\n",
    "plt.axvline(theta0, linestyle=\":\", color=\"red\")"
   ]
  },
  {
   "cell_type": "code",
   "execution_count": 107,
   "metadata": {},
   "outputs": [],
   "source": [
    "ressave.append([resCIs, paras])"
   ]
  },
  {
   "cell_type": "code",
   "execution_count": 108,
   "metadata": {},
   "outputs": [
    {
     "data": {
      "text/plain": [
       "[[{'Dh1': array([-0.71954259, -0.27563739]),\n",
       "   'Dh2': array([0.81583198, 1.18284622]),\n",
       "   'FULL': array([-0.0416163 ,  0.23917973]),\n",
       "   'JEF': array([-0.69587531, -0.3015041 ]),\n",
       "   'UIPD': array([-0.61592526, -0.27578738]),\n",
       "   'UIPJS': array([-0.64142682, -0.35572091]),\n",
       "   'NPP': array([-0.62138535, -0.26700256]),\n",
       "   'LCP': array([-0.64638992, -0.34737146])},\n",
       "  {'sigma': 1, 'theta0': -0.5}],\n",
       " [{'Dh1': array([-0.72170559, -0.27683229]),\n",
       "   'Dh2': array([0.81871586, 1.17719633]),\n",
       "   'FULL': array([0.13139335, 0.40134283]),\n",
       "   'JEF': array([-0.20045865,  0.19190351]),\n",
       "   'UIPD': array([-0.19396278,  0.19257711]),\n",
       "   'UIPJS': array([-0.26317933,  0.08972675]),\n",
       "   'NPP': array([-0.1723941 ,  0.21167999]),\n",
       "   'LCP': array([-0.24119588,  0.2538226 ])},\n",
       "  {'sigma': 1, 'theta0': 0}],\n",
       " [{'Dh1': array([-0.72045016, -0.27644484]),\n",
       "   'Dh2': array([0.81974122, 1.17603943]),\n",
       "   'FULL': array([0.4621422 , 0.73535143]),\n",
       "   'JEF': array([0.80197636, 1.19951123]),\n",
       "   'UIPD': array([0.77565871, 1.11846816]),\n",
       "   'UIPJS': array([0.85465445, 1.14293424]),\n",
       "   'NPP': array([0.75704536, 1.10824687]),\n",
       "   'LCP': array([0.85371637, 1.13275719])},\n",
       "  {'sigma': 1, 'theta0': 1}],\n",
       " [{'Dh1': array([-0.94651927, -0.05313664]),\n",
       "   'Dh2': array([0.64084333, 1.35784309]),\n",
       "   'FULL': array([-0.14271131,  0.3441838 ]),\n",
       "   'JEF': array([-0.89144687, -0.10413825]),\n",
       "   'UIPD': array([-0.7332506 , -0.01676402]),\n",
       "   'UIPJS': array([-0.79429423, -0.22052542]),\n",
       "   'NPP': array([-0.73646598,  0.0117537 ]),\n",
       "   'LCP': array([-0.80117346, -0.19040632])},\n",
       "  {'sigma': 2, 'theta0': -0.5}],\n",
       " [{'Dh1': array([-0.94887515, -0.05465896]),\n",
       "   'Dh2': array([0.633167  , 1.36199534]),\n",
       "   'FULL': array([0.02805832, 0.50341237]),\n",
       "   'JEF': array([-0.39127001,  0.39670462]),\n",
       "   'UIPD': array([-0.34332107,  0.40352611]),\n",
       "   'UIPJS': array([-0.40368531,  0.20960315]),\n",
       "   'NPP': array([-0.31949037,  0.45543214]),\n",
       "   'LCP': array([-0.4447928,  0.4596853])},\n",
       "  {'sigma': 2, 'theta0': 0}],\n",
       " [{'Dh1': array([-0.94421929, -0.06433001]),\n",
       "   'Dh2': array([0.63915103, 1.36852481]),\n",
       "   'FULL': array([0.35987227, 0.83611874]),\n",
       "   'JEF': array([0.59346756, 1.39520247]),\n",
       "   'UIPD': array([0.536977  , 1.22240474]),\n",
       "   'UIPJS': array([0.71479486, 1.27664524]),\n",
       "   'NPP': array([0.49995014, 1.21305964]),\n",
       "   'LCP': array([0.58563547, 1.27229468])},\n",
       "  {'sigma': 2, 'theta0': 1}]]"
      ]
     },
     "execution_count": 108,
     "metadata": {},
     "output_type": "execute_result"
    }
   ],
   "source": [
    "ressave"
   ]
  },
  {
   "cell_type": "code",
   "execution_count": 109,
   "metadata": {},
   "outputs": [],
   "source": [
    "#with open(\"normCIs.pkl\", \"wb\") as f:\n",
    "#    pickle.dump(ressave, f)"
   ]
  },
  {
   "cell_type": "code",
   "execution_count": 4,
   "metadata": {},
   "outputs": [],
   "source": [
    "with open(\"normCIs.pkl\", \"rb\") as f:\n",
    "    ressave = pickle.load(f)"
   ]
  },
  {
   "cell_type": "code",
   "execution_count": 5,
   "metadata": {},
   "outputs": [
    {
     "data": {
      "image/png": "[encoded data removed]",
      "text/plain": [
       "<Figure size 1440x720 with 6 Axes>"
      ]
     },
     "metadata": {
      "needs_background": "light"
     },
     "output_type": "display_data"
    }
   ],
   "source": [
    "fig, axes = plt.subplots(nrows=2,ncols=3,\n",
    "                         sharex=False,sharey=False,figsize=(20,10))\n",
    "plt.subplots_adjust(wspace=0.3, hspace=0.3)\n",
    "cols = list(sns.xkcd_rgb.values())\n",
    "keys = [\"UIP-JS\", \"UIP-Dirichlet\", \"MPP\", \"LCP\", r\"Jeffreys\", \"Full\", r\"$D_2$\", r\"$D_1$\"]\n",
    "ords = [\"UIPJS\", \"UIPD\", \"NPP\", \"LCP\", \"JEF\", \"FULL\", \"Dh2\", \"Dh1\"]\n",
    "for i in range(2):\n",
    "    for j in range(3):\n",
    "        idx1 = i*3 + j\n",
    "        resCIs, paras= ressave[idx1]\n",
    "        axes[i, j].set_xlim([-1.5, 1.5])\n",
    "        tl = r\"$\\hat{\\theta}$\" + f\"={paras.theta0}\" + \", \" +  r\"$\\hat{\\sigma}$\" + f\"={paras.sigma}\"\n",
    "        axes[i, j].set_title(tl)\n",
    "        for idx, key in enumerate(ords):\n",
    "            axes[i, j].hlines(idx, xmin=resCIs[key][0], xmax=resCIs[key][1], color=cols[idx])\n",
    "        axes[i, j].axvline(paras.theta0, linestyle=\":\", color=\"red\")\n",
    "        axes[i, j].set_yticks(list(range(len(keys))))\n",
    "        axes[i, j].set_yticklabels(keys)\n",
    "plt.savefig(\"CIs.pdf\")"
   ]
  },
  {
   "cell_type": "code",
   "execution_count": 155,
   "metadata": {},
   "outputs": [
    {
     "data": {
      "text/plain": [
       "<Figure size 432x288 with 0 Axes>"
      ]
     },
     "metadata": {},
     "output_type": "display_data"
    }
   ],
   "source": []
  },
  {
   "cell_type": "code",
   "execution_count": null,
   "metadata": {},
   "outputs": [],
   "source": []
  }
 ],
 "metadata": {
  "kernelspec": {
   "display_name": "Python 3",
   "language": "python",
   "name": "python3"
  },
  "language_info": {
   "codemirror_mode": {
    "name": "ipython",
    "version": 3
   },
   "file_extension": ".py",
   "mimetype": "text/x-python",
   "name": "python",
   "nbconvert_exporter": "python",
   "pygments_lexer": "ipython3",
   "version": "3.7.6"
  }
 },
 "nbformat": 4,
 "nbformat_minor": 2
}
