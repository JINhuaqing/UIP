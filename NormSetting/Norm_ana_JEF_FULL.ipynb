{
 "cells": [
  {
   "cell_type": "code",
   "execution_count": 1,
   "metadata": {},
   "outputs": [],
   "source": [
    "import pymc3 as pm\n",
    "import matplotlib.pyplot as plt\n",
    "import numpy as np\n",
    "import pickle\n",
    "from pathlib import Path\n",
    "import pandas as pd\n",
    "import seaborn as sns\n",
    "\n",
    "%matplotlib inline"
   ]
  },
  {
   "cell_type": "code",
   "execution_count": 2,
   "metadata": {},
   "outputs": [],
   "source": [
    "from tqdm import tqdm\n",
    "from collections import defaultdict as ddict\n",
    "from pprint import pprint"
   ]
  },
  {
   "cell_type": "code",
   "execution_count": 14,
   "metadata": {},
   "outputs": [],
   "source": [
    "def sortf(f):\n",
    "    num = int(f.name.split(\"_\")[-1].split(\".\")[0])\n",
    "    return  num\n",
    "\n",
    "def load_pkl(f):\n",
    "    with open(f, \"rb\") as fi:\n",
    "        data = pickle.load(fi)\n",
    "    return data"
   ]
  },
  {
   "cell_type": "code",
   "execution_count": 4,
   "metadata": {},
   "outputs": [],
   "source": [
    "def is_true(theta0, bs):\n",
    "    low, up = bs\n",
    "    return (theta0 > low) and (theta0 < up)\n",
    "\n",
    "\n",
    "def rejrate(theta0, data, theta):\n",
    "    reslist = [is_true(theta0, bs=[np.quantile(dat, q=theta), np.quantile(dat, q=1-theta)]) for dat in data] \n",
    "    return 1 - np.mean(reslist)\n",
    "\n",
    "\n",
    "def getRatio(theta0, data):\n",
    "    p1 = np.mean(data<=theta0)\n",
    "    p2 = np.mean(data>theta0)\n",
    "    res = np.min([p1, p2])\n",
    "    return res\n",
    "\n",
    "\n",
    "\n",
    "def getQuantile(theta0, data, alp=0.05):\n",
    "    res = [getRatio(theta0, data=dat) for dat in data]\n",
    "    return np.quantile(res, q=alp)"
   ]
  },
  {
   "cell_type": "code",
   "execution_count": 21,
   "metadata": {},
   "outputs": [],
   "source": [
    "root = Path(\"./\")\n",
    "files = list(root.glob(\"Jeffrey_*\"))\n",
    "files = sorted(files, key=sortf)"
   ]
  },
  {
   "cell_type": "code",
   "execution_count": 22,
   "metadata": {},
   "outputs": [],
   "source": [
    "Allres = ddict(ddict)\n",
    "theta0 = 0"
   ]
  },
  {
   "cell_type": "code",
   "execution_count": 29,
   "metadata": {},
   "outputs": [],
   "source": [
    "for fil in files:\n",
    "    data = load_pkl(fil)\n",
    "    num = sortf(fil)\n",
    "    JEFdata = [dat[\"jef\"][\"theta\"] for dat in data]\n",
    "    Fulldata = [dat[\"full\"][\"theta\"] for dat in data]\n",
    "    \n",
    "    Allres[num][\"JEF\"] = rejrate(theta0, JEFdata, theta=0.025)\n",
    "    Allres[num][\"FULL\"] = rejrate(theta0, Fulldata, theta=0.025)\n"
   ]
  },
  {
   "cell_type": "code",
   "execution_count": 30,
   "metadata": {},
   "outputs": [
    {
     "name": "stdout",
     "output_type": "stream",
     "text": [
      "defaultdict(<class 'collections.defaultdict'>,\n",
      "            {0: defaultdict(None, {'JEF': 0.049000000000000044, 'FULL': 1.0}),\n",
      "             10: defaultdict(None, {'JEF': 0.18200000000000005, 'FULL': 1.0}),\n",
      "             20: defaultdict(None, {'JEF': 0.5920000000000001, 'FULL': 1.0}),\n",
      "             30: defaultdict(None, {'JEF': 0.909, 'FULL': 1.0}),\n",
      "             40: defaultdict(None, {'JEF': 0.989, 'FULL': 1.0})})\n"
     ]
    }
   ],
   "source": [
    "pprint(Allres)"
   ]
  },
  {
   "cell_type": "code",
   "execution_count": 31,
   "metadata": {},
   "outputs": [
    {
     "data": {
      "text/plain": [
       "2.7720000000000002"
      ]
     },
     "execution_count": 31,
     "metadata": {},
     "output_type": "execute_result"
    }
   ],
   "source": [
    "0.182+0.909+0.989+0.692"
   ]
  },
  {
   "cell_type": "code",
   "execution_count": null,
   "metadata": {},
   "outputs": [],
   "source": []
  }
 ],
 "metadata": {
  "kernelspec": {
   "display_name": "Python 3",
   "language": "python",
   "name": "python3"
  },
  "language_info": {
   "codemirror_mode": {
    "name": "ipython",
    "version": 3
   },
   "file_extension": ".py",
   "mimetype": "text/x-python",
   "name": "python",
   "nbconvert_exporter": "python",
   "pygments_lexer": "ipython3",
   "version": "3.7.3"
  }
 },
 "nbformat": 4,
 "nbformat_minor": 2
}
