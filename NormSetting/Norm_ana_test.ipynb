{
 "cells": [
  {
   "cell_type": "code",
   "execution_count": 1,
   "metadata": {},
   "outputs": [
    {
     "name": "stderr",
     "output_type": "stream",
     "text": [
      "WARNING (theano.tensor.blas): Using NumPy C-API based implementation for BLAS functions.\n"
     ]
    }
   ],
   "source": [
    "import pymc3 as pm\n",
    "import matplotlib.pyplot as plt\n",
    "import numpy as np\n",
    "import pickle\n",
    "from pathlib import Path\n",
    "import pandas as pd\n",
    "from tqdm import tqdm_notebook as tqdm\n",
    "import seaborn as sns\n",
    "from easydict import EasyDict as edict\n",
    "from collections import defaultdict as ddict\n",
    "from pprint import pprint\n",
    "\n",
    "%matplotlib inline"
   ]
  },
  {
   "cell_type": "markdown",
   "metadata": {},
   "source": [
    "### Useful functions"
   ]
  },
  {
   "cell_type": "code",
   "execution_count": 2,
   "metadata": {},
   "outputs": [],
   "source": [
    "def sortdir(f):\n",
    "    num = f.name.split(\"_\")[-2].split(\"p\")[-1]\n",
    "    num = int(num)\n",
    "    return  num\n",
    "\n",
    "def sortf(f):\n",
    "    num = f.name.split(\".\")[0]\n",
    "    num = int(num)\n",
    "    return num"
   ]
  },
  {
   "cell_type": "code",
   "execution_count": 3,
   "metadata": {},
   "outputs": [],
   "source": [
    "def load_pkl(f):\n",
    "    with open(f, \"rb\") as fi:\n",
    "        data = pickle.load(fi)\n",
    "    return data"
   ]
  },
  {
   "cell_type": "markdown",
   "metadata": {},
   "source": [
    "### Linestyles for plot"
   ]
  },
  {
   "cell_type": "code",
   "execution_count": 4,
   "metadata": {},
   "outputs": [],
   "source": [
    "linestyles = [\n",
    "     ('solid', 'solid'),      # Same as (0, ()) or '-'\n",
    "     ('dotted', 'dotted'),    # Same as (0, (1, 1)) or '.'\n",
    "     ('dashed', 'dashed'),    # Same as '--'\n",
    "     ('dashdot', 'dashdot'),  # Same as '-.'\n",
    "    \n",
    "     ('loosely dotted',        (0, (1, 10))),\n",
    "     ('densely dotted',        (0, (1, 1))),\n",
    "    \n",
    "     ('loosely dashed',        (0, (5, 10))),\n",
    "     ('densely dashed',        (0, (5, 1))),\n",
    "\n",
    "     ('loosely dashdotted',    (0, (3, 10, 1, 10))),\n",
    "     ('dashdotted',            (0, (3, 5, 1, 5))),\n",
    "     ('densely dashdotted',    (0, (3, 1, 1, 1))),\n",
    "\n",
    "     ('dashdotdotted',         (0, (3, 5, 1, 5, 1, 5))),\n",
    "     ('loosely dashdotdotted', (0, (3, 10, 1, 10, 1, 10))),\n",
    "     ('densely dashdotdotted', (0, (3, 1, 1, 1, 1, 1)))]"
   ]
  },
  {
   "cell_type": "markdown",
   "metadata": {},
   "source": [
    "### Functions for sizes and powers"
   ]
  },
  {
   "cell_type": "code",
   "execution_count": 5,
   "metadata": {},
   "outputs": [],
   "source": [
    "def is_true(theta0, bs):\n",
    "    low, up = bs\n",
    "    return (theta0 > low) and (theta0 < up)\n",
    "\n",
    "\n",
    "def rejrate(theta0, data, theta):\n",
    "    reslist = [is_true(theta0, bs=[np.quantile(dat, q=theta), np.quantile(dat, q=1-theta)]) for dat in data] \n",
    "    return 1 - np.mean(reslist)\n",
    "\n",
    "\n",
    "def getRatio(theta0, data):\n",
    "    p1 = np.mean(data<=theta0)\n",
    "    p2 = np.mean(data>theta0)\n",
    "    res = np.min([p1, p2])\n",
    "    return res\n",
    "\n",
    "\n",
    "\n",
    "def getQuantile(theta0, data, alp=0.05):\n",
    "    res = [getRatio(theta0, data=dat) for dat in data]\n",
    "    return np.quantile(res, q=alp)"
   ]
  },
  {
   "cell_type": "markdown",
   "metadata": {},
   "source": [
    "# A. n=60"
   ]
  },
  {
   "cell_type": "markdown",
   "metadata": {},
   "source": [
    "## 1. load data"
   ]
  },
  {
   "cell_type": "code",
   "execution_count": 6,
   "metadata": {},
   "outputs": [],
   "source": [
    "n = 60\n",
    "root = Path(f\"./results/\")\n",
    "\n",
    "fls = root.glob(f\"SimBiostatR1*_n{n}.pkl\")\n",
    "fls = list(fls)\n",
    "fls = sorted(fls, key=sortdir)\n",
    "idxs = [int(sortdir(fl))/100 for fl in fls] "
   ]
  },
  {
   "cell_type": "markdown",
   "metadata": {},
   "source": [
    "## 2. Obtain the sizes"
   ]
  },
  {
   "cell_type": "code",
   "execution_count": 7,
   "metadata": {},
   "outputs": [],
   "source": [
    "sizes60 = ddict(list)\n",
    "for cfl, theta0 in zip(fls, idxs):\n",
    "    cleanData = load_pkl(cfl)\n",
    "    for key, dat in cleanData.items():\n",
    "        sizes60[key].append(rejrate(theta0, dat, 0.025))"
   ]
  },
  {
   "cell_type": "markdown",
   "metadata": {},
   "source": [
    "## 3. Obtain the powers when $\\theta_0=0$"
   ]
  },
  {
   "cell_type": "code",
   "execution_count": 8,
   "metadata": {},
   "outputs": [],
   "source": [
    "theta0 = 0\n",
    "cfl = fls[idxs.index(theta0)]"
   ]
  },
  {
   "cell_type": "code",
   "execution_count": 9,
   "metadata": {},
   "outputs": [
    {
     "data": {
      "text/plain": [
       "PosixPath('results/SimBiostatR1_p0_n60.pkl')"
      ]
     },
     "execution_count": 9,
     "metadata": {},
     "output_type": "execute_result"
    }
   ],
   "source": [
    "cfl"
   ]
  },
  {
   "cell_type": "markdown",
   "metadata": {},
   "source": [
    "### Get the critical values"
   ]
  },
  {
   "cell_type": "code",
   "execution_count": 10,
   "metadata": {},
   "outputs": [
    {
     "name": "stdout",
     "output_type": "stream",
     "text": [
      "Sizes after calibrating\n",
      "JEF       : 0.050\n",
      "FULL      : 0.997\n",
      "LCP       : 0.050\n",
      "NPP       : 0.050\n",
      "UIPJS     : 0.050\n",
      "UIPD      : 0.050\n",
      "rMAP      : 0.050\n"
     ]
    }
   ],
   "source": [
    "CVqs60= ddict(float)\n",
    "Alphas60 = ddict(float)\n",
    "cleanData = load_pkl(cfl)\n",
    "alps = {\n",
    "    \"JEF\": 0.05 - 1e-3,\n",
    "    \"FULL\": 0.05,\n",
    "    \"LCP\": 0.05 - 1e-3,\n",
    "    \"UIPJS\": 0.05 - 1e-3,\n",
    "    \"UIPD\": 0.05 - 5e-4,\n",
    "    \"NPP\": 0.05 - 1e-3,\n",
    "    \"rMAP\": 0.05 - 5e-4\n",
    "}\n",
    "for key, dat in cleanData.items():\n",
    "    CVqs60[key] = getQuantile(theta0, data=dat, alp=alps[key])\n",
    "    Alphas60[key] = rejrate(theta0, dat, CVqs60[key])\n",
    "    \n",
    "print(\"Sizes after calibrating\")\n",
    "for key, v in Alphas60.items():\n",
    "    print(f\"{key:<10}: {v:.3f}\")\n"
   ]
  },
  {
   "cell_type": "code",
   "execution_count": 11,
   "metadata": {},
   "outputs": [
    {
     "data": {
      "text/plain": [
       "defaultdict(float,\n",
       "            {'JEF': 0.0185951,\n",
       "             'FULL': 0.0,\n",
       "             'LCP': 0.00369755,\n",
       "             'NPP': 0.00055,\n",
       "             'UIPJS': 0.0031255000000000002,\n",
       "             'UIPD': 0.003290100000000001,\n",
       "             'rMAP': 0.01599505})"
      ]
     },
     "execution_count": 11,
     "metadata": {},
     "output_type": "execute_result"
    }
   ],
   "source": [
    "CVqs60"
   ]
  },
  {
   "cell_type": "markdown",
   "metadata": {},
   "source": [
    "### Get the powers"
   ]
  },
  {
   "cell_type": "code",
   "execution_count": 12,
   "metadata": {},
   "outputs": [],
   "source": [
    "Powers60 = ddict(list)\n",
    "Powers95_60 = ddict(list)"
   ]
  },
  {
   "cell_type": "code",
   "execution_count": 13,
   "metadata": {},
   "outputs": [
    {
     "name": "stdout",
     "output_type": "stream",
     "text": [
      "results/SimBiostatR1_p0_n60.pkl\n",
      "results/SimBiostatR1_p10_n60.pkl\n",
      "results/SimBiostatR1_p20_n60.pkl\n",
      "results/SimBiostatR1_p30_n60.pkl\n",
      "results/SimBiostatR1_p40_n60.pkl\n",
      "results/SimBiostatR1_p50_n60.pkl\n",
      "results/SimBiostatR1_p60_n60.pkl\n",
      "results/SimBiostatR1_p70_n60.pkl\n",
      "results/SimBiostatR1_p80_n60.pkl\n",
      "results/SimBiostatR1_p90_n60.pkl\n",
      "results/SimBiostatR1_p100_n60.pkl\n"
     ]
    }
   ],
   "source": [
    "for cfl, theta in zip(fls, idxs):\n",
    "    Powers60[\"theta\"].append(theta)\n",
    "    Powers95_60[\"theta\"].append(theta)\n",
    "    datah1 = load_pkl(cfl)\n",
    "    print(cfl)\n",
    "    for key, dat in datah1.items():\n",
    "        Powers60[key].append(rejrate(theta0, dat, CVqs60[key]))\n",
    "        Powers95_60[key].append(rejrate(theta0, dat, 0.025))"
   ]
  },
  {
   "cell_type": "code",
   "execution_count": 14,
   "metadata": {},
   "outputs": [
    {
     "name": "stdout",
     "output_type": "stream",
     "text": [
      "    theta       JEF   FULL       LCP       NPP     UIPJS      UIPD   rMAP\n",
      "0     0.0  0.050000  0.997  0.050000  0.050000  0.050000  0.050000  0.050\n",
      "1     0.1  0.115000  0.999  0.170000  0.160000  0.177000  0.171000  0.156\n",
      "2     0.2  0.271000  1.000  0.374000  0.365000  0.396000  0.382000  0.359\n",
      "3     0.3  0.586000  0.998  0.684000  0.666000  0.726000  0.701000  0.676\n",
      "4     0.4  0.829000  1.000  0.880000  0.887000  0.899000  0.890000  0.877\n",
      "5     0.5  0.952000  1.000  0.970000  0.972000  0.978000  0.975000  0.973\n",
      "6     0.6  0.986577  1.000  0.997763  0.995526  0.997763  0.997763  1.000\n",
      "7     0.7  1.000000  1.000  1.000000  1.000000  1.000000  1.000000  1.000\n",
      "8     0.8  1.000000  1.000  1.000000  1.000000  1.000000  1.000000  1.000\n",
      "9     0.9  1.000000  1.000  1.000000  1.000000  1.000000  1.000000  1.000\n",
      "10    1.0  1.000000  1.000  1.000000  1.000000  1.000000  1.000000  1.000\n",
      "Powers after calibrating\n",
      "JEF      0.708143\n",
      "FULL     0.999455\n",
      "LCP      0.738706\n",
      "NPP      0.735957\n",
      "UIPJS    0.747615\n",
      "UIPD     0.742433\n",
      "rMAP     0.735545\n",
      "dtype: float64\n",
      "Sizes\n",
      "JEF       : 0.050\n",
      "FULL      : 0.997\n",
      "LCP       : 0.050\n",
      "NPP       : 0.050\n",
      "UIPJS     : 0.050\n",
      "UIPD      : 0.050\n",
      "rMAP      : 0.050\n"
     ]
    }
   ],
   "source": [
    "Powers60 = pd.DataFrame(Powers60)\n",
    "print(Powers60)\n",
    "print(f\"Powers after calibrating\")\n",
    "print(Powers60.drop(columns=[\"theta\"]).mean(axis=0))\n",
    "print(\"Sizes\")\n",
    "for key, v in Alphas60.items():\n",
    "    print(f\"{key:<10}: {v:.3f}\")"
   ]
  },
  {
   "cell_type": "code",
   "execution_count": 15,
   "metadata": {},
   "outputs": [
    {
     "name": "stdout",
     "output_type": "stream",
     "text": [
      "    theta       JEF  FULL    LCP    NPP  UIPJS   UIPD   rMAP\n",
      "0     0.0  0.066000   1.0  0.144  0.296  0.169  0.155  0.069\n",
      "1     0.1  0.140000   1.0  0.339  0.582  0.399  0.377  0.200\n",
      "2     0.2  0.325000   1.0  0.639  0.811  0.696  0.686  0.437\n",
      "3     0.3  0.638000   1.0  0.880  0.957  0.913  0.908  0.742\n",
      "4     0.4  0.859000   1.0  0.961  0.994  0.976  0.974  0.908\n",
      "5     0.5  0.964000   1.0  0.996  0.999  0.997  0.997  0.980\n",
      "6     0.6  0.993289   1.0  1.000  1.000  1.000  1.000  1.000\n",
      "7     0.7  1.000000   1.0  1.000  1.000  1.000  1.000  1.000\n",
      "8     0.8  1.000000   1.0  1.000  1.000  1.000  1.000  1.000\n",
      "9     0.9  1.000000   1.0  1.000  1.000  1.000  1.000  1.000\n",
      "10    1.0  1.000000   1.0  1.000  1.000  1.000  1.000  1.000\n",
      "Powers95\n",
      "JEF      0.725935\n",
      "FULL     1.000000\n",
      "LCP      0.814455\n",
      "NPP      0.876273\n",
      "UIPJS    0.831818\n",
      "UIPD     0.827000\n",
      "rMAP     0.757818\n",
      "dtype: float64\n",
      "Sizes\n",
      "JEF       : 0.066\n",
      "FULL      : 1.000\n",
      "LCP       : 0.144\n",
      "NPP       : 0.296\n",
      "UIPJS     : 0.169\n",
      "UIPD      : 0.155\n",
      "rMAP      : 0.069\n"
     ]
    }
   ],
   "source": [
    "Powers95_60 = pd.DataFrame(Powers95_60)\n",
    "print(Powers95_60)\n",
    "print(f\"Powers95\")\n",
    "print(Powers95_60.drop(columns=[\"theta\"]).mean(axis=0))\n",
    "print(\"Sizes\")\n",
    "for key, v in sizes60.items():\n",
    "    print(f\"{key:<10}: {v[0]:.3f}\")"
   ]
  },
  {
   "cell_type": "markdown",
   "metadata": {},
   "source": [
    "# B. n=120"
   ]
  },
  {
   "cell_type": "markdown",
   "metadata": {},
   "source": [
    "## 1. load data"
   ]
  },
  {
   "cell_type": "code",
   "execution_count": 20,
   "metadata": {},
   "outputs": [],
   "source": [
    "n = 120\n",
    "root = Path(f\"./results/\")\n",
    "\n",
    "fls = root.glob(f\"SimBiostatR1*_n{n}.pkl\")\n",
    "fls = list(fls)\n",
    "fls = sorted(fls, key=sortdir)\n",
    "idxs = [int(sortdir(fl))/100 for fl in fls] "
   ]
  },
  {
   "cell_type": "markdown",
   "metadata": {},
   "source": [
    "## 2. Obtain the sizes"
   ]
  },
  {
   "cell_type": "code",
   "execution_count": 21,
   "metadata": {},
   "outputs": [],
   "source": [
    "sizes120 = ddict(list)\n",
    "for cfl, theta0 in zip(fls, idxs):\n",
    "    cleanData = load_pkl(cfl)\n",
    "    for key, dat in cleanData.items():\n",
    "        sizes120[key].append(rejrate(theta0, dat, 0.025))"
   ]
  },
  {
   "cell_type": "markdown",
   "metadata": {},
   "source": [
    "## 3. Obtain the powers when $\\theta_0=0$"
   ]
  },
  {
   "cell_type": "code",
   "execution_count": 22,
   "metadata": {},
   "outputs": [],
   "source": [
    "theta0 = 0\n",
    "cfl = fls[idxs.index(theta0)]"
   ]
  },
  {
   "cell_type": "code",
   "execution_count": 23,
   "metadata": {},
   "outputs": [
    {
     "data": {
      "text/plain": [
       "PosixPath('results/SimBiostatR1_p0_n120.pkl')"
      ]
     },
     "execution_count": 23,
     "metadata": {},
     "output_type": "execute_result"
    }
   ],
   "source": [
    "cfl"
   ]
  },
  {
   "cell_type": "markdown",
   "metadata": {},
   "source": [
    "### Get the critical values"
   ]
  },
  {
   "cell_type": "code",
   "execution_count": 24,
   "metadata": {},
   "outputs": [
    {
     "name": "stdout",
     "output_type": "stream",
     "text": [
      "Sizes after calibrating\n",
      "JEF       : 0.050\n",
      "FULL      : 0.962\n",
      "LCP       : 0.050\n",
      "NPP       : 0.051\n",
      "UIPJS     : 0.051\n",
      "UIPD      : 0.050\n",
      "rMAP      : 0.050\n"
     ]
    }
   ],
   "source": [
    "CVqs120= ddict(float)\n",
    "Alphas120 = ddict(float)\n",
    "cleanData = load_pkl(cfl)\n",
    "alps = {\n",
    "    \"JEF\": 0.05 - 1e-3,\n",
    "    \"FULL\": 0.05,\n",
    "    \"LCP\": 0.05 - 1e-3,\n",
    "    \"UIPJS\": 0.05 - 5e-4,\n",
    "    \"UIPD\": 0.05 - 5e-4,\n",
    "    \"NPP\": 0.05 - 1e-3,\n",
    "    \"rMAP\": 0.05 - 5e-4\n",
    "}\n",
    "for key, dat in cleanData.items():\n",
    "    CVqs120[key] = getQuantile(theta0, data=dat, alp=alps[key])\n",
    "    Alphas120[key] = rejrate(theta0, dat, CVqs120[key])\n",
    "    \n",
    "print(\"Sizes after calibrating\")\n",
    "for key, v in Alphas120.items():\n",
    "    print(f\"{key:<10}: {v:.3f}\")\n"
   ]
  },
  {
   "cell_type": "code",
   "execution_count": 25,
   "metadata": {},
   "outputs": [
    {
     "data": {
      "text/plain": [
       "defaultdict(float,\n",
       "            {'JEF': 0.0264902,\n",
       "             'FULL': 0.0,\n",
       "             'LCP': 0.0126255,\n",
       "             'NPP': 0.0045451,\n",
       "             'UIPJS': 0.01025,\n",
       "             'UIPD': 0.008912625000000002,\n",
       "             'rMAP': 0.025380200000000002})"
      ]
     },
     "execution_count": 25,
     "metadata": {},
     "output_type": "execute_result"
    }
   ],
   "source": [
    "CVqs120"
   ]
  },
  {
   "cell_type": "markdown",
   "metadata": {},
   "source": [
    "### Get the powers"
   ]
  },
  {
   "cell_type": "code",
   "execution_count": 26,
   "metadata": {},
   "outputs": [],
   "source": [
    "Powers120 = ddict(list)\n",
    "Powers95_120 = ddict(list)"
   ]
  },
  {
   "cell_type": "code",
   "execution_count": 27,
   "metadata": {},
   "outputs": [
    {
     "name": "stdout",
     "output_type": "stream",
     "text": [
      "results/SimBiostatR1_p0_n120.pkl\n",
      "results/SimBiostatR1_p10_n120.pkl\n",
      "results/SimBiostatR1_p20_n120.pkl\n",
      "results/SimBiostatR1_p30_n120.pkl\n",
      "results/SimBiostatR1_p40_n120.pkl\n",
      "results/SimBiostatR1_p50_n120.pkl\n",
      "results/SimBiostatR1_p60_n120.pkl\n",
      "results/SimBiostatR1_p70_n120.pkl\n",
      "results/SimBiostatR1_p80_n120.pkl\n",
      "results/SimBiostatR1_p90_n120.pkl\n",
      "results/SimBiostatR1_p100_n120.pkl\n"
     ]
    }
   ],
   "source": [
    "for cfl, theta in zip(fls, idxs):\n",
    "    Powers120[\"theta\"].append(theta)\n",
    "    Powers95_120[\"theta\"].append(theta)\n",
    "    datah1 = load_pkl(cfl)\n",
    "    print(cfl)\n",
    "    for key, dat in datah1.items():\n",
    "        Powers120[key].append(rejrate(theta0, dat, CVqs120[key]))\n",
    "        Powers95_120[key].append(rejrate(theta0, dat, 0.025))"
   ]
  },
  {
   "cell_type": "code",
   "execution_count": 28,
   "metadata": {},
   "outputs": [
    {
     "name": "stdout",
     "output_type": "stream",
     "text": [
      "    theta    JEF   FULL    LCP    NPP  UIPJS   UIPD   rMAP\n",
      "0     0.0  0.050  0.962  0.050  0.051  0.051  0.050  0.050\n",
      "1     0.1  0.220  0.995  0.283  0.320  0.298  0.313  0.272\n",
      "2     0.2  0.632  1.000  0.691  0.736  0.720  0.736  0.704\n",
      "3     0.3  0.909  1.000  0.935  0.955  0.948  0.951  0.945\n",
      "4     0.4  0.983  1.000  0.990  0.990  0.990  0.991  0.992\n",
      "5     0.5  1.000  1.000  1.000  1.000  1.000  1.000  1.000\n",
      "6     0.6  1.000  1.000  1.000  1.000  1.000  1.000  1.000\n",
      "7     0.7  1.000  1.000  1.000  1.000  1.000  1.000  1.000\n",
      "8     0.8  1.000  1.000  1.000  1.000  1.000  1.000  1.000\n",
      "9     0.9  1.000  1.000  1.000  1.000  1.000  1.000  1.000\n",
      "10    1.0  1.000  1.000  1.000  1.000  1.000  1.000  1.000\n",
      "Powers after calibrating\n",
      "JEF      0.799455\n",
      "FULL     0.996091\n",
      "LCP      0.813545\n",
      "NPP      0.822909\n",
      "UIPJS    0.818818\n",
      "UIPD     0.821909\n",
      "rMAP     0.814818\n",
      "dtype: float64\n",
      "Sizes\n",
      "JEF       : 0.050\n",
      "FULL      : 0.962\n",
      "LCP       : 0.050\n",
      "NPP       : 0.051\n",
      "UIPJS     : 0.051\n",
      "UIPD      : 0.050\n",
      "rMAP      : 0.050\n"
     ]
    }
   ],
   "source": [
    "Powers120 = pd.DataFrame(Powers120)\n",
    "print(Powers120)\n",
    "print(f\"Powers after calibrating\")\n",
    "print(Powers120.drop(columns=[\"theta\"]).mean(axis=0))\n",
    "print(\"Sizes\")\n",
    "for key, v in Alphas120.items():\n",
    "    print(f\"{key:<10}: {v:.3f}\")"
   ]
  },
  {
   "cell_type": "code",
   "execution_count": 29,
   "metadata": {},
   "outputs": [
    {
     "name": "stdout",
     "output_type": "stream",
     "text": [
      "    theta    JEF  FULL    LCP    NPP  UIPJS   UIPD   rMAP\n",
      "0     0.0  0.045   1.0  0.087  0.163  0.099  0.112  0.049\n",
      "1     0.1  0.212   1.0  0.367  0.558  0.413  0.456  0.272\n",
      "2     0.2  0.614   1.0  0.779  0.868  0.818  0.833  0.703\n",
      "3     0.3  0.905   1.0  0.964  0.991  0.977  0.981  0.944\n",
      "4     0.4  0.983   1.0  0.992  0.999  0.995  0.997  0.992\n",
      "5     0.5  1.000   1.0  1.000  1.000  1.000  1.000  1.000\n",
      "6     0.6  1.000   1.0  1.000  1.000  1.000  1.000  1.000\n",
      "7     0.7  1.000   1.0  1.000  1.000  1.000  1.000  1.000\n",
      "8     0.8  1.000   1.0  1.000  1.000  1.000  1.000  1.000\n",
      "9     0.9  1.000   1.0  1.000  1.000  1.000  1.000  1.000\n",
      "10    1.0  1.000   1.0  1.000  1.000  1.000  1.000  1.000\n",
      "Powers95\n",
      "JEF      0.796273\n",
      "FULL     1.000000\n",
      "LCP      0.835364\n",
      "NPP      0.870818\n",
      "UIPJS    0.845636\n",
      "UIPD     0.852636\n",
      "rMAP     0.814545\n",
      "dtype: float64\n",
      "Sizes\n",
      "JEF       : 0.045\n",
      "FULL      : 1.000\n",
      "LCP       : 0.087\n",
      "NPP       : 0.163\n",
      "UIPJS     : 0.099\n",
      "UIPD      : 0.112\n",
      "rMAP      : 0.049\n"
     ]
    }
   ],
   "source": [
    "Powers95_120 = pd.DataFrame(Powers95_120)\n",
    "print(Powers95_120)\n",
    "print(f\"Powers95\")\n",
    "print(Powers95_120.drop(columns=[\"theta\"]).mean(axis=0))\n",
    "print(\"Sizes\")\n",
    "for key, v in sizes120.items():\n",
    "    print(f\"{key:<10}: {v[0]:.3f}\")"
   ]
  },
  {
   "cell_type": "markdown",
   "metadata": {},
   "source": [
    "# C. Plot the curves"
   ]
  },
  {
   "cell_type": "code",
   "execution_count": 16,
   "metadata": {},
   "outputs": [],
   "source": [
    "from mpl_toolkits.axes_grid1.inset_locator import mark_inset\n",
    "from mpl_toolkits.axes_grid1.inset_locator import inset_axes"
   ]
  },
  {
   "cell_type": "code",
   "execution_count": 19,
   "metadata": {},
   "outputs": [
    {
     "data": {
      "image/png": "[encoded data removed]",
      "text/plain": [
       "<Figure size 1080x360 with 4 Axes>"
      ]
     },
     "metadata": {
      "needs_background": "light"
     },
     "output_type": "display_data"
    }
   ],
   "source": [
    "thetas = idxs\n",
    "fig = plt.figure(figsize=[15, 5])\n",
    "axes = fig.subplots(1, 3)\n",
    "\n",
    "#axes[0].set_title(\"Sizes\")\n",
    "axes[0].set_ylim([0, 1.05])\n",
    "axes[0].set_xlabel(r\"$\\theta$\")\n",
    "axes[0].set_ylabel(\"Sizes\")\n",
    "axes[0].plot(thetas, sizes60[\"JEF\"], label=\"JEF\", linestyle=linestyles[0][1])\n",
    "axes[0].plot(thetas, sizes60[\"UIPD\"], label=\"UIP-D\", linestyle=linestyles[1][1], marker=\"^\")\n",
    "axes[0].plot(thetas, sizes60[\"UIPJS\"], label=\"UIP-JS\", linestyle=linestyles[2][1])\n",
    "axes[0].plot(thetas, sizes60[\"NPP\"], label=\"MPP\", linestyle=linestyles[3][1])\n",
    "axes[0].plot(thetas, sizes60[\"LCP\"], label=\"LCP\", linestyle=linestyles[6][1])\n",
    "axes[0].plot(thetas, sizes60[\"rMAP\"], label=\"rMAP\", linestyle=linestyles[0][1], marker=\"*\")\n",
    "#axes[0].plot(thetas, sizes60[\"FULL\"], label=\"FULL\", linestyle=linestyles[0][1], marker=\".\")\n",
    "\n",
    "\n",
    "#axes[1].set_title(\"Powers\")\n",
    "axes[1].set_ylim([0, 1.05])\n",
    "axes[1].set_xlabel(r\"$\\theta$\")\n",
    "axes[1].set_ylabel(\"Powers\")\n",
    "axes[1].plot(thetas, Powers95_60[\"JEF\"], label=\"JEF\", linestyle=linestyles[0][1])\n",
    "axes[1].plot(thetas, Powers95_60[\"UIPD\"], label=\"UIP-D\", linestyle=linestyles[1][1], marker=\"^\")\n",
    "axes[1].plot(thetas, Powers95_60[\"UIPJS\"], label=\"UIP-JS\", linestyle=linestyles[2][1])\n",
    "axes[1].plot(thetas, Powers95_60[\"NPP\"], label=\"MPP\", linestyle=linestyles[3][1])\n",
    "axes[1].plot(thetas, Powers95_60[\"LCP\"], label=\"LCP\", linestyle=linestyles[6][1])\n",
    "axes[1].plot(thetas, Powers95_60[\"rMAP\"], label=\"rMAP\", linestyle=linestyles[0][1], marker=\"*\")\n",
    "#axes[1].plot(thetas, Powers95_60[\"FULL\"], label=\"FULL\", linestyle=linestyles[0][1], marker=\".\")\n",
    "\n",
    "#axes[2].set_title(\"Calibrated powers\")\n",
    "axes[2].set_ylim([0, 1.05])\n",
    "axes[2].set_xlabel(r\"$\\theta$\")\n",
    "axes[2].set_ylabel(\"Calibrated powers\")\n",
    "axes[2].plot(thetas, Powers60[\"JEF\"], label=\"JEF\", linestyle=linestyles[0][1])\n",
    "axes[2].plot(thetas, Powers60[\"UIPD\"], label=\"UIP-D\", linestyle=linestyles[1][1], marker=\"^\")\n",
    "axes[2].plot(thetas, Powers60[\"UIPJS\"], label=\"UIP-JS\", linestyle=linestyles[2][1])\n",
    "axes[2].plot(thetas, Powers60[\"NPP\"], label=\"MPP\", linestyle=linestyles[3][1])\n",
    "axes[2].plot(thetas, Powers60[\"LCP\"], label=\"LCP\", linestyle=linestyles[6][1])\n",
    "axes[2].plot(thetas, Powers60[\"rMAP\"], label=\"rMAP\", linestyle=linestyles[0][1], marker=\"*\")\n",
    "#axes[2].plot(thetas, Powers60[\"FULL\"], label=\"FULL\", linestyle=linestyles[0][1], marker=\".\")\n",
    "\n",
    "axins = inset_axes(axes[2], width=\"40%\", height=\"30%\", loc='lower right',\n",
    "                   bbox_to_anchor=(0.1, 0.05, 0.9, 1.2),\n",
    "                   bbox_transform=axes[2].transAxes)\n",
    "\n",
    "axins.set_ylim([0.3, 0.5])\n",
    "axins.set_yticks([0.3, 0.4, 0.5])\n",
    "axins.set_xlim([0.15, 0.25])\n",
    "axins.set_xticks([0.15, 0.20, 0.25])\n",
    "axins.plot(thetas, Powers60[\"JEF\"], label=\"JEF\", linestyle=linestyles[0][1])\n",
    "axins.plot(thetas, Powers60[\"UIPD\"], label=\"UIPD\", linestyle=linestyles[1][1], marker=\"^\")\n",
    "axins.plot(thetas, Powers60[\"UIPJS\"], label=\"UIPJS\", linestyle=linestyles[2][1])\n",
    "axins.plot(thetas, Powers60[\"NPP\"], label=\"NPP\", linestyle=linestyles[3][1])\n",
    "axins.plot(thetas, Powers60[\"LCP\"], label=\"LCP\", linestyle=linestyles[6][1])\n",
    "axins.plot(thetas, Powers60[\"rMAP\"], label=\"rMAP\", linestyle=linestyles[0][1], marker=\"*\")\n",
    "#axins.plot(thetas, Powers60[\"FULL\"], label=\"FULL\", linestyle=linestyles[0][1], marker=\".\")\n",
    "\n",
    "handles, labels = axes[0].get_legend_handles_labels()\n",
    "_ = fig.legend(handles, labels, loc=(0.92, 0.20))\n",
    "\n",
    "# plt.savefig(\"../plots/cmpNormTest60.pdf\")"
   ]
  },
  {
   "cell_type": "code",
   "execution_count": 30,
   "metadata": {},
   "outputs": [
    {
     "data": {
      "image/png": "[encoded data removed]",
      "text/plain": [
       "<Figure size 1080x360 with 4 Axes>"
      ]
     },
     "metadata": {
      "needs_background": "light"
     },
     "output_type": "display_data"
    }
   ],
   "source": [
    "thetas = idxs\n",
    "fig = plt.figure(figsize=[15, 5])\n",
    "axes = fig.subplots(1, 3)\n",
    "\n",
    "#axes[0].set_title(\"Sizes\")\n",
    "axes[0].set_ylim([0, 1.05])\n",
    "axes[0].set_xlabel(r\"$\\theta$\")\n",
    "axes[0].set_ylabel(\"Sizes\")\n",
    "axes[0].plot(thetas, sizes120[\"JEF\"], label=\"JEF\", linestyle=linestyles[0][1])\n",
    "axes[0].plot(thetas, sizes120[\"UIPD\"], label=\"UIP-D\", linestyle=linestyles[1][1], marker=\"^\")\n",
    "axes[0].plot(thetas, sizes120[\"UIPJS\"], label=\"UIP-JS\", linestyle=linestyles[2][1])\n",
    "axes[0].plot(thetas, sizes120[\"NPP\"], label=\"MPP\", linestyle=linestyles[3][1])\n",
    "axes[0].plot(thetas, sizes120[\"LCP\"], label=\"LCP\", linestyle=linestyles[6][1])\n",
    "axes[0].plot(thetas, sizes120[\"rMAP\"], label=\"rMAP\", linestyle=linestyles[0][1], marker=\"*\")\n",
    "#axes[0].plot(thetas, sizes120[\"FULL\"], label=\"FULL\", linestyle=linestyles[0][1], marker=\".\")\n",
    "\n",
    "\n",
    "#axes[1].set_title(\"Powers\")\n",
    "axes[1].set_ylim([0, 1.05])\n",
    "axes[1].set_xlabel(r\"$\\theta$\")\n",
    "axes[1].set_ylabel(\"Powers\")\n",
    "axes[1].plot(thetas, Powers95_120[\"JEF\"], label=\"JEF\", linestyle=linestyles[0][1])\n",
    "axes[1].plot(thetas, Powers95_120[\"UIPD\"], label=\"UIP-D\", linestyle=linestyles[1][1], marker=\"^\")\n",
    "axes[1].plot(thetas, Powers95_120[\"UIPJS\"], label=\"UIP-JS\", linestyle=linestyles[2][1])\n",
    "axes[1].plot(thetas, Powers95_120[\"NPP\"], label=\"MPP\", linestyle=linestyles[3][1])\n",
    "axes[1].plot(thetas, Powers95_120[\"LCP\"], label=\"LCP\", linestyle=linestyles[6][1])\n",
    "axes[1].plot(thetas, Powers95_120[\"rMAP\"], label=\"rMAP\", linestyle=linestyles[0][1], marker=\"*\")\n",
    "#axes[1].plot(thetas, Powers95_120[\"FULL\"], label=\"FULL\", linestyle=linestyles[0][1], marker=\".\")\n",
    "\n",
    "#axes[2].set_title(\"Calibrated powers\")\n",
    "axes[2].set_ylim([0, 1.05])\n",
    "axes[2].set_xlabel(r\"$\\theta$\")\n",
    "axes[2].set_ylabel(\"Calibrated powers\")\n",
    "axes[2].plot(thetas, Powers120[\"JEF\"], label=\"JEF\", linestyle=linestyles[0][1])\n",
    "axes[2].plot(thetas, Powers120[\"UIPD\"], label=\"UIP-D\", linestyle=linestyles[1][1], marker=\"^\")\n",
    "axes[2].plot(thetas, Powers120[\"UIPJS\"], label=\"UIP-JS\", linestyle=linestyles[2][1])\n",
    "axes[2].plot(thetas, Powers120[\"NPP\"], label=\"MPP\", linestyle=linestyles[3][1])\n",
    "axes[2].plot(thetas, Powers120[\"LCP\"], label=\"LCP\", linestyle=linestyles[6][1])\n",
    "axes[2].plot(thetas, Powers120[\"rMAP\"], label=\"rMAP\", linestyle=linestyles[0][1], marker=\"*\")\n",
    "#axes[2].plot(thetas, Powers120[\"FULL\"], label=\"FULL\", linestyle=linestyles[0][1], marker=\".\")\n",
    "\n",
    "axins = inset_axes(axes[2], width=\"40%\", height=\"30%\", loc='lower right',\n",
    "                   bbox_to_anchor=(0, 0.1, 1, 1.5),\n",
    "                   bbox_transform=axes[2].transAxes)\n",
    "\n",
    "axins.set_ylim([0.6, 0.8])\n",
    "axins.set_yticks([0.6, 0.7, 0.8])\n",
    "axins.set_xlim([0.15, 0.25])\n",
    "axins.set_xticks([0.15, 0.20, 0.25])\n",
    "axins.plot(thetas, Powers120[\"JEF\"], label=\"JEF\", linestyle=linestyles[0][1])\n",
    "axins.plot(thetas, Powers120[\"UIPD\"], label=\"UIP-D\", linestyle=linestyles[1][1], marker=\"^\")\n",
    "axins.plot(thetas, Powers120[\"UIPJS\"], label=\"UIP-JS\", linestyle=linestyles[2][1])\n",
    "axins.plot(thetas, Powers120[\"NPP\"], label=\"MPP\", linestyle=linestyles[3][1])\n",
    "axins.plot(thetas, Powers120[\"LCP\"], label=\"LCP\", linestyle=linestyles[6][1])\n",
    "axins.plot(thetas, Powers120[\"rMAP\"], label=\"rMAP\", linestyle=linestyles[0][1], marker=\"*\")\n",
    "#axins.plot(thetas, Powers120[\"FULL\"], label=\"FULL\", linestyle=linestyles[0][1], marker=\".\")\n",
    "\n",
    "handles, labels = axes[1].get_legend_handles_labels()\n",
    "_ = fig.legend(handles, labels, loc=(0.92, 0.20))\n",
    "\n",
    "# plt.savefig(\"../plots/cmpNormTest120.pdf\")"
   ]
  },
  {
   "cell_type": "code",
   "execution_count": null,
   "metadata": {},
   "outputs": [],
   "source": []
  },
  {
   "cell_type": "code",
   "execution_count": null,
   "metadata": {},
   "outputs": [],
   "source": []
  }
 ],
 "metadata": {
  "kernelspec": {
   "display_name": "Python 3",
   "language": "python",
   "name": "python3"
  },
  "language_info": {
   "codemirror_mode": {
    "name": "ipython",
    "version": 3
   },
   "file_extension": ".py",
   "mimetype": "text/x-python",
   "name": "python",
   "nbconvert_exporter": "python",
   "pygments_lexer": "ipython3",
   "version": "3.7.4"
  }
 },
 "nbformat": 4,
 "nbformat_minor": 2
}
