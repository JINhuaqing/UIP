{
 "cells": [
  {
   "cell_type": "code",
   "execution_count": 1,
   "metadata": {},
   "outputs": [
    {
     "name": "stderr",
     "output_type": "stream",
     "text": [
      "WARNING (theano.tensor.blas): Using NumPy C-API based implementation for BLAS functions.\n"
     ]
    }
   ],
   "source": [
    "import pymc3 as pm\n",
    "import matplotlib.pyplot as plt\n",
    "import numpy as np\n",
    "import pickle\n",
    "from pathlib import Path\n",
    "import pandas as pd\n",
    "import seaborn as sns\n",
    "from easydict import EasyDict as edict\n",
    "from utilities_norm import gen_post_full, gen_post_jef, getNPPcon, getLCPcon, getUIPJScon, getUIPDcon\n",
    "from scipy.stats import norm\n",
    "\n",
    "%matplotlib inline"
   ]
  },
  {
   "cell_type": "code",
   "execution_count": 2,
   "metadata": {},
   "outputs": [],
   "source": [
    "from tqdm import tqdm\n",
    "from collections import defaultdict as ddict\n",
    "from pprint import pprint"
   ]
  },
  {
   "cell_type": "code",
   "execution_count": 296,
   "metadata": {},
   "outputs": [],
   "source": [
    "theta0 = 1\n",
    "sigma0 = sigma1 = sigma2 = 1\n",
    "n = 100\n",
    "thetas = [-0.5, 1]\n",
    "ns = [80, 120]"
   ]
  },
  {
   "cell_type": "code",
   "execution_count": 217,
   "metadata": {},
   "outputs": [],
   "source": [
    "def Ajsample(D, fixm, fixstd):\n",
    "    sm = np.mean(D)\n",
    "    sstd = np.std(D)\n",
    "    return fixstd*(D-sm)/sstd + fixm "
   ]
  },
  {
   "cell_type": "code",
   "execution_count": 218,
   "metadata": {},
   "outputs": [],
   "source": [
    "D = norm.rvs(loc=theta0, scale=sigma0, size=n)\n",
    "D = Ajsample(D, theta0, sigma0)\n",
    "Ds = [ Ajsample(norm.rvs(loc=thetas[i], scale=sigma1, size=ns[i]), thetas[i], sigma1) for i in range(len(ns))] "
   ]
  },
  {
   "cell_type": "markdown",
   "metadata": {},
   "source": [
    "### MPP"
   ]
  },
  {
   "cell_type": "code",
   "execution_count": 201,
   "metadata": {},
   "outputs": [
    {
     "name": "stderr",
     "output_type": "stream",
     "text": [
      "Multiprocess sampling (4 chains in 4 jobs)\n",
      "CompoundStep\n",
      ">Metropolis: [thetah]\n",
      ">Metropolis: [sigma2]\n",
      ">Metropolis: [gammas]\n",
      "Sampling 4 chains, 0 divergences: 100%|██████████| 40000/40000 [00:02<00:00, 14578.29draws/s]\n",
      "The number of effective samples is smaller than 10% for some parameters.\n"
     ]
    }
   ],
   "source": [
    "NPP_model = getNPPcon(D, Ds)\n",
    "with NPP_model:\n",
    "    step = pm.Metropolis()\n",
    "    post_normal_NPP = pm.sample(draws=5000, tune=5000, cores=4, chains=4, step=step)"
   ]
  },
  {
   "cell_type": "markdown",
   "metadata": {},
   "source": [
    "### LCP"
   ]
  },
  {
   "cell_type": "code",
   "execution_count": 202,
   "metadata": {},
   "outputs": [
    {
     "name": "stderr",
     "output_type": "stream",
     "text": [
      "Multiprocess sampling (4 chains in 4 jobs)\n",
      "CompoundStep\n",
      ">Metropolis: [thetah]\n",
      ">Metropolis: [sigma2]\n",
      ">Metropolis: [logtaus]\n",
      "Sampling 4 chains, 0 divergences: 100%|██████████| 100000/100000 [00:06<00:00, 14758.74draws/s]\n",
      "The number of effective samples is smaller than 10% for some parameters.\n"
     ]
    }
   ],
   "source": [
    "LCP_model = getLCPcon(D, Ds)\n",
    "with LCP_model:\n",
    "    step = pm.Metropolis()\n",
    "    #post_normal_LCP = pm.sample(draws=5000, tune=30000, cores=4, chains=4)\n",
    "    post_normal_LCP = pm.sample(draws=5000, tune=20000, cores=4, chains=4, step=step)"
   ]
  },
  {
   "cell_type": "markdown",
   "metadata": {},
   "source": [
    "### UIP"
   ]
  },
  {
   "cell_type": "code",
   "execution_count": 203,
   "metadata": {},
   "outputs": [
    {
     "name": "stderr",
     "output_type": "stream",
     "text": [
      "Multiprocess sampling (4 chains in 4 jobs)\n",
      "CompoundStep\n",
      ">Metropolis: [thetah]\n",
      ">Metropolis: [M]\n",
      ">Metropolis: [sigma2]\n",
      ">Metropolis: [pis]\n",
      "Sampling 4 chains, 0 divergences: 100%|██████████| 40000/40000 [00:04<00:00, 8202.98draws/s]\n",
      "The number of effective samples is smaller than 25% for some parameters.\n"
     ]
    }
   ],
   "source": [
    "UIPD_model = getUIPDcon(D, Ds)\n",
    "with UIPD_model:\n",
    "    step = pm.Metropolis()\n",
    "    post_normal_UIPD = pm.sample(draws=5000,tune=5000, cores=4, chains=4,step=step)"
   ]
  },
  {
   "cell_type": "code",
   "execution_count": 204,
   "metadata": {},
   "outputs": [
    {
     "name": "stderr",
     "output_type": "stream",
     "text": [
      "Multiprocess sampling (4 chains in 4 jobs)\n",
      "CompoundStep\n",
      ">Metropolis: [thetah]\n",
      ">Metropolis: [M]\n",
      ">Metropolis: [sigma2]\n",
      "Sampling 4 chains, 0 divergences: 100%|██████████| 40000/40000 [00:02<00:00, 15127.20draws/s]\n",
      "The number of effective samples is smaller than 25% for some parameters.\n"
     ]
    }
   ],
   "source": [
    "res = getUIPJScon(D, Ds, diag=True)\n",
    "UIPJS_model = res[\"UIPJS\"]\n",
    "pisJS = res[\"pis\"]\n",
    "with UIPJS_model:\n",
    "    step = pm.Metropolis()\n",
    "    post_normal_UIPJS = pm.sample(draws=5000, tune=5000,  cores=4, chains=4, step=step)"
   ]
  },
  {
   "cell_type": "code",
   "execution_count": 264,
   "metadata": {},
   "outputs": [],
   "source": [
    "saveDir = Path(\"./\")\n",
    "saveName = f\"prior_post_theta{theta0}_sigma{sigma0}.pkl\""
   ]
  },
  {
   "cell_type": "code",
   "execution_count": 230,
   "metadata": {},
   "outputs": [],
   "source": [
    "saveData = {}\n",
    "saveData[\"UIPD\"] = post_normal_UIPD\n",
    "saveData[\"UIPJS\"] = [post_normal_UIPJS, pisJS]\n",
    "saveData[\"MPP\"] = post_normal_NPP\n",
    "saveData[\"LCP\"] = post_normal_LCP\n",
    "saveData[\"D\"] = D\n",
    "saveData[\"Ds\"] = Ds\n",
    "saveData[\"ns\"] = ns\n",
    "with open(saveDir/saveName, \"wb\") as f:\n",
    "    pickle.dump(saveData, f)"
   ]
  },
  {
   "cell_type": "code",
   "execution_count": 346,
   "metadata": {},
   "outputs": [],
   "source": [
    "theta0 = 1\n",
    "sigma0 = sigma1 = sigma2 = 1\n",
    "n = 100\n",
    "thetas = [-0.5, 1]\n",
    "ns = [80, 120]\n",
    "\n",
    "saveDir = Path(\"./\")\n",
    "saveName = f\"prior_post_theta{theta0}_sigma{sigma0}.pkl\"\n",
    "with open(saveDir/saveName, \"rb\") as f:\n",
    "    res = pickle.load(f)\n",
    "post_normal_LCP = res[\"LCP\"]\n",
    "post_normal_NPP = res[\"MPP\"]\n",
    "post_normal_UIPD = res[\"UIPD\"]\n",
    "post_normal_UIPJS, pisJS = res[\"UIPJS\"]\n",
    "D = res[\"D\"]\n",
    "Ds = res[\"Ds\"]\n",
    "ns = res[\"ns\"]"
   ]
  },
  {
   "cell_type": "code",
   "execution_count": 347,
   "metadata": {},
   "outputs": [],
   "source": [
    "def getMPP(rs, ns, Ds):\n",
    "    MLEs = [np.mean(Dh) for Dh in Ds]\n",
    "    sVars = [np.var(Dh) for Dh in Ds]\n",
    "    mWs = [rs[i]*ns[i]/sVars[i] for i in range(len(ns))]\n",
    "    nmWs = np.array(mWs)/np.sum(mWs)\n",
    "    pWs = [rs[i]*ns[i] for i in range(len(ns))]\n",
    "    mean = np.sum([nmWs[i]*MLEs[i] for i in range(len(ns))])\n",
    "    var = 1/np.sum([pWs[i]/sVars[i] for i in range(len(ns))])\n",
    "    return {\"mean\": mean, \"var\":var}"
   ]
  },
  {
   "cell_type": "code",
   "execution_count": 348,
   "metadata": {},
   "outputs": [],
   "source": [
    "def getLCP(taus, ns, Ds):\n",
    "    MLEs = [np.mean(Dh) for Dh in Ds]\n",
    "    sVars = [np.var(Dh) for Dh in Ds]\n",
    "    mWs = [taus[i]*ns[i]/(sVars[i]*taus[i] + ns[i] ) for i in range(len(ns))]\n",
    "    nmWs = np.array(mWs)/np.sum(mWs)\n",
    "    pWs = [sVars[i]/(sVars[i]/ns[i]+1/taus[i]) for i in range(len(ns))]\n",
    "    mean = np.sum([nmWs[i]*MLEs[i] for i in range(len(ns))])\n",
    "    var = 1/np.sum([pWs[i]/sVars[i] for i in range(len(ns))])\n",
    "    return {\"mean\": mean, \"var\":var}"
   ]
  },
  {
   "cell_type": "code",
   "execution_count": 349,
   "metadata": {},
   "outputs": [],
   "source": [
    "def getUIP(ws, M, ns, Ds):\n",
    "    MLEs = [np.mean(Dh) for Dh in Ds]\n",
    "    sVars = [np.var(Dh) for Dh in Ds]\n",
    "    pWs = np.array(ws)*M\n",
    "    mean = np.sum([wk*MLEk for wk, MLEk in zip(ws, MLEs)])\n",
    "    var = 1/np.sum([pWsk /sVarsk for pWsk, sVarsk in zip(pWs, sVars)])\n",
    "    return {\"mean\": mean, \"var\":var}"
   ]
  },
  {
   "cell_type": "code",
   "execution_count": 350,
   "metadata": {},
   "outputs": [],
   "source": [
    "logtaus = np.mean(post_normal_LCP[\"logtaus\"], axis=0)\n",
    "taus = np.exp(logtaus)\n",
    "rs = np.mean(post_normal_NPP[\"gammas\"], axis=0)\n",
    "ws = np.mean(post_normal_UIPD[\"pis\"], axis=0)\n",
    "M = np.mean(post_normal_UIPD[\"M\"])\n",
    "#wsJS = np.mean(post_normal_UIPD[\"pis\"], axis=0)\n",
    "MJS = np.mean(post_normal_UIPJS[\"M\"])"
   ]
  },
  {
   "cell_type": "code",
   "execution_count": 351,
   "metadata": {},
   "outputs": [],
   "source": [
    "MPPpost = post_normal_NPP[\"thetah\"]\n",
    "LCPpost = post_normal_LCP[\"thetah\"]\n",
    "UIPDpost = post_normal_UIPD[\"thetah\"]\n",
    "UIPJSpost = post_normal_UIPJS[\"thetah\"]"
   ]
  },
  {
   "cell_type": "code",
   "execution_count": 352,
   "metadata": {},
   "outputs": [],
   "source": [
    "MPPparas = getMPP(rs, ns, Ds)\n",
    "LCPparas = getLCP(taus, ns, Ds)\n",
    "UIPparas = getUIP(ws, M, ns, Ds)\n",
    "UIPJSparas = getUIP(pisJS, MJS, ns, Ds)"
   ]
  },
  {
   "cell_type": "code",
   "execution_count": 353,
   "metadata": {},
   "outputs": [],
   "source": [
    "MPPnorm = norm(loc=MPPparas[\"mean\"], scale=np.sqrt(MPPparas[\"var\"]))\n",
    "LCPnorm = norm(loc=LCPparas[\"mean\"], scale=np.sqrt(LCPparas[\"var\"]))\n",
    "UIPnorm = norm(loc=UIPparas[\"mean\"], scale=np.sqrt(UIPparas[\"var\"]))\n",
    "UIPJSnorm = norm(loc=UIPJSparas[\"mean\"], scale=np.sqrt(UIPJSparas[\"var\"]))"
   ]
  },
  {
   "cell_type": "code",
   "execution_count": 363,
   "metadata": {},
   "outputs": [
    {
     "data": {
      "text/plain": [
       "<matplotlib.legend.Legend at 0x7f3ae193d710>"
      ]
     },
     "execution_count": 363,
     "metadata": {},
     "output_type": "execute_result"
    },
    {
     "data": {
      "image/png": "[encoded data removed]",
      "text/plain": [
       "<Figure size 288x432 with 2 Axes>"
      ]
     },
     "metadata": {
      "needs_background": "light"
     },
     "output_type": "display_data"
    }
   ],
   "source": [
    "colors = sns.color_palette(\"hls\", 4)\n",
    "x = np.linspace(0.1, 1.5, 1000)\n",
    "#x = np.linspace(-1.55, 0.5, 1000)\n",
    "#x = np.linspace(-1, 0.5, 1000)\n",
    "\n",
    "tl = r\"$\\hat{\\theta}$\" + f\"={theta0}\" + \", \" +  r\"$\\hat{\\sigma}$\" + f\"={sigma0}\"\n",
    "fig = plt.figure(figsize=(4, 6))\n",
    "ax1 = plt.subplot(211)\n",
    "plt.title(tl)\n",
    "plt.plot(x, LCPnorm.pdf(x), label=\"LCP\", linestyle=\"-\", color=colors[1])\n",
    "plt.plot(x, MPPnorm.pdf(x), label=\"MPP\", linestyle=\":\", color=colors[0])\n",
    "plt.plot(x, UIPnorm.pdf(x), label=\"UIP-Dirichlet\", linestyle=\"--\", color=colors[2])\n",
    "plt.plot(x, UIPJSnorm.pdf(x), label=\"UIP-JS\", linestyle=\"-.\", color=colors[3])\n",
    "plt.axvline(theta0, color=\"red\")\n",
    "plt.legend()\n",
    "\n",
    "plt.subplot(212, sharex=ax1, sharey=ax1)\n",
    "sns.kdeplot(LCPpost, color=colors[1], label=\"LCP\", linestyle=\"-\")\n",
    "sns.kdeplot(MPPpost, color=colors[0], label=\"MPP\", linestyle=\":\")\n",
    "sns.kdeplot(UIPDpost, color=colors[2], label=\"UIP-Dirichlet\", linestyle=\"--\")\n",
    "sns.kdeplot(UIPJSpost, color=colors[3], label=\"UIP-JS\", linestyle=\"-.\")\n",
    "plt.axvline(theta0, color=\"red\")\n",
    "plt.savefig(f\"prior_post_theta{theta0}_sigma{sigma0}.pdf\")\n",
    "plt.legend()"
   ]
  },
  {
   "cell_type": "code",
   "execution_count": 295,
   "metadata": {},
   "outputs": [
    {
     "data": {
      "text/plain": [
       "array([9.08033603e+02, 1.58225439e-01])"
      ]
     },
     "execution_count": 295,
     "metadata": {},
     "output_type": "execute_result"
    }
   ],
   "source": [
    "taus"
   ]
  },
  {
   "cell_type": "code",
   "execution_count": null,
   "metadata": {},
   "outputs": [],
   "source": []
  }
 ],
 "metadata": {
  "kernelspec": {
   "display_name": "Python 3",
   "language": "python",
   "name": "python3"
  },
  "language_info": {
   "codemirror_mode": {
    "name": "ipython",
    "version": 3
   },
   "file_extension": ".py",
   "mimetype": "text/x-python",
   "name": "python",
   "nbconvert_exporter": "python",
   "pygments_lexer": "ipython3",
   "version": "3.7.3"
  }
 },
 "nbformat": 4,
 "nbformat_minor": 2
}
