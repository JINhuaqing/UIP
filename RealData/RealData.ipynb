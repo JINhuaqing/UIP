{
 "cells": [
  {
   "cell_type": "markdown",
   "metadata": {},
   "source": [
    "## import needed packages"
   ]
  },
  {
   "cell_type": "code",
   "execution_count": 1,
   "metadata": {},
   "outputs": [],
   "source": [
    "import numpy as np\n",
    "import pymc3 as pm\n",
    "import matplotlib.pyplot as plt\n",
    "import seaborn as sns\n",
    "from easydict import EasyDict as edict\n",
    "import scipy.stats as ss\n",
    "import numpy.random as npr\n",
    "from pprint import pprint\n",
    "import pandas as pd\n",
    "from collections import defaultdict as ddict"
   ]
  },
  {
   "cell_type": "code",
   "execution_count": 2,
   "metadata": {},
   "outputs": [],
   "source": [
    "%matplotlib inline\n",
    "plt.rcParams['figure.figsize'] = (10.0, 8.0)"
   ]
  },
  {
   "cell_type": "markdown",
   "metadata": {},
   "source": [
    "## Test the functions in PyMC3 package"
   ]
  },
  {
   "cell_type": "markdown",
   "metadata": {},
   "source": [
    "### obtain data"
   ]
  },
  {
   "cell_type": "code",
   "execution_count": 30,
   "metadata": {},
   "outputs": [],
   "source": [
    "NormRv = ss.norm(loc=2, scale=1)\n",
    "Xs = NormRv.rvs(100)\n",
    "mleX = Xs.mean()\n",
    "varX = Xs.var() \n",
    "n = len(Xs)"
   ]
  },
  {
   "cell_type": "markdown",
   "metadata": {},
   "source": [
    "### Build ordinary model"
   ]
  },
  {
   "cell_type": "code",
   "execution_count": 31,
   "metadata": {},
   "outputs": [
    {
     "name": "stderr",
     "output_type": "stream",
     "text": [
      "Auto-assigning NUTS sampler...\n",
      "Initializing NUTS using jitter+adapt_diag...\n",
      "Multiprocess sampling (4 chains in 4 jobs)\n",
      "NUTS: [Sigma2, theta]\n",
      "Sampling 4 chains, 0 divergences: 100%|██████████| 60000/60000 [00:42<00:00, 1418.52draws/s]\n"
     ]
    }
   ],
   "source": [
    "with pm.Model() as md:\n",
    "    theta = pm.Normal(\"theta\", mu=0, sigma=10)\n",
    "    Sig2 = pm.InverseGamma(\"Sigma2\", alpha=0.01, beta=0.01)\n",
    "    X = pm.Normal(\"X\", mu=theta, sigma=Sig2**(1/2), observed=Xs)\n",
    "    trace = pm.sample(10000, tune=5000)"
   ]
  },
  {
   "cell_type": "code",
   "execution_count": 32,
   "metadata": {},
   "outputs": [
    {
     "data": {
      "text/html": [
       "<div>\n",
       "<style scoped>\n",
       "    .dataframe tbody tr th:only-of-type {\n",
       "        vertical-align: middle;\n",
       "    }\n",
       "\n",
       "    .dataframe tbody tr th {\n",
       "        vertical-align: top;\n",
       "    }\n",
       "\n",
       "    .dataframe thead th {\n",
       "        text-align: right;\n",
       "    }\n",
       "</style>\n",
       "<table border=\"1\" class=\"dataframe\">\n",
       "  <thead>\n",
       "    <tr style=\"text-align: right;\">\n",
       "      <th></th>\n",
       "      <th>mean</th>\n",
       "      <th>sd</th>\n",
       "      <th>hpd_3%</th>\n",
       "      <th>hpd_97%</th>\n",
       "      <th>mcse_mean</th>\n",
       "      <th>mcse_sd</th>\n",
       "      <th>ess_mean</th>\n",
       "      <th>ess_sd</th>\n",
       "      <th>ess_bulk</th>\n",
       "      <th>ess_tail</th>\n",
       "      <th>r_hat</th>\n",
       "    </tr>\n",
       "  </thead>\n",
       "  <tbody>\n",
       "    <tr>\n",
       "      <th>theta</th>\n",
       "      <td>1.993</td>\n",
       "      <td>0.099</td>\n",
       "      <td>1.805</td>\n",
       "      <td>2.176</td>\n",
       "      <td>0.001</td>\n",
       "      <td>0.000</td>\n",
       "      <td>33512.0</td>\n",
       "      <td>33381.0</td>\n",
       "      <td>33534.0</td>\n",
       "      <td>27615.0</td>\n",
       "      <td>1.0</td>\n",
       "    </tr>\n",
       "    <tr>\n",
       "      <th>Sigma2</th>\n",
       "      <td>0.973</td>\n",
       "      <td>0.140</td>\n",
       "      <td>0.729</td>\n",
       "      <td>1.238</td>\n",
       "      <td>0.001</td>\n",
       "      <td>0.001</td>\n",
       "      <td>31594.0</td>\n",
       "      <td>30546.0</td>\n",
       "      <td>32421.0</td>\n",
       "      <td>26691.0</td>\n",
       "      <td>1.0</td>\n",
       "    </tr>\n",
       "  </tbody>\n",
       "</table>\n",
       "</div>"
      ],
      "text/plain": [
       "         mean     sd  hpd_3%  hpd_97%  mcse_mean  mcse_sd  ess_mean   ess_sd  \\\n",
       "theta   1.993  0.099   1.805    2.176      0.001    0.000   33512.0  33381.0   \n",
       "Sigma2  0.973  0.140   0.729    1.238      0.001    0.001   31594.0  30546.0   \n",
       "\n",
       "        ess_bulk  ess_tail  r_hat  \n",
       "theta    33534.0   27615.0    1.0  \n",
       "Sigma2   32421.0   26691.0    1.0  "
      ]
     },
     "execution_count": 32,
     "metadata": {},
     "output_type": "execute_result"
    }
   ],
   "source": [
    "pm.summary(trace)"
   ]
  },
  {
   "cell_type": "code",
   "execution_count": 33,
   "metadata": {},
   "outputs": [
    {
     "data": {
      "text/plain": [
       "array([[<matplotlib.axes._subplots.AxesSubplot object at 0x7fb3ee9307f0>,\n",
       "        <matplotlib.axes._subplots.AxesSubplot object at 0x7fb3edbd64e0>],\n",
       "       [<matplotlib.axes._subplots.AxesSubplot object at 0x7fb3eb262cc0>,\n",
       "        <matplotlib.axes._subplots.AxesSubplot object at 0x7fb3eac6ada0>]],\n",
       "      dtype=object)"
      ]
     },
     "execution_count": 33,
     "metadata": {},
     "output_type": "execute_result"
    },
    {
     "data": {
      "image/png": "[encoded data removed]",
      "text/plain": [
       "<Figure size 864x288 with 4 Axes>"
      ]
     },
     "metadata": {
      "needs_background": "light"
     },
     "output_type": "display_data"
    }
   ],
   "source": [
    "pm.traceplot(trace)"
   ]
  },
  {
   "cell_type": "markdown",
   "metadata": {},
   "source": [
    "### Build model based on logp"
   ]
  },
  {
   "cell_type": "code",
   "execution_count": 57,
   "metadata": {},
   "outputs": [
    {
     "name": "stderr",
     "output_type": "stream",
     "text": [
      "Auto-assigning NUTS sampler...\n",
      "Initializing NUTS using jitter+adapt_diag...\n",
      "Multiprocess sampling (4 chains in 4 jobs)\n",
      "NUTS: [Sigma2, theta]\n",
      "Sampling 4 chains, 0 divergences: 100%|██████████| 60000/60000 [00:54<00:00, 1096.72draws/s]\n"
     ]
    }
   ],
   "source": [
    "with pm.Model() as md:\n",
    "    theta = pm.Normal(\"theta\", mu=0, sigma=10)\n",
    "    Sig2 = pm.InverseGamma(\"Sigma2\", alpha=0.01, beta=0.01)\n",
    "    def tmpf(mlem, mlev):\n",
    "        return -n/2 * np.log(Sig2) - n*mlev/2/Sig2 - n*(mlem-theta)**2/2/Sig2\n",
    "    pm.DensityDist(\"Distdensity\", tmpf, observed={\"mlem\":[mleX], \"mlev\":[varX]})\n",
    "    tracelogp = pm.sample(10000, tune=5000)"
   ]
  },
  {
   "cell_type": "code",
   "execution_count": 58,
   "metadata": {},
   "outputs": [
    {
     "data": {
      "text/html": [
       "<div>\n",
       "<style scoped>\n",
       "    .dataframe tbody tr th:only-of-type {\n",
       "        vertical-align: middle;\n",
       "    }\n",
       "\n",
       "    .dataframe tbody tr th {\n",
       "        vertical-align: top;\n",
       "    }\n",
       "\n",
       "    .dataframe thead th {\n",
       "        text-align: right;\n",
       "    }\n",
       "</style>\n",
       "<table border=\"1\" class=\"dataframe\">\n",
       "  <thead>\n",
       "    <tr style=\"text-align: right;\">\n",
       "      <th></th>\n",
       "      <th>mean</th>\n",
       "      <th>sd</th>\n",
       "      <th>hpd_3%</th>\n",
       "      <th>hpd_97%</th>\n",
       "      <th>mcse_mean</th>\n",
       "      <th>mcse_sd</th>\n",
       "      <th>ess_mean</th>\n",
       "      <th>ess_sd</th>\n",
       "      <th>ess_bulk</th>\n",
       "      <th>ess_tail</th>\n",
       "      <th>r_hat</th>\n",
       "    </tr>\n",
       "  </thead>\n",
       "  <tbody>\n",
       "    <tr>\n",
       "      <th>theta</th>\n",
       "      <td>1.992</td>\n",
       "      <td>0.099</td>\n",
       "      <td>1.805</td>\n",
       "      <td>2.176</td>\n",
       "      <td>0.001</td>\n",
       "      <td>0.000</td>\n",
       "      <td>33862.0</td>\n",
       "      <td>33839.0</td>\n",
       "      <td>33806.0</td>\n",
       "      <td>27651.0</td>\n",
       "      <td>1.0</td>\n",
       "    </tr>\n",
       "    <tr>\n",
       "      <th>Sigma2</th>\n",
       "      <td>0.974</td>\n",
       "      <td>0.143</td>\n",
       "      <td>0.722</td>\n",
       "      <td>1.241</td>\n",
       "      <td>0.001</td>\n",
       "      <td>0.001</td>\n",
       "      <td>32681.0</td>\n",
       "      <td>31382.0</td>\n",
       "      <td>33999.0</td>\n",
       "      <td>27538.0</td>\n",
       "      <td>1.0</td>\n",
       "    </tr>\n",
       "  </tbody>\n",
       "</table>\n",
       "</div>"
      ],
      "text/plain": [
       "         mean     sd  hpd_3%  hpd_97%  mcse_mean  mcse_sd  ess_mean   ess_sd  \\\n",
       "theta   1.992  0.099   1.805    2.176      0.001    0.000   33862.0  33839.0   \n",
       "Sigma2  0.974  0.143   0.722    1.241      0.001    0.001   32681.0  31382.0   \n",
       "\n",
       "        ess_bulk  ess_tail  r_hat  \n",
       "theta    33806.0   27651.0    1.0  \n",
       "Sigma2   33999.0   27538.0    1.0  "
      ]
     },
     "execution_count": 58,
     "metadata": {},
     "output_type": "execute_result"
    }
   ],
   "source": [
    "pm.summary(tracelogp)"
   ]
  },
  {
   "cell_type": "code",
   "execution_count": 59,
   "metadata": {},
   "outputs": [
    {
     "data": {
      "text/plain": [
       "array([[<matplotlib.axes._subplots.AxesSubplot object at 0x7fb3d4378208>,\n",
       "        <matplotlib.axes._subplots.AxesSubplot object at 0x7fb3d43079b0>],\n",
       "       [<matplotlib.axes._subplots.AxesSubplot object at 0x7fb3d42b88d0>,\n",
       "        <matplotlib.axes._subplots.AxesSubplot object at 0x7fb3d43a9dd8>]],\n",
       "      dtype=object)"
      ]
     },
     "execution_count": 59,
     "metadata": {},
     "output_type": "execute_result"
    },
    {
     "data": {
      "image/png": "[encoded data removed]",
      "text/plain": [
       "<Figure size 864x288 with 4 Axes>"
      ]
     },
     "metadata": {
      "needs_background": "light"
     },
     "output_type": "display_data"
    }
   ],
   "source": [
    "pm.traceplot(tracelogp)"
   ]
  },
  {
   "cell_type": "code",
   "execution_count": 40,
   "metadata": {},
   "outputs": [
    {
     "name": "stderr",
     "output_type": "stream",
     "text": [
      "Auto-assigning NUTS sampler...\n",
      "Initializing NUTS using jitter+adapt_diag...\n",
      "Multiprocess sampling (4 chains in 4 jobs)\n",
      "NUTS: [Sigma2, theta]\n",
      "Sampling 4 chains, 0 divergences: 100%|██████████| 60000/60000 [00:43<00:00, 1377.19draws/s]\n"
     ]
    }
   ],
   "source": [
    "with pm.Model() as md:\n",
    "    theta = pm.Normal(\"theta\", mu=0, sigma=10)\n",
    "    Sig2 = pm.InverseGamma(\"Sigma2\", alpha=0.01, beta=0.01)\n",
    "    X = pm.Normal(\"X\", mu=theta, sigma=Sig2**(1/2), observed=Xs)\n",
    "    trace2 = pm.sample(10000, tune=5000)"
   ]
  },
  {
   "cell_type": "code",
   "execution_count": 41,
   "metadata": {},
   "outputs": [
    {
     "data": {
      "text/html": [
       "<div>\n",
       "<style scoped>\n",
       "    .dataframe tbody tr th:only-of-type {\n",
       "        vertical-align: middle;\n",
       "    }\n",
       "\n",
       "    .dataframe tbody tr th {\n",
       "        vertical-align: top;\n",
       "    }\n",
       "\n",
       "    .dataframe thead th {\n",
       "        text-align: right;\n",
       "    }\n",
       "</style>\n",
       "<table border=\"1\" class=\"dataframe\">\n",
       "  <thead>\n",
       "    <tr style=\"text-align: right;\">\n",
       "      <th></th>\n",
       "      <th>mean</th>\n",
       "      <th>sd</th>\n",
       "      <th>hpd_3%</th>\n",
       "      <th>hpd_97%</th>\n",
       "      <th>mcse_mean</th>\n",
       "      <th>mcse_sd</th>\n",
       "      <th>ess_mean</th>\n",
       "      <th>ess_sd</th>\n",
       "      <th>ess_bulk</th>\n",
       "      <th>ess_tail</th>\n",
       "      <th>r_hat</th>\n",
       "    </tr>\n",
       "  </thead>\n",
       "  <tbody>\n",
       "    <tr>\n",
       "      <th>theta</th>\n",
       "      <td>1.991</td>\n",
       "      <td>0.099</td>\n",
       "      <td>1.804</td>\n",
       "      <td>2.174</td>\n",
       "      <td>0.001</td>\n",
       "      <td>0.000</td>\n",
       "      <td>32189.0</td>\n",
       "      <td>32183.0</td>\n",
       "      <td>32212.0</td>\n",
       "      <td>27790.0</td>\n",
       "      <td>1.0</td>\n",
       "    </tr>\n",
       "    <tr>\n",
       "      <th>Sigma2</th>\n",
       "      <td>0.973</td>\n",
       "      <td>0.141</td>\n",
       "      <td>0.719</td>\n",
       "      <td>1.237</td>\n",
       "      <td>0.001</td>\n",
       "      <td>0.001</td>\n",
       "      <td>32067.0</td>\n",
       "      <td>30955.0</td>\n",
       "      <td>32800.0</td>\n",
       "      <td>27592.0</td>\n",
       "      <td>1.0</td>\n",
       "    </tr>\n",
       "  </tbody>\n",
       "</table>\n",
       "</div>"
      ],
      "text/plain": [
       "         mean     sd  hpd_3%  hpd_97%  mcse_mean  mcse_sd  ess_mean   ess_sd  \\\n",
       "theta   1.991  0.099   1.804    2.174      0.001    0.000   32189.0  32183.0   \n",
       "Sigma2  0.973  0.141   0.719    1.237      0.001    0.001   32067.0  30955.0   \n",
       "\n",
       "        ess_bulk  ess_tail  r_hat  \n",
       "theta    32212.0   27790.0    1.0  \n",
       "Sigma2   32800.0   27592.0    1.0  "
      ]
     },
     "execution_count": 41,
     "metadata": {},
     "output_type": "execute_result"
    }
   ],
   "source": [
    "pm.summary(trace2)"
   ]
  },
  {
   "cell_type": "code",
   "execution_count": 42,
   "metadata": {},
   "outputs": [
    {
     "data": {
      "text/plain": [
       "array([[<matplotlib.axes._subplots.AxesSubplot object at 0x7fb3d62b1518>,\n",
       "        <matplotlib.axes._subplots.AxesSubplot object at 0x7fb3d62cd6d8>],\n",
       "       [<matplotlib.axes._subplots.AxesSubplot object at 0x7fb3d635e5f8>,\n",
       "        <matplotlib.axes._subplots.AxesSubplot object at 0x7fb3d627fd68>]],\n",
       "      dtype=object)"
      ]
     },
     "execution_count": 42,
     "metadata": {},
     "output_type": "execute_result"
    },
    {
     "data": {
      "image/png": "[encoded data removed]",
      "text/plain": [
       "<Figure size 864x288 with 4 Axes>"
      ]
     },
     "metadata": {
      "needs_background": "light"
     },
     "output_type": "display_data"
    }
   ],
   "source": [
    "pm.traceplot(trace2)"
   ]
  },
  {
   "cell_type": "markdown",
   "metadata": {},
   "source": [
    "## Real Data "
   ]
  },
  {
   "cell_type": "markdown",
   "metadata": {},
   "source": [
    "### the data "
   ]
  },
  {
   "cell_type": "code",
   "execution_count": 3,
   "metadata": {},
   "outputs": [],
   "source": [
    "dat1 = edict()\n",
    "dat1.nivo = edict()\n",
    "dat1.doce = edict()\n",
    "\n",
    "dat1.nivo.n = 135\n",
    "dat1.nivo.low = 7.3\n",
    "dat1.nivo.up = 13.3\n",
    "dat1.nivo.median = 9.2\n",
    "\n",
    "dat1.doce.n = 137\n",
    "dat1.doce.low = 5.1\n",
    "dat1.doce.up = 7.3\n",
    "dat1.doce.median = 6.0"
   ]
  },
  {
   "cell_type": "code",
   "execution_count": 4,
   "metadata": {},
   "outputs": [],
   "source": [
    "dat2 = edict()\n",
    "dat2.nivo = edict()\n",
    "dat2.doce = edict()\n",
    "\n",
    "dat2.nivo.n = 292\n",
    "dat2.nivo.low = 9.7\n",
    "dat2.nivo.up = 15.0\n",
    "dat2.nivo.median = 12.2\n",
    "\n",
    "dat2.doce.n = 290\n",
    "dat2.doce.low = 8.1\n",
    "dat2.doce.up = 10.7\n",
    "dat2.doce.median = 9.4"
   ]
  },
  {
   "cell_type": "code",
   "execution_count": 5,
   "metadata": {},
   "outputs": [],
   "source": [
    "dat3 = edict()\n",
    "dat3.nivo = edict()\n",
    "dat3.doce = edict()\n",
    "\n",
    "dat3.nivo.n = 338\n",
    "dat3.nivo.low = 10.4\n",
    "dat3.nivo.up = 14.0\n",
    "dat3.nivo.median = 12\n",
    "\n",
    "dat3.doce.n = 166\n",
    "dat3.doce.low = 7.6\n",
    "dat3.doce.up = 11.2\n",
    "dat3.doce.median = 9.6"
   ]
  },
  {
   "cell_type": "markdown",
   "metadata": {},
   "source": [
    "`dat4` and `dat5` are **not** nivo-vs-doce data"
   ]
  },
  {
   "cell_type": "code",
   "execution_count": 6,
   "metadata": {},
   "outputs": [],
   "source": [
    "dat4 = edict()\n",
    "dat4.nivo = edict()\n",
    "dat4.doce = edict()\n",
    "\n",
    "dat4.nivo.n = 345\n",
    "dat4.nivo.low = 9.4\n",
    "dat4.nivo.up = 11.9\n",
    "dat4.nivo.median = 10.4\n",
    "\n",
    "dat4.doce.n = 343\n",
    "dat4.doce.low = 7.5\n",
    "dat4.doce.up = 9.8\n",
    "dat4.doce.median = 8.5"
   ]
  },
  {
   "cell_type": "code",
   "execution_count": 15,
   "metadata": {},
   "outputs": [],
   "source": [
    "dat5 = edict()\n",
    "dat5.nivo = edict()\n",
    "dat5.doce = edict()\n",
    "\n",
    "dat5.nivo.n = 346\n",
    "dat5.nivo.low = 10.0\n",
    "dat5.nivo.up = 17.3\n",
    "dat5.nivo.median = 12.7\n",
    "\n",
    "dat5.doce.n = 343\n",
    "dat5.doce.low = 7.5\n",
    "dat5.doce.up = 9.8\n",
    "dat5.doce.median = 8.5"
   ]
  },
  {
   "cell_type": "markdown",
   "metadata": {},
   "source": [
    "### Raw model"
   ]
  },
  {
   "cell_type": "code",
   "execution_count": 7,
   "metadata": {},
   "outputs": [],
   "source": [
    "from scipy.stats import norm, invgamma \n",
    "\n",
    "def sigma2cond_theta(theta, D):\n",
    "    n = D.n\n",
    "    shape = n/2\n",
    "    scale = ((D.up - D.low)/2/1.96/np.sqrt(np.pi/2) * np.sqrt(n))**2*(n-1)/2\n",
    "    return invgamma.rvs(a=shape, scale=scale, size=1)\n",
    "    \n",
    "\n",
    "def thetacond_sigma2(sigma2, D):\n",
    "    n = D.n\n",
    "    loc = (D.low + D.up)/2\n",
    "    scale = np.sqrt(sigma2/n) \n",
    "    return norm.rvs(loc=loc, scale=scale, size=1)\n",
    "\n",
    "def gen_post_jef(N, D, burnin=5000, thin=5, diag=False):\n",
    "    thetas = []\n",
    "    sigma2s = []\n",
    "    ctheta = 0\n",
    "    for i in range(N):\n",
    "        csigma2 = sigma2cond_theta(ctheta, D=D)\n",
    "        ctheta = thetacond_sigma2(csigma2, D=D)\n",
    "        thetas.append(ctheta)\n",
    "        sigma2s.append(csigma2)\n",
    "    thetas, sigma2s = np.array(thetas), np.array(sigma2s)\n",
    "    if diag:\n",
    "        return {\"theta\": thetas, \"sigma2\": sigma2s}\n",
    "    else:\n",
    "        return {\"theta\": thetas[burnin::thin], \"sigma2\": sigma2s[burnin::thin]}"
   ]
  },
  {
   "cell_type": "code",
   "execution_count": 8,
   "metadata": {},
   "outputs": [],
   "source": [
    "SamData1 = edict()\n",
    "SamData1.nivo = gen_post_jef(25000, dat1.nivo)\n",
    "SamData1.doce = gen_post_jef(25000, dat1.doce)"
   ]
  },
  {
   "cell_type": "code",
   "execution_count": 9,
   "metadata": {},
   "outputs": [],
   "source": [
    "SamData2 = edict()\n",
    "SamData2.nivo = gen_post_jef(25000, dat2.nivo)\n",
    "SamData2.doce = gen_post_jef(25000, dat2.doce)"
   ]
  },
  {
   "cell_type": "code",
   "execution_count": 10,
   "metadata": {},
   "outputs": [],
   "source": [
    "SamData3 = edict()\n",
    "SamData3.nivo = gen_post_jef(25000, dat3.nivo)\n",
    "SamData3.doce = gen_post_jef(25000, dat3.doce)"
   ]
  },
  {
   "cell_type": "code",
   "execution_count": 11,
   "metadata": {},
   "outputs": [],
   "source": [
    "alldata = edict()\n",
    "alldata.theta = np.concatenate([SamData1.nivo.theta, SamData1.doce.theta,\n",
    "                              SamData2.nivo.theta,SamData2.doce.theta,\n",
    "                              SamData3.nivo.theta,SamData3.doce.theta]).reshape(-1)\n",
    "nums = len(SamData1.nivo.theta)\n",
    "alldata.type = np.array([\"nivo\"]*nums + [\"doce\"]*nums + [\"nivo\"]*nums + [\"doce\"]*nums +[\"nivo\"]*nums + [\"doce\"]*nums)\n",
    "alldata.data = np.array([\"data1\"]*nums*2 + [\"data2\"]*nums*2 + [\"data3\"]*nums*2)"
   ]
  },
  {
   "cell_type": "code",
   "execution_count": 12,
   "metadata": {},
   "outputs": [],
   "source": [
    "alldatadf = pd.DataFrame(alldata)\n",
    "alldatagp = alldatadf.groupby([\"data\", \"type\"])"
   ]
  },
  {
   "cell_type": "code",
   "execution_count": 13,
   "metadata": {},
   "outputs": [
    {
     "data": {
      "text/html": [
       "<div>\n",
       "<style scoped>\n",
       "    .dataframe tbody tr th:only-of-type {\n",
       "        vertical-align: middle;\n",
       "    }\n",
       "\n",
       "    .dataframe tbody tr th {\n",
       "        vertical-align: top;\n",
       "    }\n",
       "\n",
       "    .dataframe thead th {\n",
       "        text-align: right;\n",
       "    }\n",
       "</style>\n",
       "<table border=\"1\" class=\"dataframe\">\n",
       "  <thead>\n",
       "    <tr style=\"text-align: right;\">\n",
       "      <th></th>\n",
       "      <th></th>\n",
       "      <th></th>\n",
       "      <th>theta</th>\n",
       "    </tr>\n",
       "    <tr>\n",
       "      <th>data</th>\n",
       "      <th>type</th>\n",
       "      <th></th>\n",
       "      <th></th>\n",
       "    </tr>\n",
       "  </thead>\n",
       "  <tbody>\n",
       "    <tr>\n",
       "      <th rowspan=\"6\" valign=\"top\">data1</th>\n",
       "      <th rowspan=\"3\" valign=\"top\">doce</th>\n",
       "      <th>0.500</th>\n",
       "      <td>6.178373</td>\n",
       "    </tr>\n",
       "    <tr>\n",
       "      <th>0.025</th>\n",
       "      <td>5.314250</td>\n",
       "    </tr>\n",
       "    <tr>\n",
       "      <th>0.975</th>\n",
       "      <td>7.088498</td>\n",
       "    </tr>\n",
       "    <tr>\n",
       "      <th rowspan=\"3\" valign=\"top\">nivo</th>\n",
       "      <th>0.500</th>\n",
       "      <td>10.292411</td>\n",
       "    </tr>\n",
       "    <tr>\n",
       "      <th>0.025</th>\n",
       "      <td>7.869433</td>\n",
       "    </tr>\n",
       "    <tr>\n",
       "      <th>0.975</th>\n",
       "      <td>12.721842</td>\n",
       "    </tr>\n",
       "    <tr>\n",
       "      <th rowspan=\"6\" valign=\"top\">data2</th>\n",
       "      <th rowspan=\"3\" valign=\"top\">doce</th>\n",
       "      <th>0.500</th>\n",
       "      <td>9.392112</td>\n",
       "    </tr>\n",
       "    <tr>\n",
       "      <th>0.025</th>\n",
       "      <td>8.358493</td>\n",
       "    </tr>\n",
       "    <tr>\n",
       "      <th>0.975</th>\n",
       "      <td>10.447490</td>\n",
       "    </tr>\n",
       "    <tr>\n",
       "      <th rowspan=\"3\" valign=\"top\">nivo</th>\n",
       "      <th>0.500</th>\n",
       "      <td>12.336921</td>\n",
       "    </tr>\n",
       "    <tr>\n",
       "      <th>0.025</th>\n",
       "      <td>10.226215</td>\n",
       "    </tr>\n",
       "    <tr>\n",
       "      <th>0.975</th>\n",
       "      <td>14.451665</td>\n",
       "    </tr>\n",
       "    <tr>\n",
       "      <th rowspan=\"6\" valign=\"top\">data3</th>\n",
       "      <th rowspan=\"3\" valign=\"top\">doce</th>\n",
       "      <th>0.500</th>\n",
       "      <td>9.417697</td>\n",
       "    </tr>\n",
       "    <tr>\n",
       "      <th>0.025</th>\n",
       "      <td>7.946059</td>\n",
       "    </tr>\n",
       "    <tr>\n",
       "      <th>0.975</th>\n",
       "      <td>10.836357</td>\n",
       "    </tr>\n",
       "    <tr>\n",
       "      <th rowspan=\"3\" valign=\"top\">nivo</th>\n",
       "      <th>0.500</th>\n",
       "      <td>12.191875</td>\n",
       "    </tr>\n",
       "    <tr>\n",
       "      <th>0.025</th>\n",
       "      <td>10.743716</td>\n",
       "    </tr>\n",
       "    <tr>\n",
       "      <th>0.975</th>\n",
       "      <td>13.637745</td>\n",
       "    </tr>\n",
       "  </tbody>\n",
       "</table>\n",
       "</div>"
      ],
      "text/plain": [
       "                      theta\n",
       "data  type                 \n",
       "data1 doce 0.500   6.178373\n",
       "           0.025   5.314250\n",
       "           0.975   7.088498\n",
       "      nivo 0.500  10.292411\n",
       "           0.025   7.869433\n",
       "           0.975  12.721842\n",
       "data2 doce 0.500   9.392112\n",
       "           0.025   8.358493\n",
       "           0.975  10.447490\n",
       "      nivo 0.500  12.336921\n",
       "           0.025  10.226215\n",
       "           0.975  14.451665\n",
       "data3 doce 0.500   9.417697\n",
       "           0.025   7.946059\n",
       "           0.975  10.836357\n",
       "      nivo 0.500  12.191875\n",
       "           0.025  10.743716\n",
       "           0.975  13.637745"
      ]
     },
     "execution_count": 13,
     "metadata": {},
     "output_type": "execute_result"
    }
   ],
   "source": [
    "alldatagp.quantile([0.5, 0.025, 0.975])"
   ]
  },
  {
   "cell_type": "code",
   "execution_count": 14,
   "metadata": {},
   "outputs": [
    {
     "data": {
      "text/html": [
       "<div>\n",
       "<style scoped>\n",
       "    .dataframe tbody tr th:only-of-type {\n",
       "        vertical-align: middle;\n",
       "    }\n",
       "\n",
       "    .dataframe tbody tr th {\n",
       "        vertical-align: top;\n",
       "    }\n",
       "\n",
       "    .dataframe thead th {\n",
       "        text-align: right;\n",
       "    }\n",
       "</style>\n",
       "<table border=\"1\" class=\"dataframe\">\n",
       "  <thead>\n",
       "    <tr style=\"text-align: right;\">\n",
       "      <th></th>\n",
       "      <th></th>\n",
       "      <th>theta</th>\n",
       "    </tr>\n",
       "    <tr>\n",
       "      <th>data</th>\n",
       "      <th>type</th>\n",
       "      <th></th>\n",
       "    </tr>\n",
       "  </thead>\n",
       "  <tbody>\n",
       "    <tr>\n",
       "      <th rowspan=\"2\" valign=\"top\">data1</th>\n",
       "      <th>doce</th>\n",
       "      <td>0.447897</td>\n",
       "    </tr>\n",
       "    <tr>\n",
       "      <th>nivo</th>\n",
       "      <td>1.242336</td>\n",
       "    </tr>\n",
       "    <tr>\n",
       "      <th rowspan=\"2\" valign=\"top\">data2</th>\n",
       "      <th>doce</th>\n",
       "      <td>0.530631</td>\n",
       "    </tr>\n",
       "    <tr>\n",
       "      <th>nivo</th>\n",
       "      <td>1.078550</td>\n",
       "    </tr>\n",
       "    <tr>\n",
       "      <th rowspan=\"2\" valign=\"top\">data3</th>\n",
       "      <th>doce</th>\n",
       "      <td>0.732658</td>\n",
       "    </tr>\n",
       "    <tr>\n",
       "      <th>nivo</th>\n",
       "      <td>0.739933</td>\n",
       "    </tr>\n",
       "  </tbody>\n",
       "</table>\n",
       "</div>"
      ],
      "text/plain": [
       "               theta\n",
       "data  type          \n",
       "data1 doce  0.447897\n",
       "      nivo  1.242336\n",
       "data2 doce  0.530631\n",
       "      nivo  1.078550\n",
       "data3 doce  0.732658\n",
       "      nivo  0.739933"
      ]
     },
     "execution_count": 14,
     "metadata": {},
     "output_type": "execute_result"
    }
   ],
   "source": [
    "alldatagp.std()"
   ]
  },
  {
   "cell_type": "markdown",
   "metadata": {},
   "source": [
    "## UIP model"
   ]
  },
  {
   "cell_type": "code",
   "execution_count": 15,
   "metadata": {},
   "outputs": [],
   "source": [
    "def CI2Var(D):\n",
    "    low = D.low\n",
    "    up = D.up\n",
    "    n = D.n\n",
    "    var = ((up-low)/2/1.96/np.sqrt(np.pi/2)*np.sqrt(n))**2*(n-1)/n\n",
    "    return var\n",
    "\n",
    "def getUIPDcon(D, Ds):\n",
    "    nD = len(Ds)\n",
    "    n = D.n\n",
    "    nsSum = np.sum([Dh.n for Dh in Ds])\n",
    "    Means = [(Dh.up+Dh.low)/2 for Dh in Ds]\n",
    "    Vars  = [CI2Var(Dh) for Dh in Ds]\n",
    "    UIPDm = pm.Model()\n",
    "    def loglike(mlem, mlev):\n",
    "        return -n/2 * np.log(sigma2) - n*mlev/2/sigma2- n*(mlem-thetah)**2/2/sigma2\n",
    "    with UIPDm:\n",
    "        pis = pm.Dirichlet(\"pis\", np.ones(nD))\n",
    "        sigma2 = pm.InverseGamma(\"sigma2\", alpha=0.01, beta=0.01)\n",
    "        M = pm.Uniform(\"M\", lower=0, upper=nsSum)\n",
    "\n",
    "        thetan = 0\n",
    "        sigma2n_inv = 0\n",
    "        for i in range(nD):\n",
    "            thetan += pis[i] * Means[i]\n",
    "            sigma2n_inv += pis[i] / Vars[i]\n",
    "        sigma2n = 1/M/sigma2n_inv\n",
    "        thetah = pm.Normal(\"thetah\", mu=thetan, sigma=np.sqrt(sigma2n))\n",
    "        pm.DensityDist(\"Distdensity\", loglike, observed={\"mlem\":[(D.up+D.low)/2], \"mlev\":[CI2Var(D)]})\n",
    "    return UIPDm"
   ]
  },
  {
   "cell_type": "code",
   "execution_count": 15,
   "metadata": {},
   "outputs": [],
   "source": [
    "def getUIPJScon(D, Ds):\n",
    "    def KLnorm(mu1, mu2, sigma1, sigma2):\n",
    "        itm1 = np.log(sigma2/sigma1)\n",
    "        itm2 = (sigma1**2 + (mu2-mu1)**2)/(2*sigma2**2) - 0.5\n",
    "        return itm1 + itm2\n",
    "    def JSnorm(mu1, mu2, sigma1, sigma2):\n",
    "        KL1 = KLnorm(mu1, mu2, sigma1, sigma2)\n",
    "        KL2 = KLnorm(mu2, mu1, sigma2, sigma1)\n",
    "        return (KL1 + KL2)/2\n",
    "\n",
    "    nD = len(Ds)\n",
    "    n = D.n\n",
    "    nsSum = np.sum([Dh.n for Dh in Ds])\n",
    "    Means = [(Dh.up+Dh.low)/2 for Dh in Ds]\n",
    "    Vars  = [CI2Var(Dh) for Dh in Ds]\n",
    "    muinits = []\n",
    "    varinits = []\n",
    "    for idx, Dh in enumerate(Ds):\n",
    "        varinits.append(1/(1/100 + Dh.n/Vars[idx]))\n",
    "        muinits.append(Dh.n* Means[idx]/(Dh.n+Vars[idx]/100))\n",
    "    varinits.append(1/(1/100 + D.n/CI2Var(D)))\n",
    "    muinits.append(D.n*(D.up+D.low)/2/(D.n+CI2Var(D)/100))\n",
    "   \n",
    "    invPis = [JSnorm(muinits[i], muinits[-1], varinits[i]**0.5,  varinits[-1]**0.5) for i in range(len(Ds))]\n",
    "    Pis = 1/(np.array(invPis) + 1e-10)\n",
    "    pis = np.array(Pis)/np.sum(Pis)\n",
    "\n",
    "    def loglike(mlem, mlev):\n",
    "        return -n/2 * np.log(sigma2) - n*mlev/2/sigma2- n*(mlem-thetah)**2/2/sigma2\n",
    "    UIPDJS = pm.Model()\n",
    "    with UIPDJS:\n",
    "        sigma2 = pm.InverseGamma(\"sigma2\", alpha=0.01, beta=0.01)\n",
    "        M = pm.Uniform(\"M\", lower=0, upper=nsSum)\n",
    "        thetan = 0\n",
    "        sigma2n_inv = 0\n",
    "        for i in range(nD):\n",
    "            thetan += pis[i] * Means[i]\n",
    "            sigma2n_inv += pis[i] / Vars[i]\n",
    "        sigma2n = 1/M/sigma2n_inv\n",
    "        thetah = pm.Normal(\"thetah\", mu=thetan, sigma=np.sqrt(sigma2n))\n",
    "\n",
    "        pm.DensityDist(\"Distdensity\", loglike, observed={\"mlem\":[(D.up+D.low)/2], \"mlev\":[CI2Var(D)]})\n",
    "    return UIPDJS\n"
   ]
  },
  {
   "cell_type": "markdown",
   "metadata": {},
   "source": [
    "### UIPDxNIVO"
   ]
  },
  {
   "cell_type": "code",
   "execution_count": 16,
   "metadata": {},
   "outputs": [
    {
     "name": "stderr",
     "output_type": "stream",
     "text": [
      "Auto-assigning NUTS sampler...\n",
      "Initializing NUTS using jitter+adapt_diag...\n",
      "Multiprocess sampling (4 chains in 4 jobs)\n",
      "NUTS: [thetah, M, sigma2, pis]\n",
      "Sampling 4 chains, 0 divergences: 100%|██████████| 60000/60000 [01:28<00:00, 676.86draws/s] \n"
     ]
    }
   ],
   "source": [
    "D = dat3.nivo\n",
    "Ds = [dat1.nivo, dat2.nivo]\n",
    "UIPD_nivo = getUIPDcon(D, Ds)\n",
    "with UIPD_nivo:\n",
    "    trace_UIPD_nivo = pm.sample(10000, tune=5000)"
   ]
  },
  {
   "cell_type": "code",
   "execution_count": 17,
   "metadata": {},
   "outputs": [
    {
     "data": {
      "text/html": [
       "<div>\n",
       "<style scoped>\n",
       "    .dataframe tbody tr th:only-of-type {\n",
       "        vertical-align: middle;\n",
       "    }\n",
       "\n",
       "    .dataframe tbody tr th {\n",
       "        vertical-align: top;\n",
       "    }\n",
       "\n",
       "    .dataframe thead th {\n",
       "        text-align: right;\n",
       "    }\n",
       "</style>\n",
       "<table border=\"1\" class=\"dataframe\">\n",
       "  <thead>\n",
       "    <tr style=\"text-align: right;\">\n",
       "      <th></th>\n",
       "      <th>mean</th>\n",
       "      <th>sd</th>\n",
       "      <th>hpd_3%</th>\n",
       "      <th>hpd_97%</th>\n",
       "      <th>mcse_mean</th>\n",
       "      <th>mcse_sd</th>\n",
       "      <th>ess_mean</th>\n",
       "      <th>ess_sd</th>\n",
       "      <th>ess_bulk</th>\n",
       "      <th>ess_tail</th>\n",
       "      <th>r_hat</th>\n",
       "    </tr>\n",
       "  </thead>\n",
       "  <tbody>\n",
       "    <tr>\n",
       "      <th>thetah</th>\n",
       "      <td>11.947</td>\n",
       "      <td>0.805</td>\n",
       "      <td>10.471</td>\n",
       "      <td>13.493</td>\n",
       "      <td>0.004</td>\n",
       "      <td>0.003</td>\n",
       "      <td>38575.0</td>\n",
       "      <td>38181.0</td>\n",
       "      <td>38664.0</td>\n",
       "      <td>29307.0</td>\n",
       "      <td>1.0</td>\n",
       "    </tr>\n",
       "    <tr>\n",
       "      <th>pis[0]</th>\n",
       "      <td>0.456</td>\n",
       "      <td>0.278</td>\n",
       "      <td>0.000</td>\n",
       "      <td>0.913</td>\n",
       "      <td>0.001</td>\n",
       "      <td>0.001</td>\n",
       "      <td>36761.0</td>\n",
       "      <td>34761.0</td>\n",
       "      <td>33241.0</td>\n",
       "      <td>26763.0</td>\n",
       "      <td>1.0</td>\n",
       "    </tr>\n",
       "    <tr>\n",
       "      <th>pis[1]</th>\n",
       "      <td>0.544</td>\n",
       "      <td>0.278</td>\n",
       "      <td>0.087</td>\n",
       "      <td>1.000</td>\n",
       "      <td>0.001</td>\n",
       "      <td>0.001</td>\n",
       "      <td>36761.0</td>\n",
       "      <td>35792.0</td>\n",
       "      <td>33241.0</td>\n",
       "      <td>26763.0</td>\n",
       "      <td>1.0</td>\n",
       "    </tr>\n",
       "    <tr>\n",
       "      <th>sigma2</th>\n",
       "      <td>286.566</td>\n",
       "      <td>22.457</td>\n",
       "      <td>246.080</td>\n",
       "      <td>329.417</td>\n",
       "      <td>0.108</td>\n",
       "      <td>0.077</td>\n",
       "      <td>43501.0</td>\n",
       "      <td>42953.0</td>\n",
       "      <td>43891.0</td>\n",
       "      <td>30193.0</td>\n",
       "      <td>1.0</td>\n",
       "    </tr>\n",
       "    <tr>\n",
       "      <th>M</th>\n",
       "      <td>239.403</td>\n",
       "      <td>115.664</td>\n",
       "      <td>51.132</td>\n",
       "      <td>426.999</td>\n",
       "      <td>0.623</td>\n",
       "      <td>0.462</td>\n",
       "      <td>34444.0</td>\n",
       "      <td>31297.0</td>\n",
       "      <td>31177.0</td>\n",
       "      <td>21881.0</td>\n",
       "      <td>1.0</td>\n",
       "    </tr>\n",
       "  </tbody>\n",
       "</table>\n",
       "</div>"
      ],
      "text/plain": [
       "           mean       sd   hpd_3%  hpd_97%  mcse_mean  mcse_sd  ess_mean  \\\n",
       "thetah   11.947    0.805   10.471   13.493      0.004    0.003   38575.0   \n",
       "pis[0]    0.456    0.278    0.000    0.913      0.001    0.001   36761.0   \n",
       "pis[1]    0.544    0.278    0.087    1.000      0.001    0.001   36761.0   \n",
       "sigma2  286.566   22.457  246.080  329.417      0.108    0.077   43501.0   \n",
       "M       239.403  115.664   51.132  426.999      0.623    0.462   34444.0   \n",
       "\n",
       "         ess_sd  ess_bulk  ess_tail  r_hat  \n",
       "thetah  38181.0   38664.0   29307.0    1.0  \n",
       "pis[0]  34761.0   33241.0   26763.0    1.0  \n",
       "pis[1]  35792.0   33241.0   26763.0    1.0  \n",
       "sigma2  42953.0   43891.0   30193.0    1.0  \n",
       "M       31297.0   31177.0   21881.0    1.0  "
      ]
     },
     "execution_count": 17,
     "metadata": {},
     "output_type": "execute_result"
    }
   ],
   "source": [
    "pm.summary(trace_UIPD_nivo)"
   ]
  },
  {
   "cell_type": "code",
   "execution_count": 18,
   "metadata": {},
   "outputs": [
    {
     "data": {
      "text/plain": [
       "array([10.38935294, 13.53926466])"
      ]
     },
     "execution_count": 18,
     "metadata": {},
     "output_type": "execute_result"
    }
   ],
   "source": [
    "np.quantile(trace_UIPD_nivo[\"thetah\"], [0.025, 0.975])"
   ]
  },
  {
   "cell_type": "markdown",
   "metadata": {},
   "source": [
    "### UIDJSxNIVO"
   ]
  },
  {
   "cell_type": "code",
   "execution_count": 19,
   "metadata": {},
   "outputs": [
    {
     "name": "stderr",
     "output_type": "stream",
     "text": [
      "Auto-assigning NUTS sampler...\n",
      "Initializing NUTS using jitter+adapt_diag...\n",
      "Multiprocess sampling (4 chains in 4 jobs)\n",
      "NUTS: [thetah, M, sigma2]\n",
      "Sampling 4 chains, 0 divergences: 100%|██████████| 60000/60000 [00:50<00:00, 1197.42draws/s]\n"
     ]
    }
   ],
   "source": [
    "D = dat3.nivo\n",
    "Ds = [dat1.nivo, dat2.nivo]\n",
    "UIPJS_nivo = getUIPJScon(D, Ds)\n",
    "with UIPJS_nivo:\n",
    "    trace_UIPJS_nivo = pm.sample(10000, tune=5000)"
   ]
  },
  {
   "cell_type": "code",
   "execution_count": 20,
   "metadata": {},
   "outputs": [
    {
     "data": {
      "text/html": [
       "<div>\n",
       "<style scoped>\n",
       "    .dataframe tbody tr th:only-of-type {\n",
       "        vertical-align: middle;\n",
       "    }\n",
       "\n",
       "    .dataframe tbody tr th {\n",
       "        vertical-align: top;\n",
       "    }\n",
       "\n",
       "    .dataframe thead th {\n",
       "        text-align: right;\n",
       "    }\n",
       "</style>\n",
       "<table border=\"1\" class=\"dataframe\">\n",
       "  <thead>\n",
       "    <tr style=\"text-align: right;\">\n",
       "      <th></th>\n",
       "      <th>mean</th>\n",
       "      <th>sd</th>\n",
       "      <th>hpd_3%</th>\n",
       "      <th>hpd_97%</th>\n",
       "      <th>mcse_mean</th>\n",
       "      <th>mcse_sd</th>\n",
       "      <th>ess_mean</th>\n",
       "      <th>ess_sd</th>\n",
       "      <th>ess_bulk</th>\n",
       "      <th>ess_tail</th>\n",
       "      <th>r_hat</th>\n",
       "    </tr>\n",
       "  </thead>\n",
       "  <tbody>\n",
       "    <tr>\n",
       "      <th>thetah</th>\n",
       "      <td>12.204</td>\n",
       "      <td>0.794</td>\n",
       "      <td>10.728</td>\n",
       "      <td>13.717</td>\n",
       "      <td>0.004</td>\n",
       "      <td>0.003</td>\n",
       "      <td>45485.0</td>\n",
       "      <td>45401.0</td>\n",
       "      <td>45508.0</td>\n",
       "      <td>29077.0</td>\n",
       "      <td>1.0</td>\n",
       "    </tr>\n",
       "    <tr>\n",
       "      <th>sigma2</th>\n",
       "      <td>286.493</td>\n",
       "      <td>22.655</td>\n",
       "      <td>245.067</td>\n",
       "      <td>329.125</td>\n",
       "      <td>0.102</td>\n",
       "      <td>0.073</td>\n",
       "      <td>49441.0</td>\n",
       "      <td>48439.0</td>\n",
       "      <td>49988.0</td>\n",
       "      <td>30547.0</td>\n",
       "      <td>1.0</td>\n",
       "    </tr>\n",
       "    <tr>\n",
       "      <th>M</th>\n",
       "      <td>248.185</td>\n",
       "      <td>114.137</td>\n",
       "      <td>58.022</td>\n",
       "      <td>426.974</td>\n",
       "      <td>0.543</td>\n",
       "      <td>0.399</td>\n",
       "      <td>44126.0</td>\n",
       "      <td>40865.0</td>\n",
       "      <td>39759.0</td>\n",
       "      <td>25157.0</td>\n",
       "      <td>1.0</td>\n",
       "    </tr>\n",
       "  </tbody>\n",
       "</table>\n",
       "</div>"
      ],
      "text/plain": [
       "           mean       sd   hpd_3%  hpd_97%  mcse_mean  mcse_sd  ess_mean  \\\n",
       "thetah   12.204    0.794   10.728   13.717      0.004    0.003   45485.0   \n",
       "sigma2  286.493   22.655  245.067  329.125      0.102    0.073   49441.0   \n",
       "M       248.185  114.137   58.022  426.974      0.543    0.399   44126.0   \n",
       "\n",
       "         ess_sd  ess_bulk  ess_tail  r_hat  \n",
       "thetah  45401.0   45508.0   29077.0    1.0  \n",
       "sigma2  48439.0   49988.0   30547.0    1.0  \n",
       "M       40865.0   39759.0   25157.0    1.0  "
      ]
     },
     "execution_count": 20,
     "metadata": {},
     "output_type": "execute_result"
    }
   ],
   "source": [
    "pm.summary(trace_UIPJS_nivo)"
   ]
  },
  {
   "cell_type": "code",
   "execution_count": 21,
   "metadata": {},
   "outputs": [
    {
     "data": {
      "text/plain": [
       "array([10.64866049, 13.77115428])"
      ]
     },
     "execution_count": 21,
     "metadata": {},
     "output_type": "execute_result"
    }
   ],
   "source": [
    "np.quantile(trace_UIPJS_nivo[\"thetah\"], [0.025, 0.975])"
   ]
  },
  {
   "cell_type": "code",
   "execution_count": 22,
   "metadata": {},
   "outputs": [
    {
     "data": {
      "text/plain": [
       "array([[<matplotlib.axes._subplots.AxesSubplot object at 0x7f9f9d332e48>,\n",
       "        <matplotlib.axes._subplots.AxesSubplot object at 0x7f9fa40b2048>],\n",
       "       [<matplotlib.axes._subplots.AxesSubplot object at 0x7f9f9d431a20>,\n",
       "        <matplotlib.axes._subplots.AxesSubplot object at 0x7f9f9d36ea20>],\n",
       "       [<matplotlib.axes._subplots.AxesSubplot object at 0x7f9f9d31c940>,\n",
       "        <matplotlib.axes._subplots.AxesSubplot object at 0x7f9f9d2ca860>]],\n",
       "      dtype=object)"
      ]
     },
     "execution_count": 22,
     "metadata": {},
     "output_type": "execute_result"
    },
    {
     "data": {
      "image/png": "[encoded data removed]",
      "text/plain": [
       "<Figure size 864x432 with 6 Axes>"
      ]
     },
     "metadata": {
      "needs_background": "light"
     },
     "output_type": "display_data"
    }
   ],
   "source": [
    "pm.traceplot(trace_UIPJS_nivo)"
   ]
  },
  {
   "cell_type": "markdown",
   "metadata": {},
   "source": [
    "### UIPDxDOCE"
   ]
  },
  {
   "cell_type": "code",
   "execution_count": 23,
   "metadata": {},
   "outputs": [
    {
     "name": "stderr",
     "output_type": "stream",
     "text": [
      "Auto-assigning NUTS sampler...\n",
      "Initializing NUTS using jitter+adapt_diag...\n",
      "Multiprocess sampling (4 chains in 4 jobs)\n",
      "NUTS: [thetah, M, sigma2, pis]\n",
      "Sampling 4 chains, 0 divergences: 100%|██████████| 120000/120000 [03:16<00:00, 610.71draws/s]\n"
     ]
    }
   ],
   "source": [
    "D = dat3.doce\n",
    "Ds = [dat1.doce, dat2.doce]\n",
    "UIPD_doce = getUIPDcon(D, Ds)\n",
    "with UIPD_doce:\n",
    "    trace_UIPD_doce = pm.sample(10000, tune=20000)"
   ]
  },
  {
   "cell_type": "code",
   "execution_count": 24,
   "metadata": {},
   "outputs": [
    {
     "data": {
      "text/html": [
       "<div>\n",
       "<style scoped>\n",
       "    .dataframe tbody tr th:only-of-type {\n",
       "        vertical-align: middle;\n",
       "    }\n",
       "\n",
       "    .dataframe tbody tr th {\n",
       "        vertical-align: top;\n",
       "    }\n",
       "\n",
       "    .dataframe thead th {\n",
       "        text-align: right;\n",
       "    }\n",
       "</style>\n",
       "<table border=\"1\" class=\"dataframe\">\n",
       "  <thead>\n",
       "    <tr style=\"text-align: right;\">\n",
       "      <th></th>\n",
       "      <th>mean</th>\n",
       "      <th>sd</th>\n",
       "      <th>hpd_3%</th>\n",
       "      <th>hpd_97%</th>\n",
       "      <th>mcse_mean</th>\n",
       "      <th>mcse_sd</th>\n",
       "      <th>ess_mean</th>\n",
       "      <th>ess_sd</th>\n",
       "      <th>ess_bulk</th>\n",
       "      <th>ess_tail</th>\n",
       "      <th>r_hat</th>\n",
       "    </tr>\n",
       "  </thead>\n",
       "  <tbody>\n",
       "    <tr>\n",
       "      <th>thetah</th>\n",
       "      <td>8.819</td>\n",
       "      <td>0.743</td>\n",
       "      <td>7.401</td>\n",
       "      <td>10.206</td>\n",
       "      <td>0.005</td>\n",
       "      <td>0.003</td>\n",
       "      <td>22704.0</td>\n",
       "      <td>22704.0</td>\n",
       "      <td>22813.0</td>\n",
       "      <td>23567.0</td>\n",
       "      <td>1.0</td>\n",
       "    </tr>\n",
       "    <tr>\n",
       "      <th>pis[0]</th>\n",
       "      <td>0.286</td>\n",
       "      <td>0.208</td>\n",
       "      <td>0.000</td>\n",
       "      <td>0.664</td>\n",
       "      <td>0.001</td>\n",
       "      <td>0.001</td>\n",
       "      <td>19997.0</td>\n",
       "      <td>18973.0</td>\n",
       "      <td>19036.0</td>\n",
       "      <td>17223.0</td>\n",
       "      <td>1.0</td>\n",
       "    </tr>\n",
       "    <tr>\n",
       "      <th>pis[1]</th>\n",
       "      <td>0.714</td>\n",
       "      <td>0.208</td>\n",
       "      <td>0.336</td>\n",
       "      <td>1.000</td>\n",
       "      <td>0.001</td>\n",
       "      <td>0.001</td>\n",
       "      <td>19997.0</td>\n",
       "      <td>19997.0</td>\n",
       "      <td>19036.0</td>\n",
       "      <td>17223.0</td>\n",
       "      <td>1.0</td>\n",
       "    </tr>\n",
       "    <tr>\n",
       "      <th>sigma2</th>\n",
       "      <td>141.628</td>\n",
       "      <td>15.875</td>\n",
       "      <td>111.954</td>\n",
       "      <td>171.080</td>\n",
       "      <td>0.095</td>\n",
       "      <td>0.068</td>\n",
       "      <td>27869.0</td>\n",
       "      <td>27069.0</td>\n",
       "      <td>28492.0</td>\n",
       "      <td>22721.0</td>\n",
       "      <td>1.0</td>\n",
       "    </tr>\n",
       "    <tr>\n",
       "      <th>M</th>\n",
       "      <td>220.364</td>\n",
       "      <td>120.725</td>\n",
       "      <td>33.818</td>\n",
       "      <td>426.949</td>\n",
       "      <td>0.712</td>\n",
       "      <td>0.516</td>\n",
       "      <td>28724.0</td>\n",
       "      <td>27418.0</td>\n",
       "      <td>26124.0</td>\n",
       "      <td>20053.0</td>\n",
       "      <td>1.0</td>\n",
       "    </tr>\n",
       "  </tbody>\n",
       "</table>\n",
       "</div>"
      ],
      "text/plain": [
       "           mean       sd   hpd_3%  hpd_97%  mcse_mean  mcse_sd  ess_mean  \\\n",
       "thetah    8.819    0.743    7.401   10.206      0.005    0.003   22704.0   \n",
       "pis[0]    0.286    0.208    0.000    0.664      0.001    0.001   19997.0   \n",
       "pis[1]    0.714    0.208    0.336    1.000      0.001    0.001   19997.0   \n",
       "sigma2  141.628   15.875  111.954  171.080      0.095    0.068   27869.0   \n",
       "M       220.364  120.725   33.818  426.949      0.712    0.516   28724.0   \n",
       "\n",
       "         ess_sd  ess_bulk  ess_tail  r_hat  \n",
       "thetah  22704.0   22813.0   23567.0    1.0  \n",
       "pis[0]  18973.0   19036.0   17223.0    1.0  \n",
       "pis[1]  19997.0   19036.0   17223.0    1.0  \n",
       "sigma2  27069.0   28492.0   22721.0    1.0  \n",
       "M       27418.0   26124.0   20053.0    1.0  "
      ]
     },
     "execution_count": 24,
     "metadata": {},
     "output_type": "execute_result"
    }
   ],
   "source": [
    "pm.summary(trace_UIPD_doce)"
   ]
  },
  {
   "cell_type": "code",
   "execution_count": 25,
   "metadata": {},
   "outputs": [
    {
     "data": {
      "text/plain": [
       "array([ 7.32518992, 10.25997282])"
      ]
     },
     "execution_count": 25,
     "metadata": {},
     "output_type": "execute_result"
    }
   ],
   "source": [
    "np.quantile(trace_UIPD_doce[\"thetah\"], [0.025, 0.975])"
   ]
  },
  {
   "cell_type": "markdown",
   "metadata": {},
   "source": [
    "### UIPJSxDOCE"
   ]
  },
  {
   "cell_type": "code",
   "execution_count": 26,
   "metadata": {},
   "outputs": [
    {
     "name": "stderr",
     "output_type": "stream",
     "text": [
      "Auto-assigning NUTS sampler...\n",
      "Initializing NUTS using jitter+adapt_diag...\n",
      "Multiprocess sampling (4 chains in 4 jobs)\n",
      "NUTS: [thetah, M, sigma2]\n",
      "Sampling 4 chains, 0 divergences: 100%|██████████| 120000/120000 [01:30<00:00, 1323.00draws/s]\n"
     ]
    }
   ],
   "source": [
    "D = dat3.doce\n",
    "Ds = [dat1.doce, dat2.doce]\n",
    "UIPJS_doce = getUIPJScon(D, Ds)\n",
    "with UIPJS_doce:\n",
    "    trace_UIPJS_doce = pm.sample(10000, tune=20000)"
   ]
  },
  {
   "cell_type": "code",
   "execution_count": 27,
   "metadata": {},
   "outputs": [
    {
     "data": {
      "text/html": [
       "<div>\n",
       "<style scoped>\n",
       "    .dataframe tbody tr th:only-of-type {\n",
       "        vertical-align: middle;\n",
       "    }\n",
       "\n",
       "    .dataframe tbody tr th {\n",
       "        vertical-align: top;\n",
       "    }\n",
       "\n",
       "    .dataframe thead th {\n",
       "        text-align: right;\n",
       "    }\n",
       "</style>\n",
       "<table border=\"1\" class=\"dataframe\">\n",
       "  <thead>\n",
       "    <tr style=\"text-align: right;\">\n",
       "      <th></th>\n",
       "      <th>mean</th>\n",
       "      <th>sd</th>\n",
       "      <th>hpd_3%</th>\n",
       "      <th>hpd_97%</th>\n",
       "      <th>mcse_mean</th>\n",
       "      <th>mcse_sd</th>\n",
       "      <th>ess_mean</th>\n",
       "      <th>ess_sd</th>\n",
       "      <th>ess_bulk</th>\n",
       "      <th>ess_tail</th>\n",
       "      <th>r_hat</th>\n",
       "    </tr>\n",
       "  </thead>\n",
       "  <tbody>\n",
       "    <tr>\n",
       "      <th>thetah</th>\n",
       "      <td>9.386</td>\n",
       "      <td>0.609</td>\n",
       "      <td>8.230</td>\n",
       "      <td>10.540</td>\n",
       "      <td>0.003</td>\n",
       "      <td>0.002</td>\n",
       "      <td>33807.0</td>\n",
       "      <td>33555.0</td>\n",
       "      <td>34648.0</td>\n",
       "      <td>24704.0</td>\n",
       "      <td>1.0</td>\n",
       "    </tr>\n",
       "    <tr>\n",
       "      <th>sigma2</th>\n",
       "      <td>141.085</td>\n",
       "      <td>15.844</td>\n",
       "      <td>112.705</td>\n",
       "      <td>170.893</td>\n",
       "      <td>0.080</td>\n",
       "      <td>0.057</td>\n",
       "      <td>39473.0</td>\n",
       "      <td>38298.0</td>\n",
       "      <td>40313.0</td>\n",
       "      <td>28021.0</td>\n",
       "      <td>1.0</td>\n",
       "    </tr>\n",
       "    <tr>\n",
       "      <th>M</th>\n",
       "      <td>238.624</td>\n",
       "      <td>115.945</td>\n",
       "      <td>50.822</td>\n",
       "      <td>426.819</td>\n",
       "      <td>0.601</td>\n",
       "      <td>0.438</td>\n",
       "      <td>37215.0</td>\n",
       "      <td>35002.0</td>\n",
       "      <td>35606.0</td>\n",
       "      <td>27052.0</td>\n",
       "      <td>1.0</td>\n",
       "    </tr>\n",
       "  </tbody>\n",
       "</table>\n",
       "</div>"
      ],
      "text/plain": [
       "           mean       sd   hpd_3%  hpd_97%  mcse_mean  mcse_sd  ess_mean  \\\n",
       "thetah    9.386    0.609    8.230   10.540      0.003    0.002   33807.0   \n",
       "sigma2  141.085   15.844  112.705  170.893      0.080    0.057   39473.0   \n",
       "M       238.624  115.945   50.822  426.819      0.601    0.438   37215.0   \n",
       "\n",
       "         ess_sd  ess_bulk  ess_tail  r_hat  \n",
       "thetah  33555.0   34648.0   24704.0    1.0  \n",
       "sigma2  38298.0   40313.0   28021.0    1.0  \n",
       "M       35002.0   35606.0   27052.0    1.0  "
      ]
     },
     "execution_count": 27,
     "metadata": {},
     "output_type": "execute_result"
    }
   ],
   "source": [
    "pm.summary(trace_UIPJS_doce)"
   ]
  },
  {
   "cell_type": "code",
   "execution_count": 28,
   "metadata": {},
   "outputs": [
    {
     "data": {
      "text/plain": [
       "array([ 8.17647128, 10.5990923 ])"
      ]
     },
     "execution_count": 28,
     "metadata": {},
     "output_type": "execute_result"
    }
   ],
   "source": [
    "np.quantile(trace_UIPJS_doce[\"thetah\"], [0.025, 0.975])"
   ]
  },
  {
   "cell_type": "markdown",
   "metadata": {},
   "source": [
    "## New Model"
   ]
  },
  {
   "cell_type": "markdown",
   "metadata": {},
   "source": [
    "The model is $Y_i \\sim N(\\theta+\\beta X_i, \\sigma^2)$.\n",
    "\n",
    "Our target is to estimate the $\\beta$. "
   ]
  },
  {
   "cell_type": "code",
   "execution_count": 16,
   "metadata": {},
   "outputs": [],
   "source": [
    "def DataPre(D):\n",
    "    D.n = D.nivo.n + D.doce.n\n",
    "    n, n1, n2 = D.n, D.nivo.n, D.doce.n\n",
    "    D.nivo.mle = (D.nivo.low + D.nivo.up)/2\n",
    "    D.doce.mle = (D.doce.low + D.doce.up)/2\n",
    "    mle1, mle2 = D.nivo.mle, D.doce.mle\n",
    "    D.nivo.var = CI2Var(D.nivo)\n",
    "    D.doce.var = CI2Var(D.doce)\n",
    "    D.betamle = (n*n1*mle1 - n1*(n1*mle1 + n2*mle2))/(n*n1-n1**2)\n",
    "    D.thetamle = mle2\n",
    "    D.sigma2mle = (n1*D.nivo.var + n1*(mle1-D.betamle-D.thetamle)**2 + n2*D.doce.var)/n\n",
    "    D.betaUI = n1/D.sigma2mle/n\n",
    "    D.thetaUI = 1/D.sigma2mle\n",
    "    return D"
   ]
  },
  {
   "cell_type": "code",
   "execution_count": 17,
   "metadata": {},
   "outputs": [
    {
     "ename": "NameError",
     "evalue": "name 'dat4' is not defined",
     "output_type": "error",
     "traceback": [
      "\u001b[0;31m---------------------------------------------------------------------------\u001b[0m",
      "\u001b[0;31mNameError\u001b[0m                                 Traceback (most recent call last)",
      "\u001b[0;32m<ipython-input-17-ca03fb8b4007>\u001b[0m in \u001b[0;36m<module>\u001b[0;34m\u001b[0m\n\u001b[1;32m      2\u001b[0m \u001b[0mdat2\u001b[0m \u001b[0;34m=\u001b[0m \u001b[0mDataPre\u001b[0m\u001b[0;34m(\u001b[0m\u001b[0mdat2\u001b[0m\u001b[0;34m)\u001b[0m\u001b[0;34m\u001b[0m\u001b[0;34m\u001b[0m\u001b[0m\n\u001b[1;32m      3\u001b[0m \u001b[0mdat3\u001b[0m \u001b[0;34m=\u001b[0m \u001b[0mDataPre\u001b[0m\u001b[0;34m(\u001b[0m\u001b[0mdat3\u001b[0m\u001b[0;34m)\u001b[0m\u001b[0;34m\u001b[0m\u001b[0;34m\u001b[0m\u001b[0m\n\u001b[0;32m----> 4\u001b[0;31m \u001b[0mdat4\u001b[0m \u001b[0;34m=\u001b[0m \u001b[0mDataPre\u001b[0m\u001b[0;34m(\u001b[0m\u001b[0mdat4\u001b[0m\u001b[0;34m)\u001b[0m\u001b[0;34m\u001b[0m\u001b[0;34m\u001b[0m\u001b[0m\n\u001b[0m\u001b[1;32m      5\u001b[0m \u001b[0mdat5\u001b[0m \u001b[0;34m=\u001b[0m \u001b[0mDataPre\u001b[0m\u001b[0;34m(\u001b[0m\u001b[0mdat5\u001b[0m\u001b[0;34m)\u001b[0m\u001b[0;34m\u001b[0m\u001b[0;34m\u001b[0m\u001b[0m\n",
      "\u001b[0;31mNameError\u001b[0m: name 'dat4' is not defined"
     ]
    }
   ],
   "source": [
    "dat1 = DataPre(dat1)\n",
    "dat2 = DataPre(dat2)\n",
    "dat3 = DataPre(dat3)\n",
    "dat4 = DataPre(dat4)\n",
    "dat5 = DataPre(dat5)"
   ]
  },
  {
   "cell_type": "markdown",
   "metadata": {},
   "source": [
    "### Raw Model"
   ]
  },
  {
   "cell_type": "code",
   "execution_count": 18,
   "metadata": {},
   "outputs": [],
   "source": [
    "def GetNewRawModel(D):\n",
    "    n = D.n\n",
    "    n1 = D.nivo.n\n",
    "    n2 = D.doce.n\n",
    "    model = pm.Model()\n",
    "    def loglike(mlem1, mlem2, mlev1, mlev2):\n",
    "        return -n/2 * np.log(sigma2) - (n1*mlev1+ n1*(mlem1-theta-beta)**2 + n2*mlev2+ n2*(mlem2-theta)**2)/2/sigma2\n",
    "    \n",
    "    with model:\n",
    "        theta = pm.Normal(\"theta\", mu=0, sigma=10)\n",
    "        beta = pm.Normal(\"beta\", mu=0, sigma=10)\n",
    "        sigma2 = pm.InverseGamma(\"sigma2\", alpha=0.01, beta=0.01)\n",
    "        pm.DensityDist(\"Distdensity\", loglike, observed={\"mlem1\":[D.nivo.mle], \"mlev1\":[D.nivo.var], \n",
    "                                                         \"mlem2\":[D.doce.mle], \"mlev2\":[D.doce.var]})\n",
    "    return model\n",
    "        "
   ]
  },
  {
   "cell_type": "code",
   "execution_count": 19,
   "metadata": {},
   "outputs": [
    {
     "name": "stderr",
     "output_type": "stream",
     "text": [
      "Multiprocess sampling (4 chains in 4 jobs)\n",
      "CompoundStep\n",
      ">Metropolis: [sigma2]\n",
      ">Metropolis: [beta]\n",
      ">Metropolis: [theta]\n",
      "Sampling 4 chains, 0 divergences: 100%|██████████| 60000/60000 [00:16<00:00, 3749.37draws/s] \n",
      "The number of effective samples is smaller than 10% for some parameters.\n"
     ]
    }
   ],
   "source": [
    "NewRawModel3 = GetNewRawModel(dat3)\n",
    "with NewRawModel3:\n",
    "    step = pm.Metropolis()\n",
    "    trace_new_raw_3 = pm.sample(10000, tune=5000, step=step)"
   ]
  },
  {
   "cell_type": "code",
   "execution_count": 20,
   "metadata": {},
   "outputs": [
    {
     "name": "stderr",
     "output_type": "stream",
     "text": [
      "Multiprocess sampling (4 chains in 4 jobs)\n",
      "CompoundStep\n",
      ">Metropolis: [sigma2]\n",
      ">Metropolis: [beta]\n",
      ">Metropolis: [theta]\n",
      "Sampling 4 chains, 0 divergences: 100%|██████████| 60000/60000 [00:23<00:00, 2597.36draws/s]\n",
      "The number of effective samples is smaller than 10% for some parameters.\n"
     ]
    }
   ],
   "source": [
    "NewRawModel1 = GetNewRawModel(dat1)\n",
    "with NewRawModel1:\n",
    "    step = pm.Metropolis()\n",
    "    trace_new_raw_1 = pm.sample(10000, tune=5000, step=step)"
   ]
  },
  {
   "cell_type": "code",
   "execution_count": 21,
   "metadata": {},
   "outputs": [
    {
     "name": "stderr",
     "output_type": "stream",
     "text": [
      "Multiprocess sampling (4 chains in 4 jobs)\n",
      "CompoundStep\n",
      ">Metropolis: [sigma2]\n",
      ">Metropolis: [beta]\n",
      ">Metropolis: [theta]\n",
      "Sampling 4 chains, 0 divergences: 100%|██████████| 60000/60000 [00:28<00:00, 2084.13draws/s]\n",
      "The number of effective samples is smaller than 10% for some parameters.\n"
     ]
    }
   ],
   "source": [
    "NewRawModel2 = GetNewRawModel(dat2)\n",
    "with NewRawModel2:\n",
    "    step = pm.Metropolis()\n",
    "    trace_new_raw_2 = pm.sample(10000, tune=5000, step=step)\n"
   ]
  },
  {
   "cell_type": "code",
   "execution_count": 22,
   "metadata": {},
   "outputs": [],
   "source": [
    "betas = [trace_new_raw_1[\"beta\"], trace_new_raw_2[\"beta\"], trace_new_raw_3[\"beta\"]]\n",
    "thetas = [trace_new_raw_1[\"theta\"], trace_new_raw_2[\"theta\"], trace_new_raw_3[\"theta\"]]\n",
    "sigma2s = [trace_new_raw_1[\"sigma2\"], trace_new_raw_2[\"sigma2\"], trace_new_raw_3[\"sigma2\"]]"
   ]
  },
  {
   "cell_type": "code",
   "execution_count": 23,
   "metadata": {},
   "outputs": [],
   "source": [
    "NewRawRes = ddict(list)\n",
    "NewRawRes[\"data\"] = [\"dat1\", \"dat2\", \"dat3\"]\n",
    "for i in range(3):\n",
    "    NewRawRes[\"bmean\"].append(betas[i].mean())\n",
    "    NewRawRes[\"blow\"].append(np.quantile(betas[i], 0.025))\n",
    "    NewRawRes[\"bup\"].append(np.quantile(betas[i], 0.975))\n",
    "    NewRawRes[\"tmean\"].append(thetas[i].mean())\n",
    "    NewRawRes[\"tlow\"].append(np.quantile(thetas[i], 0.025))\n",
    "    NewRawRes[\"tup\"].append(np.quantile(thetas[i], 0.975))\n",
    "    NewRawRes[\"smean\"].append(sigma2s[i].mean())\n",
    "    NewRawRes[\"slow\"].append(np.quantile(sigma2s[i], 0.025))\n",
    "    NewRawRes[\"sup\"].append(np.quantile(sigma2s[i], 0.975))"
   ]
  },
  {
   "cell_type": "code",
   "execution_count": 24,
   "metadata": {},
   "outputs": [],
   "source": [
    "ResDf = pd.DataFrame(NewRawRes)"
   ]
  },
  {
   "cell_type": "code",
   "execution_count": 25,
   "metadata": {},
   "outputs": [
    {
     "data": {
      "text/html": [
       "<div>\n",
       "<style scoped>\n",
       "    .dataframe tbody tr th:only-of-type {\n",
       "        vertical-align: middle;\n",
       "    }\n",
       "\n",
       "    .dataframe tbody tr th {\n",
       "        vertical-align: top;\n",
       "    }\n",
       "\n",
       "    .dataframe thead th {\n",
       "        text-align: right;\n",
       "    }\n",
       "</style>\n",
       "<table border=\"1\" class=\"dataframe\">\n",
       "  <thead>\n",
       "    <tr style=\"text-align: right;\">\n",
       "      <th></th>\n",
       "      <th>data</th>\n",
       "      <th>bmean</th>\n",
       "      <th>blow</th>\n",
       "      <th>bup</th>\n",
       "      <th>tmean</th>\n",
       "      <th>tlow</th>\n",
       "      <th>tup</th>\n",
       "      <th>smean</th>\n",
       "      <th>slow</th>\n",
       "      <th>sup</th>\n",
       "    </tr>\n",
       "  </thead>\n",
       "  <tbody>\n",
       "    <tr>\n",
       "      <th>0</th>\n",
       "      <td>dat1</td>\n",
       "      <td>4.054579</td>\n",
       "      <td>1.550390</td>\n",
       "      <td>6.580934</td>\n",
       "      <td>6.208079</td>\n",
       "      <td>4.438585</td>\n",
       "      <td>7.982207</td>\n",
       "      <td>114.504211</td>\n",
       "      <td>96.752016</td>\n",
       "      <td>135.963599</td>\n",
       "    </tr>\n",
       "    <tr>\n",
       "      <th>1</th>\n",
       "      <td>dat2</td>\n",
       "      <td>3.009342</td>\n",
       "      <td>0.675257</td>\n",
       "      <td>5.355236</td>\n",
       "      <td>9.317671</td>\n",
       "      <td>7.685271</td>\n",
       "      <td>10.952520</td>\n",
       "      <td>211.348166</td>\n",
       "      <td>188.166787</td>\n",
       "      <td>237.275259</td>\n",
       "    </tr>\n",
       "    <tr>\n",
       "      <th>2</th>\n",
       "      <td>dat3</td>\n",
       "      <td>2.855026</td>\n",
       "      <td>0.673279</td>\n",
       "      <td>5.144914</td>\n",
       "      <td>9.331353</td>\n",
       "      <td>7.448642</td>\n",
       "      <td>11.128033</td>\n",
       "      <td>151.743299</td>\n",
       "      <td>133.773845</td>\n",
       "      <td>171.824634</td>\n",
       "    </tr>\n",
       "  </tbody>\n",
       "</table>\n",
       "</div>"
      ],
      "text/plain": [
       "   data     bmean      blow       bup     tmean      tlow        tup  \\\n",
       "0  dat1  4.054579  1.550390  6.580934  6.208079  4.438585   7.982207   \n",
       "1  dat2  3.009342  0.675257  5.355236  9.317671  7.685271  10.952520   \n",
       "2  dat3  2.855026  0.673279  5.144914  9.331353  7.448642  11.128033   \n",
       "\n",
       "        smean        slow         sup  \n",
       "0  114.504211   96.752016  135.963599  \n",
       "1  211.348166  188.166787  237.275259  \n",
       "2  151.743299  133.773845  171.824634  "
      ]
     },
     "execution_count": 25,
     "metadata": {},
     "output_type": "execute_result"
    }
   ],
   "source": [
    "ResDf"
   ]
  },
  {
   "cell_type": "markdown",
   "metadata": {},
   "source": [
    "### UIPD model"
   ]
  },
  {
   "cell_type": "code",
   "execution_count": 26,
   "metadata": {},
   "outputs": [],
   "source": [
    "def getNewUIPDcon(D, Ds):\n",
    "    nD = len(Ds)\n",
    "    n = D.n\n",
    "    n1 = D.nivo.n\n",
    "    n2 = D.doce.n\n",
    "    \n",
    "    nsSum = np.sum([Dh.n for Dh in Ds])\n",
    "    betaMeans = [Dh.betamle for Dh in Ds]\n",
    "    betaUIs = [Dh.betaUI for Dh in Ds]\n",
    "    thetaMeans = [Dh.thetamle for Dh in Ds]\n",
    "    thetaUIs = [Dh.thetaUI for Dh in Ds]\n",
    "    UIPDm = pm.Model()\n",
    "    def loglike(mlem1, mlem2, mlev1, mlev2):\n",
    "        return -n/2 * np.log(sigma2) - (n1*mlev1+ n1*(mlem1-thetah-betah)**2 \\\n",
    "                                        + n2*mlev2+ n2*(mlem2-thetah)**2)/2/sigma2\n",
    "    with UIPDm:\n",
    "        pis = pm.Dirichlet(\"pis\", np.ones(nD))\n",
    "        sigma2 = pm.InverseGamma(\"sigma2\", alpha=0.01, beta=0.01)\n",
    "        M = pm.Uniform(\"M\", lower=0, upper=nsSum)\n",
    "\n",
    "        thetan = 0\n",
    "        betan = 0\n",
    "        sigma2n_inv = 0\n",
    "        sigma2betan_inv = 0\n",
    "        for i in range(nD):\n",
    "            thetan += pis[i] * thetaMeans[i]\n",
    "            betan += pis[i] * betaMeans[i]\n",
    "            sigma2n_inv += pis[i] * thetaUIs[i]\n",
    "            sigma2betan_inv += pis[i] * betaUIs[i]\n",
    "        sigma2n = 1/M/sigma2n_inv\n",
    "        sigma2betan = 1/M/sigma2betan_inv\n",
    "        thetah = pm.Normal(\"thetah\", mu=thetan, sigma=np.sqrt(sigma2n))\n",
    "        betah = pm.Normal(\"betah\", mu=betan, sigma=np.sqrt(sigma2betan))\n",
    "        pm.DensityDist(\"Distdensity\", loglike, observed={\"mlem1\":[D.nivo.mle], \"mlev1\":[D.nivo.var], \n",
    "                                                         \"mlem2\":[D.doce.mle], \"mlev2\":[D.doce.var]})\n",
    "    return UIPDm"
   ]
  },
  {
   "cell_type": "code",
   "execution_count": 27,
   "metadata": {},
   "outputs": [
    {
     "name": "stderr",
     "output_type": "stream",
     "text": [
      "Multiprocess sampling (4 chains in 4 jobs)\n",
      "CompoundStep\n",
      ">Metropolis: [betah]\n",
      ">Metropolis: [thetah]\n",
      ">Metropolis: [M]\n",
      ">Metropolis: [sigma2]\n",
      ">Metropolis: [pis]\n",
      "Sampling 4 chains, 0 divergences: 100%|██████████| 60000/60000 [00:38<00:00, 1546.23draws/s]\n",
      "The number of effective samples is smaller than 10% for some parameters.\n"
     ]
    }
   ],
   "source": [
    "NewModel = getNewUIPDcon(dat3, [dat1, dat2])\n",
    "with NewModel:\n",
    "    step = pm.Metropolis()\n",
    "    trace_new_UIPD = pm.sample(10000, tune=5000, step=step)"
   ]
  },
  {
   "cell_type": "code",
   "execution_count": 28,
   "metadata": {},
   "outputs": [
    {
     "data": {
      "text/plain": [
       "array([ 7.52563832, 10.04789492])"
      ]
     },
     "execution_count": 28,
     "metadata": {},
     "output_type": "execute_result"
    }
   ],
   "source": [
    "np.quantile(trace_new_UIPD[\"thetah\"], [0.025, 0.975])"
   ]
  },
  {
   "cell_type": "code",
   "execution_count": 29,
   "metadata": {},
   "outputs": [
    {
     "data": {
      "text/plain": [
       "array([1.92839085, 4.70509882])"
      ]
     },
     "execution_count": 29,
     "metadata": {},
     "output_type": "execute_result"
    }
   ],
   "source": [
    "np.quantile(trace_new_UIPD[\"betah\"], [0.025, 0.975])"
   ]
  },
  {
   "cell_type": "code",
   "execution_count": 30,
   "metadata": {},
   "outputs": [
    {
     "data": {
      "text/plain": [
       "array([ 66.45874822, 836.50893841])"
      ]
     },
     "execution_count": 30,
     "metadata": {},
     "output_type": "execute_result"
    }
   ],
   "source": [
    "np.quantile(trace_new_UIPD[\"M\"], [0.025, 0.975])"
   ]
  },
  {
   "cell_type": "code",
   "execution_count": 31,
   "metadata": {},
   "outputs": [
    {
     "data": {
      "text/plain": [
       "array([[0.01175297, 0.25549066],\n",
       "       [0.74450934, 0.98824703]])"
      ]
     },
     "execution_count": 31,
     "metadata": {},
     "output_type": "execute_result"
    }
   ],
   "source": [
    "np.quantile(trace_new_UIPD[\"pis\"], [0.025, 0.975], axis=0)"
   ]
  },
  {
   "cell_type": "code",
   "execution_count": 32,
   "metadata": {},
   "outputs": [
    {
     "data": {
      "text/html": [
       "<div>\n",
       "<style scoped>\n",
       "    .dataframe tbody tr th:only-of-type {\n",
       "        vertical-align: middle;\n",
       "    }\n",
       "\n",
       "    .dataframe tbody tr th {\n",
       "        vertical-align: top;\n",
       "    }\n",
       "\n",
       "    .dataframe thead th {\n",
       "        text-align: right;\n",
       "    }\n",
       "</style>\n",
       "<table border=\"1\" class=\"dataframe\">\n",
       "  <thead>\n",
       "    <tr style=\"text-align: right;\">\n",
       "      <th></th>\n",
       "      <th>mean</th>\n",
       "      <th>sd</th>\n",
       "      <th>hpd_3%</th>\n",
       "      <th>hpd_97%</th>\n",
       "      <th>mcse_mean</th>\n",
       "      <th>mcse_sd</th>\n",
       "      <th>ess_mean</th>\n",
       "      <th>ess_sd</th>\n",
       "      <th>ess_bulk</th>\n",
       "      <th>ess_tail</th>\n",
       "      <th>r_hat</th>\n",
       "    </tr>\n",
       "  </thead>\n",
       "  <tbody>\n",
       "    <tr>\n",
       "      <th>thetah</th>\n",
       "      <td>8.823</td>\n",
       "      <td>0.637</td>\n",
       "      <td>7.585</td>\n",
       "      <td>9.986</td>\n",
       "      <td>0.013</td>\n",
       "      <td>0.009</td>\n",
       "      <td>2342.0</td>\n",
       "      <td>2342.0</td>\n",
       "      <td>2350.0</td>\n",
       "      <td>3736.0</td>\n",
       "      <td>1.0</td>\n",
       "    </tr>\n",
       "    <tr>\n",
       "      <th>betah</th>\n",
       "      <td>3.314</td>\n",
       "      <td>0.704</td>\n",
       "      <td>1.995</td>\n",
       "      <td>4.637</td>\n",
       "      <td>0.013</td>\n",
       "      <td>0.009</td>\n",
       "      <td>2959.0</td>\n",
       "      <td>2959.0</td>\n",
       "      <td>2970.0</td>\n",
       "      <td>4542.0</td>\n",
       "      <td>1.0</td>\n",
       "    </tr>\n",
       "    <tr>\n",
       "      <th>pis[0]</th>\n",
       "      <td>0.280</td>\n",
       "      <td>0.199</td>\n",
       "      <td>0.000</td>\n",
       "      <td>0.631</td>\n",
       "      <td>0.004</td>\n",
       "      <td>0.003</td>\n",
       "      <td>2788.0</td>\n",
       "      <td>2788.0</td>\n",
       "      <td>2800.0</td>\n",
       "      <td>4938.0</td>\n",
       "      <td>1.0</td>\n",
       "    </tr>\n",
       "    <tr>\n",
       "      <th>pis[1]</th>\n",
       "      <td>0.720</td>\n",
       "      <td>0.199</td>\n",
       "      <td>0.369</td>\n",
       "      <td>1.000</td>\n",
       "      <td>0.004</td>\n",
       "      <td>0.003</td>\n",
       "      <td>2788.0</td>\n",
       "      <td>2788.0</td>\n",
       "      <td>2800.0</td>\n",
       "      <td>4938.0</td>\n",
       "      <td>1.0</td>\n",
       "    </tr>\n",
       "    <tr>\n",
       "      <th>sigma2</th>\n",
       "      <td>151.657</td>\n",
       "      <td>9.683</td>\n",
       "      <td>132.962</td>\n",
       "      <td>168.953</td>\n",
       "      <td>0.115</td>\n",
       "      <td>0.082</td>\n",
       "      <td>7045.0</td>\n",
       "      <td>6975.0</td>\n",
       "      <td>7162.0</td>\n",
       "      <td>6442.0</td>\n",
       "      <td>1.0</td>\n",
       "    </tr>\n",
       "    <tr>\n",
       "      <th>M</th>\n",
       "      <td>489.621</td>\n",
       "      <td>228.236</td>\n",
       "      <td>115.457</td>\n",
       "      <td>853.998</td>\n",
       "      <td>2.891</td>\n",
       "      <td>2.044</td>\n",
       "      <td>6232.0</td>\n",
       "      <td>6232.0</td>\n",
       "      <td>5941.0</td>\n",
       "      <td>5999.0</td>\n",
       "      <td>1.0</td>\n",
       "    </tr>\n",
       "  </tbody>\n",
       "</table>\n",
       "</div>"
      ],
      "text/plain": [
       "           mean       sd   hpd_3%  hpd_97%  mcse_mean  mcse_sd  ess_mean  \\\n",
       "thetah    8.823    0.637    7.585    9.986      0.013    0.009    2342.0   \n",
       "betah     3.314    0.704    1.995    4.637      0.013    0.009    2959.0   \n",
       "pis[0]    0.280    0.199    0.000    0.631      0.004    0.003    2788.0   \n",
       "pis[1]    0.720    0.199    0.369    1.000      0.004    0.003    2788.0   \n",
       "sigma2  151.657    9.683  132.962  168.953      0.115    0.082    7045.0   \n",
       "M       489.621  228.236  115.457  853.998      2.891    2.044    6232.0   \n",
       "\n",
       "        ess_sd  ess_bulk  ess_tail  r_hat  \n",
       "thetah  2342.0    2350.0    3736.0    1.0  \n",
       "betah   2959.0    2970.0    4542.0    1.0  \n",
       "pis[0]  2788.0    2800.0    4938.0    1.0  \n",
       "pis[1]  2788.0    2800.0    4938.0    1.0  \n",
       "sigma2  6975.0    7162.0    6442.0    1.0  \n",
       "M       6232.0    5941.0    5999.0    1.0  "
      ]
     },
     "execution_count": 32,
     "metadata": {},
     "output_type": "execute_result"
    }
   ],
   "source": [
    "pm.summary(trace_new_UIPD)"
   ]
  },
  {
   "cell_type": "markdown",
   "metadata": {},
   "source": [
    "### UIPD-with less related dataset"
   ]
  },
  {
   "cell_type": "code",
   "execution_count": 13,
   "metadata": {},
   "outputs": [
    {
     "name": "stderr",
     "output_type": "stream",
     "text": [
      "Multiprocess sampling (4 chains in 4 jobs)\n",
      "CompoundStep\n",
      ">Metropolis: [betah]\n",
      ">Metropolis: [thetah]\n",
      ">Metropolis: [M]\n",
      ">Metropolis: [sigma2]\n",
      ">Metropolis: [pis]\n",
      "Sampling 4 chains, 0 divergences: 100%|██████████| 60000/60000 [00:47<00:00, 1266.56draws/s]\n",
      "The number of effective samples is smaller than 10% for some parameters.\n"
     ]
    }
   ],
   "source": [
    "NewModel3 = getNewUIPDcon(dat3, [dat1, dat2, dat4])\n",
    "with NewModel3:\n",
    "    step = pm.Metropolis()\n",
    "    trace_new_UIPD3 = pm.sample(10000, tune=5000, step=step)"
   ]
  },
  {
   "cell_type": "code",
   "execution_count": 14,
   "metadata": {},
   "outputs": [
    {
     "data": {
      "text/html": [
       "<div>\n",
       "<style scoped>\n",
       "    .dataframe tbody tr th:only-of-type {\n",
       "        vertical-align: middle;\n",
       "    }\n",
       "\n",
       "    .dataframe tbody tr th {\n",
       "        vertical-align: top;\n",
       "    }\n",
       "\n",
       "    .dataframe thead th {\n",
       "        text-align: right;\n",
       "    }\n",
       "</style>\n",
       "<table border=\"1\" class=\"dataframe\">\n",
       "  <thead>\n",
       "    <tr style=\"text-align: right;\">\n",
       "      <th></th>\n",
       "      <th>mean</th>\n",
       "      <th>sd</th>\n",
       "      <th>hpd_3%</th>\n",
       "      <th>hpd_97%</th>\n",
       "      <th>mcse_mean</th>\n",
       "      <th>mcse_sd</th>\n",
       "      <th>ess_mean</th>\n",
       "      <th>ess_sd</th>\n",
       "      <th>ess_bulk</th>\n",
       "      <th>ess_tail</th>\n",
       "      <th>r_hat</th>\n",
       "    </tr>\n",
       "  </thead>\n",
       "  <tbody>\n",
       "    <tr>\n",
       "      <th>thetah</th>\n",
       "      <td>8.707</td>\n",
       "      <td>0.652</td>\n",
       "      <td>7.335</td>\n",
       "      <td>9.830</td>\n",
       "      <td>0.014</td>\n",
       "      <td>0.010</td>\n",
       "      <td>2160.0</td>\n",
       "      <td>2160.0</td>\n",
       "      <td>2206.0</td>\n",
       "      <td>2838.0</td>\n",
       "      <td>1.0</td>\n",
       "    </tr>\n",
       "    <tr>\n",
       "      <th>betah</th>\n",
       "      <td>3.130</td>\n",
       "      <td>0.713</td>\n",
       "      <td>1.839</td>\n",
       "      <td>4.541</td>\n",
       "      <td>0.013</td>\n",
       "      <td>0.009</td>\n",
       "      <td>3244.0</td>\n",
       "      <td>3214.0</td>\n",
       "      <td>3272.0</td>\n",
       "      <td>5224.0</td>\n",
       "      <td>1.0</td>\n",
       "    </tr>\n",
       "    <tr>\n",
       "      <th>pis[0]</th>\n",
       "      <td>0.229</td>\n",
       "      <td>0.184</td>\n",
       "      <td>0.000</td>\n",
       "      <td>0.575</td>\n",
       "      <td>0.004</td>\n",
       "      <td>0.003</td>\n",
       "      <td>2013.0</td>\n",
       "      <td>2006.0</td>\n",
       "      <td>2106.0</td>\n",
       "      <td>2806.0</td>\n",
       "      <td>1.0</td>\n",
       "    </tr>\n",
       "    <tr>\n",
       "      <th>pis[1]</th>\n",
       "      <td>0.445</td>\n",
       "      <td>0.243</td>\n",
       "      <td>0.000</td>\n",
       "      <td>0.828</td>\n",
       "      <td>0.005</td>\n",
       "      <td>0.003</td>\n",
       "      <td>2686.0</td>\n",
       "      <td>2686.0</td>\n",
       "      <td>2612.0</td>\n",
       "      <td>3669.0</td>\n",
       "      <td>1.0</td>\n",
       "    </tr>\n",
       "    <tr>\n",
       "      <th>pis[2]</th>\n",
       "      <td>0.327</td>\n",
       "      <td>0.232</td>\n",
       "      <td>0.000</td>\n",
       "      <td>0.745</td>\n",
       "      <td>0.004</td>\n",
       "      <td>0.003</td>\n",
       "      <td>3103.0</td>\n",
       "      <td>3103.0</td>\n",
       "      <td>2805.0</td>\n",
       "      <td>3310.0</td>\n",
       "      <td>1.0</td>\n",
       "    </tr>\n",
       "    <tr>\n",
       "      <th>sigma2</th>\n",
       "      <td>238.317</td>\n",
       "      <td>14.992</td>\n",
       "      <td>211.814</td>\n",
       "      <td>267.431</td>\n",
       "      <td>0.181</td>\n",
       "      <td>0.128</td>\n",
       "      <td>6887.0</td>\n",
       "      <td>6853.0</td>\n",
       "      <td>6931.0</td>\n",
       "      <td>7893.0</td>\n",
       "      <td>1.0</td>\n",
       "    </tr>\n",
       "    <tr>\n",
       "      <th>M</th>\n",
       "      <td>831.421</td>\n",
       "      <td>420.511</td>\n",
       "      <td>169.994</td>\n",
       "      <td>1538.825</td>\n",
       "      <td>5.750</td>\n",
       "      <td>4.066</td>\n",
       "      <td>5348.0</td>\n",
       "      <td>5348.0</td>\n",
       "      <td>5213.0</td>\n",
       "      <td>6309.0</td>\n",
       "      <td>1.0</td>\n",
       "    </tr>\n",
       "  </tbody>\n",
       "</table>\n",
       "</div>"
      ],
      "text/plain": [
       "           mean       sd   hpd_3%   hpd_97%  mcse_mean  mcse_sd  ess_mean  \\\n",
       "thetah    8.707    0.652    7.335     9.830      0.014    0.010    2160.0   \n",
       "betah     3.130    0.713    1.839     4.541      0.013    0.009    3244.0   \n",
       "pis[0]    0.229    0.184    0.000     0.575      0.004    0.003    2013.0   \n",
       "pis[1]    0.445    0.243    0.000     0.828      0.005    0.003    2686.0   \n",
       "pis[2]    0.327    0.232    0.000     0.745      0.004    0.003    3103.0   \n",
       "sigma2  238.317   14.992  211.814   267.431      0.181    0.128    6887.0   \n",
       "M       831.421  420.511  169.994  1538.825      5.750    4.066    5348.0   \n",
       "\n",
       "        ess_sd  ess_bulk  ess_tail  r_hat  \n",
       "thetah  2160.0    2206.0    2838.0    1.0  \n",
       "betah   3214.0    3272.0    5224.0    1.0  \n",
       "pis[0]  2006.0    2106.0    2806.0    1.0  \n",
       "pis[1]  2686.0    2612.0    3669.0    1.0  \n",
       "pis[2]  3103.0    2805.0    3310.0    1.0  \n",
       "sigma2  6853.0    6931.0    7893.0    1.0  \n",
       "M       5348.0    5213.0    6309.0    1.0  "
      ]
     },
     "execution_count": 14,
     "metadata": {},
     "output_type": "execute_result"
    }
   ],
   "source": [
    "pm.summary(trace_new_UIPD3)"
   ]
  },
  {
   "cell_type": "code",
   "execution_count": 17,
   "metadata": {},
   "outputs": [
    {
     "name": "stderr",
     "output_type": "stream",
     "text": [
      "Multiprocess sampling (4 chains in 4 jobs)\n",
      "CompoundStep\n",
      ">Metropolis: [betah]\n",
      ">Metropolis: [thetah]\n",
      ">Metropolis: [M]\n",
      ">Metropolis: [sigma2]\n",
      ">Metropolis: [pis]\n",
      "Sampling 4 chains, 0 divergences: 100%|██████████| 60000/60000 [00:52<00:00, 1140.68draws/s]\n",
      "The number of effective samples is smaller than 10% for some parameters.\n"
     ]
    }
   ],
   "source": [
    "NewModel4 = getNewUIPDcon(dat3, [dat1, dat2, dat5])\n",
    "with NewModel4:\n",
    "    step = pm.Metropolis()\n",
    "    trace_new_UIPD4 = pm.sample(10000, tune=5000, step=step)"
   ]
  },
  {
   "cell_type": "code",
   "execution_count": 18,
   "metadata": {},
   "outputs": [
    {
     "data": {
      "text/html": [
       "<div>\n",
       "<style scoped>\n",
       "    .dataframe tbody tr th:only-of-type {\n",
       "        vertical-align: middle;\n",
       "    }\n",
       "\n",
       "    .dataframe tbody tr th {\n",
       "        vertical-align: top;\n",
       "    }\n",
       "\n",
       "    .dataframe thead th {\n",
       "        text-align: right;\n",
       "    }\n",
       "</style>\n",
       "<table border=\"1\" class=\"dataframe\">\n",
       "  <thead>\n",
       "    <tr style=\"text-align: right;\">\n",
       "      <th></th>\n",
       "      <th>mean</th>\n",
       "      <th>sd</th>\n",
       "      <th>hpd_3%</th>\n",
       "      <th>hpd_97%</th>\n",
       "      <th>mcse_mean</th>\n",
       "      <th>mcse_sd</th>\n",
       "      <th>ess_mean</th>\n",
       "      <th>ess_sd</th>\n",
       "      <th>ess_bulk</th>\n",
       "      <th>ess_tail</th>\n",
       "      <th>r_hat</th>\n",
       "    </tr>\n",
       "  </thead>\n",
       "  <tbody>\n",
       "    <tr>\n",
       "      <th>thetah</th>\n",
       "      <td>8.551</td>\n",
       "      <td>0.698</td>\n",
       "      <td>7.187</td>\n",
       "      <td>9.800</td>\n",
       "      <td>0.014</td>\n",
       "      <td>0.010</td>\n",
       "      <td>2458.0</td>\n",
       "      <td>2450.0</td>\n",
       "      <td>2473.0</td>\n",
       "      <td>4237.0</td>\n",
       "      <td>1.0</td>\n",
       "    </tr>\n",
       "    <tr>\n",
       "      <th>betah</th>\n",
       "      <td>3.743</td>\n",
       "      <td>0.819</td>\n",
       "      <td>2.203</td>\n",
       "      <td>5.247</td>\n",
       "      <td>0.015</td>\n",
       "      <td>0.011</td>\n",
       "      <td>2835.0</td>\n",
       "      <td>2835.0</td>\n",
       "      <td>2896.0</td>\n",
       "      <td>4308.0</td>\n",
       "      <td>1.0</td>\n",
       "    </tr>\n",
       "    <tr>\n",
       "      <th>pis[0]</th>\n",
       "      <td>0.251</td>\n",
       "      <td>0.183</td>\n",
       "      <td>0.000</td>\n",
       "      <td>0.581</td>\n",
       "      <td>0.003</td>\n",
       "      <td>0.002</td>\n",
       "      <td>2993.0</td>\n",
       "      <td>2993.0</td>\n",
       "      <td>2856.0</td>\n",
       "      <td>4804.0</td>\n",
       "      <td>1.0</td>\n",
       "    </tr>\n",
       "    <tr>\n",
       "      <th>pis[1]</th>\n",
       "      <td>0.414</td>\n",
       "      <td>0.243</td>\n",
       "      <td>0.000</td>\n",
       "      <td>0.812</td>\n",
       "      <td>0.005</td>\n",
       "      <td>0.003</td>\n",
       "      <td>2462.0</td>\n",
       "      <td>2462.0</td>\n",
       "      <td>2403.0</td>\n",
       "      <td>3708.0</td>\n",
       "      <td>1.0</td>\n",
       "    </tr>\n",
       "    <tr>\n",
       "      <th>pis[2]</th>\n",
       "      <td>0.335</td>\n",
       "      <td>0.227</td>\n",
       "      <td>0.000</td>\n",
       "      <td>0.733</td>\n",
       "      <td>0.004</td>\n",
       "      <td>0.003</td>\n",
       "      <td>3058.0</td>\n",
       "      <td>3058.0</td>\n",
       "      <td>2834.0</td>\n",
       "      <td>3822.0</td>\n",
       "      <td>1.0</td>\n",
       "    </tr>\n",
       "    <tr>\n",
       "      <th>sigma2</th>\n",
       "      <td>237.919</td>\n",
       "      <td>14.840</td>\n",
       "      <td>210.412</td>\n",
       "      <td>265.538</td>\n",
       "      <td>0.176</td>\n",
       "      <td>0.124</td>\n",
       "      <td>7133.0</td>\n",
       "      <td>7133.0</td>\n",
       "      <td>7096.0</td>\n",
       "      <td>7679.0</td>\n",
       "      <td>1.0</td>\n",
       "    </tr>\n",
       "    <tr>\n",
       "      <th>M</th>\n",
       "      <td>891.263</td>\n",
       "      <td>409.315</td>\n",
       "      <td>207.188</td>\n",
       "      <td>1539.729</td>\n",
       "      <td>5.299</td>\n",
       "      <td>3.747</td>\n",
       "      <td>5966.0</td>\n",
       "      <td>5966.0</td>\n",
       "      <td>5794.0</td>\n",
       "      <td>5638.0</td>\n",
       "      <td>1.0</td>\n",
       "    </tr>\n",
       "  </tbody>\n",
       "</table>\n",
       "</div>"
      ],
      "text/plain": [
       "           mean       sd   hpd_3%   hpd_97%  mcse_mean  mcse_sd  ess_mean  \\\n",
       "thetah    8.551    0.698    7.187     9.800      0.014    0.010    2458.0   \n",
       "betah     3.743    0.819    2.203     5.247      0.015    0.011    2835.0   \n",
       "pis[0]    0.251    0.183    0.000     0.581      0.003    0.002    2993.0   \n",
       "pis[1]    0.414    0.243    0.000     0.812      0.005    0.003    2462.0   \n",
       "pis[2]    0.335    0.227    0.000     0.733      0.004    0.003    3058.0   \n",
       "sigma2  237.919   14.840  210.412   265.538      0.176    0.124    7133.0   \n",
       "M       891.263  409.315  207.188  1539.729      5.299    3.747    5966.0   \n",
       "\n",
       "        ess_sd  ess_bulk  ess_tail  r_hat  \n",
       "thetah  2450.0    2473.0    4237.0    1.0  \n",
       "betah   2835.0    2896.0    4308.0    1.0  \n",
       "pis[0]  2993.0    2856.0    4804.0    1.0  \n",
       "pis[1]  2462.0    2403.0    3708.0    1.0  \n",
       "pis[2]  3058.0    2834.0    3822.0    1.0  \n",
       "sigma2  7133.0    7096.0    7679.0    1.0  \n",
       "M       5966.0    5794.0    5638.0    1.0  "
      ]
     },
     "execution_count": 18,
     "metadata": {},
     "output_type": "execute_result"
    }
   ],
   "source": [
    "pm.summary(trace_new_UIPD4)"
   ]
  },
  {
   "cell_type": "code",
   "execution_count": null,
   "metadata": {},
   "outputs": [],
   "source": []
  }
 ],
 "metadata": {
  "kernelspec": {
   "display_name": "Python 3",
   "language": "python",
   "name": "python3"
  },
  "language_info": {
   "codemirror_mode": {
    "name": "ipython",
    "version": 3
   },
   "file_extension": ".py",
   "mimetype": "text/x-python",
   "name": "python",
   "nbconvert_exporter": "python",
   "pygments_lexer": "ipython3",
   "version": "3.7.3"
  }
 },
 "nbformat": 4,
 "nbformat_minor": 2
}
