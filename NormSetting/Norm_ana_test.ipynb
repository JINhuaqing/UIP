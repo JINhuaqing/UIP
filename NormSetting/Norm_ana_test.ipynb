{
 "cells": [
  {
   "cell_type": "code",
   "execution_count": 1,
   "metadata": {},
   "outputs": [
    {
     "name": "stderr",
     "output_type": "stream",
     "text": [
      "WARNING (theano.tensor.blas): Using NumPy C-API based implementation for BLAS functions.\n"
     ]
    }
   ],
   "source": [
    "import pymc3 as pm\n",
    "import matplotlib.pyplot as plt\n",
    "import numpy as np\n",
    "import pickle\n",
    "from pathlib import Path\n",
    "import pandas as pd\n",
    "import seaborn as sns\n",
    "from easydict import EasyDict as edict\n",
    "\n",
    "%matplotlib inline"
   ]
  },
  {
   "cell_type": "code",
   "execution_count": 2,
   "metadata": {},
   "outputs": [],
   "source": [
    "from tqdm import tqdm_notebook as tqdm\n",
    "from collections import defaultdict as ddict\n",
    "from pprint import pprint"
   ]
  },
  {
   "cell_type": "code",
   "execution_count": 3,
   "metadata": {},
   "outputs": [],
   "source": [
    "def sortdir(f):\n",
    "    num = f.name.split(\"_\")[-2].split(\"p\")[-1]\n",
    "    num = int(num)\n",
    "    return  num\n",
    "\n",
    "def sortf(f):\n",
    "    num = f.name.split(\".\")[0]\n",
    "    num = int(num)\n",
    "    return num"
   ]
  },
  {
   "cell_type": "code",
   "execution_count": 4,
   "metadata": {},
   "outputs": [],
   "source": [
    "def load_pkl(f):\n",
    "    with open(f, \"rb\") as fi:\n",
    "        data = pickle.load(fi)\n",
    "    return data"
   ]
  },
  {
   "cell_type": "markdown",
   "metadata": {},
   "source": [
    "## To obtaining simple format file"
   ]
  },
  {
   "cell_type": "code",
   "execution_count": 5,
   "metadata": {},
   "outputs": [],
   "source": [
    "def parse_sresult(datum):\n",
    "    res = {\n",
    "        \"JEF\"  : datum[\"jef\"][\"theta\"],\n",
    "        \"FULL\": datum[\"full\"][\"theta\"],\n",
    "        \"UIPD\" : datum[\"UIPD\"][\"thetah\"],\n",
    "        \"UIPJS\": datum[\"UIPJS\"][\"thetah\"],\n",
    "        \"NPP\"  : datum[\"NPP\"][\"thetah\"],\n",
    "        \"LCP\"  : datum[\"LCP\"][\"thetah\"],\n",
    "        \"rMAP\" : datum[\"rMAP\"][\"thetaP\"]\n",
    "    }\n",
    "    return res\n",
    "\n",
    "def save_data(cdir):\n",
    "    files = list(cdir.glob(\"*.pkl\"))\n",
    "    files = sorted(files, key=sortf, reverse=False)\n",
    "    retres = {\n",
    "        \"JEF\":[],\n",
    "        \"FULL\":[],\n",
    "        \"LCP\":[],\n",
    "        \"NPP\":[],\n",
    "        \"UIPJS\":[],\n",
    "        \"UIPD\":[],\n",
    "        \"rMAP\":[]\n",
    "    }\n",
    "    for fil in tqdm(files):\n",
    "        datum = load_pkl(fil)\n",
    "        simdatum = parse_sresult(datum)\n",
    "        retres[\"JEF\"].append(simdatum[\"JEF\"])\n",
    "        retres[\"FULL\"].append(simdatum[\"FULL\"])\n",
    "        retres[\"UIPD\"].append(simdatum[\"UIPD\"])\n",
    "        retres[\"UIPJS\"].append(simdatum[\"UIPJS\"])\n",
    "        retres[\"NPP\"].append(simdatum[\"NPP\"])\n",
    "        retres[\"LCP\"].append(simdatum[\"LCP\"])\n",
    "        retres[\"rMAP\"].append(simdatum[\"rMAP\"])\n",
    "    return retres"
   ]
  },
  {
   "cell_type": "markdown",
   "metadata": {},
   "source": [
    "### Obain the folders"
   ]
  },
  {
   "cell_type": "code",
   "execution_count": 6,
   "metadata": {},
   "outputs": [],
   "source": [
    "n = 120\n",
    "\n",
    "root = Path(f\"./results/\")\n",
    "dirs = root.glob(f\"BiostatR1*_n{n}\")\n",
    "dirs = list(dirs)"
   ]
  },
  {
   "cell_type": "markdown",
   "metadata": {},
   "source": [
    "### Get the current data"
   ]
  },
  {
   "cell_type": "code",
   "execution_count": 15,
   "metadata": {},
   "outputs": [],
   "source": [
    "theta0 = 0.5\n",
    "\n",
    "idxs = np.array([sortdir(d) for d in dirs])/100\n",
    "idxs = list(np.sort(idxs))\n",
    "\n",
    "dirs = sorted(dirs, key=sortdir, reverse=False)\n",
    "cdir = dirs[idxs.index(theta0)]\n",
    "\n",
    "simData = root/f\"./SimBiostatR1_p{sortdir(cdir)}_n{n}.pkl\""
   ]
  },
  {
   "cell_type": "markdown",
   "metadata": {},
   "source": [
    "### Obtain the cleaned data"
   ]
  },
  {
   "cell_type": "code",
   "execution_count": 16,
   "metadata": {},
   "outputs": [],
   "source": [
    "if simData.exists():\n",
    "    cleanData = load_pkl(simData)\n",
    "else:\n",
    "    cleanData = save_data(cdir)\n",
    "    with open(simData, \"wb\") as f:\n",
    "        pickle.dump(cleanData, f)"
   ]
  },
  {
   "cell_type": "code",
   "execution_count": 17,
   "metadata": {},
   "outputs": [],
   "source": [
    "cleanData = edict(cleanData)"
   ]
  },
  {
   "cell_type": "code",
   "execution_count": 18,
   "metadata": {},
   "outputs": [],
   "source": [
    "def is_true(theta0, bs):\n",
    "    low, up = bs\n",
    "    return (theta0 > low) and (theta0 < up)\n",
    "\n",
    "\n",
    "def rejrate(theta0, data, theta):\n",
    "    reslist = [is_true(theta0, bs=[np.quantile(dat, q=theta), np.quantile(dat, q=1-theta)]) for dat in data] \n",
    "    return 1 - np.mean(reslist)\n",
    "\n",
    "\n",
    "def getRatio(theta0, data):\n",
    "    p1 = np.mean(data<=theta0)\n",
    "    p2 = np.mean(data>theta0)\n",
    "    res = np.min([p1, p2])\n",
    "    return res\n",
    "\n",
    "\n",
    "\n",
    "def getQuantile(theta0, data, alp=0.05):\n",
    "    res = [getRatio(theta0, data=dat) for dat in data]\n",
    "    return np.quantile(res, q=alp)"
   ]
  },
  {
   "cell_type": "markdown",
   "metadata": {},
   "source": [
    "### Get the CV"
   ]
  },
  {
   "cell_type": "code",
   "execution_count": 19,
   "metadata": {},
   "outputs": [],
   "source": [
    "CVqs = ddict(float)\n",
    "Alphas = ddict(float)\n",
    "Alphas95 = ddict(float)\n",
    "Powers = ddict(list)\n",
    "Powers95 = ddict(list)"
   ]
  },
  {
   "cell_type": "code",
   "execution_count": 20,
   "metadata": {},
   "outputs": [
    {
     "name": "stdout",
     "output_type": "stream",
     "text": [
      "Sizes\n",
      "JEF       : 0.049\n",
      "FULL      : 0.054\n",
      "LCP       : 0.049\n",
      "NPP       : 0.050\n",
      "UIPJS     : 0.050\n",
      "UIPD      : 0.050\n",
      "rMAP      : 0.051\n",
      "Sizes95\n",
      "JEF       : 0.045\n",
      "FULL      : 0.346\n",
      "LCP       : 0.049\n",
      "NPP       : 0.074\n",
      "UIPJS     : 0.071\n",
      "UIPD      : 0.034\n",
      "rMAP      : 0.042\n"
     ]
    }
   ],
   "source": [
    "alps = {\n",
    "    \"JEF\": 0.05 - 1e-3,\n",
    "    \"FULL\": 0.05,\n",
    "    \"LCP\": 0.05 - 1e-3,\n",
    "    \"UIPJS\": 0.05 - 1e-3,\n",
    "    \"UIPD\": 0.05 - 5e-4,\n",
    "    \"NPP\": 0.05 - 5e-4,\n",
    "    \"rMAP\": 0.05\n",
    "}\n",
    "for key, dat in cleanData.items():\n",
    "    CVqs[key] = getQuantile(theta0, data=dat, alp=alps[key])\n",
    "    Alphas[key] = rejrate(theta0, dat, CVqs[key])\n",
    "    Alphas95[key] = rejrate(theta0, dat, 0.025)\n",
    "print(\"Sizes\")\n",
    "for key, v in Alphas.items():\n",
    "    print(f\"{key:<10}: {v:.3f}\")\n",
    "print(\"Sizes95\")\n",
    "for key, v in Alphas95.items():\n",
    "    print(f\"{key:<10}: {v:.3f}\")"
   ]
  },
  {
   "cell_type": "code",
   "execution_count": 14,
   "metadata": {},
   "outputs": [
    {
     "name": "stdout",
     "output_type": "stream",
     "text": [
      "Powers\n",
      "JEF       : 0.632\n",
      "FULL      : 1.000\n",
      "LCP       : 0.598\n",
      "NPP       : 0.692\n",
      "UIPJS     : 0.673\n",
      "UIPD      : 0.712\n",
      "rMAP      : 0.702\n",
      "Powers\n",
      "JEF       : 0.614\n",
      "FULL      : 1.000\n",
      "LCP       : 0.779\n",
      "NPP       : 0.868\n",
      "UIPJS     : 0.818\n",
      "UIPD      : 0.833\n",
      "rMAP      : 0.703\n"
     ]
    }
   ],
   "source": [
    "theta = 0\n",
    "for key, dat in cleanData.items():\n",
    "    Powers[key] = rejrate(theta, dat, CVqs[key])\n",
    "    Powers95[key] = rejrate(theta, dat, 0.025)\n",
    "print(\"Powers\")\n",
    "for key, v in Powers.items():\n",
    "    print(f\"{key:<10}: {v:.3f}\")\n",
    "print(\"Powers\")\n",
    "for key, v in Powers95.items():\n",
    "    print(f\"{key:<10}: {v:.3f}\")"
   ]
  },
  {
   "cell_type": "code",
   "execution_count": 36,
   "metadata": {},
   "outputs": [
    {
     "data": {
      "text/plain": [
       "0.050000000000000044"
      ]
     },
     "execution_count": 36,
     "metadata": {},
     "output_type": "execute_result"
    }
   ],
   "source": [
    "cvs = getQuantile(theta0, data=datah0[\"UIPD\"], alp=0.05-5e-4)\n",
    "rejrate(theta0, datah0[\"UIPD\"], cvs)"
   ]
  },
  {
   "cell_type": "markdown",
   "metadata": {},
   "source": [
    "## Get the powers"
   ]
  },
  {
   "cell_type": "code",
   "execution_count": 37,
   "metadata": {},
   "outputs": [
    {
     "name": "stdout",
     "output_type": "stream",
     "text": [
      "============================================================\n",
      "Current is method JEF in file SimMCMCNorm_p10_n80!\n",
      "Current is method FULL in file SimMCMCNorm_p10_n80!\n",
      "Current is method LCP in file SimMCMCNorm_p10_n80!\n",
      "Current is method NPP in file SimMCMCNorm_p10_n80!\n",
      "Current is method UIPJS in file SimMCMCNorm_p10_n80!\n",
      "Current is method UIPD in file SimMCMCNorm_p10_n80!\n",
      "============================================================\n",
      "Current is method JEF in file SimMCMCNorm_p20_n80!\n",
      "Current is method FULL in file SimMCMCNorm_p20_n80!\n",
      "Current is method LCP in file SimMCMCNorm_p20_n80!\n",
      "Current is method NPP in file SimMCMCNorm_p20_n80!\n",
      "Current is method UIPJS in file SimMCMCNorm_p20_n80!\n",
      "Current is method UIPD in file SimMCMCNorm_p20_n80!\n",
      "============================================================\n",
      "Current is method JEF in file SimMCMCNorm_p30_n80!\n",
      "Current is method FULL in file SimMCMCNorm_p30_n80!\n",
      "Current is method LCP in file SimMCMCNorm_p30_n80!\n",
      "Current is method NPP in file SimMCMCNorm_p30_n80!\n",
      "Current is method UIPJS in file SimMCMCNorm_p30_n80!\n",
      "Current is method UIPD in file SimMCMCNorm_p30_n80!\n",
      "============================================================\n",
      "Current is method JEF in file SimMCMCNorm_p40_n80!\n",
      "Current is method FULL in file SimMCMCNorm_p40_n80!\n",
      "Current is method LCP in file SimMCMCNorm_p40_n80!\n",
      "Current is method NPP in file SimMCMCNorm_p40_n80!\n",
      "Current is method UIPJS in file SimMCMCNorm_p40_n80!\n",
      "Current is method UIPD in file SimMCMCNorm_p40_n80!\n"
     ]
    }
   ],
   "source": [
    "for f in files:\n",
    "    theta = sortdir(f)/100\n",
    "    if theta != theta0:\n",
    "        Powers[\"theta\"].append(theta)\n",
    "        Powers95[\"theta\"].append(theta)\n",
    "        datah1 = load_pkl(f)\n",
    "        print(\"==\"*30)\n",
    "        for key, dat in datah1.items():\n",
    "            print(f\"Current is method {key} in file {f.name}!\")\n",
    "            Powers[key].append(rejrate(theta0, dat, CVqs[key]))\n",
    "            Powers95[key].append(rejrate(theta0, dat, 0.025))"
   ]
  },
  {
   "cell_type": "code",
   "execution_count": 38,
   "metadata": {},
   "outputs": [
    {
     "name": "stdout",
     "output_type": "stream",
     "text": [
      "   theta    JEF  FULL    LCP    NPP  UIPJS   UIPD\n",
      "0    0.1  0.156   1.0  0.225  0.262  0.245  0.240\n",
      "1    0.2  0.452   1.0  0.538  0.572  0.559  0.549\n",
      "2    0.3  0.791   1.0  0.856  0.886  0.878  0.871\n",
      "3    0.4  0.935   1.0  0.956  0.966  0.962  0.964\n",
      "Powers\n",
      "JEF      0.58350\n",
      "FULL     1.00000\n",
      "LCP      0.64375\n",
      "NPP      0.67150\n",
      "UIPJS    0.66100\n",
      "UIPD     0.65600\n",
      "dtype: float64\n",
      "Sizes\n",
      "JEF       : 0.050\n",
      "FULL      : 1.000\n",
      "LCP       : 0.050\n",
      "NPP       : 0.050\n",
      "UIPJS     : 0.050\n",
      "UIPD      : 0.050\n"
     ]
    }
   ],
   "source": [
    "Powers = pd.DataFrame(Powers)\n",
    "print(Powers)\n",
    "print(f\"Powers\")\n",
    "print(Powers.drop(columns=[\"theta\"]).mean(axis=0))\n",
    "print(\"Sizes\")\n",
    "for key, v in Alphas.items():\n",
    "    print(f\"{key:<10}: {v:.3f}\")"
   ]
  },
  {
   "cell_type": "code",
   "execution_count": 39,
   "metadata": {},
   "outputs": [
    {
     "name": "stdout",
     "output_type": "stream",
     "text": [
      "   theta    JEF  FULL    LCP    NPP  UIPJS   UIPD\n",
      "0    0.1  0.148   1.0  0.365  0.489  0.426  0.400\n",
      "1    0.2  0.441   1.0  0.672  0.786  0.720  0.693\n",
      "2    0.3  0.774   1.0  0.926  0.956  0.942  0.935\n",
      "3    0.4  0.931   1.0  0.978  0.992  0.986  0.982\n",
      "Powers95\n",
      "JEF      0.57350\n",
      "FULL     1.00000\n",
      "LCP      0.73525\n",
      "NPP      0.80575\n",
      "UIPJS    0.76850\n",
      "UIPD     0.75250\n",
      "dtype: float64\n",
      "Sizes\n",
      "JEF       : 0.046\n",
      "FULL      : 1.000\n",
      "LCP       : 0.119\n",
      "NPP       : 0.178\n",
      "UIPJS     : 0.138\n",
      "UIPD      : 0.121\n"
     ]
    }
   ],
   "source": [
    "Powers95 = pd.DataFrame(Powers95)\n",
    "print(Powers95)\n",
    "print(f\"Powers95\")\n",
    "print(Powers95.drop(columns=[\"theta\"]).mean(axis=0))\n",
    "print(\"Sizes\")\n",
    "for key, v in Alphas95.items():\n",
    "    print(f\"{key:<10}: {v:.3f}\")"
   ]
  },
  {
   "cell_type": "code",
   "execution_count": null,
   "metadata": {},
   "outputs": [],
   "source": []
  }
 ],
 "metadata": {
  "kernelspec": {
   "display_name": "Python 3",
   "language": "python",
   "name": "python3"
  },
  "language_info": {
   "codemirror_mode": {
    "name": "ipython",
    "version": 3
   },
   "file_extension": ".py",
   "mimetype": "text/x-python",
   "name": "python",
   "nbconvert_exporter": "python",
   "pygments_lexer": "ipython3",
   "version": "3.7.3"
  }
 },
 "nbformat": 4,
 "nbformat_minor": 2
}
