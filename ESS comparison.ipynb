{
 "cells": [
  {
   "cell_type": "code",
   "execution_count": 17,
   "metadata": {},
   "outputs": [],
   "source": [
    "import numpy as np\n",
    "import numpy.random as npr\n",
    "from numpy.random import dirichlet, uniform\n",
    "from utils import MH_beta, MH_Gaussian\n",
    "from scipy.stats import beta, norm, bernoulli\n",
    "import matplotlib.pyplot as plt\n",
    "import seaborn as sns\n",
    "%matplotlib inline"
   ]
  },
  {
   "cell_type": "markdown",
   "metadata": {},
   "source": [
    "### Parameters"
   ]
  },
  {
   "cell_type": "code",
   "execution_count": 27,
   "metadata": {},
   "outputs": [],
   "source": [
    "ns = [80, 100, 120]\n",
    "n = 100\n",
    "Ms = np.arange(10, 200, step=10)"
   ]
  },
  {
   "cell_type": "markdown",
   "metadata": {},
   "source": [
    "### Binary data"
   ]
  },
  {
   "cell_type": "code",
   "execution_count": 28,
   "metadata": {},
   "outputs": [],
   "source": [
    "# The conditional ESS \n",
    "def ESS1_beta(num, M, ns, ps, n):\n",
    "    \"\"\"\n",
    "    Input:\n",
    "        num: The number of times to generate weight parameter\n",
    "        M: The amount parameters\n",
    "        ns: The number of sample size for each historical dataset\n",
    "        ps: The mean parameters for each historical dataset\n",
    "        n: The sample size of the current dataset\n",
    "    Return:\n",
    "        The ESS averaging on the weighted\n",
    "    \n",
    "    \"\"\"\n",
    "    alps = np.array([nh/n for nh in ns])\n",
    "    alps[alps>1] = 1\n",
    "    Ds = [ bernoulli.rvs(ps[i], size=ns[i]) for i in range(len(ns))]\n",
    "    phats = np.array([np.mean(Dh) for Dh in Ds])\n",
    "    wss = dirichlet(alps, num)\n",
    "    mus = np.sum(wss * phats, axis=1)\n",
    "    invEta2s = M*np.sum(wss / (1-phats)/phats, axis=1)\n",
    "    ESSs = mus*(1-mus)*invEta2s-1\n",
    "    return np.mean(ESSs)"
   ]
  },
  {
   "cell_type": "code",
   "execution_count": 29,
   "metadata": {},
   "outputs": [],
   "source": [
    "ps_range = [0.4, 0.6]\n",
    "pss = uniform(ps_range[0], ps_range[1], size=(100, 3))"
   ]
  },
  {
   "cell_type": "code",
   "execution_count": 30,
   "metadata": {},
   "outputs": [],
   "source": [
    "ESSss = []\n",
    "for M in Ms:\n",
    "    ESSs = []\n",
    "    for ps in pss:\n",
    "        ESS = ESS1_beta(num=10000, M=M, ns=ns, ps=ps, n=n)\n",
    "        ESSs.append(ESS)\n",
    "    ESSss.append(ESSs)"
   ]
  },
  {
   "cell_type": "code",
   "execution_count": 34,
   "metadata": {},
   "outputs": [],
   "source": [
    "ESSsAv = np.mean(ESSss, axis=1)"
   ]
  },
  {
   "cell_type": "code",
   "execution_count": 38,
   "metadata": {},
   "outputs": [
    {
     "data": {
      "text/plain": [
       "[<matplotlib.lines.Line2D at 0x7f60abe772e8>]"
      ]
     },
     "execution_count": 38,
     "metadata": {},
     "output_type": "execute_result"
    },
    {
     "data": {
      "image/png": "[encoded data removed]",
      "text/plain": [
       "<Figure size 432x288 with 1 Axes>"
      ]
     },
     "metadata": {
      "needs_background": "light"
     },
     "output_type": "display_data"
    }
   ],
   "source": [
    "plt.plot(Ms, ESSsAv)"
   ]
  },
  {
   "cell_type": "code",
   "execution_count": null,
   "metadata": {},
   "outputs": [],
   "source": []
  }
 ],
 "metadata": {
  "kernelspec": {
   "display_name": "Python 3",
   "language": "python",
   "name": "python3"
  },
  "language_info": {
   "codemirror_mode": {
    "name": "ipython",
    "version": 3
   },
   "file_extension": ".py",
   "mimetype": "text/x-python",
   "name": "python",
   "nbconvert_exporter": "python",
   "pygments_lexer": "ipython3",
   "version": "3.7.3"
  }
 },
 "nbformat": 4,
 "nbformat_minor": 2
}
