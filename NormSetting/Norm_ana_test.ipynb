{
 "cells": [
  {
   "cell_type": "code",
   "execution_count": 1,
   "metadata": {},
   "outputs": [
    {
     "name": "stderr",
     "output_type": "stream",
     "text": [
      "WARNING (theano.tensor.blas): Using NumPy C-API based implementation for BLAS functions.\n"
     ]
    }
   ],
   "source": [
    "import pymc3 as pm\n",
    "import matplotlib.pyplot as plt\n",
    "import numpy as np\n",
    "import pickle\n",
    "from pathlib import Path\n",
    "import pandas as pd\n",
    "import seaborn as sns\n",
    "from easydict import EasyDict as edict\n",
    "\n",
    "%matplotlib inline"
   ]
  },
  {
   "cell_type": "code",
   "execution_count": 2,
   "metadata": {},
   "outputs": [],
   "source": [
    "from tqdm import tqdm_notebook as tqdm\n",
    "from collections import defaultdict as ddict\n",
    "from pprint import pprint"
   ]
  },
  {
   "cell_type": "code",
   "execution_count": 3,
   "metadata": {},
   "outputs": [],
   "source": [
    "def sortdir(f):\n",
    "    num = f.name.split(\"_\")[-2].split(\"p\")[-1]\n",
    "    num = int(num)\n",
    "    return  num\n",
    "\n",
    "def sortf(f):\n",
    "    num = f.name.split(\".\")[0]\n",
    "    num = int(num)\n",
    "    return num"
   ]
  },
  {
   "cell_type": "code",
   "execution_count": 4,
   "metadata": {},
   "outputs": [],
   "source": [
    "def load_pkl(f):\n",
    "    with open(f, \"rb\") as fi:\n",
    "        data = pickle.load(fi)\n",
    "    return data"
   ]
  },
  {
   "cell_type": "markdown",
   "metadata": {},
   "source": [
    "## To obtaining simple format file"
   ]
  },
  {
   "cell_type": "code",
   "execution_count": 5,
   "metadata": {},
   "outputs": [],
   "source": [
    "def parse_sresult(datum):\n",
    "    res = {\n",
    "        \"JEF\"  : datum[\"jef\"][\"theta\"],\n",
    "        \"FULL\": datum[\"full\"][\"theta\"],\n",
    "        \"UIPD\" : datum[\"UIPD\"][\"thetah\"],\n",
    "        \"UIPJS\": datum[\"UIPJS\"][\"thetah\"],\n",
    "        \"NPP\"  : datum[\"NPP\"][\"thetah\"],\n",
    "        \"LCP\"  : datum[\"LCP\"][\"thetah\"],\n",
    "        \"rMAP\" : datum[\"rMAP\"][\"thetaP\"]\n",
    "    }\n",
    "    return res\n",
    "\n",
    "def save_data(cdir):\n",
    "    files = list(cdir.glob(\"*.pkl\"))\n",
    "    files = sorted(files, key=sortf, reverse=False)\n",
    "    retres = {\n",
    "        \"JEF\":[],\n",
    "        \"FULL\":[],\n",
    "        \"LCP\":[],\n",
    "        \"NPP\":[],\n",
    "        \"UIPJS\":[],\n",
    "        \"UIPD\":[],\n",
    "        \"rMAP\":[]\n",
    "    }\n",
    "    for fil in tqdm(files):\n",
    "        datum = load_pkl(fil)\n",
    "        simdatum = parse_sresult(datum)\n",
    "        retres[\"JEF\"].append(simdatum[\"JEF\"])\n",
    "        retres[\"FULL\"].append(simdatum[\"FULL\"])\n",
    "        retres[\"UIPD\"].append(simdatum[\"UIPD\"])\n",
    "        retres[\"UIPJS\"].append(simdatum[\"UIPJS\"])\n",
    "        retres[\"NPP\"].append(simdatum[\"NPP\"])\n",
    "        retres[\"LCP\"].append(simdatum[\"LCP\"])\n",
    "        retres[\"rMAP\"].append(simdatum[\"rMAP\"])\n",
    "    return retres"
   ]
  },
  {
   "cell_type": "markdown",
   "metadata": {},
   "source": [
    "### Obain the folders"
   ]
  },
  {
   "cell_type": "code",
   "execution_count": 6,
   "metadata": {},
   "outputs": [],
   "source": [
    "def is_true(theta0, bs):\n",
    "    low, up = bs\n",
    "    return (theta0 > low) and (theta0 < up)\n",
    "\n",
    "\n",
    "def rejrate(theta0, data, theta):\n",
    "    reslist = [is_true(theta0, bs=[np.quantile(dat, q=theta), np.quantile(dat, q=1-theta)]) for dat in data] \n",
    "    return 1 - np.mean(reslist)\n",
    "\n",
    "\n",
    "def getRatio(theta0, data):\n",
    "    p1 = np.mean(data<=theta0)\n",
    "    p2 = np.mean(data>theta0)\n",
    "    res = np.min([p1, p2])\n",
    "    return res\n",
    "\n",
    "\n",
    "\n",
    "def getQuantile(theta0, data, alp=0.05):\n",
    "    res = [getRatio(theta0, data=dat) for dat in data]\n",
    "    return np.quantile(res, q=alp)"
   ]
  },
  {
   "cell_type": "markdown",
   "metadata": {},
   "source": [
    "### Get the CV"
   ]
  },
  {
   "cell_type": "code",
   "execution_count": 7,
   "metadata": {},
   "outputs": [],
   "source": [
    "n = 120\n",
    "\n",
    "root = Path(f\"./results/\")\n",
    "n = 120\n",
    "fls = root.glob(f\"SimBiostatR1*_n{n}.pkl\")\n",
    "fls = list(fls)\n",
    "fls = sorted(fls, key=sortdir)"
   ]
  },
  {
   "cell_type": "code",
   "execution_count": 9,
   "metadata": {},
   "outputs": [],
   "source": [
    "sizes = ddict(list)\n",
    "for cfl, theta0 in zip(fls, idxs):\n",
    "    cleanData = load_pkl(cfl)\n",
    "    for key, dat in cleanData.items():\n",
    "        sizes[key].append(rejrate(theta0, dat, 0.025))"
   ]
  },
  {
   "cell_type": "code",
   "execution_count": 86,
   "metadata": {},
   "outputs": [
    {
     "data": {
      "text/plain": [
       "<matplotlib.legend.Legend at 0x7ff0152b8fd0>"
      ]
     },
     "execution_count": 86,
     "metadata": {},
     "output_type": "execute_result"
    },
    {
     "data": {
      "image/png": "[encoded data removed]",
      "text/plain": [
       "<Figure size 432x288 with 1 Axes>"
      ]
     },
     "metadata": {
      "needs_background": "light"
     },
     "output_type": "display_data"
    }
   ],
   "source": [
    "thetas = idxs\n",
    "low = 0\n",
    "up = 6\n",
    "plt.title(\"sizes\")\n",
    "##plt.ylim([0, 0.05])\n",
    "plt.plot(thetas[low:up], sizes[\"JEF\"][low:up], \"-\", label=\"JEF\")\n",
    "plt.plot(thetas[low:up], sizes[\"UIPD\"][low:up], label=\"UIPD\")\n",
    "plt.plot(thetas[low:up], sizes[\"UIPJS\"][low:up], label=\"UIPJS\")\n",
    "plt.plot(thetas[low:up], sizes[\"NPP\"][low:up], label=\"NPP\")\n",
    "plt.plot(thetas[low:up], sizes[\"LCP\"][low:up], label=\"LCP\")\n",
    "plt.plot(thetas[low:up], sizes[\"rMAP\"][low:up], label=\"rMAP\")\n",
    "plt.plot(thetas[low:up], sizes[\"FULL\"][low:up], label=\"FULL\")\n",
    "plt.legend()"
   ]
  },
  {
   "cell_type": "code",
   "execution_count": 77,
   "metadata": {},
   "outputs": [],
   "source": [
    "theta0 = 0\n",
    "idxs = np.array([sortdir(d) for d in fls])/100\n",
    "idxs = list(np.sort(idxs))\n",
    "cfl = fls[idxs.index(theta0)]"
   ]
  },
  {
   "cell_type": "code",
   "execution_count": 78,
   "metadata": {},
   "outputs": [],
   "source": [
    "CVqs = ddict(float)\n",
    "Alphas = ddict(float)\n",
    "Alphas95 = ddict(float)"
   ]
  },
  {
   "cell_type": "code",
   "execution_count": 79,
   "metadata": {},
   "outputs": [
    {
     "name": "stdout",
     "output_type": "stream",
     "text": [
      "Sizes\n",
      "JEF       : 0.050\n",
      "FULL      : 0.962\n",
      "LCP       : 0.050\n",
      "NPP       : 0.051\n",
      "UIPJS     : 0.049\n",
      "UIPD      : 0.050\n",
      "rMAP      : 0.051\n"
     ]
    }
   ],
   "source": [
    "cleanData = load_pkl(cfl)\n",
    "alps = {\n",
    "    \"JEF\": 0.05 - 1e-3,\n",
    "    \"FULL\": 0.05,\n",
    "    \"LCP\": 0.05 - 1e-3,\n",
    "    \"UIPJS\": 0.05 - 1e-3,\n",
    "    \"UIPD\": 0.05 - 5e-4,\n",
    "    \"NPP\": 0.05 - 5e-4,\n",
    "    \"rMAP\": 0.05\n",
    "}\n",
    "for key, dat in cleanData.items():\n",
    "    CVqs[key] = getQuantile(theta0, data=dat, alp=alps[key])\n",
    "    Alphas[key] = rejrate(theta0, dat, CVqs[key])\n",
    "    Alphas95[key] = rejrate(theta0, dat, 0.025)\n",
    "print(\"Sizes\")\n",
    "for key, v in Alphas.items():\n",
    "    print(f\"{key:<10}: {v:.3f}\")\n"
   ]
  },
  {
   "cell_type": "code",
   "execution_count": 80,
   "metadata": {},
   "outputs": [
    {
     "data": {
      "text/plain": [
       "defaultdict(float,\n",
       "            {'JEF': 0.0264902,\n",
       "             'FULL': 0.0,\n",
       "             'LCP': 0.012625500000000001,\n",
       "             'NPP': 0.00455,\n",
       "             'UIPJS': 0.010237750000000002,\n",
       "             'UIPD': 0.008912625000000002,\n",
       "             'rMAP': 0.025580000000000002})"
      ]
     },
     "execution_count": 80,
     "metadata": {},
     "output_type": "execute_result"
    }
   ],
   "source": [
    "CVqs"
   ]
  },
  {
   "cell_type": "markdown",
   "metadata": {},
   "source": [
    "## Get the powers"
   ]
  },
  {
   "cell_type": "code",
   "execution_count": 81,
   "metadata": {},
   "outputs": [],
   "source": [
    "Powers = ddict(list)\n",
    "Powers95 = ddict(list)"
   ]
  },
  {
   "cell_type": "code",
   "execution_count": 82,
   "metadata": {},
   "outputs": [
    {
     "name": "stdout",
     "output_type": "stream",
     "text": [
      "============================================================\n",
      "Current is method JEF in file SimBiostatR1_p0_n120.pkl!\n",
      "Current is method FULL in file SimBiostatR1_p0_n120.pkl!\n",
      "Current is method LCP in file SimBiostatR1_p0_n120.pkl!\n",
      "Current is method NPP in file SimBiostatR1_p0_n120.pkl!\n",
      "Current is method UIPJS in file SimBiostatR1_p0_n120.pkl!\n",
      "Current is method UIPD in file SimBiostatR1_p0_n120.pkl!\n",
      "Current is method rMAP in file SimBiostatR1_p0_n120.pkl!\n",
      "============================================================\n",
      "Current is method JEF in file SimBiostatR1_p10_n120.pkl!\n",
      "Current is method FULL in file SimBiostatR1_p10_n120.pkl!\n",
      "Current is method LCP in file SimBiostatR1_p10_n120.pkl!\n",
      "Current is method NPP in file SimBiostatR1_p10_n120.pkl!\n",
      "Current is method UIPJS in file SimBiostatR1_p10_n120.pkl!\n",
      "Current is method UIPD in file SimBiostatR1_p10_n120.pkl!\n",
      "Current is method rMAP in file SimBiostatR1_p10_n120.pkl!\n",
      "============================================================\n",
      "Current is method JEF in file SimBiostatR1_p20_n120.pkl!\n",
      "Current is method FULL in file SimBiostatR1_p20_n120.pkl!\n",
      "Current is method LCP in file SimBiostatR1_p20_n120.pkl!\n",
      "Current is method NPP in file SimBiostatR1_p20_n120.pkl!\n",
      "Current is method UIPJS in file SimBiostatR1_p20_n120.pkl!\n",
      "Current is method UIPD in file SimBiostatR1_p20_n120.pkl!\n",
      "Current is method rMAP in file SimBiostatR1_p20_n120.pkl!\n",
      "============================================================\n",
      "Current is method JEF in file SimBiostatR1_p30_n120.pkl!\n",
      "Current is method FULL in file SimBiostatR1_p30_n120.pkl!\n",
      "Current is method LCP in file SimBiostatR1_p30_n120.pkl!\n",
      "Current is method NPP in file SimBiostatR1_p30_n120.pkl!\n",
      "Current is method UIPJS in file SimBiostatR1_p30_n120.pkl!\n",
      "Current is method UIPD in file SimBiostatR1_p30_n120.pkl!\n",
      "Current is method rMAP in file SimBiostatR1_p30_n120.pkl!\n",
      "============================================================\n",
      "Current is method JEF in file SimBiostatR1_p40_n120.pkl!\n",
      "Current is method FULL in file SimBiostatR1_p40_n120.pkl!\n",
      "Current is method LCP in file SimBiostatR1_p40_n120.pkl!\n",
      "Current is method NPP in file SimBiostatR1_p40_n120.pkl!\n",
      "Current is method UIPJS in file SimBiostatR1_p40_n120.pkl!\n",
      "Current is method UIPD in file SimBiostatR1_p40_n120.pkl!\n",
      "Current is method rMAP in file SimBiostatR1_p40_n120.pkl!\n",
      "============================================================\n",
      "Current is method JEF in file SimBiostatR1_p50_n120.pkl!\n",
      "Current is method FULL in file SimBiostatR1_p50_n120.pkl!\n",
      "Current is method LCP in file SimBiostatR1_p50_n120.pkl!\n",
      "Current is method NPP in file SimBiostatR1_p50_n120.pkl!\n",
      "Current is method UIPJS in file SimBiostatR1_p50_n120.pkl!\n",
      "Current is method UIPD in file SimBiostatR1_p50_n120.pkl!\n",
      "Current is method rMAP in file SimBiostatR1_p50_n120.pkl!\n",
      "============================================================\n",
      "Current is method JEF in file SimBiostatR1_p60_n120.pkl!\n",
      "Current is method FULL in file SimBiostatR1_p60_n120.pkl!\n",
      "Current is method LCP in file SimBiostatR1_p60_n120.pkl!\n",
      "Current is method NPP in file SimBiostatR1_p60_n120.pkl!\n",
      "Current is method UIPJS in file SimBiostatR1_p60_n120.pkl!\n",
      "Current is method UIPD in file SimBiostatR1_p60_n120.pkl!\n",
      "Current is method rMAP in file SimBiostatR1_p60_n120.pkl!\n",
      "============================================================\n",
      "Current is method JEF in file SimBiostatR1_p70_n120.pkl!\n",
      "Current is method FULL in file SimBiostatR1_p70_n120.pkl!\n",
      "Current is method LCP in file SimBiostatR1_p70_n120.pkl!\n",
      "Current is method NPP in file SimBiostatR1_p70_n120.pkl!\n",
      "Current is method UIPJS in file SimBiostatR1_p70_n120.pkl!\n",
      "Current is method UIPD in file SimBiostatR1_p70_n120.pkl!\n",
      "Current is method rMAP in file SimBiostatR1_p70_n120.pkl!\n",
      "============================================================\n",
      "Current is method JEF in file SimBiostatR1_p80_n120.pkl!\n",
      "Current is method FULL in file SimBiostatR1_p80_n120.pkl!\n",
      "Current is method LCP in file SimBiostatR1_p80_n120.pkl!\n",
      "Current is method NPP in file SimBiostatR1_p80_n120.pkl!\n",
      "Current is method UIPJS in file SimBiostatR1_p80_n120.pkl!\n",
      "Current is method UIPD in file SimBiostatR1_p80_n120.pkl!\n",
      "Current is method rMAP in file SimBiostatR1_p80_n120.pkl!\n",
      "============================================================\n",
      "Current is method JEF in file SimBiostatR1_p90_n120.pkl!\n",
      "Current is method FULL in file SimBiostatR1_p90_n120.pkl!\n",
      "Current is method LCP in file SimBiostatR1_p90_n120.pkl!\n",
      "Current is method NPP in file SimBiostatR1_p90_n120.pkl!\n",
      "Current is method UIPJS in file SimBiostatR1_p90_n120.pkl!\n",
      "Current is method UIPD in file SimBiostatR1_p90_n120.pkl!\n",
      "Current is method rMAP in file SimBiostatR1_p90_n120.pkl!\n",
      "============================================================\n",
      "Current is method JEF in file SimBiostatR1_p100_n120.pkl!\n",
      "Current is method FULL in file SimBiostatR1_p100_n120.pkl!\n",
      "Current is method LCP in file SimBiostatR1_p100_n120.pkl!\n",
      "Current is method NPP in file SimBiostatR1_p100_n120.pkl!\n",
      "Current is method UIPJS in file SimBiostatR1_p100_n120.pkl!\n",
      "Current is method UIPD in file SimBiostatR1_p100_n120.pkl!\n",
      "Current is method rMAP in file SimBiostatR1_p100_n120.pkl!\n"
     ]
    }
   ],
   "source": [
    "for cfl, theta in zip(fls, idxs):\n",
    "    Powers[\"theta\"].append(theta)\n",
    "    Powers95[\"theta\"].append(theta)\n",
    "    datah1 = load_pkl(cfl)\n",
    "    print(\"==\"*30)\n",
    "    for key, dat in datah1.items():\n",
    "        print(f\"Current is method {key} in file {cfl.name}!\")\n",
    "        Powers[key].append(rejrate(theta0, dat, CVqs[key]))\n",
    "        Powers95[key].append(rejrate(theta0, dat, 0.025))"
   ]
  },
  {
   "cell_type": "code",
   "execution_count": 83,
   "metadata": {},
   "outputs": [
    {
     "name": "stdout",
     "output_type": "stream",
     "text": [
      "    theta    JEF   FULL    LCP    NPP  UIPJS   UIPD   rMAP\n",
      "0     0.0  0.050  0.962  0.050  0.051  0.049  0.050  0.051\n",
      "1     0.1  0.220  0.995  0.283  0.320  0.298  0.313  0.274\n",
      "2     0.2  0.632  1.000  0.691  0.736  0.720  0.736  0.704\n",
      "3     0.3  0.909  1.000  0.935  0.955  0.948  0.951  0.945\n",
      "4     0.4  0.983  1.000  0.990  0.990  0.990  0.991  0.992\n",
      "5     0.5  1.000  1.000  1.000  1.000  1.000  1.000  1.000\n",
      "6     0.6  1.000  1.000  1.000  1.000  1.000  1.000  1.000\n",
      "7     0.7  1.000  1.000  1.000  1.000  1.000  1.000  1.000\n",
      "8     0.8  1.000  1.000  1.000  1.000  1.000  1.000  1.000\n",
      "9     0.9  1.000  1.000  1.000  1.000  1.000  1.000  1.000\n",
      "10    1.0  1.000  1.000  1.000  1.000  1.000  1.000  1.000\n",
      "Powers\n",
      "JEF      0.799455\n",
      "FULL     0.996091\n",
      "LCP      0.813545\n",
      "NPP      0.822909\n",
      "UIPJS    0.818636\n",
      "UIPD     0.821909\n",
      "rMAP     0.815091\n",
      "dtype: float64\n",
      "Sizes\n",
      "JEF       : 0.050\n",
      "FULL      : 0.962\n",
      "LCP       : 0.050\n",
      "NPP       : 0.051\n",
      "UIPJS     : 0.049\n",
      "UIPD      : 0.050\n",
      "rMAP      : 0.051\n"
     ]
    }
   ],
   "source": [
    "Powers = pd.DataFrame(Powers)\n",
    "print(Powers)\n",
    "print(f\"Powers\")\n",
    "print(Powers.drop(columns=[\"theta\"]).mean(axis=0))\n",
    "print(\"Sizes\")\n",
    "for key, v in Alphas.items():\n",
    "    print(f\"{key:<10}: {v:.3f}\")"
   ]
  },
  {
   "cell_type": "code",
   "execution_count": 87,
   "metadata": {},
   "outputs": [
    {
     "name": "stdout",
     "output_type": "stream",
     "text": [
      "    theta    JEF  FULL    LCP    NPP  UIPJS   UIPD   rMAP\n",
      "0     0.0  0.045   1.0  0.087  0.163  0.099  0.112  0.049\n",
      "1     0.1  0.212   1.0  0.367  0.558  0.413  0.456  0.272\n",
      "2     0.2  0.614   1.0  0.779  0.868  0.818  0.833  0.703\n",
      "3     0.3  0.905   1.0  0.964  0.991  0.977  0.981  0.944\n",
      "4     0.4  0.983   1.0  0.992  0.999  0.995  0.997  0.992\n",
      "5     0.5  1.000   1.0  1.000  1.000  1.000  1.000  1.000\n",
      "6     0.6  1.000   1.0  1.000  1.000  1.000  1.000  1.000\n",
      "7     0.7  1.000   1.0  1.000  1.000  1.000  1.000  1.000\n",
      "8     0.8  1.000   1.0  1.000  1.000  1.000  1.000  1.000\n",
      "9     0.9  1.000   1.0  1.000  1.000  1.000  1.000  1.000\n",
      "10    1.0  1.000   1.0  1.000  1.000  1.000  1.000  1.000\n",
      "Powers95\n",
      "JEF      0.796273\n",
      "FULL     1.000000\n",
      "LCP      0.835364\n",
      "NPP      0.870818\n",
      "UIPJS    0.845636\n",
      "UIPD     0.852636\n",
      "rMAP     0.814545\n",
      "dtype: float64\n",
      "Sizes\n",
      "JEF       : 0.045\n",
      "FULL      : 1.000\n",
      "LCP       : 0.087\n",
      "NPP       : 0.163\n",
      "UIPJS     : 0.099\n",
      "UIPD      : 0.112\n",
      "rMAP      : 0.049\n"
     ]
    }
   ],
   "source": [
    "Powers95 = pd.DataFrame(Powers95)\n",
    "print(Powers95)\n",
    "print(f\"Powers95\")\n",
    "print(Powers95.drop(columns=[\"theta\"]).mean(axis=0))\n",
    "print(\"Sizes\")\n",
    "for key, v in Alphas95.items():\n",
    "    print(f\"{key:<10}: {v:.3f}\")"
   ]
  },
  {
   "cell_type": "code",
   "execution_count": 47,
   "metadata": {},
   "outputs": [],
   "source": [
    "alps = {\n",
    "    \"JEF\": 0.05 - 1e-3,\n",
    "    \"FULL\": 0.05,\n",
    "    \"LCP\": 0.05 - 1e-3,\n",
    "    \"UIPJS\": 0.05 - 1e-3,\n",
    "    \"UIPD\": 0.05 - 5e-4,\n",
    "    \"NPP\": 0.05 - 5e-4,\n",
    "    \"rMAP\": 0.05\n",
    "}\n",
    "\n"
   ]
  },
  {
   "cell_type": "code",
   "execution_count": 58,
   "metadata": {},
   "outputs": [
    {
     "data": {
      "text/plain": [
       "[0.0, 0.1, 0.2, 0.3, 0.4, 0.5, 0.6, 0.7, 0.8, 0.9, 1.0]"
      ]
     },
     "execution_count": 58,
     "metadata": {},
     "output_type": "execute_result"
    }
   ],
   "source": [
    "idxs"
   ]
  },
  {
   "cell_type": "code",
   "execution_count": 59,
   "metadata": {},
   "outputs": [
    {
     "data": {
      "text/plain": [
       "[PosixPath('results/SimBiostatR1_p0_n120.pkl'),\n",
       " PosixPath('results/SimBiostatR1_p10_n120.pkl'),\n",
       " PosixPath('results/SimBiostatR1_p20_n120.pkl'),\n",
       " PosixPath('results/SimBiostatR1_p30_n120.pkl'),\n",
       " PosixPath('results/SimBiostatR1_p40_n120.pkl'),\n",
       " PosixPath('results/SimBiostatR1_p50_n120.pkl'),\n",
       " PosixPath('results/SimBiostatR1_p60_n120.pkl'),\n",
       " PosixPath('results/SimBiostatR1_p70_n120.pkl'),\n",
       " PosixPath('results/SimBiostatR1_p80_n120.pkl'),\n",
       " PosixPath('results/SimBiostatR1_p90_n120.pkl'),\n",
       " PosixPath('results/SimBiostatR1_p100_n120.pkl')]"
      ]
     },
     "execution_count": 59,
     "metadata": {},
     "output_type": "execute_result"
    }
   ],
   "source": [
    "fls"
   ]
  },
  {
   "cell_type": "code",
   "execution_count": 67,
   "metadata": {},
   "outputs": [
    {
     "name": "stdout",
     "output_type": "stream",
     "text": [
      "============================================================\n",
      "Current is file SimBiostatR1_p0_n120.pkl!\n",
      "============================================================\n",
      "Current is file SimBiostatR1_p10_n120.pkl!\n",
      "============================================================\n",
      "Current is file SimBiostatR1_p20_n120.pkl!\n",
      "============================================================\n",
      "Current is file SimBiostatR1_p30_n120.pkl!\n",
      "============================================================\n",
      "Current is file SimBiostatR1_p40_n120.pkl!\n"
     ]
    }
   ],
   "source": [
    "Powers = ddict(list)\n",
    "Powers95 = ddict(list)\n",
    "low = 0\n",
    "up = 5\n",
    "gap = 0.1\n",
    "for cfl, theta in zip(fls[low:up], idxs[low:up]):\n",
    "    Powers[\"theta\"].append(theta)\n",
    "    Powers95[\"theta\"].append(theta)\n",
    "    dataCur = load_pkl(cfl)\n",
    "    dataR = load_pkl(fls[idxs.index(np.round(theta+gap, 1))])\n",
    "    print(\"==\"*30)\n",
    "    print(f\"Current is file {cfl.name}!\")\n",
    "    for key, dat in dataCur.items():\n",
    "        CVqs[key] = getQuantile(theta, data=dat, alp=alps[key])\n",
    "    for key, dat in dataR.items():\n",
    "        Powers[key].append(rejrate(theta, dat, CVqs[key]))\n",
    "        Powers95[key].append(rejrate(theta, dat, 0.025))"
   ]
  },
  {
   "cell_type": "code",
   "execution_count": 68,
   "metadata": {},
   "outputs": [
    {
     "name": "stdout",
     "output_type": "stream",
     "text": [
      "   theta    JEF   FULL    LCP    NPP  UIPJS   UIPD   rMAP\n",
      "0    0.0  0.220  0.995  0.283  0.320  0.298  0.313  0.274\n",
      "1    0.1  0.203  0.952  0.282  0.294  0.281  0.291  0.255\n",
      "2    0.2  0.215  0.828  0.282  0.286  0.280  0.288  0.272\n",
      "3    0.3  0.218  0.521  0.288  0.304  0.283  0.278  0.264\n",
      "4    0.4  0.211  0.240  0.305  0.326  0.317  0.276  0.269\n",
      "Powers\n",
      "JEF      0.2134\n",
      "FULL     0.7072\n",
      "LCP      0.2880\n",
      "NPP      0.3060\n",
      "UIPJS    0.2918\n",
      "UIPD     0.2892\n",
      "rMAP     0.2668\n",
      "dtype: float64\n"
     ]
    }
   ],
   "source": [
    "Powers = pd.DataFrame(Powers)\n",
    "print(Powers)\n",
    "print(f\"Powers\")\n",
    "print(Powers.drop(columns=[\"theta\"]).mean(axis=0))"
   ]
  },
  {
   "cell_type": "code",
   "execution_count": 69,
   "metadata": {},
   "outputs": [
    {
     "name": "stdout",
     "output_type": "stream",
     "text": [
      "   theta    JEF   FULL    LCP    NPP  UIPJS   UIPD   rMAP\n",
      "0    0.0  0.212  1.000  0.367  0.558  0.413  0.456  0.272\n",
      "1    0.1  0.192  1.000  0.442  0.597  0.453  0.487  0.255\n",
      "2    0.2  0.207  0.998  0.491  0.597  0.473  0.487  0.274\n",
      "3    0.3  0.188  0.973  0.456  0.566  0.420  0.399  0.249\n",
      "4    0.4  0.219  0.881  0.384  0.475  0.356  0.300  0.268\n",
      "Powers95\n",
      "JEF      0.2036\n",
      "FULL     0.9704\n",
      "LCP      0.4280\n",
      "NPP      0.5586\n",
      "UIPJS    0.4230\n",
      "UIPD     0.4258\n",
      "rMAP     0.2636\n",
      "dtype: float64\n"
     ]
    }
   ],
   "source": [
    "Powers95 = pd.DataFrame(Powers95)\n",
    "print(Powers95)\n",
    "print(f\"Powers95\")\n",
    "print(Powers95.drop(columns=[\"theta\"]).mean(axis=0))"
   ]
  },
  {
   "cell_type": "code",
   "execution_count": null,
   "metadata": {},
   "outputs": [],
   "source": []
  }
 ],
 "metadata": {
  "kernelspec": {
   "display_name": "Python 3",
   "language": "python",
   "name": "python3"
  },
  "language_info": {
   "codemirror_mode": {
    "name": "ipython",
    "version": 3
   },
   "file_extension": ".py",
   "mimetype": "text/x-python",
   "name": "python",
   "nbconvert_exporter": "python",
   "pygments_lexer": "ipython3",
   "version": "3.7.3"
  }
 },
 "nbformat": 4,
 "nbformat_minor": 2
}
