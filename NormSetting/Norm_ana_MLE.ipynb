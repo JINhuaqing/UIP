{
 "cells": [
  {
   "cell_type": "code",
   "execution_count": 72,
   "metadata": {},
   "outputs": [],
   "source": [
    "import pymc3 as pm\n",
    "import matplotlib.pyplot as plt\n",
    "import numpy as np\n",
    "import pickle\n",
    "from pathlib import Path\n",
    "import pandas as pd\n",
    "import seaborn as sns\n",
    "from easydict import EasyDict as edict\n",
    "from tqdm import tqdm_notebook as tqdm\n",
    "from collections import defaultdict as ddict\n",
    "from pprint import pprint\n",
    "\n",
    "%matplotlib inline"
   ]
  },
  {
   "cell_type": "code",
   "execution_count": 73,
   "metadata": {},
   "outputs": [],
   "source": [
    "def sortdir(f):\n",
    "    num = f.name.split(\"_\")[-2].split(\"p\")[-1]\n",
    "    num = int(num)\n",
    "    return  num\n",
    "\n",
    "def sortf(f):\n",
    "    num = f.name.split(\".\")[0]\n",
    "    num = int(num)\n",
    "    return num"
   ]
  },
  {
   "cell_type": "code",
   "execution_count": 74,
   "metadata": {},
   "outputs": [],
   "source": [
    "def load_pkl(f):\n",
    "    with open(f, \"rb\") as fi:\n",
    "        data = pickle.load(fi)\n",
    "    return data"
   ]
  },
  {
   "cell_type": "code",
   "execution_count": 75,
   "metadata": {},
   "outputs": [],
   "source": [
    "def ObtainMSE(data, theta0):\n",
    "    res = ddict(dict)\n",
    "    for key in data.keys():\n",
    "        datum = np.squeeze(np.array(data[key]))\n",
    "        res[key][\"Bias\"] = np.mean(datum-theta0, axis=1)\n",
    "        res[key][\"Var\"] = np.var(datum, axis=1)\n",
    "        res[key][\"MSE\"] = np.mean((datum-theta0)**2, axis=1)\n",
    "    return res"
   ]
  },
  {
   "cell_type": "markdown",
   "metadata": {},
   "source": [
    "### The work path"
   ]
  },
  {
   "cell_type": "code",
   "execution_count": 76,
   "metadata": {},
   "outputs": [],
   "source": [
    "root = Path(f\"./results/\")"
   ]
  },
  {
   "cell_type": "markdown",
   "metadata": {},
   "source": [
    "## 0. Preprocess the data"
   ]
  },
  {
   "cell_type": "code",
   "execution_count": 77,
   "metadata": {},
   "outputs": [],
   "source": [
    "def parse_sresult(datum):\n",
    "    res = {\n",
    "        \"UIPD\" : datum[\"UIPD\"][\"thetah\"],\n",
    "        \"UIPD1\" : datum[\"UIPD1\"][\"thetah\"],\n",
    "        \"UIPJS\": datum[\"UIPJS\"][\"thetah\"],\n",
    "        \"UIPJS1\": datum[\"UIPJS1\"][\"thetah\"],\n",
    "        \"NPP\": datum[\"NPP\"][\"thetah\"]\n",
    "    }\n",
    "    return res\n",
    "\n",
    "def save_data(cdir):\n",
    "    files = list(cdir.glob(\"*.pkl\"))\n",
    "    files = sorted(files, key=sortf, reverse=False)\n",
    "    retres = {\n",
    "        \"UIPJS\":[],\n",
    "        \"UIPD\":[],\n",
    "        \"UIPJS1\":[],\n",
    "        \"UIPD1\":[],\n",
    "        \"NPP\":[]\n",
    "    }\n",
    "    for fil in tqdm(files):\n",
    "        datum = load_pkl(fil)\n",
    "        simdatum = parse_sresult(datum)\n",
    "        retres[\"UIPD1\"].append(simdatum[\"UIPD1\"])\n",
    "        retres[\"UIPJS1\"].append(simdatum[\"UIPJS1\"])\n",
    "        retres[\"UIPD\"].append(simdatum[\"UIPD\"])\n",
    "        retres[\"UIPJS\"].append(simdatum[\"UIPJS\"])\n",
    "        retres[\"NPP\"].append(simdatum[\"NPP\"])\n",
    "    return retres"
   ]
  },
  {
   "cell_type": "code",
   "execution_count": 78,
   "metadata": {},
   "outputs": [],
   "source": [
    "n = 60\n",
    "dirs = root.glob(f\"simR1_mean_*_n{n}\")\n",
    "\n",
    "dirs = list(dirs)\n",
    "dirs = sorted(dirs, key=sortdir, reverse=False)"
   ]
  },
  {
   "cell_type": "code",
   "execution_count": 79,
   "metadata": {},
   "outputs": [
    {
     "name": "stdout",
     "output_type": "stream",
     "text": [
      "results/SimSimR1_mean_p0_n60.pkl\n"
     ]
    },
    {
     "data": {
      "application/vnd.jupyter.widget-view+json": {
       "model_id": "ddf8d0679ba4457bbe35fe8165650438",
       "version_major": 2,
       "version_minor": 0
      },
      "text/plain": [
       "HBox(children=(IntProgress(value=0, max=1000), HTML(value='')))"
      ]
     },
     "metadata": {},
     "output_type": "display_data"
    },
    {
     "name": "stdout",
     "output_type": "stream",
     "text": [
      "\n"
     ]
    }
   ],
   "source": [
    "theta0s = [0]\n",
    "for theta0 in theta0s:\n",
    "    idxs = np.array([sortdir(d) for d in dirs])/100\n",
    "    idxs = list(np.sort(idxs))\n",
    "    \n",
    "    dirs = sorted(dirs, key=sortdir, reverse=False)\n",
    "    cdir = dirs[idxs.index(theta0)]\n",
    "    \n",
    "    simData = root/f\"./SimSimR1_mean_p{sortdir(cdir)}_n{n}.pkl\"\n",
    "    print(simData)\n",
    "    if simData.exists():\n",
    "        cleanData = load_pkl(simData)\n",
    "    else:\n",
    "        cleanData = save_data(cdir)\n",
    "        with open(simData, \"wb\") as f:\n",
    "            pickle.dump(cleanData, f)"
   ]
  },
  {
   "cell_type": "markdown",
   "metadata": {},
   "source": [
    "## 1. To obtaining simple format file for a single setting"
   ]
  },
  {
   "cell_type": "markdown",
   "metadata": {},
   "source": [
    "### Get the current data"
   ]
  },
  {
   "cell_type": "code",
   "execution_count": 80,
   "metadata": {},
   "outputs": [],
   "source": [
    "theta0 = 0\n",
    "idxs = np.array([sortdir(d) for d in dirs])/100\n",
    "idxs = list(np.sort(idxs))\n",
    "cdir = dirs[idxs.index(theta0)]\n",
    "simData = root/f\"./SimSimR1_mean_p{sortdir(cdir)}_n{n}.pkl\""
   ]
  },
  {
   "cell_type": "markdown",
   "metadata": {},
   "source": [
    "### Obtain the cleaned data"
   ]
  },
  {
   "cell_type": "code",
   "execution_count": 81,
   "metadata": {},
   "outputs": [],
   "source": [
    "if simData.exists():\n",
    "    cleanData = load_pkl(simData)\n",
    "else:\n",
    "    cleanData = save_data(cdir)\n",
    "    with open(simData, \"wb\") as f:\n",
    "        pickle.dump(cleanData, f)"
   ]
  },
  {
   "cell_type": "code",
   "execution_count": 82,
   "metadata": {},
   "outputs": [],
   "source": [
    "cleanData = edict(cleanData)"
   ]
  },
  {
   "cell_type": "markdown",
   "metadata": {},
   "source": [
    "### Obtain the mean and variance and MSE from the posterior sample"
   ]
  },
  {
   "cell_type": "code",
   "execution_count": 83,
   "metadata": {},
   "outputs": [],
   "source": [
    "res = ObtainMSE(cleanData, theta0)"
   ]
  },
  {
   "cell_type": "code",
   "execution_count": 84,
   "metadata": {},
   "outputs": [],
   "source": [
    "Biass = ddict()\n",
    "for key in res.keys():\n",
    "    Biass[key] = res[key][\"Bias\"]\n",
    "BiasDF = pd.DataFrame(Biass)"
   ]
  },
  {
   "cell_type": "code",
   "execution_count": 85,
   "metadata": {},
   "outputs": [],
   "source": [
    "Vars = ddict()\n",
    "for key in res.keys():\n",
    "    Vars[key] = res[key][\"Var\"]\n",
    "VarDF = pd.DataFrame(Vars)"
   ]
  },
  {
   "cell_type": "code",
   "execution_count": 86,
   "metadata": {},
   "outputs": [],
   "source": [
    "MSEs = ddict()\n",
    "for key in res.keys():\n",
    "    MSEs[key] = res[key][\"MSE\"]\n",
    "MSEDF = pd.DataFrame(MSEs)"
   ]
  },
  {
   "cell_type": "code",
   "execution_count": 87,
   "metadata": {},
   "outputs": [
    {
     "data": {
      "text/html": [
       "<div>\n",
       "<style scoped>\n",
       "    .dataframe tbody tr th:only-of-type {\n",
       "        vertical-align: middle;\n",
       "    }\n",
       "\n",
       "    .dataframe tbody tr th {\n",
       "        vertical-align: top;\n",
       "    }\n",
       "\n",
       "    .dataframe thead th {\n",
       "        text-align: right;\n",
       "    }\n",
       "</style>\n",
       "<table border=\"1\" class=\"dataframe\">\n",
       "  <thead>\n",
       "    <tr style=\"text-align: right;\">\n",
       "      <th></th>\n",
       "      <th>UIPJS</th>\n",
       "      <th>UIPD</th>\n",
       "      <th>UIPJS1</th>\n",
       "      <th>UIPD1</th>\n",
       "      <th>NPP</th>\n",
       "    </tr>\n",
       "  </thead>\n",
       "  <tbody>\n",
       "    <tr>\n",
       "      <th>0.025</th>\n",
       "      <td>-0.190590</td>\n",
       "      <td>-0.189625</td>\n",
       "      <td>-0.197502</td>\n",
       "      <td>-0.196878</td>\n",
       "      <td>-0.132068</td>\n",
       "    </tr>\n",
       "    <tr>\n",
       "      <th>0.500</th>\n",
       "      <td>0.115533</td>\n",
       "      <td>0.112641</td>\n",
       "      <td>0.115613</td>\n",
       "      <td>0.110442</td>\n",
       "      <td>0.194228</td>\n",
       "    </tr>\n",
       "    <tr>\n",
       "      <th>0.975</th>\n",
       "      <td>0.377708</td>\n",
       "      <td>0.380137</td>\n",
       "      <td>0.393234</td>\n",
       "      <td>0.393896</td>\n",
       "      <td>0.422203</td>\n",
       "    </tr>\n",
       "  </tbody>\n",
       "</table>\n",
       "</div>"
      ],
      "text/plain": [
       "          UIPJS      UIPD    UIPJS1     UIPD1       NPP\n",
       "0.025 -0.190590 -0.189625 -0.197502 -0.196878 -0.132068\n",
       "0.500  0.115533  0.112641  0.115613  0.110442  0.194228\n",
       "0.975  0.377708  0.380137  0.393234  0.393896  0.422203"
      ]
     },
     "execution_count": 87,
     "metadata": {},
     "output_type": "execute_result"
    }
   ],
   "source": [
    "BiasDF.quantile([0.025, 0.5, 0.975])"
   ]
  },
  {
   "cell_type": "code",
   "execution_count": 88,
   "metadata": {},
   "outputs": [
    {
     "data": {
      "text/html": [
       "<div>\n",
       "<style scoped>\n",
       "    .dataframe tbody tr th:only-of-type {\n",
       "        vertical-align: middle;\n",
       "    }\n",
       "\n",
       "    .dataframe tbody tr th {\n",
       "        vertical-align: top;\n",
       "    }\n",
       "\n",
       "    .dataframe thead th {\n",
       "        text-align: right;\n",
       "    }\n",
       "</style>\n",
       "<table border=\"1\" class=\"dataframe\">\n",
       "  <thead>\n",
       "    <tr style=\"text-align: right;\">\n",
       "      <th></th>\n",
       "      <th>UIPJS</th>\n",
       "      <th>UIPD</th>\n",
       "      <th>UIPJS1</th>\n",
       "      <th>UIPD1</th>\n",
       "      <th>NPP</th>\n",
       "    </tr>\n",
       "  </thead>\n",
       "  <tbody>\n",
       "    <tr>\n",
       "      <th>0.025</th>\n",
       "      <td>0.008807</td>\n",
       "      <td>0.011471</td>\n",
       "      <td>0.011390</td>\n",
       "      <td>0.012834</td>\n",
       "      <td>0.009958</td>\n",
       "    </tr>\n",
       "    <tr>\n",
       "      <th>0.500</th>\n",
       "      <td>0.019911</td>\n",
       "      <td>0.019894</td>\n",
       "      <td>0.020708</td>\n",
       "      <td>0.020862</td>\n",
       "      <td>0.020077</td>\n",
       "    </tr>\n",
       "    <tr>\n",
       "      <th>0.975</th>\n",
       "      <td>0.032531</td>\n",
       "      <td>0.032622</td>\n",
       "      <td>0.032187</td>\n",
       "      <td>0.032369</td>\n",
       "      <td>0.035296</td>\n",
       "    </tr>\n",
       "  </tbody>\n",
       "</table>\n",
       "</div>"
      ],
      "text/plain": [
       "          UIPJS      UIPD    UIPJS1     UIPD1       NPP\n",
       "0.025  0.008807  0.011471  0.011390  0.012834  0.009958\n",
       "0.500  0.019911  0.019894  0.020708  0.020862  0.020077\n",
       "0.975  0.032531  0.032622  0.032187  0.032369  0.035296"
      ]
     },
     "execution_count": 88,
     "metadata": {},
     "output_type": "execute_result"
    }
   ],
   "source": [
    "VarDF.quantile([0.025, 0.5, 0.975])"
   ]
  },
  {
   "cell_type": "code",
   "execution_count": 89,
   "metadata": {},
   "outputs": [
    {
     "data": {
      "text/html": [
       "<div>\n",
       "<style scoped>\n",
       "    .dataframe tbody tr th:only-of-type {\n",
       "        vertical-align: middle;\n",
       "    }\n",
       "\n",
       "    .dataframe tbody tr th {\n",
       "        vertical-align: top;\n",
       "    }\n",
       "\n",
       "    .dataframe thead th {\n",
       "        text-align: right;\n",
       "    }\n",
       "</style>\n",
       "<table border=\"1\" class=\"dataframe\">\n",
       "  <thead>\n",
       "    <tr style=\"text-align: right;\">\n",
       "      <th></th>\n",
       "      <th>UIPJS</th>\n",
       "      <th>UIPD</th>\n",
       "      <th>UIPJS1</th>\n",
       "      <th>UIPD1</th>\n",
       "      <th>NPP</th>\n",
       "    </tr>\n",
       "  </thead>\n",
       "  <tbody>\n",
       "    <tr>\n",
       "      <th>0.025</th>\n",
       "      <td>0.016753</td>\n",
       "      <td>0.016867</td>\n",
       "      <td>0.016927</td>\n",
       "      <td>0.017256</td>\n",
       "      <td>0.018495</td>\n",
       "    </tr>\n",
       "    <tr>\n",
       "      <th>0.500</th>\n",
       "      <td>0.040746</td>\n",
       "      <td>0.040955</td>\n",
       "      <td>0.042225</td>\n",
       "      <td>0.041668</td>\n",
       "      <td>0.061283</td>\n",
       "    </tr>\n",
       "    <tr>\n",
       "      <th>0.975</th>\n",
       "      <td>0.159005</td>\n",
       "      <td>0.163043</td>\n",
       "      <td>0.170152</td>\n",
       "      <td>0.172025</td>\n",
       "      <td>0.192833</td>\n",
       "    </tr>\n",
       "  </tbody>\n",
       "</table>\n",
       "</div>"
      ],
      "text/plain": [
       "          UIPJS      UIPD    UIPJS1     UIPD1       NPP\n",
       "0.025  0.016753  0.016867  0.016927  0.017256  0.018495\n",
       "0.500  0.040746  0.040955  0.042225  0.041668  0.061283\n",
       "0.975  0.159005  0.163043  0.170152  0.172025  0.192833"
      ]
     },
     "execution_count": 89,
     "metadata": {},
     "output_type": "execute_result"
    }
   ],
   "source": [
    "MSEDF.quantile([0.025, 0.5, 0.975])"
   ]
  },
  {
   "cell_type": "code",
   "execution_count": 91,
   "metadata": {},
   "outputs": [
    {
     "data": {
      "text/plain": [
       "<matplotlib.axes._subplots.AxesSubplot at 0x7ff87f821ad0>"
      ]
     },
     "execution_count": 91,
     "metadata": {},
     "output_type": "execute_result"
    },
    {
     "data": {
      "image/png": "[encoded data removed]",
      "text/plain": [
       "<Figure size 432x288 with 1 Axes>"
      ]
     },
     "metadata": {
      "needs_background": "light"
     },
     "output_type": "display_data"
    }
   ],
   "source": [
    "sns.kdeplot(BiasDF[\"UIPD\"], shade=False, label=\"UIPD-MLE\")\n",
    "sns.kdeplot(BiasDF[\"UIPD1\"], label=\"UIPD-True mean\")\n",
    "sns.kdeplot(BiasDF[\"UIPJS\"], shade=False, label=\"UIPJS-MLE\")\n",
    "sns.kdeplot(BiasDF[\"UIPJS1\"], label=\"UIPJS-True mean\")\n",
    "sns.kdeplot(BiasDF[\"NPP\"], label=\"NPP\")"
   ]
  },
  {
   "cell_type": "code",
   "execution_count": 92,
   "metadata": {},
   "outputs": [
    {
     "data": {
      "text/plain": [
       "<matplotlib.axes._subplots.AxesSubplot at 0x7ff87fb1c610>"
      ]
     },
     "execution_count": 92,
     "metadata": {},
     "output_type": "execute_result"
    },
    {
     "data": {
      "image/png": "[encoded data removed]",
      "text/plain": [
       "<Figure size 432x288 with 1 Axes>"
      ]
     },
     "metadata": {
      "needs_background": "light"
     },
     "output_type": "display_data"
    }
   ],
   "source": [
    "sns.kdeplot(VarDF[\"UIPD\"], shade=False, label=\"UIPD-MLE\")\n",
    "sns.kdeplot(VarDF[\"UIPD1\"], label=\"UIPD-True mean\")\n"
   ]
  },
  {
   "cell_type": "code",
   "execution_count": 114,
   "metadata": {},
   "outputs": [
    {
     "data": {
      "text/plain": [
       "<matplotlib.axes._subplots.AxesSubplot at 0x7ff89484c790>"
      ]
     },
     "execution_count": 114,
     "metadata": {},
     "output_type": "execute_result"
    },
    {
     "data": {
      "image/png": "[encoded data removed]",
      "text/plain": [
       "<Figure size 432x288 with 1 Axes>"
      ]
     },
     "metadata": {
      "needs_background": "light"
     },
     "output_type": "display_data"
    }
   ],
   "source": [
    "sns.kdeplot(MSEDF[\"UIPD\"],  label=\"UIPD-MLE\", bw=0.01, ls=\"-\", lw=2)\n",
    "sns.kdeplot(MSEDF[\"UIPD1\"], label=\"UIPD-True mean\", bw=0.01, ls='-.', lw=2)\n",
    "#sns.kdeplot(MSEDF[\"UIPJS\"], label=\"UIPJS-MLE\", bw=0.01)\n",
    "#sns.kdeplot(MSEDF[\"UIPJS1\"], label=\"UIPJS-True mean\", bw=0.01)\n",
    "sns.kdeplot(MSEDF[\"NPP\"], label=\"MPP\", bw=0.01, ls=\"--\", lw=2)"
   ]
  },
  {
   "cell_type": "code",
   "execution_count": 98,
   "metadata": {},
   "outputs": [
    {
     "data": {
      "text/plain": [
       "<matplotlib.axes._subplots.AxesSubplot at 0x7ff87f699ed0>"
      ]
     },
     "execution_count": 98,
     "metadata": {},
     "output_type": "execute_result"
    },
    {
     "data": {
      "image/png": "[encoded data removed]",
      "text/plain": [
       "<Figure size 432x288 with 1 Axes>"
      ]
     },
     "metadata": {
      "needs_background": "light"
     },
     "output_type": "display_data"
    }
   ],
   "source": [
    "sns.kdeplot(MSEDF[\"UIPJS\"], label=\"UIPJS-MLE\", bw=0.01)\n",
    "sns.kdeplot(MSEDF[\"UIPJS1\"], label=\"UIPJS-True mean\", bw=0.01)"
   ]
  },
  {
   "cell_type": "code",
   "execution_count": null,
   "metadata": {},
   "outputs": [],
   "source": []
  },
  {
   "cell_type": "code",
   "execution_count": 100,
   "metadata": {},
   "outputs": [],
   "source": [
    "def is_true(theta0, bs):\n",
    "    low, up = bs\n",
    "    return (theta0 > low) and (theta0 < up)\n",
    "\n",
    "\n",
    "def rejrate(theta0, data, theta):\n",
    "    reslist = [is_true(theta0, bs=[np.quantile(dat, q=theta), np.quantile(dat, q=1-theta)]) for dat in data] \n",
    "    return 1 - np.mean(reslist)\n",
    "\n",
    "\n",
    "def getRatio(theta0, data):\n",
    "    p1 = np.mean(data<=theta0)\n",
    "    p2 = np.mean(data>theta0)\n",
    "    res = np.min([p1, p2])\n",
    "    return res\n",
    "\n",
    "\n",
    "\n",
    "def getQuantile(theta0, data, alp=0.05):\n",
    "    res = [getRatio(theta0, data=dat) for dat in data]\n",
    "    return np.quantile(res, q=alp)"
   ]
  },
  {
   "cell_type": "code",
   "execution_count": 115,
   "metadata": {},
   "outputs": [],
   "source": [
    "sizes = {}\n",
    "for key, dat in cleanData.items():\n",
    "    sizes[key] = rejrate(theta0, dat, 0.025)"
   ]
  },
  {
   "cell_type": "code",
   "execution_count": 116,
   "metadata": {},
   "outputs": [
    {
     "data": {
      "text/plain": [
       "{'UIPJS': 0.16100000000000003,\n",
       " 'UIPD': 0.14700000000000002,\n",
       " 'UIPJS1': 0.15600000000000003,\n",
       " 'UIPD1': 0.14600000000000002,\n",
       " 'NPP': 0.30000000000000004}"
      ]
     },
     "execution_count": 116,
     "metadata": {},
     "output_type": "execute_result"
    }
   ],
   "source": [
    "sizes"
   ]
  },
  {
   "cell_type": "code",
   "execution_count": null,
   "metadata": {},
   "outputs": [],
   "source": []
  }
 ],
 "metadata": {
  "kernelspec": {
   "display_name": "Python 3",
   "language": "python",
   "name": "python3"
  },
  "language_info": {
   "codemirror_mode": {
    "name": "ipython",
    "version": 3
   },
   "file_extension": ".py",
   "mimetype": "text/x-python",
   "name": "python",
   "nbconvert_exporter": "python",
   "pygments_lexer": "ipython3",
   "version": "3.7.4"
  }
 },
 "nbformat": 4,
 "nbformat_minor": 2
}
