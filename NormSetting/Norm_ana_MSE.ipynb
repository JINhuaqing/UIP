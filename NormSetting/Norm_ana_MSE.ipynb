{
 "cells": [
  {
   "cell_type": "code",
   "execution_count": 5,
   "metadata": {},
   "outputs": [],
   "source": [
    "import pymc3 as pm\n",
    "import matplotlib.pyplot as plt\n",
    "import numpy as np\n",
    "import pickle\n",
    "from pathlib import Path\n",
    "import pandas as pd\n",
    "import seaborn as sns\n",
    "from easydict import EasyDict as edict\n",
    "\n",
    "%matplotlib inline"
   ]
  },
  {
   "cell_type": "code",
   "execution_count": 119,
   "metadata": {},
   "outputs": [],
   "source": [
    "from tqdm import tqdm_notebook as tqdm\n",
    "from collections import defaultdict as ddict\n",
    "from pprint import pprint"
   ]
  },
  {
   "cell_type": "code",
   "execution_count": 7,
   "metadata": {},
   "outputs": [],
   "source": [
    "def sortdir(f):\n",
    "    num = f.name.split(\"_\")[-2].split(\"p\")[-1]\n",
    "    num = int(num)\n",
    "    return  num\n",
    "\n",
    "def sortf(f):\n",
    "    num = f.name.split(\".\")[0]\n",
    "    num = int(num)\n",
    "    return num"
   ]
  },
  {
   "cell_type": "code",
   "execution_count": 8,
   "metadata": {},
   "outputs": [],
   "source": [
    "def load_pkl(f):\n",
    "    with open(f, \"rb\") as fi:\n",
    "        data = pickle.load(fi)\n",
    "    return data"
   ]
  },
  {
   "cell_type": "markdown",
   "metadata": {},
   "source": [
    "## To obtaining simple format file"
   ]
  },
  {
   "cell_type": "code",
   "execution_count": 37,
   "metadata": {},
   "outputs": [],
   "source": [
    "def parse_sresult(datum):\n",
    "    res = {\n",
    "        \"JEF\"  : datum[\"jef\"][\"theta\"],\n",
    "        \"FULL\": datum[\"full\"][\"theta\"],\n",
    "        \"UIPD\" : datum[\"UIPD\"][\"thetah\"],\n",
    "        \"UIPJS\": datum[\"UIPJS\"][\"thetah\"],\n",
    "        \"NPP\"  : datum[\"NPP\"][\"thetah\"],\n",
    "        \"LCP\"  : datum[\"LCP\"][\"thetah\"],\n",
    "        \"rMAP\" : datum[\"rMAP\"][\"thetaP\"]\n",
    "    }\n",
    "    return res\n",
    "\n",
    "def save_data(cdir):\n",
    "    files = list(cdir.glob(\"*.pkl\"))\n",
    "    files = sorted(files, key=sortf, reverse=False)\n",
    "    retres = {\n",
    "        \"JEF\":[],\n",
    "        \"FULL\":[],\n",
    "        \"LCP\":[],\n",
    "        \"NPP\":[],\n",
    "        \"UIPJS\":[],\n",
    "        \"UIPD\":[],\n",
    "        \"rMAP\":[]\n",
    "    }\n",
    "    for fil in tqdm(files):\n",
    "        datum = load_pkl(fil)\n",
    "        simdatum = parse_sresult(datum)\n",
    "        retres[\"JEF\"].append(simdatum[\"JEF\"])\n",
    "        retres[\"FULL\"].append(simdatum[\"FULL\"])\n",
    "        retres[\"UIPD\"].append(simdatum[\"UIPD\"])\n",
    "        retres[\"UIPJS\"].append(simdatum[\"UIPJS\"])\n",
    "        retres[\"NPP\"].append(simdatum[\"NPP\"])\n",
    "        retres[\"LCP\"].append(simdatum[\"LCP\"])\n",
    "        retres[\"rMAP\"].append(simdatum[\"rMAP\"])\n",
    "    return retres"
   ]
  },
  {
   "cell_type": "markdown",
   "metadata": {},
   "source": [
    "### Obain the folders"
   ]
  },
  {
   "cell_type": "code",
   "execution_count": 42,
   "metadata": {},
   "outputs": [],
   "source": [
    "n = 120\n",
    "\n",
    "root = Path(f\"./results/\")\n",
    "dirs = root.glob(f\"BiostatR1*_n{n}\")\n",
    "dirs = list(dirs)"
   ]
  },
  {
   "cell_type": "markdown",
   "metadata": {},
   "source": [
    "### Get the current data"
   ]
  },
  {
   "cell_type": "code",
   "execution_count": 150,
   "metadata": {},
   "outputs": [],
   "source": [
    "theta0 = 0.2\n",
    "\n",
    "idxs = np.array([sortdir(d) for d in dirs])/100\n",
    "idxs = list(np.sort(idxs))\n",
    "\n",
    "dirs = sorted(dirs, key=sortdir, reverse=False)\n",
    "cdir = dirs[idxs.index(theta0)]\n",
    "\n",
    "simData = root/f\"./SimBiostatR1_p{sortdir(cdir)}_n{n}.pkl\""
   ]
  },
  {
   "cell_type": "markdown",
   "metadata": {},
   "source": [
    "### Obtain the cleaned data"
   ]
  },
  {
   "cell_type": "code",
   "execution_count": 151,
   "metadata": {},
   "outputs": [
    {
     "data": {
      "application/vnd.jupyter.widget-view+json": {
       "model_id": "0947de93aff1401499790ae40723bc2c",
       "version_major": 2,
       "version_minor": 0
      },
      "text/plain": [
       "HBox(children=(IntProgress(value=0, max=1000), HTML(value='')))"
      ]
     },
     "metadata": {},
     "output_type": "display_data"
    }
   ],
   "source": [
    "if simData.exists():\n",
    "    cleanData = load_pkl(simData)\n",
    "else:\n",
    "    cleanData = save_data(cdir)\n",
    "    with open(simData, \"wb\") as f:\n",
    "        pickle.dump(cleanData, f)"
   ]
  },
  {
   "cell_type": "code",
   "execution_count": 152,
   "metadata": {},
   "outputs": [],
   "source": [
    "cleanData = edict(cleanData)"
   ]
  },
  {
   "cell_type": "markdown",
   "metadata": {},
   "source": [
    "### Obtain the mean and variance and MSE from the posterior sample"
   ]
  },
  {
   "cell_type": "code",
   "execution_count": 153,
   "metadata": {},
   "outputs": [],
   "source": [
    "def ObtainMSE(data, theta0):\n",
    "    res = ddict(dict)\n",
    "    for key in data.keys():\n",
    "        datum = np.squeeze(np.array(data[key]))\n",
    "        res[key][\"Bias\"] = np.mean(datum-theta0, axis=1)\n",
    "        res[key][\"Var\"] = np.var(datum, axis=1)\n",
    "        res[key][\"MSE\"] = np.mean((datum-theta0)**2, axis=1)\n",
    "    return res"
   ]
  },
  {
   "cell_type": "code",
   "execution_count": 154,
   "metadata": {},
   "outputs": [],
   "source": [
    "res = ObtainMSE(cleanData, theta0)"
   ]
  },
  {
   "cell_type": "code",
   "execution_count": 155,
   "metadata": {},
   "outputs": [],
   "source": [
    "Biass = ddict()\n",
    "for key in res.keys():\n",
    "    Biass[key] = res[key][\"Bias\"]\n",
    "BiasDF = pd.DataFrame(Biass)"
   ]
  },
  {
   "cell_type": "code",
   "execution_count": 156,
   "metadata": {},
   "outputs": [],
   "source": [
    "Vars = ddict()\n",
    "for key in res.keys():\n",
    "    Vars[key] = res[key][\"Var\"]\n",
    "VarDF = pd.DataFrame(Vars)"
   ]
  },
  {
   "cell_type": "code",
   "execution_count": 157,
   "metadata": {},
   "outputs": [],
   "source": [
    "MSEs = ddict()\n",
    "for key in res.keys():\n",
    "    MSEs[key] = res[key][\"MSE\"]\n",
    "MSEDF = pd.DataFrame(MSEs)"
   ]
  },
  {
   "cell_type": "markdown",
   "metadata": {},
   "source": [
    "###  bias plot"
   ]
  },
  {
   "cell_type": "code",
   "execution_count": 158,
   "metadata": {},
   "outputs": [
    {
     "data": {
      "text/plain": [
       "<matplotlib.axes._subplots.AxesSubplot at 0x7fc91cead198>"
      ]
     },
     "execution_count": 158,
     "metadata": {},
     "output_type": "execute_result"
    },
    {
     "data": {
      "image/png": "[encoded data removed]",
      "text/plain": [
       "<Figure size 432x288 with 1 Axes>"
      ]
     },
     "metadata": {
      "needs_background": "light"
     },
     "output_type": "display_data"
    }
   ],
   "source": [
    "sns.boxplot(data=BiasDF)"
   ]
  },
  {
   "cell_type": "code",
   "execution_count": 159,
   "metadata": {},
   "outputs": [
    {
     "data": {
      "text/plain": [
       "JEF      0.002343\n",
       "FULL     0.259766\n",
       "LCP      0.067807\n",
       "NPP      0.097772\n",
       "UIPJS    0.067741\n",
       "UIPD     0.070750\n",
       "rMAP     0.021823\n",
       "dtype: float64"
      ]
     },
     "execution_count": 159,
     "metadata": {},
     "output_type": "execute_result"
    }
   ],
   "source": [
    "BiasDF.mean()"
   ]
  },
  {
   "cell_type": "markdown",
   "metadata": {},
   "source": [
    "### var plot"
   ]
  },
  {
   "cell_type": "code",
   "execution_count": 160,
   "metadata": {},
   "outputs": [
    {
     "data": {
      "text/plain": [
       "<matplotlib.axes._subplots.AxesSubplot at 0x7fc8fdb54400>"
      ]
     },
     "execution_count": 160,
     "metadata": {},
     "output_type": "execute_result"
    },
    {
     "data": {
      "image/png": "[encoded data removed]",
      "text/plain": [
       "<Figure size 432x288 with 1 Axes>"
      ]
     },
     "metadata": {
      "needs_background": "light"
     },
     "output_type": "display_data"
    }
   ],
   "source": [
    "sns.boxplot(data=VarDF)"
   ]
  },
  {
   "cell_type": "code",
   "execution_count": 161,
   "metadata": {},
   "outputs": [
    {
     "data": {
      "text/plain": [
       "JEF      0.008391\n",
       "FULL     0.004039\n",
       "LCP      0.008932\n",
       "NPP      0.008285\n",
       "UIPJS    0.008473\n",
       "UIPD     0.007992\n",
       "rMAP     0.008514\n",
       "dtype: float64"
      ]
     },
     "execution_count": 161,
     "metadata": {},
     "output_type": "execute_result"
    }
   ],
   "source": [
    "VarDF.mean()"
   ]
  },
  {
   "cell_type": "markdown",
   "metadata": {},
   "source": [
    "### MSE plot"
   ]
  },
  {
   "cell_type": "code",
   "execution_count": 162,
   "metadata": {},
   "outputs": [
    {
     "data": {
      "text/plain": [
       "<matplotlib.axes._subplots.AxesSubplot at 0x7fc8fd658b00>"
      ]
     },
     "execution_count": 162,
     "metadata": {},
     "output_type": "execute_result"
    },
    {
     "data": {
      "image/png": "[encoded data removed]",
      "text/plain": [
       "<Figure size 432x288 with 1 Axes>"
      ]
     },
     "metadata": {
      "needs_background": "light"
     },
     "output_type": "display_data"
    }
   ],
   "source": [
    "sns.boxplot(data=MSEDF)"
   ]
  },
  {
   "cell_type": "markdown",
   "metadata": {},
   "source": [
    "#### MSE no full"
   ]
  },
  {
   "cell_type": "code",
   "execution_count": 163,
   "metadata": {},
   "outputs": [
    {
     "data": {
      "text/plain": [
       "<matplotlib.axes._subplots.AxesSubplot at 0x7fc9116794a8>"
      ]
     },
     "execution_count": 163,
     "metadata": {},
     "output_type": "execute_result"
    },
    {
     "data": {
      "image/png": "[encoded data removed]",
      "text/plain": [
       "<Figure size 432x288 with 1 Axes>"
      ]
     },
     "metadata": {
      "needs_background": "light"
     },
     "output_type": "display_data"
    }
   ],
   "source": [
    "sns.boxplot(data=MSEDF.iloc[:, [0, 2, 3, 4, 5, 6]])"
   ]
  },
  {
   "cell_type": "code",
   "execution_count": 164,
   "metadata": {},
   "outputs": [
    {
     "data": {
      "text/plain": [
       "JEF      0.016561\n",
       "FULL     0.075280\n",
       "LCP      0.023497\n",
       "NPP      0.025877\n",
       "UIPJS    0.021756\n",
       "UIPD     0.020763\n",
       "rMAP     0.017268\n",
       "dtype: float64"
      ]
     },
     "execution_count": 164,
     "metadata": {},
     "output_type": "execute_result"
    }
   ],
   "source": [
    "MSEDF.mean()"
   ]
  },
  {
   "cell_type": "code",
   "execution_count": null,
   "metadata": {},
   "outputs": [],
   "source": []
  }
 ],
 "metadata": {
  "kernelspec": {
   "display_name": "Python 3",
   "language": "python",
   "name": "python3"
  },
  "language_info": {
   "codemirror_mode": {
    "name": "ipython",
    "version": 3
   },
   "file_extension": ".py",
   "mimetype": "text/x-python",
   "name": "python",
   "nbconvert_exporter": "python",
   "pygments_lexer": "ipython3",
   "version": "3.7.3"
  }
 },
 "nbformat": 4,
 "nbformat_minor": 2
}
