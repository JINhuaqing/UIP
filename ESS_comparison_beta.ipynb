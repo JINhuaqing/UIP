{
 "cells": [
  {
   "cell_type": "code",
   "execution_count": 9,
   "metadata": {},
   "outputs": [],
   "source": [
    "import numpy as np\n",
    "import numpy.random as npr\n",
    "from numpy.random import dirichlet, uniform\n",
    "from scipy.stats import beta, norm, bernoulli\n",
    "import matplotlib.pyplot as plt\n",
    "import seaborn as sns\n",
    "from scipy.special import beta as Beta\n",
    "from tqdm import tqdm_notebook as tqdm\n",
    "from scipy.stats import beta\n",
    "from scipy.special import roots_legendre\n",
    "from easydict import EasyDict as edict\n",
    "import multiprocessing as mp\n",
    "import pickle\n",
    "%matplotlib inline"
   ]
  },
  {
   "cell_type": "code",
   "execution_count": 2,
   "metadata": {},
   "outputs": [],
   "source": [
    "from utils import ESSJS_beta, ESS_UIPD_beta"
   ]
  },
  {
   "cell_type": "markdown",
   "metadata": {},
   "source": [
    "### Parameters"
   ]
  },
  {
   "cell_type": "code",
   "execution_count": 3,
   "metadata": {},
   "outputs": [],
   "source": [
    "ns = [80, 100, 120]\n",
    "n = 100\n",
    "Ms = np.arange(10, 200, step=10)"
   ]
  },
  {
   "cell_type": "markdown",
   "metadata": {},
   "source": [
    "### Binary data"
   ]
  },
  {
   "cell_type": "code",
   "execution_count": 18,
   "metadata": {},
   "outputs": [],
   "source": [
    "ps_range = [0.3, 0.7]\n",
    "p = 0.5\n",
    "pss = uniform(ps_range[0], ps_range[1], size=(50, 3))"
   ]
  },
  {
   "cell_type": "markdown",
   "metadata": {},
   "source": [
    "### Fixed weight paremeters"
   ]
  },
  {
   "cell_type": "code",
   "execution_count": 19,
   "metadata": {},
   "outputs": [
    {
     "data": {
      "application/vnd.jupyter.widget-view+json": {
       "model_id": "308503cc81a041b28f4c0eec0732bf6c",
       "version_major": 2,
       "version_minor": 0
      },
      "text/plain": [
       "HBox(children=(IntProgress(value=0, max=50), HTML(value='')))"
      ]
     },
     "metadata": {},
     "output_type": "display_data"
    },
    {
     "name": "stdout",
     "output_type": "stream",
     "text": [
      "\n"
     ]
    }
   ],
   "source": [
    "nESSs = []\n",
    "for ps in tqdm(pss):\n",
    "    nESS = ESSJS_beta(M=1, ns=ns, ps=ps, n=n, p=p)\n",
    "    nESSs.append(nESS)\n",
    "nESSs = np.array(nESSs)"
   ]
  },
  {
   "cell_type": "code",
   "execution_count": 20,
   "metadata": {},
   "outputs": [],
   "source": [
    "Ms = np.arange(10, 200, step=10)\n",
    "ESS1All = []\n",
    "for M in Ms:\n",
    "    ESS1All.append(M*(nESSs + 1) - 1)\n",
    "ESS1All = np.array(ESS1All)"
   ]
  },
  {
   "cell_type": "markdown",
   "metadata": {},
   "source": [
    "### Draw weight parameters from prior"
   ]
  },
  {
   "cell_type": "code",
   "execution_count": 8,
   "metadata": {},
   "outputs": [],
   "source": [
    "ps = pss[0]\n",
    "Ds = [ bernoulli.rvs(ps[i], size=ns[i]) for i in range(len(ns))]\n",
    "ESSUIPD = ESS_UIPD_beta(ns=ns, Ds=Ds, n=n, M=20, C=1e6)\n",
    "ESSUIPD.getESS()"
   ]
  },
  {
   "cell_type": "code",
   "execution_count": 10,
   "metadata": {},
   "outputs": [],
   "source": [
    "with open(\"beta_ESS_UIPD.pkl\", \"rb\") as f:\n",
    "     ESS2results = pickle.load(f)"
   ]
  },
  {
   "cell_type": "code",
   "execution_count": 23,
   "metadata": {},
   "outputs": [],
   "source": [
    "ESS2All = []\n",
    "for i in range(len(ESS2results)):\n",
    "    ESS2M = [res.ESS for res in ESS2results[i]]\n",
    "    ESS2All.append(ESS2M)\n",
    "    \n",
    "ESS2All = np.array(ESS2All)"
   ]
  },
  {
   "cell_type": "code",
   "execution_count": 30,
   "metadata": {},
   "outputs": [
    {
     "data": {
      "text/plain": [
       "array([ 8.52, 17.04, 23.8 , 31.4 , 35.56, 42.46, 44.56, 50.28, 57.86,\n",
       "       62.14, 63.88, 75.12, 80.62, 77.76, 75.04, 86.  , 96.62, 83.46,\n",
       "       94.18])"
      ]
     },
     "execution_count": 30,
     "metadata": {},
     "output_type": "execute_result"
    }
   ],
   "source": [
    "ESS2All.mean(axis=1)"
   ]
  },
  {
   "cell_type": "code",
   "execution_count": 43,
   "metadata": {},
   "outputs": [
    {
     "data": {
      "image/png": "[encoded data removed]",
      "text/plain": [
       "<Figure size 432x288 with 1 Axes>"
      ]
     },
     "metadata": {
      "needs_background": "light"
     },
     "output_type": "display_data"
    }
   ],
   "source": [
    "plt.plot(np.arange(200), np.arange(200))\n",
    "plt.plot(Ms[:15], ESS1All.mean(axis=1)[:15], \"o\", label=\"ESS1\")\n",
    "plt.plot(Ms[:15], ESS2All.mean(axis=1)[:15], \"+\", label=\"ESS2\")\n",
    "plt.legend()\n",
    "plt.xlabel(\"M\")\n",
    "_ = plt.ylabel(\"ESS\")"
   ]
  },
  {
   "cell_type": "code",
   "execution_count": 31,
   "metadata": {},
   "outputs": [
    {
     "data": {
      "image/png": "[encoded data removed]",
      "text/plain": [
       "<Figure size 432x288 with 1 Axes>"
      ]
     },
     "metadata": {
      "needs_background": "light"
     },
     "output_type": "display_data"
    }
   ],
   "source": [
    "_ = plt.boxplot(np.transpose(ESS2All))"
   ]
  },
  {
   "cell_type": "code",
   "execution_count": 42,
   "metadata": {},
   "outputs": [
    {
     "data": {
      "text/plain": [
       "[<matplotlib.lines.Line2D at 0x7f263d2b5dd8>]"
      ]
     },
     "execution_count": 42,
     "metadata": {},
     "output_type": "execute_result"
    },
    {
     "data": {
      "image/png": "[encoded data removed]",
      "text/plain": [
       "<Figure size 432x288 with 1 Axes>"
      ]
     },
     "metadata": {
      "needs_background": "light"
     },
     "output_type": "display_data"
    }
   ],
   "source": [
    "plt.plot(Ms[::1], np.mean(ESS2All, axis=1)[::1], \"+\", label=\"ESS2\")"
   ]
  },
  {
   "cell_type": "code",
   "execution_count": null,
   "metadata": {},
   "outputs": [],
   "source": []
  }
 ],
 "metadata": {
  "kernelspec": {
   "display_name": "Python 3",
   "language": "python",
   "name": "python3"
  },
  "language_info": {
   "codemirror_mode": {
    "name": "ipython",
    "version": 3
   },
   "file_extension": ".py",
   "mimetype": "text/x-python",
   "name": "python",
   "nbconvert_exporter": "python",
   "pygments_lexer": "ipython3",
   "version": "3.7.3"
  }
 },
 "nbformat": 4,
 "nbformat_minor": 2
}
