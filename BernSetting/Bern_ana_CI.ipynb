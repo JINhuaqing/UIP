{
 "cells": [
  {
   "cell_type": "code",
   "execution_count": 1,
   "metadata": {},
   "outputs": [],
   "source": [
    "from utilities_bern import *\n",
    "import numpy as np\n",
    "from scipy.stats import bernoulli\n",
    "import scipy.stats as ss\n",
    "import pymc3.stats as pymcs\n",
    "import pickle\n",
    "import argparse\n",
    "import pystan \n",
    "from easydict import EasyDict as edict\n",
    "import matplotlib.pyplot as plt\n",
    "import seaborn as sns\n",
    "np.random.seed(0)"
   ]
  },
  {
   "cell_type": "code",
   "execution_count": 44,
   "metadata": {},
   "outputs": [],
   "source": [
    "def GenD0(p0, n):\n",
    "    num = int(n * p0)\n",
    "    D0 = np.concatenate((np.ones(num), np.zeros(n-num)))\n",
    "    return np.array(D0, dtype=np.int)"
   ]
  },
  {
   "cell_type": "code",
   "execution_count": 64,
   "metadata": {},
   "outputs": [],
   "source": [
    "ressave = []"
   ]
  },
  {
   "cell_type": "code",
   "execution_count": 92,
   "metadata": {},
   "outputs": [],
   "source": [
    "p0 = 0.8\n",
    "n = 100\n",
    "ps = [0.3, 0.8]\n",
    "ns = [80, 120]\n",
    "alpha = 0.05"
   ]
  },
  {
   "cell_type": "code",
   "execution_count": 93,
   "metadata": {},
   "outputs": [],
   "source": [
    "D = GenD0(p0, n) \n",
    "Ds = [GenD0(ps[i], ns[i]) for i in range(len(ns))]"
   ]
  },
  {
   "cell_type": "markdown",
   "metadata": {},
   "source": [
    "### Jeffrey's prior"
   ]
  },
  {
   "cell_type": "code",
   "execution_count": 94,
   "metadata": {},
   "outputs": [],
   "source": [
    "alp_jef = 0.5 + D.sum()\n",
    "bt_jef = 0.5 + len(D) - D.sum()\n",
    "CIsJEF = ss.beta.ppf([alpha/2, 1-alpha/2], a=alp_jef, b=bt_jef)"
   ]
  },
  {
   "cell_type": "code",
   "execution_count": 95,
   "metadata": {},
   "outputs": [],
   "source": [
    "alp_jefDh1 = 0.5 + Ds[0].sum()\n",
    "bt_jefDh1 = 0.5 + len(Ds[0]) - Ds[0].sum()\n",
    "CIsJEFDh1 = ss.beta.ppf([alpha/2, 1-alpha/2], a=alp_jefDh1, b=bt_jefDh1)"
   ]
  },
  {
   "cell_type": "code",
   "execution_count": 96,
   "metadata": {},
   "outputs": [],
   "source": [
    "alp_jefDh2 = 0.5 + Ds[1].sum()\n",
    "bt_jefDh2 = 0.5 + len(Ds[1]) - Ds[1].sum()\n",
    "CIsJEFDh2 = ss.beta.ppf([alpha/2, 1-alpha/2], a=alp_jefDh2, b=bt_jefDh2)"
   ]
  },
  {
   "cell_type": "markdown",
   "metadata": {},
   "source": [
    "### Full "
   ]
  },
  {
   "cell_type": "code",
   "execution_count": 97,
   "metadata": {},
   "outputs": [],
   "source": [
    "alp_full = 0.5 + D.sum() + np.sum([Dh.sum() for Dh in Ds])\n",
    "bt_full = 0.5 + len(D) - D.sum() + np.sum([len(Dh) - Dh.sum() for Dh in Ds])\n",
    "CIsFULL = ss.beta.ppf([alpha/2, 1-alpha/2], a=alp_full, b=bt_full)"
   ]
  },
  {
   "cell_type": "markdown",
   "metadata": {},
   "source": [
    "### JPP"
   ]
  },
  {
   "cell_type": "code",
   "execution_count": 98,
   "metadata": {},
   "outputs": [],
   "source": [
    "post_sps_jpp = gen_post_jpp(50000, D, Ds)\n",
    "CIsJPP = np.quantile(post_sps_jpp[\"sps\"], [alpha/2, 1-alpha/2])"
   ]
  },
  {
   "cell_type": "markdown",
   "metadata": {},
   "source": [
    "### UIP-JS"
   ]
  },
  {
   "cell_type": "code",
   "execution_count": 99,
   "metadata": {},
   "outputs": [],
   "source": [
    "post_sps_UIPJS = gen_post_UIP_KL_MCMC(20000, D, Ds, burnin=4000, thin=8)\n",
    "CIsUIPJS = np.quantile(post_sps_UIPJS[\"sps\"], [alpha/2, 1-alpha/2])"
   ]
  },
  {
   "cell_type": "markdown",
   "metadata": {},
   "source": [
    "### UIP-Dirichlet"
   ]
  },
  {
   "cell_type": "code",
   "execution_count": 100,
   "metadata": {},
   "outputs": [],
   "source": [
    "post_sps_UIPD = gen_post_UIP_D_MCMC(20000, D, Ds, burnin=4000, thin=8)\n",
    "CIsUIPD = np.quantile(post_sps_UIPD[\"sps\"], [alpha/2, 1-alpha/2])"
   ]
  },
  {
   "cell_type": "markdown",
   "metadata": {},
   "source": [
    "### MPP "
   ]
  },
  {
   "cell_type": "code",
   "execution_count": 87,
   "metadata": {},
   "outputs": [
    {
     "name": "stderr",
     "output_type": "stream",
     "text": [
      "INFO:pystan:COMPILING THE C++ CODE FOR MODEL anon_model_99f8b0869aa79213b9131c0d89d21462 NOW.\n"
     ]
    }
   ],
   "source": [
    "MPPsm = pystan.StanModel(file=\"./Bernstan/bernNPP.stan\")"
   ]
  },
  {
   "cell_type": "code",
   "execution_count": 101,
   "metadata": {},
   "outputs": [],
   "source": [
    "data = {\"D\":D,  \"D1\": Ds[0], \"D2\": Ds[1], \"n\" : n, \"n1\": ns[0], \"n2\": ns[1] }\n",
    "fitMPP = MPPsm.sampling(data=data,  chains=4,  iter=30000,  warmup=5000, thin=10)\n",
    "post_sps_MPP = fitMPP.extract()\n",
    "CIsMPP = np.quantile(post_sps_MPP[\"theta\"], [alpha/2, 1-alpha/2])"
   ]
  },
  {
   "cell_type": "code",
   "execution_count": 102,
   "metadata": {},
   "outputs": [],
   "source": [
    "resCIs = edict()\n",
    "paras = edict()"
   ]
  },
  {
   "cell_type": "code",
   "execution_count": 103,
   "metadata": {},
   "outputs": [],
   "source": [
    "resCIs.UIPD = CIsUIPD\n",
    "resCIs.UIPJS = CIsUIPJS\n",
    "resCIs.MPP = CIsMPP\n",
    "resCIs.JPP = CIsJPP\n",
    "resCIs.FULL = CIsFULL\n",
    "resCIs.JEF = CIsJEF\n",
    "resCIs.D1= CIsJEFDh1\n",
    "resCIs.D2= CIsJEFDh2\n",
    "\n",
    "paras.p0 = p0"
   ]
  },
  {
   "cell_type": "code",
   "execution_count": 104,
   "metadata": {},
   "outputs": [],
   "source": [
    "ressave.append([resCIs, paras])"
   ]
  },
  {
   "cell_type": "code",
   "execution_count": 105,
   "metadata": {},
   "outputs": [],
   "source": [
    "#with open(\"BernCIs.pkl\", \"wb\") as f:\n",
    "#    pickle.dump(ressave, f)"
   ]
  },
  {
   "cell_type": "code",
   "execution_count": 2,
   "metadata": {},
   "outputs": [],
   "source": [
    "with open(\"BernCIs.pkl\", \"rb\") as f:\n",
    "    ressave = pickle.load(f)"
   ]
  },
  {
   "cell_type": "code",
   "execution_count": 4,
   "metadata": {},
   "outputs": [
    {
     "data": {
      "image/png": "[encoded data removed]",
      "text/plain": [
       "<Figure size 1440x360 with 3 Axes>"
      ]
     },
     "metadata": {
      "needs_background": "light"
     },
     "output_type": "display_data"
    }
   ],
   "source": [
    "fig, axes = plt.subplots(nrows=1, ncols=3,\n",
    "                         sharex=False,sharey=True, figsize=(20,5))\n",
    "plt.subplots_adjust(wspace=0.1, hspace=0.1)\n",
    "cols = list(sns.xkcd_rgb.values())\n",
    "keys = [\"UIP-JS\", \"UIP-Dirichlet\", \"MPP\", \"JPP\", r\"Jeffreys\", \"Full\", r\"$D_2$\", r\"$D_1$\"]\n",
    "ords = [\"UIPJS\", \"UIPD\", \"MPP\", \"JPP\", \"JEF\", \"FULL\", \"D2\", \"D1\"]\n",
    "for j in range(3):\n",
    "    resCIs, paras= ressave[j]\n",
    "    axes[j].set_xlim([0, 1])\n",
    "    tl = r\"$\\hat{\\theta}$\" + f\"={paras.p0}\"\n",
    "    axes[j].set_title(tl)\n",
    "    for idx, key in enumerate(ords):\n",
    "        axes[j].hlines(idx, xmin=resCIs[key][0], xmax=resCIs[key][1], color=cols[idx])\n",
    "    axes[j].axvline(paras.p0, linestyle=\":\", color=\"red\")\n",
    "    axes[j].set_yticks(list(range(len(keys))))\n",
    "    axes[j].set_yticklabels(keys)\n",
    "plt.savefig(\"BernCIs.pdf\")"
   ]
  },
  {
   "cell_type": "code",
   "execution_count": null,
   "metadata": {},
   "outputs": [],
   "source": []
  }
 ],
 "metadata": {
  "kernelspec": {
   "display_name": "Python myStan",
   "language": "python",
   "name": "mystan"
  },
  "language_info": {
   "codemirror_mode": {
    "name": "ipython",
    "version": 3
   },
   "file_extension": ".py",
   "mimetype": "text/x-python",
   "name": "python",
   "nbconvert_exporter": "python",
   "pygments_lexer": "ipython3",
   "version": "3.7.3"
  }
 },
 "nbformat": 4,
 "nbformat_minor": 2
}
