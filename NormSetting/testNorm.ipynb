{
 "cells": [
  {
   "cell_type": "code",
   "execution_count": 1,
   "metadata": {},
   "outputs": [
    {
     "name": "stderr",
     "output_type": "stream",
     "text": [
      "WARNING (theano.tensor.blas): Using NumPy C-API based implementation for BLAS functions.\n"
     ]
    }
   ],
   "source": [
    "import numpy as np\n",
    "from rpy2 import robjects as robj\n",
    "import matplotlib.pyplot as plt\n",
    "from pprint import pprint\n",
    "from scipy.special import beta as betafn\n",
    "from scipy.stats import beta, norm\n",
    "import seaborn as sns\n",
    "import pymc3 as pm\n",
    "from utils_norm import *\n",
    "%matplotlib inline"
   ]
  },
  {
   "cell_type": "code",
   "execution_count": 10,
   "metadata": {},
   "outputs": [],
   "source": [
    "D1 = np.array(norm.rvs(loc=0, scale=1, size=5))\n",
    "D2 = np.array(norm.rvs(loc=1, scale=1, size=10))\n",
    "D3 = np.array(norm.rvs(loc=2, scale=1, size=10))\n",
    "Ds = [D1, D2, D3]\n",
    "D = norm.rvs(loc=0, scale=1, size=10)"
   ]
  },
  {
   "cell_type": "code",
   "execution_count": 11,
   "metadata": {},
   "outputs": [
    {
     "name": "stderr",
     "output_type": "stream",
     "text": [
      "R[write to console]: Using default prior reference scale 0.904309074474287\n",
      "\n"
     ]
    }
   ],
   "source": [
    "model = getrMAPNormal(D, Ds, mean=0)"
   ]
  },
  {
   "cell_type": "code",
   "execution_count": 12,
   "metadata": {},
   "outputs": [
    {
     "name": "stderr",
     "output_type": "stream",
     "text": [
      "Multiprocess sampling (4 chains in 4 jobs)\n",
      "CompoundStep\n",
      ">Metropolis: [sigma2]\n",
      ">Metropolis: [thetaP]\n",
      "Sampling 4 chains, 0 divergences: 100%|██████████| 40000/40000 [00:04<00:00, 9823.11draws/s] \n",
      "The number of effective samples is smaller than 25% for some parameters.\n"
     ]
    }
   ],
   "source": [
    "with model:\n",
    "    step = pm.Metropolis()\n",
    "    sps = pm.sample(draws=5000, tune=5000, cores=4, chains=4, step=step)"
   ]
  },
  {
   "cell_type": "code",
   "execution_count": 13,
   "metadata": {},
   "outputs": [
    {
     "data": {
      "text/html": [
       "<div>\n",
       "<style scoped>\n",
       "    .dataframe tbody tr th:only-of-type {\n",
       "        vertical-align: middle;\n",
       "    }\n",
       "\n",
       "    .dataframe tbody tr th {\n",
       "        vertical-align: top;\n",
       "    }\n",
       "\n",
       "    .dataframe thead th {\n",
       "        text-align: right;\n",
       "    }\n",
       "</style>\n",
       "<table border=\"1\" class=\"dataframe\">\n",
       "  <thead>\n",
       "    <tr style=\"text-align: right;\">\n",
       "      <th></th>\n",
       "      <th>mean</th>\n",
       "      <th>sd</th>\n",
       "      <th>hpd_3%</th>\n",
       "      <th>hpd_97%</th>\n",
       "      <th>mcse_mean</th>\n",
       "      <th>mcse_sd</th>\n",
       "      <th>ess_mean</th>\n",
       "      <th>ess_sd</th>\n",
       "      <th>ess_bulk</th>\n",
       "      <th>ess_tail</th>\n",
       "      <th>r_hat</th>\n",
       "    </tr>\n",
       "  </thead>\n",
       "  <tbody>\n",
       "    <tr>\n",
       "      <th>thetaP</th>\n",
       "      <td>0.004</td>\n",
       "      <td>0.101</td>\n",
       "      <td>-0.180</td>\n",
       "      <td>0.195</td>\n",
       "      <td>0.002</td>\n",
       "      <td>0.001</td>\n",
       "      <td>4002.0</td>\n",
       "      <td>3179.0</td>\n",
       "      <td>4005.0</td>\n",
       "      <td>3881.0</td>\n",
       "      <td>1.0</td>\n",
       "    </tr>\n",
       "    <tr>\n",
       "      <th>sigma2</th>\n",
       "      <td>1.001</td>\n",
       "      <td>0.148</td>\n",
       "      <td>0.718</td>\n",
       "      <td>1.269</td>\n",
       "      <td>0.003</td>\n",
       "      <td>0.002</td>\n",
       "      <td>3493.0</td>\n",
       "      <td>3493.0</td>\n",
       "      <td>3493.0</td>\n",
       "      <td>3597.0</td>\n",
       "      <td>1.0</td>\n",
       "    </tr>\n",
       "  </tbody>\n",
       "</table>\n",
       "</div>"
      ],
      "text/plain": [
       "         mean     sd  hpd_3%  hpd_97%  mcse_mean  mcse_sd  ess_mean  ess_sd  \\\n",
       "thetaP  0.004  0.101  -0.180    0.195      0.002    0.001    4002.0  3179.0   \n",
       "sigma2  1.001  0.148   0.718    1.269      0.003    0.002    3493.0  3493.0   \n",
       "\n",
       "        ess_bulk  ess_tail  r_hat  \n",
       "thetaP    4005.0    3881.0    1.0  \n",
       "sigma2    3493.0    3597.0    1.0  "
      ]
     },
     "execution_count": 13,
     "metadata": {},
     "output_type": "execute_result"
    }
   ],
   "source": [
    "pm.summary(sps)"
   ]
  },
  {
   "cell_type": "code",
   "execution_count": null,
   "metadata": {},
   "outputs": [],
   "source": []
  }
 ],
 "metadata": {
  "kernelspec": {
   "display_name": "Python 3",
   "language": "python",
   "name": "python3"
  },
  "language_info": {
   "codemirror_mode": {
    "name": "ipython",
    "version": 3
   },
   "file_extension": ".py",
   "mimetype": "text/x-python",
   "name": "python",
   "nbconvert_exporter": "python",
   "pygments_lexer": "ipython3",
   "version": "3.7.3"
  }
 },
 "nbformat": 4,
 "nbformat_minor": 2
}
