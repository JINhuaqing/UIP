{
 "cells": [
  {
   "cell_type": "code",
   "execution_count": 1,
   "metadata": {},
   "outputs": [
    {
     "name": "stderr",
     "output_type": "stream",
     "text": [
      "WARNING (theano.tensor.blas): Using NumPy C-API based implementation for BLAS functions.\n"
     ]
    }
   ],
   "source": [
    "import pymc3 as pm\n",
    "import matplotlib.pyplot as plt\n",
    "import numpy as np\n",
    "import pickle\n",
    "from pathlib import Path\n",
    "import pandas as pd\n",
    "import seaborn as sns\n",
    "from easydict import EasyDict as edict\n",
    "\n",
    "%matplotlib inline"
   ]
  },
  {
   "cell_type": "code",
   "execution_count": 2,
   "metadata": {},
   "outputs": [],
   "source": [
    "from tqdm import tqdm_notebook as tqdm\n",
    "from collections import defaultdict as ddict\n",
    "from pprint import pprint"
   ]
  },
  {
   "cell_type": "code",
   "execution_count": 3,
   "metadata": {},
   "outputs": [],
   "source": [
    "def sortdir(f):\n",
    "    num = f.name.split(\"_\")[-2].split(\"p\")[-1]\n",
    "    num = int(num)\n",
    "    return  num\n",
    "\n",
    "def sortf(f):\n",
    "    num = f.name.split(\".\")[0]\n",
    "    num = int(num)\n",
    "    return num"
   ]
  },
  {
   "cell_type": "code",
   "execution_count": 4,
   "metadata": {},
   "outputs": [],
   "source": [
    "def load_pkl(f):\n",
    "    with open(f, \"rb\") as fi:\n",
    "        data = pickle.load(fi)\n",
    "    return data"
   ]
  },
  {
   "cell_type": "markdown",
   "metadata": {},
   "source": [
    "## To obtaining simple format file"
   ]
  },
  {
   "cell_type": "code",
   "execution_count": 5,
   "metadata": {},
   "outputs": [],
   "source": [
    "def parse_sresult(datum):\n",
    "    res = {\n",
    "        \"JEF\"  : datum[\"jef\"][\"theta\"],\n",
    "        \"FULL\": datum[\"full\"][\"theta\"],\n",
    "        \"UIPD\" : datum[\"UIPD\"][\"thetah\"],\n",
    "        \"UIPJS\": datum[\"UIPJS\"][\"thetah\"],\n",
    "        \"NPP\"  : datum[\"NPP\"][\"thetah\"],\n",
    "        \"LCP\"  : datum[\"LCP\"][\"thetah\"],\n",
    "        \"rMAP\" : datum[\"rMAP\"][\"thetaP\"]\n",
    "    }\n",
    "    return res\n",
    "\n",
    "def save_data(cdir):\n",
    "    files = list(cdir.glob(\"*.pkl\"))\n",
    "    files = sorted(files, key=sortf, reverse=False)\n",
    "    retres = {\n",
    "        \"JEF\":[],\n",
    "        \"FULL\":[],\n",
    "        \"LCP\":[],\n",
    "        \"NPP\":[],\n",
    "        \"UIPJS\":[],\n",
    "        \"UIPD\":[],\n",
    "        \"rMAP\":[]\n",
    "    }\n",
    "    for fil in tqdm(files):\n",
    "        datum = load_pkl(fil)\n",
    "        simdatum = parse_sresult(datum)\n",
    "        retres[\"JEF\"].append(simdatum[\"JEF\"])\n",
    "        retres[\"FULL\"].append(simdatum[\"FULL\"])\n",
    "        retres[\"UIPD\"].append(simdatum[\"UIPD\"])\n",
    "        retres[\"UIPJS\"].append(simdatum[\"UIPJS\"])\n",
    "        retres[\"NPP\"].append(simdatum[\"NPP\"])\n",
    "        retres[\"LCP\"].append(simdatum[\"LCP\"])\n",
    "        retres[\"rMAP\"].append(simdatum[\"rMAP\"])\n",
    "    return retres"
   ]
  },
  {
   "cell_type": "markdown",
   "metadata": {},
   "source": [
    "### Obain the folders"
   ]
  },
  {
   "cell_type": "code",
   "execution_count": 6,
   "metadata": {},
   "outputs": [],
   "source": [
    "n = 120\n",
    "\n",
    "root = Path(f\"./results/\")\n",
    "dirs = root.glob(f\"BiostatR1*_n{n}\")\n",
    "dirs = list(dirs)"
   ]
  },
  {
   "cell_type": "markdown",
   "metadata": {},
   "source": [
    "### Get the current data"
   ]
  },
  {
   "cell_type": "code",
   "execution_count": 7,
   "metadata": {},
   "outputs": [],
   "source": [
    "theta0 = 0.5\n",
    "\n",
    "idxs = np.array([sortdir(d) for d in dirs])/100\n",
    "idxs = list(np.sort(idxs))\n",
    "\n",
    "dirs = sorted(dirs, key=sortdir, reverse=False)\n",
    "cdir = dirs[idxs.index(theta0)]\n",
    "\n",
    "simData = root/f\"./SimBiostatR1_p{sortdir(cdir)}_n{n}.pkl\""
   ]
  },
  {
   "cell_type": "markdown",
   "metadata": {},
   "source": [
    "### Obtain the cleaned data"
   ]
  },
  {
   "cell_type": "code",
   "execution_count": 8,
   "metadata": {},
   "outputs": [],
   "source": [
    "if simData.exists():\n",
    "    cleanData = load_pkl(simData)\n",
    "else:\n",
    "    cleanData = save_data(cdir)\n",
    "    with open(simData, \"wb\") as f:\n",
    "        pickle.dump(cleanData, f)"
   ]
  },
  {
   "cell_type": "code",
   "execution_count": 9,
   "metadata": {},
   "outputs": [],
   "source": [
    "cleanData = edict(cleanData)"
   ]
  },
  {
   "cell_type": "markdown",
   "metadata": {},
   "source": [
    "### Obtain the mean and variance and MSE from the posterior sample"
   ]
  },
  {
   "cell_type": "code",
   "execution_count": 10,
   "metadata": {},
   "outputs": [],
   "source": [
    "def ObtainMSE(data, theta0):\n",
    "    res = ddict(dict)\n",
    "    for key in data.keys():\n",
    "        datum = np.squeeze(np.array(data[key]))\n",
    "        res[key][\"Bias\"] = np.mean(datum-theta0, axis=1)\n",
    "        res[key][\"Var\"] = np.var(datum, axis=1)\n",
    "        res[key][\"MSE\"] = np.mean((datum-theta0)**2, axis=1)\n",
    "    return res"
   ]
  },
  {
   "cell_type": "code",
   "execution_count": 11,
   "metadata": {},
   "outputs": [],
   "source": [
    "res = ObtainMSE(cleanData, theta0)"
   ]
  },
  {
   "cell_type": "code",
   "execution_count": 12,
   "metadata": {},
   "outputs": [],
   "source": [
    "Biass = ddict()\n",
    "for key in res.keys():\n",
    "    Biass[key] = res[key][\"Bias\"]\n",
    "BiasDF = pd.DataFrame(Biass)"
   ]
  },
  {
   "cell_type": "code",
   "execution_count": 13,
   "metadata": {},
   "outputs": [],
   "source": [
    "Vars = ddict()\n",
    "for key in res.keys():\n",
    "    Vars[key] = res[key][\"Var\"]\n",
    "VarDF = pd.DataFrame(Vars)"
   ]
  },
  {
   "cell_type": "code",
   "execution_count": 14,
   "metadata": {},
   "outputs": [],
   "source": [
    "MSEs = ddict()\n",
    "for key in res.keys():\n",
    "    MSEs[key] = res[key][\"MSE\"]\n",
    "MSEDF = pd.DataFrame(MSEs)"
   ]
  },
  {
   "cell_type": "markdown",
   "metadata": {},
   "source": [
    "###  bias plot"
   ]
  },
  {
   "cell_type": "code",
   "execution_count": 15,
   "metadata": {},
   "outputs": [
    {
     "data": {
      "text/plain": [
       "<matplotlib.axes._subplots.AxesSubplot at 0x7f030fbdc2b0>"
      ]
     },
     "execution_count": 15,
     "metadata": {},
     "output_type": "execute_result"
    },
    {
     "data": {
      "image/png": "[encoded data removed]",
      "text/plain": [
       "<Figure size 432x288 with 1 Axes>"
      ]
     },
     "metadata": {
      "needs_background": "light"
     },
     "output_type": "display_data"
    }
   ],
   "source": [
    "sns.boxplot(data=BiasDF)"
   ]
  },
  {
   "cell_type": "code",
   "execution_count": 16,
   "metadata": {},
   "outputs": [
    {
     "data": {
      "text/plain": [
       "JEF      0.003847\n",
       "FULL     0.096319\n",
       "LCP      0.031479\n",
       "NPP      0.048904\n",
       "UIPJS    0.017522\n",
       "UIPD     0.008402\n",
       "rMAP     0.017893\n",
       "dtype: float64"
      ]
     },
     "execution_count": 16,
     "metadata": {},
     "output_type": "execute_result"
    }
   ],
   "source": [
    "BiasDF.mean()"
   ]
  },
  {
   "cell_type": "markdown",
   "metadata": {},
   "source": [
    "### var plot"
   ]
  },
  {
   "cell_type": "code",
   "execution_count": 17,
   "metadata": {},
   "outputs": [
    {
     "data": {
      "text/plain": [
       "<matplotlib.axes._subplots.AxesSubplot at 0x7f030fac5630>"
      ]
     },
     "execution_count": 17,
     "metadata": {},
     "output_type": "execute_result"
    },
    {
     "data": {
      "image/png": "[encoded data removed]",
      "text/plain": [
       "<Figure size 432x288 with 1 Axes>"
      ]
     },
     "metadata": {
      "needs_background": "light"
     },
     "output_type": "display_data"
    }
   ],
   "source": [
    "sns.boxplot(data=VarDF)"
   ]
  },
  {
   "cell_type": "code",
   "execution_count": 18,
   "metadata": {},
   "outputs": [
    {
     "data": {
      "text/plain": [
       "JEF      0.008456\n",
       "FULL     0.003873\n",
       "LCP      0.006572\n",
       "NPP      0.006283\n",
       "UIPJS    0.005553\n",
       "UIPD     0.005900\n",
       "rMAP     0.008014\n",
       "dtype: float64"
      ]
     },
     "execution_count": 18,
     "metadata": {},
     "output_type": "execute_result"
    }
   ],
   "source": [
    "VarDF.mean()"
   ]
  },
  {
   "cell_type": "markdown",
   "metadata": {},
   "source": [
    "### MSE plot"
   ]
  },
  {
   "cell_type": "code",
   "execution_count": 19,
   "metadata": {},
   "outputs": [
    {
     "data": {
      "text/plain": [
       "<matplotlib.axes._subplots.AxesSubplot at 0x7f030f808908>"
      ]
     },
     "execution_count": 19,
     "metadata": {},
     "output_type": "execute_result"
    },
    {
     "data": {
      "image/png": "[encoded data removed]",
      "text/plain": [
       "<Figure size 432x288 with 1 Axes>"
      ]
     },
     "metadata": {
      "needs_background": "light"
     },
     "output_type": "display_data"
    }
   ],
   "source": [
    "sns.boxplot(data=MSEDF)"
   ]
  },
  {
   "cell_type": "markdown",
   "metadata": {},
   "source": [
    "#### MSE no full"
   ]
  },
  {
   "cell_type": "code",
   "execution_count": 20,
   "metadata": {},
   "outputs": [
    {
     "data": {
      "text/plain": [
       "<matplotlib.axes._subplots.AxesSubplot at 0x7f030f761e48>"
      ]
     },
     "execution_count": 20,
     "metadata": {},
     "output_type": "execute_result"
    },
    {
     "data": {
      "image/png": "[encoded data removed]",
      "text/plain": [
       "<Figure size 432x288 with 1 Axes>"
      ]
     },
     "metadata": {
      "needs_background": "light"
     },
     "output_type": "display_data"
    }
   ],
   "source": [
    "sns.boxplot(data=MSEDF.iloc[:, [0, 2, 3, 4, 5, 6]])"
   ]
  },
  {
   "cell_type": "code",
   "execution_count": 21,
   "metadata": {},
   "outputs": [
    {
     "data": {
      "text/plain": [
       "JEF      0.016697\n",
       "FULL     0.016814\n",
       "LCP      0.013173\n",
       "NPP      0.013768\n",
       "UIPJS    0.011801\n",
       "UIPD     0.011032\n",
       "rMAP     0.015762\n",
       "dtype: float64"
      ]
     },
     "execution_count": 21,
     "metadata": {},
     "output_type": "execute_result"
    }
   ],
   "source": [
    "MSEDF.mean()"
   ]
  },
  {
   "cell_type": "markdown",
   "metadata": {},
   "source": [
    "## Plot the bias, variance and MSE"
   ]
  },
  {
   "cell_type": "code",
   "execution_count": 23,
   "metadata": {},
   "outputs": [],
   "source": [
    "n = 120\n",
    "fls = root.glob(f\"SimBiostatR1*_n{n}.pkl\")\n",
    "fls = list(fls)\n",
    "fls = sorted(fls, key=sortdir)"
   ]
  },
  {
   "cell_type": "code",
   "execution_count": 24,
   "metadata": {},
   "outputs": [],
   "source": [
    "bias = ddict(list)\n",
    "varss = ddict(list)\n",
    "mses = ddict(list)\n",
    "thetas = []"
   ]
  },
  {
   "cell_type": "code",
   "execution_count": 25,
   "metadata": {},
   "outputs": [],
   "source": [
    "for fl in fls:\n",
    "    thetaC = sortdir(fl)/100\n",
    "    thetas.append(thetaC)\n",
    "    cleanData = load_pkl(fl)\n",
    "    res = ObtainMSE(cleanData, thetaC)\n",
    "    for key in res.keys():\n",
    "        bias[key].append(np.mean(res[key][\"Bias\"]))\n",
    "        varss[key].append(np.mean(res[key][\"Var\"]))\n",
    "        mses[key].append(np.mean(res[key][\"MSE\"]))"
   ]
  },
  {
   "cell_type": "code",
   "execution_count": 29,
   "metadata": {},
   "outputs": [
    {
     "name": "stderr",
     "output_type": "stream",
     "text": [
      "No handles with labels found to put in legend.\n"
     ]
    },
    {
     "data": {
      "text/plain": [
       "<matplotlib.legend.Legend at 0x7f030f1315f8>"
      ]
     },
     "execution_count": 29,
     "metadata": {},
     "output_type": "execute_result"
    },
    {
     "data": {
      "image/png": "[encoded data removed]",
      "text/plain": [
       "<Figure size 1080x360 with 3 Axes>"
      ]
     },
     "metadata": {
      "needs_background": "light"
     },
     "output_type": "display_data"
    }
   ],
   "source": [
    "fig = plt.figure(figsize=[15, 5])\n",
    "axes = fig.subplots(1, 3)\n",
    "\n",
    "low = 0\n",
    "up = 6\n",
    "axes[0].set_title(\"MSE\")\n",
    "#axes[0].set_ylim([0, 0.05])\n",
    "axes[0].plot(thetas[low:up], mses[\"JEF\"][low:up], \"-\", label=\"JEF\")\n",
    "axes[0].plot(thetas[low:up], mses[\"UIPD\"][low:up], label=\"UIPD\")\n",
    "axes[0].plot(thetas[low:up], mses[\"UIPJS\"][low:up], label=\"UIPJS\")\n",
    "axes[0].plot(thetas[low:up], mses[\"NPP\"][low:up], label=\"NPP\")\n",
    "axes[0].plot(thetas[low:up], mses[\"LCP\"][low:up], label=\"LCP\")\n",
    "axes[0].plot(thetas[low:up], mses[\"rMAP\"][low:up], label=\"rMAP\")\n",
    "axes[0].plot(thetas[low:up], mses[\"FULL\"][low:up], label=\"FULL\")\n",
    "#plt.legend()\n",
    "\n",
    "axes[1].set_title(\"Absolute Bias\")\n",
    "#axes[1].set_ylim([-0.01, 0.21])\n",
    "axes[1].plot(thetas[low:up], np.abs(bias[\"JEF\"][low:up]), \"-\", label=\"JEF\")\n",
    "axes[1].plot(thetas[low:up], np.abs(bias[\"UIPD\"][low:up]), label=\"UIPD\")\n",
    "axes[1].plot(thetas[low:up], np.abs(bias[\"UIPJS\"][low:up]), label=\"UIPJS\")\n",
    "axes[1].plot(thetas[low:up], np.abs(bias[\"NPP\"][low:up]), label=\"NPP\")\n",
    "axes[1].plot(thetas[low:up], np.abs(bias[\"LCP\"][low:up]), label=\"LCP\")\n",
    "axes[1].plot(thetas[low:up], np.abs(bias[\"rMAP\"][low:up]), label=\"rMAP\")\n",
    "axes[1].plot(thetas[low:up], np.abs(bias[\"FULL\"][low:up]), label=\"FULL\")\n",
    "plt.legend()\n",
    "\n",
    "\n",
    "axes[2].set_title(\"Variance\")\n",
    "#axes[2].set_ylim([0.003, 0.01])\n",
    "axes[2].plot(thetas[low:up], varss[\"JEF\"][low:up], \"-\", label=\"JEF\")\n",
    "axes[2].plot(thetas[low:up], varss[\"UIPD\"][low:up], \":\", label=\"UIPD\")\n",
    "axes[2].plot(thetas[low:up], varss[\"UIPJS\"][low:up], \"--\", label=\"UIPJS\")\n",
    "axes[2].plot(thetas[low:up], varss[\"NPP\"][low:up], \"-.\", label=\"NPP\")\n",
    "axes[2].plot(thetas[low:up], varss[\"LCP\"][low:up],\".-\", label=\"LCP\")\n",
    "axes[2].plot(thetas[low:up], varss[\"rMAP\"][low:up], label=\"rMAP\")\n",
    "axes[2].plot(thetas[low:up], varss[\"FULL\"][low:up], label=\"FULL\")\n",
    "#plt.legend()\n",
    "\n",
    "handles, labels = axes[0].get_legend_handles_labels()\n",
    "fig.legend(handles, labels, loc=(0.92, 0.20))"
   ]
  },
  {
   "cell_type": "code",
   "execution_count": 194,
   "metadata": {},
   "outputs": [],
   "source": [
    "?plt.legend"
   ]
  },
  {
   "cell_type": "code",
   "execution_count": 182,
   "metadata": {},
   "outputs": [
    {
     "data": {
      "text/plain": [
       "<Figure size 1080x360 with 0 Axes>"
      ]
     },
     "metadata": {},
     "output_type": "display_data"
    }
   ],
   "source": []
  },
  {
   "cell_type": "code",
   "execution_count": 183,
   "metadata": {},
   "outputs": [],
   "source": []
  },
  {
   "cell_type": "code",
   "execution_count": null,
   "metadata": {},
   "outputs": [],
   "source": []
  }
 ],
 "metadata": {
  "kernelspec": {
   "display_name": "Python 3",
   "language": "python",
   "name": "python3"
  },
  "language_info": {
   "codemirror_mode": {
    "name": "ipython",
    "version": 3
   },
   "file_extension": ".py",
   "mimetype": "text/x-python",
   "name": "python",
   "nbconvert_exporter": "python",
   "pygments_lexer": "ipython3",
   "version": "3.7.3"
  }
 },
 "nbformat": 4,
 "nbformat_minor": 2
}
