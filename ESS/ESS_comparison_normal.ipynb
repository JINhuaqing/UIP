{
 "cells": [
  {
   "cell_type": "code",
   "execution_count": 1,
   "metadata": {},
   "outputs": [],
   "source": [
    "import numpy as np\n",
    "import numpy.random as npr\n",
    "from numpy.random import dirichlet, uniform\n",
    "from scipy.stats import beta, norm, bernoulli\n",
    "import matplotlib.pyplot as plt\n",
    "import seaborn as sns\n",
    "from scipy.special import beta as Beta\n",
    "from tqdm import tqdm_notebook as tqdm\n",
    "from scipy.stats import beta\n",
    "from scipy.special import roots_legendre\n",
    "from easydict import EasyDict as edict\n",
    "import pickle\n",
    "import multiprocessing as mp\n",
    "%matplotlib inline"
   ]
  },
  {
   "cell_type": "code",
   "execution_count": 2,
   "metadata": {},
   "outputs": [],
   "source": [
    "from utils import ESSNormalCon, ESSNormalH"
   ]
  },
  {
   "cell_type": "markdown",
   "metadata": {},
   "source": [
    "### Parameters"
   ]
  },
  {
   "cell_type": "code",
   "execution_count": 3,
   "metadata": {},
   "outputs": [],
   "source": [
    "ns = [80, 100, 120]\n",
    "n = 100\n",
    "Ms = np.arange(10, 200, step=10)"
   ]
  },
  {
   "cell_type": "code",
   "execution_count": 4,
   "metadata": {},
   "outputs": [],
   "source": [
    "npr.seed(2020)\n",
    "thetas_range = [-0.5, 0.5]\n",
    "sigmas_range = [0.9, 1.1]\n",
    "sigmass = uniform(sigmas_range[0], sigmas_range[1], size=(100, 3))\n",
    "thetass = uniform(thetas_range[0], thetas_range[1], size=(100, 3))\n",
    "sigma0 = 1\n",
    "theta0 = 0"
   ]
  },
  {
   "cell_type": "code",
   "execution_count": 5,
   "metadata": {},
   "outputs": [],
   "source": [
    "ESSUnits = []\n",
    "for thetas, sigmas in zip(thetass, sigmass):\n",
    "    D = norm.rvs(loc=theta0, scale=sigma0, size=n)\n",
    "    Ds = [norm.rvs(loc=thetas[i], scale=sigmas[i], size=ns[i]) for i in range(len(ns))]\n",
    "    ESSUnits.append(ESSNormalCon(1, Ds, D))\n",
    "ESSUnits = np.array(ESSUnits)"
   ]
  },
  {
   "cell_type": "code",
   "execution_count": 6,
   "metadata": {},
   "outputs": [
    {
     "data": {
      "text/plain": [
       "1.0325760873079535"
      ]
     },
     "execution_count": 6,
     "metadata": {},
     "output_type": "execute_result"
    }
   ],
   "source": [
    "ESSUnits.mean()"
   ]
  },
  {
   "cell_type": "code",
   "execution_count": 7,
   "metadata": {},
   "outputs": [],
   "source": [
    "ESS1All = []\n",
    "for M in Ms:\n",
    "    ESS1All.append(M*ESSUnits)\n",
    "ESS1All = np.array(ESS1All)"
   ]
  },
  {
   "cell_type": "markdown",
   "metadata": {},
   "source": [
    "### ESS for h-model"
   ]
  },
  {
   "cell_type": "code",
   "execution_count": 8,
   "metadata": {},
   "outputs": [],
   "source": [
    "with open(\"normal_ESS_UIPD.pkl\", \"rb\") as f:\n",
    "    data = pickle.load(f)"
   ]
  },
  {
   "cell_type": "code",
   "execution_count": 9,
   "metadata": {},
   "outputs": [],
   "source": [
    "ESS2All = []\n",
    "for i in range(len(data)):\n",
    "    ESS2M = [res.ESS for res in data[i]]\n",
    "    ESS2All.append(ESS2M)\n",
    "    \n",
    "ESS2All = np.array(ESS2All)"
   ]
  },
  {
   "cell_type": "code",
   "execution_count": 10,
   "metadata": {},
   "outputs": [
    {
     "data": {
      "text/plain": [
       "array([ 8.86, 16.56, 21.78, 27.06, 30.98, 36.04, 38.12, 43.24, 44.88,\n",
       "       46.14, 46.94, 51.54, 56.46, 56.72, 64.76, 60.76, 63.7 , 59.08,\n",
       "       64.76])"
      ]
     },
     "execution_count": 10,
     "metadata": {},
     "output_type": "execute_result"
    }
   ],
   "source": [
    "ESS2All.mean(axis=1)"
   ]
  },
  {
   "cell_type": "code",
   "execution_count": 11,
   "metadata": {},
   "outputs": [
    {
     "data": {
      "image/png": "[encoded data removed]",
      "text/plain": [
       "<Figure size 432x288 with 1 Axes>"
      ]
     },
     "metadata": {
      "needs_background": "light"
     },
     "output_type": "display_data"
    }
   ],
   "source": [
    "lowLim = 4\n",
    "upLim = 15\n",
    "plt.plot(Ms, Ms, \"--g\")\n",
    "plt.plot(Ms[lowLim:upLim], ESS1All.mean(axis=1)[lowLim:upLim], \"or\", label=\"ESS1\")\n",
    "plt.plot(Ms[lowLim:upLim], ESS2All.mean(axis=1)[lowLim:upLim], \"+\", label=\"ESS2\")\n",
    "plt.ylim([20, 160])\n",
    "plt.xlim([20, 160])\n",
    "plt.legend()\n",
    "plt.xlabel(\"M\")\n",
    "_ = plt.ylabel(\"ESS\")"
   ]
  },
  {
   "cell_type": "code",
   "execution_count": null,
   "metadata": {},
   "outputs": [],
   "source": []
  }
 ],
 "metadata": {
  "kernelspec": {
   "display_name": "Python 3",
   "language": "python",
   "name": "python3"
  },
  "language_info": {
   "codemirror_mode": {
    "name": "ipython",
    "version": 3
   },
   "file_extension": ".py",
   "mimetype": "text/x-python",
   "name": "python",
   "nbconvert_exporter": "python",
   "pygments_lexer": "ipython3",
   "version": "3.7.3"
  }
 },
 "nbformat": 4,
 "nbformat_minor": 2
}
