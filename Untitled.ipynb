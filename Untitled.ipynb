{
 "cells": [
  {
   "cell_type": "code",
   "execution_count": 5,
   "metadata": {},
   "outputs": [],
   "source": [
    "import numpy as np\n",
    "import numpy.random as npr\n",
    "from numpy.random import dirichlet, uniform\n",
    "from utils import MH_beta, MH_Gaussian\n",
    "from scipy.stats import beta, norm, bernoulli\n",
    "import matplotlib.pyplot as plt\n",
    "import seaborn as sns\n",
    "from scipy.special import beta as Beta\n",
    "from tqdm import tqdm_notebook as tqdm\n",
    "from scipy.stats import beta\n",
    "from scipy.special import roots_legendre\n",
    "from easydict import EasyDict as edict\n",
    "import multiprocessing as mp\n",
    "%matplotlib inline"
   ]
  },
  {
   "cell_type": "code",
   "execution_count": 6,
   "metadata": {},
   "outputs": [],
   "source": [
    "ns = [80, 100, 120]\n",
    "n = 100\n",
    "Ms = np.arange(10, 200, step=10)"
   ]
  },
  {
   "cell_type": "code",
   "execution_count": 7,
   "metadata": {},
   "outputs": [],
   "source": [
    "# compute the KL divergence of beta ditributions with para1 and para2\n",
    "# KL(beta(para1)||beta(para2))\n",
    "def KL_dist_beta(para1, para2):\n",
    "    a1, b1 = para1\n",
    "    a2, b2 = para2\n",
    "    sps = npr.beta(a1, b1, 10000)\n",
    "    itm1 = (a1 - a2) * np.mean(np.log(sps))\n",
    "    itm2 = (b1 - b2) * np.mean(np.log(1-sps))\n",
    "    itm3 = - np.log(Beta(a1, b1)/Beta(a2, b2))\n",
    "    return itm1 + itm2 + itm3 \n",
    "\n",
    "# compute the Jensen-Shannon Divergence\n",
    "def JS_dist_beta(para1, para2):\n",
    "    KL1 = KL_dist_beta(para1, para2)\n",
    "    KL2 = KL_dist_beta(para2, para1)\n",
    "    return 0.5* (KL1 + KL2)"
   ]
  },
  {
   "cell_type": "code",
   "execution_count": 9,
   "metadata": {},
   "outputs": [],
   "source": [
    "ps_range = [0.4, 0.6]\n",
    "p = 0.5\n",
    "pss = uniform(ps_range[0], ps_range[1], size=(100, 3))\n",
    "ps = pss[0]"
   ]
  },
  {
   "cell_type": "code",
   "execution_count": 10,
   "metadata": {},
   "outputs": [],
   "source": [
    "Ds = [bernoulli.rvs(ps[i], size=ns[i]) for i in range(len(ns))]"
   ]
  },
  {
   "cell_type": "code",
   "execution_count": 39,
   "metadata": {},
   "outputs": [],
   "source": [
    "M = 50\n",
    "ws = np.array([0.8, 1, 1])/2.8"
   ]
  },
  {
   "cell_type": "code",
   "execution_count": 40,
   "metadata": {},
   "outputs": [],
   "source": [
    "phats = np.array([np.mean(Dh) for Dh in Ds])\n",
    "mu = np.sum(ws * phats)\n",
    "invEta2 = M*np.sum(ws / (1-phats)/phats)\n",
    "ESS = mu*(1-mu)*invEta2-1"
   ]
  },
  {
   "cell_type": "code",
   "execution_count": 41,
   "metadata": {},
   "outputs": [
    {
     "data": {
      "text/plain": [
       "50.97722211404763"
      ]
     },
     "execution_count": 41,
     "metadata": {},
     "output_type": "execute_result"
    }
   ],
   "source": [
    "ESS"
   ]
  },
  {
   "cell_type": "code",
   "execution_count": 16,
   "metadata": {},
   "outputs": [],
   "source": [
    "class ESS_UIPD_beta():\n",
    "    def __init__(self, ns, Ds, n, M, C=100):\n",
    "        self.ns = np.array(ns)\n",
    "        self.n = n\n",
    "        self.M = M\n",
    "        self.Ds = Ds\n",
    "        self.C = C\n",
    "        \n",
    "        self.thetaBar = None\n",
    "        self.prior12_sps = None\n",
    "    \n",
    "    def prior1_paras(self, wss):\n",
    "        phats = np.array([np.mean(Dh) for Dh in self.Ds])\n",
    "        mus = np.sum(wss * phats, axis=1)\n",
    "        invEta2s = self.M*np.sum(wss / (1-phats)/phats, axis=1)\n",
    "        alps = mus * (mus*(1-mus)*invEta2s-1)\n",
    "        bets = (1-mus) * (mus*(1-mus)*invEta2s-1)\n",
    "        return alps, bets\n",
    "        \n",
    "    def _prior1(self, theta, wss):\n",
    "        alps, bets = self.prior1_paras(wss)\n",
    "        return beta.pdf(theta, a=alps, b=bets)\n",
    "        \n",
    "    \n",
    "    def _delta_prior1(self, theta, wss):\n",
    "        alp_deltas, bet_deltas = self.prior1_paras(wss)\n",
    "        alp_deltas, bet_deltas = alp_deltas/self.C, bet_deltas/self.C\n",
    "        return beta.pdf(theta, a=alp_deltas, b=bet_deltas)\n",
    "    \n",
    "    def delta_prior12(self, theta):\n",
    "        dalps = self.ns/self.n\n",
    "        dalps[dalps>=1] = 1\n",
    "        wss = dirichlet(dalps, size=10000)\n",
    "        vs = self._delta_prior1(theta, wss)\n",
    "        return np.mean(vs)\n",
    "        \n",
    "    def prior12(self, theta):\n",
    "        dalps = self.ns/self.n\n",
    "        dalps[dalps>=1] = 1\n",
    "        wss = dirichlet(dalps, size=10000)\n",
    "        vs = self._prior1(theta, wss)\n",
    "        return np.mean(vs)\n",
    "    \n",
    "    def delta_prior12_rvs(self, num):\n",
    "        sps = MH_beta(n=num, target_density=self.delta_prior12, burnin=5000)\n",
    "        return sps\n",
    "    \n",
    "    def prior12_rvs(self, num):\n",
    "        sps = MH_beta(n=num, target_density=self.prior12, burnin=5000)\n",
    "        self.prior12_sps = sps\n",
    "        return sps\n",
    "    \n",
    "    def deltaPost12(self, theta, ESS):\n",
    "        if self.thetaBar is None:\n",
    "            def func(theta):\n",
    "                return theta*self.prior12(theta)\n",
    "            self.thetaBar = self.integrate(func)\n",
    "        logItm1 = np.log(self.delta_prior12(theta))\n",
    "        logItm2 = ESS*self.thetaBar*np.log(theta)\n",
    "        logItm3 = ESS*(1-self.thetaBar)*np.log(1-theta)\n",
    "        logDen = logItm1 + logItm2 + logItm3\n",
    "        return np.exp(logDen)\n",
    "    \n",
    "    def delta_post12_rvs(self, num, ESS):\n",
    "        def tdensity(theta):\n",
    "            return self.deltaPost12(theta, ESS)\n",
    "        sps = MH_beta(n=num, target_density=tdensity, burnin=5000)\n",
    "        return sps\n",
    "        \n",
    "        \n",
    "    def integrate(self, fun, a=0, b=1, nNodes=100):\n",
    "        pts, ws = roots_legendre(nNodes)\n",
    "        nPts = (b-a)/2*pts + (a+b)/2\n",
    "        fvs = np.array([fun(nPt) for nPt in nPts])\n",
    "        return np.sum(fvs*ws)*(b-a)/2\n",
    "    \n",
    "    \n",
    "    def varPrior12(self):\n",
    "        if self.thetaBar is None:\n",
    "            def func(theta):\n",
    "                return theta*self.prior12(theta)\n",
    "            self.thetaBar = self.integrate(func)\n",
    "        def funcSecMom(theta):\n",
    "            return theta**2*self.prior12(theta)\n",
    "        thetaSecMom = self.integrate(funcSecMom)\n",
    "        return thetaSecMom-self.thetaBar**2\n",
    "    \n",
    "    def varDeltaPost12(self, ESS):\n",
    "        def conFunc(theta):\n",
    "            return self.deltaPost12(theta, ESS)\n",
    "        Cons = self.integrate(conFunc)\n",
    "        def deltaPost12Mean(theta):\n",
    "            return self.deltaPost12(theta, ESS)*theta\n",
    "        def deltaPost12SecMom(theta):\n",
    "            return self.deltaPost12(theta, ESS)*theta**2\n",
    "        secMom = self.integrate(deltaPost12SecMom)/Cons\n",
    "        mean = self.integrate(deltaPost12Mean)/Cons\n",
    "        return secMom - mean**2\n",
    "        \n",
    "    def getESS(self, MaxM=None):\n",
    "        if MaxM is None:\n",
    "            MaxM = int(1.5*self.M)\n",
    "        varPrior = self.varPrior12()\n",
    "        pool = mp.Pool(processes=10)\n",
    "        esss = np.arange(1, MaxM+1)\n",
    "        with pool as p:\n",
    "            varPosts = p.map(self.varDeltaPost12, esss)\n",
    "        #for ess in tqdm(range(1, MaxM+1), desc=\"ESS\"):\n",
    "        #    varPosts.append(self.varDeltaPost12(ess))\n",
    "        varPosts = np.array(varPosts)\n",
    "        diffs = np.abs(1/varPosts - 1/varPrior)\n",
    "        idx = np.argmin(diffs)\n",
    "        res = {\"diffs\":diffs, \"ESS\":idx+1}\n",
    "        self.res = edict(res)"
   ]
  },
  {
   "cell_type": "code",
   "execution_count": 42,
   "metadata": {},
   "outputs": [],
   "source": [
    "ESSUIPD = ESS_UIPD_beta(ns=ns, Ds=Ds, n=n, M=50, C=1e6)"
   ]
  },
  {
   "cell_type": "code",
   "execution_count": 43,
   "metadata": {},
   "outputs": [],
   "source": [
    "ESSUIPD.getESS()"
   ]
  },
  {
   "cell_type": "code",
   "execution_count": 44,
   "metadata": {},
   "outputs": [
    {
     "data": {
      "text/plain": [
       "35"
      ]
     },
     "execution_count": 44,
     "metadata": {},
     "output_type": "execute_result"
    }
   ],
   "source": [
    "ESSUIPD.res.ESS"
   ]
  },
  {
   "cell_type": "code",
   "execution_count": 45,
   "metadata": {},
   "outputs": [
    {
     "data": {
      "text/plain": [
       "[<matplotlib.lines.Line2D at 0x7f0328f19cf8>]"
      ]
     },
     "execution_count": 45,
     "metadata": {},
     "output_type": "execute_result"
    },
    {
     "data": {
      "image/png": "[encoded data removed]",
      "text/plain": [
       "<Figure size 432x288 with 1 Axes>"
      ]
     },
     "metadata": {
      "needs_background": "light"
     },
     "output_type": "display_data"
    }
   ],
   "source": [
    "plt.plot(ESSUIPD.res.diffs)"
   ]
  },
  {
   "cell_type": "code",
   "execution_count": null,
   "metadata": {},
   "outputs": [],
   "source": []
  }
 ],
 "metadata": {
  "kernelspec": {
   "display_name": "Python 3",
   "language": "python",
   "name": "python3"
  },
  "language_info": {
   "codemirror_mode": {
    "name": "ipython",
    "version": 3
   },
   "file_extension": ".py",
   "mimetype": "text/x-python",
   "name": "python",
   "nbconvert_exporter": "python",
   "pygments_lexer": "ipython3",
   "version": "3.7.3"
  }
 },
 "nbformat": 4,
 "nbformat_minor": 2
}
