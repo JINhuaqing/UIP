{
 "cells": [
  {
   "cell_type": "code",
   "execution_count": 1,
   "metadata": {},
   "outputs": [],
   "source": [
    "import numpy as np\n",
    "import numpy.random as npr\n",
    "from numpy.random import dirichlet, uniform\n",
    "from scipy.stats import beta, norm, bernoulli\n",
    "import matplotlib.pyplot as plt\n",
    "import seaborn as sns\n",
    "from scipy.special import beta as Beta\n",
    "from tqdm import tqdm_notebook as tqdm\n",
    "from scipy.stats import beta\n",
    "from scipy.special import roots_legendre\n",
    "from easydict import EasyDict as edict\n",
    "import multiprocessing as mp\n",
    "import pickle\n",
    "%matplotlib inline"
   ]
  },
  {
   "cell_type": "code",
   "execution_count": 2,
   "metadata": {},
   "outputs": [],
   "source": [
    "from utils import ESSBetaCon, ESSBetaH"
   ]
  },
  {
   "cell_type": "markdown",
   "metadata": {},
   "source": [
    "### Parameters"
   ]
  },
  {
   "cell_type": "code",
   "execution_count": 3,
   "metadata": {},
   "outputs": [],
   "source": [
    "ns = [80, 100, 120]\n",
    "n = 100\n",
    "Ms = np.arange(10, 200, step=10)"
   ]
  },
  {
   "cell_type": "markdown",
   "metadata": {},
   "source": [
    "### Binary data"
   ]
  },
  {
   "cell_type": "code",
   "execution_count": 4,
   "metadata": {},
   "outputs": [],
   "source": [
    "ps_range = [0.4, 0.6]\n",
    "p = 0.5\n",
    "pss = uniform(ps_range[0], ps_range[1], size=(50, 3))"
   ]
  },
  {
   "cell_type": "markdown",
   "metadata": {},
   "source": [
    "### Fixed weight paremeters"
   ]
  },
  {
   "cell_type": "code",
   "execution_count": 5,
   "metadata": {},
   "outputs": [
    {
     "data": {
      "application/vnd.jupyter.widget-view+json": {
       "model_id": "347fd1a0d1114c65b7f57b324d6e2464",
       "version_major": 2,
       "version_minor": 0
      },
      "text/plain": [
       "HBox(children=(IntProgress(value=0, max=50), HTML(value='')))"
      ]
     },
     "metadata": {},
     "output_type": "display_data"
    },
    {
     "name": "stdout",
     "output_type": "stream",
     "text": [
      "\n"
     ]
    }
   ],
   "source": [
    "nESSs = []\n",
    "for ps in tqdm(pss):\n",
    "    nESS = ESSBetaCon(M=1, ns=ns, ps=ps, n=n, p=p)\n",
    "    nESSs.append(nESS)\n",
    "nESSs = np.array(nESSs)"
   ]
  },
  {
   "cell_type": "code",
   "execution_count": 6,
   "metadata": {},
   "outputs": [],
   "source": [
    "Ms = np.arange(10, 200, step=10)\n",
    "ESS1All = []\n",
    "for M in Ms:\n",
    "    ESS1All.append(M*(nESSs + 1) - 1)\n",
    "ESS1All = np.array(ESS1All)"
   ]
  },
  {
   "cell_type": "markdown",
   "metadata": {},
   "source": [
    "### Draw weight parameters from prior"
   ]
  },
  {
   "cell_type": "code",
   "execution_count": 7,
   "metadata": {},
   "outputs": [],
   "source": [
    "#ps = pss[0]\n",
    "#Ds = [ bernoulli.rvs(ps[i], size=ns[i]) for i in range(len(ns))]\n",
    "#ESSUIPD = ESSBetaH(Ds=Ds, n=n, M=20, C=1e6)\n",
    "#ESSUIPD.getESS()"
   ]
  },
  {
   "cell_type": "code",
   "execution_count": 8,
   "metadata": {},
   "outputs": [],
   "source": [
    "with open(\"beta_ESS_UIPD_4_6.pkl\", \"rb\") as f:\n",
    "     ESS2results = pickle.load(f)"
   ]
  },
  {
   "cell_type": "code",
   "execution_count": 9,
   "metadata": {},
   "outputs": [],
   "source": [
    "ESS2All = []\n",
    "for i in range(len(ESS2results)):\n",
    "    ESS2M = [res.ESS for res in ESS2results[i]]\n",
    "    ESS2All.append(ESS2M)\n",
    "    \n",
    "ESS2All = np.array(ESS2All)"
   ]
  },
  {
   "cell_type": "code",
   "execution_count": 10,
   "metadata": {},
   "outputs": [
    {
     "data": {
      "text/plain": [
       "array([  8.88,  17.98,  26.28,  34.86,  42.84,  51.16,  56.6 ,  63.68,\n",
       "        69.16,  79.36,  85.44,  88.98,  94.72, 102.58, 105.5 , 121.98,\n",
       "       124.16, 123.28, 142.58])"
      ]
     },
     "execution_count": 10,
     "metadata": {},
     "output_type": "execute_result"
    }
   ],
   "source": [
    "ESS2All.mean(axis=1)"
   ]
  },
  {
   "cell_type": "code",
   "execution_count": 12,
   "metadata": {},
   "outputs": [
    {
     "data": {
      "image/png": "[encoded data removed]",
      "text/plain": [
       "<Figure size 576x576 with 1 Axes>"
      ]
     },
     "metadata": {
      "needs_background": "light"
     },
     "output_type": "display_data"
    }
   ],
   "source": [
    "plt.figure(figsize=[8, 8])\n",
    "lowLim, upLim = 4, 15\n",
    "plt.plot(Ms, Ms, \"--g\")\n",
    "plt.plot(Ms[lowLim:upLim], ESS1All.mean(axis=1)[lowLim:upLim], \"or\", label=\"ESS-Conditional\")\n",
    "plt.plot(Ms[lowLim:upLim], ESS2All.mean(axis=1)[lowLim:upLim], \"*\", label=\"ESS-Marginal\")\n",
    "plt.ylim([20, 170])\n",
    "plt.xlim([20, 170])\n",
    "plt.legend(fontsize=15)\n",
    "plt.xlabel(\"M\", fontsize=20)\n",
    "_ = plt.ylabel(\"Effective sample size\", fontsize=20)\n",
    "plt.savefig(\"../plots/ESSBinary.pdf\")"
   ]
  },
  {
   "cell_type": "code",
   "execution_count": 13,
   "metadata": {},
   "outputs": [
    {
     "data": {
      "text/plain": [
       "[<matplotlib.lines.Line2D at 0x7fee2c879080>]"
      ]
     },
     "execution_count": 13,
     "metadata": {},
     "output_type": "execute_result"
    },
    {
     "data": {
      "image/png": "[encoded data removed]",
      "text/plain": [
       "<Figure size 432x288 with 1 Axes>"
      ]
     },
     "metadata": {
      "needs_background": "light"
     },
     "output_type": "display_data"
    }
   ],
   "source": [
    "plt.plot(Ms[::1], np.mean(ESS2All, axis=1)[::1], \"+\", label=\"ESS2\")"
   ]
  },
  {
   "cell_type": "code",
   "execution_count": null,
   "metadata": {},
   "outputs": [],
   "source": []
  }
 ],
 "metadata": {
  "kernelspec": {
   "display_name": "Python 3",
   "language": "python",
   "name": "python3"
  },
  "language_info": {
   "codemirror_mode": {
    "name": "ipython",
    "version": 3
   },
   "file_extension": ".py",
   "mimetype": "text/x-python",
   "name": "python",
   "nbconvert_exporter": "python",
   "pygments_lexer": "ipython3",
   "version": "3.7.3"
  }
 },
 "nbformat": 4,
 "nbformat_minor": 2
}
