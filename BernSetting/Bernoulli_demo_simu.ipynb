{
 "cells": [
  {
   "cell_type": "code",
   "execution_count": 1,
   "metadata": {},
   "outputs": [
    {
     "name": "stderr",
     "output_type": "stream",
     "text": [
      "WARNING (theano.tensor.blas): Using NumPy C-API based implementation for BLAS functions.\n"
     ]
    }
   ],
   "source": [
    "from utils_bern import *\n",
    "import numpy as np\n",
    "from scipy.stats import bernoulli\n",
    "import scipy.stats as ss\n",
    "import pymc3.stats as pymcs\n",
    "import pickle\n",
    "import argparse\n",
    "from easydict import EasyDict as edict\n",
    "np.random.seed(0)"
   ]
  },
  {
   "cell_type": "code",
   "execution_count": 3,
   "metadata": {},
   "outputs": [],
   "source": [
    "results = []\n",
    "p0 = 0.4\n",
    "n = 120\n",
    "ps = [0.2, 0.4]\n",
    "ns = [50, 100]\n",
    "cutoff = 0.025"
   ]
  },
  {
   "cell_type": "code",
   "execution_count": 4,
   "metadata": {},
   "outputs": [],
   "source": [
    "result = edict()\n",
    "D = bernoulli.rvs(p0, size=n)\n",
    "Ds = [ bernoulli.rvs(ps[i], size=ns[i]) for i in range(len(ns))] \n",
    "result[\"data\"] = {\"D\":D, \n",
    "                  \"Ds\": Ds, \n",
    "                  \"p0\": p0,\n",
    "                  \"ps\": ps,\n",
    "                  \"n\" : n ,\n",
    "                  \"ns\": ns\n",
    "                  } "
   ]
  },
  {
   "cell_type": "markdown",
   "metadata": {},
   "source": [
    "### UIP-JS-Bernoulli"
   ]
  },
  {
   "cell_type": "code",
   "execution_count": 12,
   "metadata": {},
   "outputs": [
    {
     "name": "stderr",
     "output_type": "stream",
     "text": [
      "Multiprocess sampling (4 chains in 4 jobs)\n",
      "CompoundStep\n",
      ">Metropolis: [thetah]\n",
      ">Metropolis: [M]\n",
      "Sampling 4 chains, 0 divergences: 100%|██████████| 40000/40000 [00:03<00:00, 10602.04draws/s]\n",
      "The number of effective samples is smaller than 25% for some parameters.\n"
     ]
    }
   ],
   "source": [
    "UIPJS_model = getUIPJSBern(D, Ds)\n",
    "with UIPJS_model:\n",
    "    step = pm.Metropolis()\n",
    "    post_Bern_UIPJS = pm.sample(draws=5000, tune=5000, \n",
    "                                #target_accept=0.9, \n",
    "                                step=step,\n",
    "                                cores=4, chains=4)\n",
    "result[\"UIPJS\"] = post_Bern_UIPJS"
   ]
  },
  {
   "cell_type": "code",
   "execution_count": 13,
   "metadata": {},
   "outputs": [
    {
     "data": {
      "text/html": [
       "<div>\n",
       "<style scoped>\n",
       "    .dataframe tbody tr th:only-of-type {\n",
       "        vertical-align: middle;\n",
       "    }\n",
       "\n",
       "    .dataframe tbody tr th {\n",
       "        vertical-align: top;\n",
       "    }\n",
       "\n",
       "    .dataframe thead th {\n",
       "        text-align: right;\n",
       "    }\n",
       "</style>\n",
       "<table border=\"1\" class=\"dataframe\">\n",
       "  <thead>\n",
       "    <tr style=\"text-align: right;\">\n",
       "      <th></th>\n",
       "      <th>mean</th>\n",
       "      <th>sd</th>\n",
       "      <th>hpd_3%</th>\n",
       "      <th>hpd_97%</th>\n",
       "      <th>mcse_mean</th>\n",
       "      <th>mcse_sd</th>\n",
       "      <th>ess_mean</th>\n",
       "      <th>ess_sd</th>\n",
       "      <th>ess_bulk</th>\n",
       "      <th>ess_tail</th>\n",
       "      <th>r_hat</th>\n",
       "    </tr>\n",
       "  </thead>\n",
       "  <tbody>\n",
       "    <tr>\n",
       "      <th>M</th>\n",
       "      <td>75.944</td>\n",
       "      <td>41.842</td>\n",
       "      <td>13.583</td>\n",
       "      <td>149.998</td>\n",
       "      <td>0.751</td>\n",
       "      <td>0.535</td>\n",
       "      <td>3105.0</td>\n",
       "      <td>3060.0</td>\n",
       "      <td>2988.0</td>\n",
       "      <td>3232.0</td>\n",
       "      <td>1.0</td>\n",
       "    </tr>\n",
       "    <tr>\n",
       "      <th>thetah</th>\n",
       "      <td>0.369</td>\n",
       "      <td>0.038</td>\n",
       "      <td>0.298</td>\n",
       "      <td>0.441</td>\n",
       "      <td>0.001</td>\n",
       "      <td>0.000</td>\n",
       "      <td>2980.0</td>\n",
       "      <td>2971.0</td>\n",
       "      <td>2987.0</td>\n",
       "      <td>3770.0</td>\n",
       "      <td>1.0</td>\n",
       "    </tr>\n",
       "  </tbody>\n",
       "</table>\n",
       "</div>"
      ],
      "text/plain": [
       "          mean      sd  hpd_3%  hpd_97%  mcse_mean  mcse_sd  ess_mean  ess_sd  \\\n",
       "M       75.944  41.842  13.583  149.998      0.751    0.535    3105.0  3060.0   \n",
       "thetah   0.369   0.038   0.298    0.441      0.001    0.000    2980.0  2971.0   \n",
       "\n",
       "        ess_bulk  ess_tail  r_hat  \n",
       "M         2988.0    3232.0    1.0  \n",
       "thetah    2987.0    3770.0    1.0  "
      ]
     },
     "execution_count": 13,
     "metadata": {},
     "output_type": "execute_result"
    }
   ],
   "source": [
    "pm.summary(post_Bern_UIPJS)"
   ]
  },
  {
   "cell_type": "markdown",
   "metadata": {},
   "source": [
    "### UIP-D-Bernoulli"
   ]
  },
  {
   "cell_type": "code",
   "execution_count": 14,
   "metadata": {},
   "outputs": [
    {
     "name": "stderr",
     "output_type": "stream",
     "text": [
      "Multiprocess sampling (4 chains in 4 jobs)\n",
      "CompoundStep\n",
      ">Metropolis: [thetah]\n",
      ">Metropolis: [M]\n",
      ">Metropolis: [pis]\n",
      "Sampling 4 chains, 0 divergences: 100%|██████████| 40000/40000 [00:04<00:00, 8011.30draws/s]\n",
      "The number of effective samples is smaller than 25% for some parameters.\n"
     ]
    }
   ],
   "source": [
    "UIPD_model = getUIPDBern(D, Ds)\n",
    "with UIPD_model:\n",
    "    step = pm.Metropolis()\n",
    "    post_Bern_UIPD = pm.sample(draws=5000, tune=5000, \n",
    "                               #target_accept=0.9, \n",
    "                               step=step,\n",
    "                               cores=4, chains=4)\n",
    "result[\"UIPD\"] = post_Bern_UIPD"
   ]
  },
  {
   "cell_type": "code",
   "execution_count": 15,
   "metadata": {},
   "outputs": [
    {
     "data": {
      "text/html": [
       "<div>\n",
       "<style scoped>\n",
       "    .dataframe tbody tr th:only-of-type {\n",
       "        vertical-align: middle;\n",
       "    }\n",
       "\n",
       "    .dataframe tbody tr th {\n",
       "        vertical-align: top;\n",
       "    }\n",
       "\n",
       "    .dataframe thead th {\n",
       "        text-align: right;\n",
       "    }\n",
       "</style>\n",
       "<table border=\"1\" class=\"dataframe\">\n",
       "  <thead>\n",
       "    <tr style=\"text-align: right;\">\n",
       "      <th></th>\n",
       "      <th>mean</th>\n",
       "      <th>sd</th>\n",
       "      <th>hpd_3%</th>\n",
       "      <th>hpd_97%</th>\n",
       "      <th>mcse_mean</th>\n",
       "      <th>mcse_sd</th>\n",
       "      <th>ess_mean</th>\n",
       "      <th>ess_sd</th>\n",
       "      <th>ess_bulk</th>\n",
       "      <th>ess_tail</th>\n",
       "      <th>r_hat</th>\n",
       "    </tr>\n",
       "  </thead>\n",
       "  <tbody>\n",
       "    <tr>\n",
       "      <th>pis[0]</th>\n",
       "      <td>0.194</td>\n",
       "      <td>0.236</td>\n",
       "      <td>0.000</td>\n",
       "      <td>0.688</td>\n",
       "      <td>0.004</td>\n",
       "      <td>0.003</td>\n",
       "      <td>3943.0</td>\n",
       "      <td>3943.0</td>\n",
       "      <td>3307.0</td>\n",
       "      <td>3804.0</td>\n",
       "      <td>1.0</td>\n",
       "    </tr>\n",
       "    <tr>\n",
       "      <th>pis[1]</th>\n",
       "      <td>0.806</td>\n",
       "      <td>0.236</td>\n",
       "      <td>0.312</td>\n",
       "      <td>1.000</td>\n",
       "      <td>0.004</td>\n",
       "      <td>0.003</td>\n",
       "      <td>3943.0</td>\n",
       "      <td>3810.0</td>\n",
       "      <td>3307.0</td>\n",
       "      <td>3804.0</td>\n",
       "      <td>1.0</td>\n",
       "    </tr>\n",
       "    <tr>\n",
       "      <th>M</th>\n",
       "      <td>74.321</td>\n",
       "      <td>41.234</td>\n",
       "      <td>5.307</td>\n",
       "      <td>141.285</td>\n",
       "      <td>0.684</td>\n",
       "      <td>0.484</td>\n",
       "      <td>3636.0</td>\n",
       "      <td>3636.0</td>\n",
       "      <td>3656.0</td>\n",
       "      <td>4392.0</td>\n",
       "      <td>1.0</td>\n",
       "    </tr>\n",
       "    <tr>\n",
       "      <th>thetah</th>\n",
       "      <td>0.370</td>\n",
       "      <td>0.037</td>\n",
       "      <td>0.301</td>\n",
       "      <td>0.439</td>\n",
       "      <td>0.001</td>\n",
       "      <td>0.000</td>\n",
       "      <td>3147.0</td>\n",
       "      <td>3147.0</td>\n",
       "      <td>3136.0</td>\n",
       "      <td>4057.0</td>\n",
       "      <td>1.0</td>\n",
       "    </tr>\n",
       "  </tbody>\n",
       "</table>\n",
       "</div>"
      ],
      "text/plain": [
       "          mean      sd  hpd_3%  hpd_97%  mcse_mean  mcse_sd  ess_mean  ess_sd  \\\n",
       "pis[0]   0.194   0.236   0.000    0.688      0.004    0.003    3943.0  3943.0   \n",
       "pis[1]   0.806   0.236   0.312    1.000      0.004    0.003    3943.0  3810.0   \n",
       "M       74.321  41.234   5.307  141.285      0.684    0.484    3636.0  3636.0   \n",
       "thetah   0.370   0.037   0.301    0.439      0.001    0.000    3147.0  3147.0   \n",
       "\n",
       "        ess_bulk  ess_tail  r_hat  \n",
       "pis[0]    3307.0    3804.0    1.0  \n",
       "pis[1]    3307.0    3804.0    1.0  \n",
       "M         3656.0    4392.0    1.0  \n",
       "thetah    3136.0    4057.0    1.0  "
      ]
     },
     "execution_count": 15,
     "metadata": {},
     "output_type": "execute_result"
    }
   ],
   "source": [
    "pm.summary(post_Bern_UIPD)"
   ]
  },
  {
   "cell_type": "markdown",
   "metadata": {},
   "source": [
    "### NPP-Bernoulli"
   ]
  },
  {
   "cell_type": "code",
   "execution_count": 16,
   "metadata": {},
   "outputs": [
    {
     "name": "stderr",
     "output_type": "stream",
     "text": [
      "Multiprocess sampling (4 chains in 4 jobs)\n",
      "CompoundStep\n",
      ">Metropolis: [thetah]\n",
      ">Metropolis: [gammas]\n",
      "Sampling 4 chains, 0 divergences: 100%|██████████| 40000/40000 [00:03<00:00, 10918.87draws/s]\n",
      "The number of effective samples is smaller than 25% for some parameters.\n"
     ]
    }
   ],
   "source": [
    "NPP_model = getNPPBern(D, Ds)\n",
    "with NPP_model:\n",
    "    step = pm.Metropolis()\n",
    "    post_Bern_NPP = pm.sample(draws=5000, tune=5000, \n",
    "                              #target_accept=0.8, \n",
    "                              step=step,\n",
    "                              cores=4, chains=4)\n",
    "result[\"NPP\"] = post_Bern_NPP"
   ]
  },
  {
   "cell_type": "code",
   "execution_count": 17,
   "metadata": {},
   "outputs": [
    {
     "data": {
      "text/html": [
       "<div>\n",
       "<style scoped>\n",
       "    .dataframe tbody tr th:only-of-type {\n",
       "        vertical-align: middle;\n",
       "    }\n",
       "\n",
       "    .dataframe tbody tr th {\n",
       "        vertical-align: top;\n",
       "    }\n",
       "\n",
       "    .dataframe thead th {\n",
       "        text-align: right;\n",
       "    }\n",
       "</style>\n",
       "<table border=\"1\" class=\"dataframe\">\n",
       "  <thead>\n",
       "    <tr style=\"text-align: right;\">\n",
       "      <th></th>\n",
       "      <th>mean</th>\n",
       "      <th>sd</th>\n",
       "      <th>hpd_3%</th>\n",
       "      <th>hpd_97%</th>\n",
       "      <th>mcse_mean</th>\n",
       "      <th>mcse_sd</th>\n",
       "      <th>ess_mean</th>\n",
       "      <th>ess_sd</th>\n",
       "      <th>ess_bulk</th>\n",
       "      <th>ess_tail</th>\n",
       "      <th>r_hat</th>\n",
       "    </tr>\n",
       "  </thead>\n",
       "  <tbody>\n",
       "    <tr>\n",
       "      <th>gammas[0]</th>\n",
       "      <td>0.418</td>\n",
       "      <td>0.280</td>\n",
       "      <td>0.000</td>\n",
       "      <td>0.899</td>\n",
       "      <td>0.006</td>\n",
       "      <td>0.004</td>\n",
       "      <td>2217.0</td>\n",
       "      <td>2217.0</td>\n",
       "      <td>2027.0</td>\n",
       "      <td>2628.0</td>\n",
       "      <td>1.0</td>\n",
       "    </tr>\n",
       "    <tr>\n",
       "      <th>gammas[1]</th>\n",
       "      <td>0.536</td>\n",
       "      <td>0.277</td>\n",
       "      <td>0.086</td>\n",
       "      <td>0.998</td>\n",
       "      <td>0.005</td>\n",
       "      <td>0.004</td>\n",
       "      <td>2537.0</td>\n",
       "      <td>2537.0</td>\n",
       "      <td>2294.0</td>\n",
       "      <td>3025.0</td>\n",
       "      <td>1.0</td>\n",
       "    </tr>\n",
       "    <tr>\n",
       "      <th>thetah</th>\n",
       "      <td>0.367</td>\n",
       "      <td>0.036</td>\n",
       "      <td>0.304</td>\n",
       "      <td>0.438</td>\n",
       "      <td>0.001</td>\n",
       "      <td>0.000</td>\n",
       "      <td>3109.0</td>\n",
       "      <td>3098.0</td>\n",
       "      <td>3100.0</td>\n",
       "      <td>4307.0</td>\n",
       "      <td>1.0</td>\n",
       "    </tr>\n",
       "  </tbody>\n",
       "</table>\n",
       "</div>"
      ],
      "text/plain": [
       "            mean     sd  hpd_3%  hpd_97%  mcse_mean  mcse_sd  ess_mean  \\\n",
       "gammas[0]  0.418  0.280   0.000    0.899      0.006    0.004    2217.0   \n",
       "gammas[1]  0.536  0.277   0.086    0.998      0.005    0.004    2537.0   \n",
       "thetah     0.367  0.036   0.304    0.438      0.001    0.000    3109.0   \n",
       "\n",
       "           ess_sd  ess_bulk  ess_tail  r_hat  \n",
       "gammas[0]  2217.0    2027.0    2628.0    1.0  \n",
       "gammas[1]  2537.0    2294.0    3025.0    1.0  \n",
       "thetah     3098.0    3100.0    4307.0    1.0  "
      ]
     },
     "execution_count": 17,
     "metadata": {},
     "output_type": "execute_result"
    }
   ],
   "source": [
    "pm.summary(post_Bern_NPP)"
   ]
  },
  {
   "cell_type": "code",
   "execution_count": 20,
   "metadata": {},
   "outputs": [
    {
     "data": {
      "text/plain": [
       "array([0.29833591, 0.36572194, 0.43917414])"
      ]
     },
     "execution_count": 20,
     "metadata": {},
     "output_type": "execute_result"
    }
   ],
   "source": [
    "np.quantile(post_Bern_NPP[\"thetah\"], [0.025, 0.5, 0.975])"
   ]
  },
  {
   "cell_type": "markdown",
   "metadata": {},
   "source": [
    "### rMAP-Bernoulli"
   ]
  },
  {
   "cell_type": "code",
   "execution_count": 11,
   "metadata": {},
   "outputs": [
    {
     "name": "stderr",
     "output_type": "stream",
     "text": [
      "R[write to console]: Loading required package: Rcpp\n",
      "\n",
      "R[write to console]: This is RBesT version 1.6.1\n",
      "\n",
      "R[write to console]: Assuming default prior dispersion for beta: 2\n",
      "\n",
      "R[write to console]: Assuming default prior location   for beta: 0\n",
      "\n"
     ]
    }
   ],
   "source": [
    "rMAPprior = getMixBeta(Ds)\n",
    "rMAPpost = MixPostBeta(rMAPprior, D)\n",
    "post_Bern_rMAP = genMixBeta(20000, rMAPpost)\n",
    "result[\"rMAP\"] = post_Bern_rMAP"
   ]
  },
  {
   "cell_type": "code",
   "execution_count": 18,
   "metadata": {},
   "outputs": [
    {
     "data": {
      "text/plain": [
       "array([0.30245117, 0.37864944, 0.47111509])"
      ]
     },
     "execution_count": 18,
     "metadata": {},
     "output_type": "execute_result"
    }
   ],
   "source": [
    "np.quantile(post_Bern_rMAP, [0.025, 0.5, 0.975])"
   ]
  },
  {
   "cell_type": "code",
   "execution_count": 19,
   "metadata": {},
   "outputs": [
    {
     "data": {
      "text/plain": [
       "0.3807579844980737"
      ]
     },
     "execution_count": 19,
     "metadata": {},
     "output_type": "execute_result"
    }
   ],
   "source": [
    "np.mean(post_Bern_rMAP)"
   ]
  },
  {
   "cell_type": "code",
   "execution_count": null,
   "metadata": {},
   "outputs": [],
   "source": []
  }
 ],
 "metadata": {
  "kernelspec": {
   "display_name": "Python 3",
   "language": "python",
   "name": "python3"
  },
  "language_info": {
   "codemirror_mode": {
    "name": "ipython",
    "version": 3
   },
   "file_extension": ".py",
   "mimetype": "text/x-python",
   "name": "python",
   "nbconvert_exporter": "python",
   "pygments_lexer": "ipython3",
   "version": "3.7.3"
  }
 },
 "nbformat": 4,
 "nbformat_minor": 2
}
